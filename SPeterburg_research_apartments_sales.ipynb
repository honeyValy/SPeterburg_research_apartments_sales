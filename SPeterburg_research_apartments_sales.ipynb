{
 "cells": [
  {
   "cell_type": "markdown",
   "metadata": {},
   "source": [
    "# Исследование объявлений о продаже квартир в Санкт-Петербурге\n",
    "\n",
    "<b> Задача </b>: исследовать данные и определить рыночную стоимость объектов недвижимости\n",
    "\n",
    "<b> Входные данные:</b> данные сервиса Яндекс. Недвижимость — архив объявлений о продаже квартир в Санкт-Петербурге и соседних населённых пунктов за несколько лет. По каждой квартире на продажу доступны два вида данных. Первые вписаны пользователем, вторые — получены автоматически на основе картографических данных. Например, расстояние до центра, аэропорта, ближайшего парка и водоёма. "
   ]
  },
  {
   "cell_type": "markdown",
   "metadata": {},
   "source": [
    "<b> Итоговый вывод </b> : Был выполнен анализ данных и сделаны следующие выводы:\n",
    "\n",
    "- намного больше квартир с небольшой площадью, чем с большой. Среднее значение площади 60 квадратных метров. 50% значений площади располагаются между 40 и 69 м^2\n",
    "- среднее значение жилой площади 34 м^2, 50% значений площади располагаются между 18,6 и 42,3 м^2\n",
    "- среднее значение площади кухни 10 квадратных метров.50% значений площади располагаются между 7 и 12 м^2.\n",
    "- медианное значение цены 4650000, а среднее 6541744. 50 % значений находятся между значениями 3400000 и 6800000\n",
    "- больше всего объявлений с 1 и 2 комнатными квартирами.\n",
    "- больше всего объявлений о продаже квартир на 4 этаже. 50 % значений лежат между 2 и 8. Чем выше этаж, тем меньше объявлений о продаже.\n",
    "- меньше всего объявлений о продаже квартир на последнем этаже, на первом продается ~12 %. В основном квартиры продаются между 1 и последним этажами.\n",
    "- среднее значение расстояния от центра порядка 13 км. 50% значений находятся между ~9 b и ~16 километрами.\n",
    "- среднее значение расстояния до ближайшего аэропорта порядка 28 км. 50% значений лежат между ~18,5 И ~37,3 км.\n",
    "- среднее значение расстояния до ближайшего парка 490 метров. 50% значений находятся между ~288 и ~612 метрами. У большинства квартир в радиусе 3 км есть хотя бы 1 парк. \n",
    "- большинство объявлений публикуют в середине недели - в среду, меньше всего на выходных. Большинство объявлений публикуют после Нового года - в феврале, далее количество объявлений уменьшается (меньше всего в мае). Начиная с июня, вновь наблюдается рост публикаций.\n",
    "- самое популярное значение количества дней, сколько было размещено каждое объявление, - 95, то есть порядка 3 месяцев. Минимально - 1 день (вероятно либо очень выгодное предложение, на которое было много откликов, либо продавец сам его снял с публикации), максимальное значение - 1580 дней (~4,3 года). 50% значений лежат между 45 днями и 232 днями. Меньше 45 дней - быстрые продажи, больше 232 дней - долгие продажи.\n",
    "- линейная зависимость между ценой и другими параметрами не обнаружена.\n",
    "- средняя цена на квартиры на первом этаже ниже чем на других. Средняя и медианная цена квартир на последнем этаже немного ниже чем на других этажах. Это соответствует действительности, так как квартиры на первых этажах имеют ряд недостатков и оттого хуже покупаются\n",
    "- самые высокие цены на квартиры в апреле, вероятно это связано с наибольшим спросом. Самая наименьшая цена в июне. Выгодней всего искать квартиры в июне.\n",
    "- самые высокие цены были в 2014 году, затем они стали снижаться. После 2017 года цены стали вновь расти.\n",
    "- 10 мест, в которых наибольшее число объявлений о продаже квартир:  'Выборг', 'Всеволожск', 'Гатчина', 'Колпино', 'поселок Шушары','поселок Мурино', 'поселок Парголово', 'деревня Кудрово', 'Пушкин','Санкт-Петербург'\n",
    "Из них: в Выборге самая маленькая цена квардратного метра, а в Санкт-Питербурге самая высокая цена квадратного метра (соответствует реальности). \n",
    "- чем меньше расстояние до центра, тем выше цены, что логично. Дальше 7 км от центра цены заметно снижаются."
   ]
  },
  {
   "cell_type": "code",
   "execution_count": 1,
   "metadata": {},
   "outputs": [],
   "source": [
    "import pandas as pd\n",
    "import re"
   ]
  },
  {
   "cell_type": "code",
   "execution_count": 2,
   "metadata": {},
   "outputs": [],
   "source": [
    "#data = pd.read_csv('/datasets/real_estate_data.csv', sep='\\t')\n",
    "data = pd.read_csv('real_estate_data.csv', sep='\\t')"
   ]
  },
  {
   "cell_type": "code",
   "execution_count": 3,
   "metadata": {},
   "outputs": [
    {
     "data": {
      "text/html": [
       "<div>\n",
       "<style scoped>\n",
       "    .dataframe tbody tr th:only-of-type {\n",
       "        vertical-align: middle;\n",
       "    }\n",
       "\n",
       "    .dataframe tbody tr th {\n",
       "        vertical-align: top;\n",
       "    }\n",
       "\n",
       "    .dataframe thead th {\n",
       "        text-align: right;\n",
       "    }\n",
       "</style>\n",
       "<table border=\"1\" class=\"dataframe\">\n",
       "  <thead>\n",
       "    <tr style=\"text-align: right;\">\n",
       "      <th></th>\n",
       "      <th>total_images</th>\n",
       "      <th>last_price</th>\n",
       "      <th>total_area</th>\n",
       "      <th>first_day_exposition</th>\n",
       "      <th>rooms</th>\n",
       "      <th>ceiling_height</th>\n",
       "      <th>floors_total</th>\n",
       "      <th>living_area</th>\n",
       "      <th>floor</th>\n",
       "      <th>is_apartment</th>\n",
       "      <th>studio</th>\n",
       "      <th>open_plan</th>\n",
       "      <th>kitchen_area</th>\n",
       "      <th>balcony</th>\n",
       "      <th>locality_name</th>\n",
       "      <th>airports_nearest</th>\n",
       "      <th>cityCenters_nearest</th>\n",
       "      <th>parks_around3000</th>\n",
       "      <th>parks_nearest</th>\n",
       "      <th>ponds_around3000</th>\n",
       "      <th>ponds_nearest</th>\n",
       "      <th>days_exposition</th>\n",
       "    </tr>\n",
       "  </thead>\n",
       "  <tbody>\n",
       "    <tr>\n",
       "      <th>0</th>\n",
       "      <td>20</td>\n",
       "      <td>13000000.0</td>\n",
       "      <td>108.0</td>\n",
       "      <td>2019-03-07T00:00:00</td>\n",
       "      <td>3</td>\n",
       "      <td>2.70</td>\n",
       "      <td>16.0</td>\n",
       "      <td>51.0</td>\n",
       "      <td>8</td>\n",
       "      <td>NaN</td>\n",
       "      <td>False</td>\n",
       "      <td>False</td>\n",
       "      <td>25.0</td>\n",
       "      <td>NaN</td>\n",
       "      <td>Санкт-Петербург</td>\n",
       "      <td>18863.0</td>\n",
       "      <td>16028.0</td>\n",
       "      <td>1.0</td>\n",
       "      <td>482.0</td>\n",
       "      <td>2.0</td>\n",
       "      <td>755.0</td>\n",
       "      <td>NaN</td>\n",
       "    </tr>\n",
       "    <tr>\n",
       "      <th>1</th>\n",
       "      <td>7</td>\n",
       "      <td>3350000.0</td>\n",
       "      <td>40.4</td>\n",
       "      <td>2018-12-04T00:00:00</td>\n",
       "      <td>1</td>\n",
       "      <td>NaN</td>\n",
       "      <td>11.0</td>\n",
       "      <td>18.6</td>\n",
       "      <td>1</td>\n",
       "      <td>NaN</td>\n",
       "      <td>False</td>\n",
       "      <td>False</td>\n",
       "      <td>11.0</td>\n",
       "      <td>2.0</td>\n",
       "      <td>посёлок Шушары</td>\n",
       "      <td>12817.0</td>\n",
       "      <td>18603.0</td>\n",
       "      <td>0.0</td>\n",
       "      <td>NaN</td>\n",
       "      <td>0.0</td>\n",
       "      <td>NaN</td>\n",
       "      <td>81.0</td>\n",
       "    </tr>\n",
       "    <tr>\n",
       "      <th>2</th>\n",
       "      <td>10</td>\n",
       "      <td>5196000.0</td>\n",
       "      <td>56.0</td>\n",
       "      <td>2015-08-20T00:00:00</td>\n",
       "      <td>2</td>\n",
       "      <td>NaN</td>\n",
       "      <td>5.0</td>\n",
       "      <td>34.3</td>\n",
       "      <td>4</td>\n",
       "      <td>NaN</td>\n",
       "      <td>False</td>\n",
       "      <td>False</td>\n",
       "      <td>8.3</td>\n",
       "      <td>0.0</td>\n",
       "      <td>Санкт-Петербург</td>\n",
       "      <td>21741.0</td>\n",
       "      <td>13933.0</td>\n",
       "      <td>1.0</td>\n",
       "      <td>90.0</td>\n",
       "      <td>2.0</td>\n",
       "      <td>574.0</td>\n",
       "      <td>558.0</td>\n",
       "    </tr>\n",
       "    <tr>\n",
       "      <th>3</th>\n",
       "      <td>0</td>\n",
       "      <td>64900000.0</td>\n",
       "      <td>159.0</td>\n",
       "      <td>2015-07-24T00:00:00</td>\n",
       "      <td>3</td>\n",
       "      <td>NaN</td>\n",
       "      <td>14.0</td>\n",
       "      <td>NaN</td>\n",
       "      <td>9</td>\n",
       "      <td>NaN</td>\n",
       "      <td>False</td>\n",
       "      <td>False</td>\n",
       "      <td>NaN</td>\n",
       "      <td>0.0</td>\n",
       "      <td>Санкт-Петербург</td>\n",
       "      <td>28098.0</td>\n",
       "      <td>6800.0</td>\n",
       "      <td>2.0</td>\n",
       "      <td>84.0</td>\n",
       "      <td>3.0</td>\n",
       "      <td>234.0</td>\n",
       "      <td>424.0</td>\n",
       "    </tr>\n",
       "    <tr>\n",
       "      <th>4</th>\n",
       "      <td>2</td>\n",
       "      <td>10000000.0</td>\n",
       "      <td>100.0</td>\n",
       "      <td>2018-06-19T00:00:00</td>\n",
       "      <td>2</td>\n",
       "      <td>3.03</td>\n",
       "      <td>14.0</td>\n",
       "      <td>32.0</td>\n",
       "      <td>13</td>\n",
       "      <td>NaN</td>\n",
       "      <td>False</td>\n",
       "      <td>False</td>\n",
       "      <td>41.0</td>\n",
       "      <td>NaN</td>\n",
       "      <td>Санкт-Петербург</td>\n",
       "      <td>31856.0</td>\n",
       "      <td>8098.0</td>\n",
       "      <td>2.0</td>\n",
       "      <td>112.0</td>\n",
       "      <td>1.0</td>\n",
       "      <td>48.0</td>\n",
       "      <td>121.0</td>\n",
       "    </tr>\n",
       "  </tbody>\n",
       "</table>\n",
       "</div>"
      ],
      "text/plain": [
       "   total_images  last_price  total_area first_day_exposition  rooms  \\\n",
       "0            20  13000000.0       108.0  2019-03-07T00:00:00      3   \n",
       "1             7   3350000.0        40.4  2018-12-04T00:00:00      1   \n",
       "2            10   5196000.0        56.0  2015-08-20T00:00:00      2   \n",
       "3             0  64900000.0       159.0  2015-07-24T00:00:00      3   \n",
       "4             2  10000000.0       100.0  2018-06-19T00:00:00      2   \n",
       "\n",
       "   ceiling_height  floors_total  living_area  floor is_apartment  studio  \\\n",
       "0            2.70          16.0         51.0      8          NaN   False   \n",
       "1             NaN          11.0         18.6      1          NaN   False   \n",
       "2             NaN           5.0         34.3      4          NaN   False   \n",
       "3             NaN          14.0          NaN      9          NaN   False   \n",
       "4            3.03          14.0         32.0     13          NaN   False   \n",
       "\n",
       "   open_plan  kitchen_area  balcony    locality_name  airports_nearest  \\\n",
       "0      False          25.0      NaN  Санкт-Петербург           18863.0   \n",
       "1      False          11.0      2.0   посёлок Шушары           12817.0   \n",
       "2      False           8.3      0.0  Санкт-Петербург           21741.0   \n",
       "3      False           NaN      0.0  Санкт-Петербург           28098.0   \n",
       "4      False          41.0      NaN  Санкт-Петербург           31856.0   \n",
       "\n",
       "   cityCenters_nearest  parks_around3000  parks_nearest  ponds_around3000  \\\n",
       "0              16028.0               1.0          482.0               2.0   \n",
       "1              18603.0               0.0            NaN               0.0   \n",
       "2              13933.0               1.0           90.0               2.0   \n",
       "3               6800.0               2.0           84.0               3.0   \n",
       "4               8098.0               2.0          112.0               1.0   \n",
       "\n",
       "   ponds_nearest  days_exposition  \n",
       "0          755.0              NaN  \n",
       "1            NaN             81.0  \n",
       "2          574.0            558.0  \n",
       "3          234.0            424.0  \n",
       "4           48.0            121.0  "
      ]
     },
     "execution_count": 3,
     "metadata": {},
     "output_type": "execute_result"
    }
   ],
   "source": [
    "pd.set_option('display.max_columns', data.shape[1])\n",
    "data.head()"
   ]
  },
  {
   "cell_type": "code",
   "execution_count": 4,
   "metadata": {},
   "outputs": [
    {
     "data": {
      "image/png": "[encoded data removed]",
      "text/plain": [
       "<Figure size 1080x1440 with 20 Axes>"
      ]
     },
     "metadata": {
      "needs_background": "light"
     },
     "output_type": "display_data"
    }
   ],
   "source": [
    "data.hist(figsize=(15, 20));"
   ]
  },
  {
   "cell_type": "code",
   "execution_count": 5,
   "metadata": {},
   "outputs": [
    {
     "data": {
      "text/plain": [
       "total_images              int64\n",
       "last_price              float64\n",
       "total_area              float64\n",
       "first_day_exposition     object\n",
       "rooms                     int64\n",
       "ceiling_height          float64\n",
       "floors_total            float64\n",
       "living_area             float64\n",
       "floor                     int64\n",
       "is_apartment             object\n",
       "studio                     bool\n",
       "open_plan                  bool\n",
       "kitchen_area            float64\n",
       "balcony                 float64\n",
       "locality_name            object\n",
       "airports_nearest        float64\n",
       "cityCenters_nearest     float64\n",
       "parks_around3000        float64\n",
       "parks_nearest           float64\n",
       "ponds_around3000        float64\n",
       "ponds_nearest           float64\n",
       "days_exposition         float64\n",
       "dtype: object"
      ]
     },
     "execution_count": 5,
     "metadata": {},
     "output_type": "execute_result"
    }
   ],
   "source": [
    "data.dtypes"
   ]
  },
  {
   "cell_type": "markdown",
   "metadata": {},
   "source": [
    "<b> Квартиры с площадью ~200 квадратных метров и более выглядят как выбросы.\n",
    "Множество значений около 0 в колонке с высотой потолков. Необходимо рассмотреть, при том, \n",
    "что стандартная высота составляет около 3 метров.\n",
    "также необходимо провести анализ столбцов на предмет типа данных: is_apartment (д.б. bool), balcony(д.б. bool). \n",
    "Тип данных float64 также может свидетельствовать о наличии NaN.Необходимо рассмотреть тип данных object.\n",
    "В названии местности могут быть дубликаты - столбец locality_name.\n",
    "</b>"
   ]
  },
  {
   "cell_type": "markdown",
   "metadata": {},
   "source": [
    "### Предобработка данных"
   ]
  },
  {
   "cell_type": "markdown",
   "metadata": {},
   "source": [
    "Найдем столбцы, в которых есть пропуски"
   ]
  },
  {
   "cell_type": "code",
   "execution_count": 6,
   "metadata": {},
   "outputs": [
    {
     "data": {
      "text/plain": [
       "total_images                0\n",
       "last_price                  0\n",
       "total_area                  0\n",
       "first_day_exposition        0\n",
       "rooms                       0\n",
       "ceiling_height           9195\n",
       "floors_total               86\n",
       "living_area              1903\n",
       "floor                       0\n",
       "is_apartment            20924\n",
       "studio                      0\n",
       "open_plan                   0\n",
       "kitchen_area             2278\n",
       "balcony                 11519\n",
       "locality_name              49\n",
       "airports_nearest         5542\n",
       "cityCenters_nearest      5519\n",
       "parks_around3000         5518\n",
       "parks_nearest           15620\n",
       "ponds_around3000         5518\n",
       "ponds_nearest           14589\n",
       "days_exposition          3181\n",
       "dtype: int64"
      ]
     },
     "execution_count": 6,
     "metadata": {},
     "output_type": "execute_result"
    }
   ],
   "source": [
    "data.isna().sum()"
   ]
  },
  {
   "cell_type": "markdown",
   "metadata": {},
   "source": [
    "Итак, выше выведены суммы пропусков в каждом столбце"
   ]
  },
  {
   "cell_type": "markdown",
   "metadata": {},
   "source": [
    "Рассмотрим столбец is_apartment"
   ]
  },
  {
   "cell_type": "code",
   "execution_count": 7,
   "metadata": {},
   "outputs": [
    {
     "data": {
      "text/plain": [
       "False    2725\n",
       "True       50\n",
       "Name: is_apartment, dtype: int64"
      ]
     },
     "execution_count": 7,
     "metadata": {},
     "output_type": "execute_result"
    }
   ],
   "source": [
    "data['is_apartment'].value_counts()"
   ]
  },
  {
   "cell_type": "markdown",
   "metadata": {},
   "source": [
    "<b> Вероятно, если напротив стоблца не стоит True, то это - не апартементы. Заменим все пропуски на False. </b>"
   ]
  },
  {
   "cell_type": "code",
   "execution_count": 8,
   "metadata": {},
   "outputs": [],
   "source": [
    "data.fillna(value={'is_apartment':False}, inplace=True)"
   ]
  },
  {
   "cell_type": "code",
   "execution_count": 9,
   "metadata": {},
   "outputs": [
    {
     "data": {
      "text/plain": [
       "Series([], Name: is_apartment, dtype: bool)"
      ]
     },
     "execution_count": 9,
     "metadata": {},
     "output_type": "execute_result"
    }
   ],
   "source": [
    "data[data['is_apartment'].isna()]['is_apartment']"
   ]
  },
  {
   "cell_type": "markdown",
   "metadata": {},
   "source": [
    "<b> Рассмотрим столбец balcony </b>"
   ]
  },
  {
   "cell_type": "code",
   "execution_count": 10,
   "metadata": {},
   "outputs": [
    {
     "data": {
      "text/plain": [
       "11519"
      ]
     },
     "execution_count": 10,
     "metadata": {},
     "output_type": "execute_result"
    }
   ],
   "source": [
    "data['balcony'].isna().sum()"
   ]
  },
  {
   "cell_type": "markdown",
   "metadata": {},
   "source": [
    "<b> Вероятно, если значение пропущено, то балкона нет. Заменим все NaN на 0. </b>"
   ]
  },
  {
   "cell_type": "code",
   "execution_count": 11,
   "metadata": {},
   "outputs": [],
   "source": [
    "data.fillna(value={'balcony':0}, inplace=True)"
   ]
  },
  {
   "cell_type": "code",
   "execution_count": 12,
   "metadata": {},
   "outputs": [
    {
     "data": {
      "text/plain": [
       "0"
      ]
     },
     "execution_count": 12,
     "metadata": {},
     "output_type": "execute_result"
    }
   ],
   "source": [
    "data['balcony'].isna().sum()"
   ]
  },
  {
   "cell_type": "markdown",
   "metadata": {},
   "source": [
    "<b> Рассмотрим столбец floors_total </b>"
   ]
  },
  {
   "cell_type": "code",
   "execution_count": 13,
   "metadata": {},
   "outputs": [
    {
     "data": {
      "text/plain": [
       "86"
      ]
     },
     "execution_count": 13,
     "metadata": {},
     "output_type": "execute_result"
    }
   ],
   "source": [
    "data['floors_total'].isna().sum()"
   ]
  },
  {
   "cell_type": "code",
   "execution_count": 14,
   "metadata": {},
   "outputs": [
    {
     "data": {
      "text/plain": [
       "5.0     5788\n",
       "9.0     3761\n",
       "16.0    1376\n",
       "12.0    1362\n",
       "4.0     1200\n",
       "10.0    1174\n",
       "25.0    1075\n",
       "6.0      914\n",
       "17.0     833\n",
       "3.0      668\n",
       "7.0      592\n",
       "14.0     553\n",
       "18.0     505\n",
       "24.0     469\n",
       "8.0      390\n",
       "2.0      383\n",
       "15.0     365\n",
       "23.0     352\n",
       "19.0     339\n",
       "22.0     286\n",
       "20.0     271\n",
       "13.0     229\n",
       "11.0     203\n",
       "27.0     164\n",
       "21.0     158\n",
       "26.0     124\n",
       "1.0       25\n",
       "35.0      24\n",
       "28.0      21\n",
       "36.0       3\n",
       "34.0       1\n",
       "60.0       1\n",
       "29.0       1\n",
       "33.0       1\n",
       "52.0       1\n",
       "37.0       1\n",
       "Name: floors_total, dtype: int64"
      ]
     },
     "execution_count": 14,
     "metadata": {},
     "output_type": "execute_result"
    }
   ],
   "source": [
    "data['floors_total'].value_counts()"
   ]
  },
  {
   "cell_type": "markdown",
   "metadata": {},
   "source": [
    "<b> Вероятно, значения в столбце не заполнены, так как в доме 1 этаж. Заполним пропуски значением 1. </b>"
   ]
  },
  {
   "cell_type": "code",
   "execution_count": 15,
   "metadata": {},
   "outputs": [],
   "source": [
    "data.fillna(value={'floors_total':1}, inplace=True)"
   ]
  },
  {
   "cell_type": "code",
   "execution_count": 16,
   "metadata": {},
   "outputs": [
    {
     "data": {
      "text/plain": [
       "0"
      ]
     },
     "execution_count": 16,
     "metadata": {},
     "output_type": "execute_result"
    }
   ],
   "source": [
    "data['floors_total'].isna().sum()"
   ]
  },
  {
   "cell_type": "markdown",
   "metadata": {},
   "source": [
    "<b> Рассмотрим ceiling_height (высота потолков (м)) </b>"
   ]
  },
  {
   "cell_type": "code",
   "execution_count": 17,
   "metadata": {},
   "outputs": [
    {
     "data": {
      "image/png": "[encoded data removed]",
      "text/plain": [
       "<Figure size 432x288 with 1 Axes>"
      ]
     },
     "metadata": {
      "needs_background": "light"
     },
     "output_type": "display_data"
    }
   ],
   "source": [
    "data.boxplot(column='ceiling_height');"
   ]
  },
  {
   "cell_type": "code",
   "execution_count": 18,
   "metadata": {},
   "outputs": [
    {
     "data": {
      "image/png": "[encoded data removed]",
      "text/plain": [
       "<Figure size 432x288 with 1 Axes>"
      ]
     },
     "metadata": {
      "needs_background": "light"
     },
     "output_type": "display_data"
    }
   ],
   "source": [
    "data.query('ceiling_height <10').boxplot(column='ceiling_height');"
   ]
  },
  {
   "cell_type": "code",
   "execution_count": 19,
   "metadata": {},
   "outputs": [
    {
     "data": {
      "text/plain": [
       "count    14504.000000\n",
       "mean         2.771499\n",
       "std          1.261056\n",
       "min          1.000000\n",
       "25%          2.520000\n",
       "50%          2.650000\n",
       "75%          2.800000\n",
       "max        100.000000\n",
       "Name: ceiling_height, dtype: float64"
      ]
     },
     "execution_count": 19,
     "metadata": {},
     "output_type": "execute_result"
    }
   ],
   "source": [
    "data['ceiling_height'].describe()"
   ]
  },
  {
   "cell_type": "code",
   "execution_count": 20,
   "metadata": {},
   "outputs": [
    {
     "data": {
      "text/plain": [
       "2.65"
      ]
     },
     "execution_count": 20,
     "metadata": {},
     "output_type": "execute_result"
    }
   ],
   "source": [
    "data['ceiling_height'].median()"
   ]
  },
  {
   "cell_type": "code",
   "execution_count": 21,
   "metadata": {},
   "outputs": [
    {
     "data": {
      "text/plain": [
       "9195"
      ]
     },
     "execution_count": 21,
     "metadata": {},
     "output_type": "execute_result"
    }
   ],
   "source": [
    "data['ceiling_height'].isna().sum()"
   ]
  },
  {
   "cell_type": "markdown",
   "metadata": {},
   "source": [
    "<b> Итак, Пропуски в столбце ceiling_height могут быть связаны с тем, что высота потолков является стандартной ~3 метров. Заполним пропуски медианным значением. </b>"
   ]
  },
  {
   "cell_type": "code",
   "execution_count": 22,
   "metadata": {},
   "outputs": [],
   "source": [
    "data.fillna(value={'ceiling_height':data['ceiling_height'].median()}, inplace=True)"
   ]
  },
  {
   "cell_type": "code",
   "execution_count": 23,
   "metadata": {},
   "outputs": [
    {
     "data": {
      "text/plain": [
       "0"
      ]
     },
     "execution_count": 23,
     "metadata": {},
     "output_type": "execute_result"
    }
   ],
   "source": [
    "data['ceiling_height'].isna().sum()"
   ]
  },
  {
   "cell_type": "markdown",
   "metadata": {},
   "source": [
    "<b> Рассмотрим столбцы parks_around3000 и parks_nearest. Если одновременно есть пропуски в этих столбцах, то логично предположить, что парков в радиусе 3 км нет, поэтому заполним эти значения нулем. </b>"
   ]
  },
  {
   "cell_type": "code",
   "execution_count": 24,
   "metadata": {},
   "outputs": [
    {
     "data": {
      "text/plain": [
       "0.0    10106\n",
       "1.0     5681\n",
       "2.0     1747\n",
       "3.0      647\n",
       "Name: parks_around3000, dtype: int64"
      ]
     },
     "execution_count": 24,
     "metadata": {},
     "output_type": "execute_result"
    }
   ],
   "source": [
    "data['parks_around3000'].value_counts()"
   ]
  },
  {
   "cell_type": "code",
   "execution_count": 25,
   "metadata": {},
   "outputs": [],
   "source": [
    "condition_1 = data['parks_around3000'].isna()\n",
    "condition_2 = data['parks_nearest'].isna()"
   ]
  },
  {
   "cell_type": "code",
   "execution_count": 26,
   "metadata": {},
   "outputs": [],
   "source": [
    "idx = data[condition_1 & condition_2].index.tolist()"
   ]
  },
  {
   "cell_type": "code",
   "execution_count": 27,
   "metadata": {},
   "outputs": [],
   "source": [
    "data.loc[idx, 'parks_around3000'] = 0"
   ]
  },
  {
   "cell_type": "code",
   "execution_count": 28,
   "metadata": {
    "scrolled": true
   },
   "outputs": [
    {
     "data": {
      "text/plain": [
       "total_images                0\n",
       "last_price                  0\n",
       "total_area                  0\n",
       "first_day_exposition        0\n",
       "rooms                       0\n",
       "ceiling_height              0\n",
       "floors_total                0\n",
       "living_area              1903\n",
       "floor                       0\n",
       "is_apartment                0\n",
       "studio                      0\n",
       "open_plan                   0\n",
       "kitchen_area             2278\n",
       "balcony                     0\n",
       "locality_name              49\n",
       "airports_nearest         5542\n",
       "cityCenters_nearest      5519\n",
       "parks_around3000            0\n",
       "parks_nearest           15620\n",
       "ponds_around3000         5518\n",
       "ponds_nearest           14589\n",
       "days_exposition          3181\n",
       "dtype: int64"
      ]
     },
     "execution_count": 28,
     "metadata": {},
     "output_type": "execute_result"
    }
   ],
   "source": [
    "data.isna().sum()"
   ]
  },
  {
   "cell_type": "markdown",
   "metadata": {},
   "source": [
    "<b> Итак, мы видим, что все пропущенные значения в столбце parks_around3000 заменились на 0. То есть предположение, что значения одновременно не указаны в parks_around3000 и parks_nearest говорят о том, что парков в радиусе 3 км нет, верно. </b>"
   ]
  },
  {
   "cell_type": "markdown",
   "metadata": {},
   "source": [
    "<b> Рассмотрим столбцы ponds_around3000 и ponds_nearest. Если одновременно есть пропуски в этих столбцах, то логично предположить, что водоемов в радиусе 3 км нет, поэтому заполним эти значения нулем. </b>"
   ]
  },
  {
   "cell_type": "code",
   "execution_count": 29,
   "metadata": {},
   "outputs": [
    {
     "data": {
      "text/plain": [
       "0.0    9071\n",
       "1.0    5717\n",
       "2.0    1892\n",
       "3.0    1501\n",
       "Name: ponds_around3000, dtype: int64"
      ]
     },
     "execution_count": 29,
     "metadata": {},
     "output_type": "execute_result"
    }
   ],
   "source": [
    "data['ponds_around3000'].value_counts()"
   ]
  },
  {
   "cell_type": "code",
   "execution_count": 30,
   "metadata": {},
   "outputs": [],
   "source": [
    "condition_1 = data['ponds_around3000'].isna()\n",
    "condition_2 = data['ponds_nearest'].isna()"
   ]
  },
  {
   "cell_type": "code",
   "execution_count": 31,
   "metadata": {},
   "outputs": [],
   "source": [
    "idx = data[condition_1 & condition_2].index.tolist()"
   ]
  },
  {
   "cell_type": "code",
   "execution_count": 32,
   "metadata": {},
   "outputs": [],
   "source": [
    "data.loc[idx, 'ponds_around3000'] = 0"
   ]
  },
  {
   "cell_type": "code",
   "execution_count": 33,
   "metadata": {},
   "outputs": [
    {
     "data": {
      "text/plain": [
       "total_images                0\n",
       "last_price                  0\n",
       "total_area                  0\n",
       "first_day_exposition        0\n",
       "rooms                       0\n",
       "ceiling_height              0\n",
       "floors_total                0\n",
       "living_area              1903\n",
       "floor                       0\n",
       "is_apartment                0\n",
       "studio                      0\n",
       "open_plan                   0\n",
       "kitchen_area             2278\n",
       "balcony                     0\n",
       "locality_name              49\n",
       "airports_nearest         5542\n",
       "cityCenters_nearest      5519\n",
       "parks_around3000            0\n",
       "parks_nearest           15620\n",
       "ponds_around3000            0\n",
       "ponds_nearest           14589\n",
       "days_exposition          3181\n",
       "dtype: int64"
      ]
     },
     "execution_count": 33,
     "metadata": {},
     "output_type": "execute_result"
    }
   ],
   "source": [
    "data.isna().sum()"
   ]
  },
  {
   "cell_type": "markdown",
   "metadata": {},
   "source": [
    "<b> Причины пропусков в данных:\n",
    "1. Стобец living_area является важнейшим, так как напрямую влияет на цену. Пропуск в этом столбце скорее всего возник из-за каких-то проблем на этапе выгрузки.\n",
    "2. Пропуск в столбце kitchen_area может быть связан с тем, что человек не посчитал важным указывать отдельно площадь кухни или этот пропуск возник на этапе выгрузки данных.\n",
    "3. Пропуск в столбце locality_name может быть связан с тем, что человек не посчитал важным указывать район (населенный пункт) или этот пропуск возник на этапе выгрузки данных.\n",
    "4. Пропуски в столбцах airports_nearest, cityCenters_neares человек мог не заполнить из-за того, что посчитал эту информацию несущественной или из-за того, что не обладает данной информацией. Также есть вероятность пропуска из за некорректной выгрузки.\n",
    "5. Пропуски в parks_nearest и ponds_nearest могут быть связаны с тем, что парки находятся далеко и в радиусе 3 км нет ни одного парка, или, например, человек посчитал данную информацию несущественной или из-за того, что не обладает данной информацией. Также учитываем причину возникновения пропуска на этапе выгрузки.\n",
    "6. Пропуски в days_exposition могут говорить о некорректной выгрузке, а также о том, что в момент выгрузки это объявление является актуальным. </b>"
   ]
  },
  {
   "cell_type": "markdown",
   "metadata": {},
   "source": [
    "<b> Рассмотрим типы данных в каждом столбце </b>"
   ]
  },
  {
   "cell_type": "code",
   "execution_count": 34,
   "metadata": {},
   "outputs": [
    {
     "data": {
      "text/plain": [
       "total_images              int64\n",
       "last_price              float64\n",
       "total_area              float64\n",
       "first_day_exposition     object\n",
       "rooms                     int64\n",
       "ceiling_height          float64\n",
       "floors_total            float64\n",
       "living_area             float64\n",
       "floor                     int64\n",
       "is_apartment               bool\n",
       "studio                     bool\n",
       "open_plan                  bool\n",
       "kitchen_area            float64\n",
       "balcony                 float64\n",
       "locality_name            object\n",
       "airports_nearest        float64\n",
       "cityCenters_nearest     float64\n",
       "parks_around3000        float64\n",
       "parks_nearest           float64\n",
       "ponds_around3000        float64\n",
       "ponds_nearest           float64\n",
       "days_exposition         float64\n",
       "dtype: object"
      ]
     },
     "execution_count": 34,
     "metadata": {},
     "output_type": "execute_result"
    }
   ],
   "source": [
    "data.dtypes"
   ]
  },
  {
   "cell_type": "code",
   "execution_count": 35,
   "metadata": {},
   "outputs": [
    {
     "data": {
      "text/plain": [
       "0"
      ]
     },
     "execution_count": 35,
     "metadata": {},
     "output_type": "execute_result"
    }
   ],
   "source": [
    "data['floors_total'].isna().sum()"
   ]
  },
  {
   "cell_type": "markdown",
   "metadata": {},
   "source": [
    "<b> Изменим тип данных в floors_total на int, так как количество этажей - это целое число </b>"
   ]
  },
  {
   "cell_type": "code",
   "execution_count": 36,
   "metadata": {},
   "outputs": [],
   "source": [
    "data['floors_total'] = data.astype({'floors_total':'int'})['floors_total']"
   ]
  },
  {
   "cell_type": "code",
   "execution_count": 37,
   "metadata": {},
   "outputs": [
    {
     "data": {
      "text/plain": [
       "total_images              int64\n",
       "last_price              float64\n",
       "total_area              float64\n",
       "first_day_exposition     object\n",
       "rooms                     int64\n",
       "ceiling_height          float64\n",
       "floors_total              int32\n",
       "living_area             float64\n",
       "floor                     int64\n",
       "is_apartment               bool\n",
       "studio                     bool\n",
       "open_plan                  bool\n",
       "kitchen_area            float64\n",
       "balcony                 float64\n",
       "locality_name            object\n",
       "airports_nearest        float64\n",
       "cityCenters_nearest     float64\n",
       "parks_around3000        float64\n",
       "parks_nearest           float64\n",
       "ponds_around3000        float64\n",
       "ponds_nearest           float64\n",
       "days_exposition         float64\n",
       "dtype: object"
      ]
     },
     "execution_count": 37,
     "metadata": {},
     "output_type": "execute_result"
    }
   ],
   "source": [
    "data.dtypes"
   ]
  },
  {
   "cell_type": "markdown",
   "metadata": {},
   "source": [
    "<b> Изменим тип колонки balcony на int, так как количество балконов - это порядковое числительное.</b>"
   ]
  },
  {
   "cell_type": "code",
   "execution_count": 38,
   "metadata": {},
   "outputs": [],
   "source": [
    "data['balcony'] = data['balcony'].astype('int')"
   ]
  },
  {
   "cell_type": "code",
   "execution_count": 39,
   "metadata": {},
   "outputs": [
    {
     "data": {
      "text/plain": [
       "total_images              int64\n",
       "last_price              float64\n",
       "total_area              float64\n",
       "first_day_exposition     object\n",
       "rooms                     int64\n",
       "ceiling_height          float64\n",
       "floors_total              int32\n",
       "living_area             float64\n",
       "floor                     int64\n",
       "is_apartment               bool\n",
       "studio                     bool\n",
       "open_plan                  bool\n",
       "kitchen_area            float64\n",
       "balcony                   int32\n",
       "locality_name            object\n",
       "airports_nearest        float64\n",
       "cityCenters_nearest     float64\n",
       "parks_around3000        float64\n",
       "parks_nearest           float64\n",
       "ponds_around3000        float64\n",
       "ponds_nearest           float64\n",
       "days_exposition         float64\n",
       "dtype: object"
      ]
     },
     "execution_count": 39,
     "metadata": {},
     "output_type": "execute_result"
    }
   ],
   "source": [
    "data.dtypes"
   ]
  },
  {
   "cell_type": "markdown",
   "metadata": {},
   "source": [
    "<b> Изменим тип колонок parks_around3000 и ponds_around3000 на int, так как количество водоемов и парков - это порядковые числительные.</b"
   ]
  },
  {
   "cell_type": "code",
   "execution_count": 40,
   "metadata": {
    "scrolled": true
   },
   "outputs": [],
   "source": [
    "data['parks_around3000'] = data['parks_around3000'].astype('int')"
   ]
  },
  {
   "cell_type": "code",
   "execution_count": 41,
   "metadata": {},
   "outputs": [],
   "source": [
    "data['ponds_around3000'] = data['ponds_around3000'].astype('int')"
   ]
  },
  {
   "cell_type": "code",
   "execution_count": 42,
   "metadata": {},
   "outputs": [
    {
     "data": {
      "text/plain": [
       "total_images              int64\n",
       "last_price              float64\n",
       "total_area              float64\n",
       "first_day_exposition     object\n",
       "rooms                     int64\n",
       "ceiling_height          float64\n",
       "floors_total              int32\n",
       "living_area             float64\n",
       "floor                     int64\n",
       "is_apartment               bool\n",
       "studio                     bool\n",
       "open_plan                  bool\n",
       "kitchen_area            float64\n",
       "balcony                   int32\n",
       "locality_name            object\n",
       "airports_nearest        float64\n",
       "cityCenters_nearest     float64\n",
       "parks_around3000          int32\n",
       "parks_nearest           float64\n",
       "ponds_around3000          int32\n",
       "ponds_nearest           float64\n",
       "days_exposition         float64\n",
       "dtype: object"
      ]
     },
     "execution_count": 42,
     "metadata": {},
     "output_type": "execute_result"
    }
   ],
   "source": [
    "data.dtypes"
   ]
  },
  {
   "cell_type": "markdown",
   "metadata": {},
   "source": [
    "<b> Изучим столбец locality_name на предмет дубликатов </b>"
   ]
  },
  {
   "cell_type": "markdown",
   "metadata": {},
   "source": [
    "<b> Заполним NaN в колонке 'locality_name' пустыми строками </b>"
   ]
  },
  {
   "cell_type": "code",
   "execution_count": 43,
   "metadata": {},
   "outputs": [
    {
     "data": {
      "text/plain": [
       "49"
      ]
     },
     "execution_count": 43,
     "metadata": {},
     "output_type": "execute_result"
    }
   ],
   "source": [
    "data['locality_name'].isna().sum()"
   ]
  },
  {
   "cell_type": "code",
   "execution_count": 44,
   "metadata": {},
   "outputs": [],
   "source": [
    "data['locality_name'] = data['locality_name'].fillna('')"
   ]
  },
  {
   "cell_type": "code",
   "execution_count": 45,
   "metadata": {},
   "outputs": [
    {
     "data": {
      "text/plain": [
       "0"
      ]
     },
     "execution_count": 45,
     "metadata": {},
     "output_type": "execute_result"
    }
   ],
   "source": [
    "data['locality_name'].isna().sum()"
   ]
  },
  {
   "cell_type": "code",
   "execution_count": 46,
   "metadata": {},
   "outputs": [],
   "source": [
    "def create_loc_list(data):\n",
    "    loc_list = []\n",
    "    for i in data['locality_name'].unique():\n",
    "        if len(i) == 0:\n",
    "            continue\n",
    "        location = i.split()\n",
    "        capit_word = [j for j in i.split() if j.istitle()][0]\n",
    "        loc_list.append(i[i.find(capit_word):])\n",
    "    \n",
    "    return list(set(loc_list))"
   ]
  },
  {
   "cell_type": "code",
   "execution_count": 47,
   "metadata": {},
   "outputs": [],
   "source": [
    "loc_names_list = data['locality_name'].unique().tolist()"
   ]
  },
  {
   "cell_type": "code",
   "execution_count": 48,
   "metadata": {},
   "outputs": [],
   "source": [
    "loc_list = create_loc_list(data)"
   ]
  },
  {
   "cell_type": "code",
   "execution_count": 49,
   "metadata": {},
   "outputs": [
    {
     "data": {
      "text/plain": [
       "['Новый Свет', 'Большое Рейзино', 'Ялгино', 'Светогорск', 'Кузьмолово']"
      ]
     },
     "execution_count": 49,
     "metadata": {},
     "output_type": "execute_result"
    }
   ],
   "source": [
    "loc_list[:5]"
   ]
  },
  {
   "cell_type": "code",
   "execution_count": 50,
   "metadata": {},
   "outputs": [],
   "source": [
    "def find_notexplicit_dupls(loc_list, loc_names_list):\n",
    "    for i in loc_list:\n",
    "        d = [j for j in loc_names_list if i in j]\n",
    "        if len(d) > 1:\n",
    "            print(d)\n",
    "        \n",
    "    "
   ]
  },
  {
   "cell_type": "code",
   "execution_count": 51,
   "metadata": {},
   "outputs": [
    {
     "name": "stdout",
     "output_type": "stream",
     "text": [
      "['посёлок Новый Свет', 'поселок Новый Свет']\n",
      "['поселок городского типа Рощино', 'посёлок городского типа Рощино', 'городской посёлок Рощино']\n",
      "['посёлок Тельмана', 'поселок Тельмана']\n",
      "['Кингисепп', 'поселок Кингисеппский']\n",
      "['поселок Терволово', 'посёлок Терволово']\n",
      "['поселок Лесное', 'коттеджный посёлок Лесное']\n",
      "['деревня Бегуницы', 'деревня Старые Бегуницы']\n",
      "['поселок Мельниково', 'посёлок Мельниково']\n",
      "['посёлок Аннино', 'поселок Аннино']\n",
      "['посёлок Щеглово', 'деревня Щеглово']\n",
      "['поселок городского типа Советский', 'городской посёлок Советский']\n",
      "['посёлок Пансионат Зелёный Бор', 'поселок Пансионат Зелёный Бор']\n",
      "['поселок Ильичёво', 'посёлок Ильичёво']\n",
      "['городской посёлок Мга', 'посёлок городского типа Мга']\n",
      "['поселок Стеклянный', 'посёлок Стеклянный']\n",
      "['село Русско-Высоцкое', 'Высоцк']\n",
      "['Любань', 'поселок Любань']\n",
      "['поселок городского типа Приладожский', 'садовое товарищество Приладожский']\n",
      "['садовое товарищество Новая Ропша', 'посёлок Ропша']\n",
      "['поселок Перово', 'посёлок Перово']\n",
      "['посёлок городского типа Токсово', 'поселок городского типа Токсово']\n",
      "['посёлок Петровское', 'поселок Петровское']\n",
      "['посёлок Мичуринское', 'поселок Мичуринское']\n",
      "['поселок городского типа Рахья', 'садовое товарищество Рахья']\n",
      "['поселок Лисий Нос', 'посёлок Лисий Нос']\n",
      "['поселок станции Вещево', 'посёлок при железнодорожной станции Вещево']\n",
      "['городской поселок Большая Ижора', 'поселок городского типа Большая Ижора']\n",
      "['посёлок городского типа Вырица', 'поселок городского типа Вырица']\n",
      "['посёлок Усть-Луга', 'поселок Усть-Луга']\n",
      "['поселок Романовка', 'деревня Малая Романовка']\n",
      "['поселок Рябово', 'поселок городского типа Рябово', 'посёлок городского типа Рябово']\n",
      "['деревня Калитино', 'поселок Калитино']\n",
      "['посёлок Кобралово', 'поселок Кобралово']\n",
      "['деревня Рабитицы', 'поселок Рабитицы']\n",
      "['посёлок Коробицыно', 'поселок Коробицыно']\n",
      "['городской посёлок Лесогорский', 'поселок городского типа Лесогорский']\n",
      "['посёлок станции Свирь', 'городской посёлок Свирьстрой']\n",
      "['посёлок Бугры', 'поселок Бугры']\n",
      "['посёлок Сумино', 'поселок Сумино']\n",
      "['деревня Кудрово', 'Кудрово']\n",
      "['Коммунар', 'поселок Коммунары']\n",
      "['поселок станции Приветнинское', 'посёлок при железнодорожной станции Приветнинское']\n",
      "['деревня Старая', 'поселок Старая Малукса', 'село Старая Ладога', 'деревня Старая Пустошь', 'посёлок Старая Малукса']\n",
      "['село Павлово', 'городской посёлок Павлово', 'посёлок городского типа Павлово']\n",
      "['поселок городского типа Красный Бор', 'Сосновый Бор', 'посёлок городского типа Красный Бор', 'деревня Чудской Бор', 'деревня Бор', 'деревня Трубников Бор', 'посёлок Пансионат Зелёный Бор', 'поселок Пансионат Зелёный Бор', 'деревня Борисова Грива']\n",
      "['деревня Гарболово', 'поселок Гарболово']\n",
      "['поселок Старая Малукса', 'посёлок Старая Малукса']\n",
      "['посёлок станции Громово', 'поселок Громово']\n",
      "['посёлок городского типа Лебяжье', 'поселок городского типа Лебяжье']\n",
      "['поселок городского типа Кузьмоловский', 'посёлок городского типа Кузьмоловский']\n",
      "['поселок Зимитицы', 'деревня Зимитицы']\n",
      "['поселок Жилгородок', 'посёлок Жилгородок']\n",
      "['посёлок Гаврилово', 'поселок Гаврилово']\n",
      "['городской посёлок Янино-1', 'городской поселок Янино-1']\n",
      "['поселок городского типа имени Свердлова', 'посёлок городского типа имени Свердлова']\n",
      "['посёлок Победа', 'поселок Победа']\n",
      "['посёлок Мурино', 'поселок Мурино', 'Мурино']\n",
      "['село Русско-Высоцкое', 'деревня Русско']\n",
      "['городской посёлок Назия', 'поселок городского типа Назия']\n",
      "['поселок городского типа Форносово', 'посёлок городского типа Форносово']\n",
      "['Луга', 'посёлок Усть-Луга', 'поселок Усть-Луга']\n",
      "['Никольское', 'село Никольское']\n",
      "['деревня Фёдоровское', 'городской посёлок Фёдоровское']\n",
      "['посёлок Поляны', 'поселок Поляны']\n",
      "['поселок городского типа Красный Бор', 'посёлок городского типа Красный Бор']\n",
      "['посёлок Возрождение', 'поселок Возрождение']\n"
     ]
    }
   ],
   "source": [
    "find_notexplicit_dupls(loc_list, loc_names_list)"
   ]
  },
  {
   "cell_type": "markdown",
   "metadata": {},
   "source": [
    "<b> Итак, мы видим множество неявных дубликатов по причине написания одних и тех же слов черех \"е\" и \"ё\". Заменим \"посёлок\" на \"поселок\" </b>"
   ]
  },
  {
   "cell_type": "code",
   "execution_count": 52,
   "metadata": {},
   "outputs": [],
   "source": [
    "data['locality_name'] = data['locality_name'].apply(lambda x: re.sub('посёлок', 'поселок', x))"
   ]
  },
  {
   "cell_type": "code",
   "execution_count": 53,
   "metadata": {},
   "outputs": [
    {
     "name": "stdout",
     "output_type": "stream",
     "text": [
      "['поселок городского типа Рощино', 'городской поселок Рощино']\n",
      "['Кингисепп', 'поселок Кингисеппский']\n",
      "['поселок Лесное', 'коттеджный поселок Лесное']\n",
      "['деревня Бегуницы', 'деревня Старые Бегуницы']\n",
      "['поселок Щеглово', 'деревня Щеглово']\n",
      "['поселок городского типа Советский', 'городской поселок Советский']\n",
      "['городской поселок Мга', 'поселок городского типа Мга']\n",
      "['село Русско-Высоцкое', 'Высоцк']\n",
      "['Любань', 'поселок Любань']\n",
      "['поселок городского типа Приладожский', 'садовое товарищество Приладожский']\n",
      "['садовое товарищество Новая Ропша', 'поселок Ропша']\n",
      "['поселок городского типа Рахья', 'садовое товарищество Рахья']\n",
      "['поселок станции Вещево', 'поселок при железнодорожной станции Вещево']\n",
      "['городской поселок Большая Ижора', 'поселок городского типа Большая Ижора']\n",
      "['поселок Романовка', 'деревня Малая Романовка']\n",
      "['поселок Рябово', 'поселок городского типа Рябово']\n",
      "['деревня Калитино', 'поселок Калитино']\n",
      "['деревня Рабитицы', 'поселок Рабитицы']\n",
      "['городской поселок Лесогорский', 'поселок городского типа Лесогорский']\n",
      "['поселок станции Свирь', 'городской поселок Свирьстрой']\n",
      "['деревня Кудрово', 'Кудрово']\n",
      "['Коммунар', 'поселок Коммунары']\n",
      "['поселок станции Приветнинское', 'поселок при железнодорожной станции Приветнинское']\n",
      "['деревня Старая', 'поселок Старая Малукса', 'село Старая Ладога', 'деревня Старая Пустошь']\n",
      "['село Павлово', 'городской поселок Павлово', 'поселок городского типа Павлово']\n",
      "['поселок городского типа Красный Бор', 'Сосновый Бор', 'деревня Чудской Бор', 'деревня Бор', 'деревня Трубников Бор', 'поселок Пансионат Зелёный Бор', 'деревня Борисова Грива']\n",
      "['деревня Гарболово', 'поселок Гарболово']\n",
      "['поселок станции Громово', 'поселок Громово']\n",
      "['поселок Зимитицы', 'деревня Зимитицы']\n",
      "['поселок Мурино', 'Мурино']\n",
      "['село Русско-Высоцкое', 'деревня Русско']\n",
      "['городской поселок Назия', 'поселок городского типа Назия']\n",
      "['Луга', 'поселок Усть-Луга']\n",
      "['Никольское', 'село Никольское']\n",
      "['деревня Фёдоровское', 'городской поселок Фёдоровское']\n"
     ]
    }
   ],
   "source": [
    "loc_names_list = data['locality_name'].unique().tolist()\n",
    "loc_list = create_loc_list(data)\n",
    "find_notexplicit_dupls(loc_list, loc_names_list)"
   ]
  },
  {
   "cell_type": "markdown",
   "metadata": {},
   "source": [
    "<b> Итак, неявные дубликаты:\n",
    "['поселок городского типа Рощино', 'городской поселок Рощино']\n",
    "['городской поселок Большая Ижора', 'поселок городского типа Большая Ижора']\n",
    "['поселок Лесное', 'коттеджный поселок Лесное']\n",
    "['поселок Рябово', 'поселок городского типа Рябово']\n",
    "['село Павлово', 'городской поселок Павлово', 'поселок городского типа Павлово']\n",
    "['городской поселок Лесогорский', 'поселок городского типа Лесогорский']\n",
    "['поселок станции Приветнинское', 'поселок при железнодорожной станции Приветнинское']\n",
    "['поселок городского типа Советский', 'городской поселок Советский']\n",
    "['поселок станции Вещево', 'поселок при железнодорожной станции Вещево']\n",
    "['поселок станции Громово', 'поселок Громово']\n",
    "['городской поселок Мга', 'поселок городского типа Мга']\n",
    "['городской поселок Назия', 'поселок городского типа Назия'] </b>"
   ]
  },
  {
   "cell_type": "markdown",
   "metadata": {},
   "source": [
    "Заменим \"городской поселок\" на \"поселок городского типа\", а также замены из replacement_list"
   ]
  },
  {
   "cell_type": "code",
   "execution_count": 54,
   "metadata": {},
   "outputs": [],
   "source": [
    "data['locality_name'] = data['locality_name'].apply(lambda x: re.sub('городской поселок', 'поселок городского типа', x))"
   ]
  },
  {
   "cell_type": "code",
   "execution_count": 55,
   "metadata": {},
   "outputs": [
    {
     "name": "stdout",
     "output_type": "stream",
     "text": [
      "['Кингисепп', 'поселок Кингисеппский']\n",
      "['поселок Лесное', 'коттеджный поселок Лесное']\n",
      "['деревня Бегуницы', 'деревня Старые Бегуницы']\n",
      "['поселок Щеглово', 'деревня Щеглово']\n",
      "['село Русско-Высоцкое', 'Высоцк']\n",
      "['Любань', 'поселок Любань']\n",
      "['поселок городского типа Приладожский', 'садовое товарищество Приладожский']\n",
      "['садовое товарищество Новая Ропша', 'поселок Ропша']\n",
      "['поселок городского типа Рахья', 'садовое товарищество Рахья']\n",
      "['поселок станции Вещево', 'поселок при железнодорожной станции Вещево']\n",
      "['поселок Романовка', 'деревня Малая Романовка']\n",
      "['поселок Рябово', 'поселок городского типа Рябово']\n",
      "['деревня Калитино', 'поселок Калитино']\n",
      "['деревня Рабитицы', 'поселок Рабитицы']\n",
      "['поселок станции Свирь', 'поселок городского типа Свирьстрой']\n",
      "['деревня Кудрово', 'Кудрово']\n",
      "['Коммунар', 'поселок Коммунары']\n",
      "['поселок станции Приветнинское', 'поселок при железнодорожной станции Приветнинское']\n",
      "['деревня Старая', 'поселок Старая Малукса', 'село Старая Ладога', 'деревня Старая Пустошь']\n",
      "['село Павлово', 'поселок городского типа Павлово']\n",
      "['поселок городского типа Красный Бор', 'Сосновый Бор', 'деревня Чудской Бор', 'деревня Бор', 'деревня Трубников Бор', 'поселок Пансионат Зелёный Бор', 'деревня Борисова Грива']\n",
      "['деревня Гарболово', 'поселок Гарболово']\n",
      "['поселок станции Громово', 'поселок Громово']\n",
      "['поселок Зимитицы', 'деревня Зимитицы']\n",
      "['поселок Мурино', 'Мурино']\n",
      "['село Русско-Высоцкое', 'деревня Русско']\n",
      "['Луга', 'поселок Усть-Луга']\n",
      "['Никольское', 'село Никольское']\n",
      "['деревня Фёдоровское', 'поселок городского типа Фёдоровское']\n"
     ]
    }
   ],
   "source": [
    "loc_names_list = data['locality_name'].unique().tolist()\n",
    "loc_list = create_loc_list(data)\n",
    "find_notexplicit_dupls(loc_list, loc_names_list)"
   ]
  },
  {
   "cell_type": "markdown",
   "metadata": {},
   "source": [
    "Приведем следующие название к единому виду"
   ]
  },
  {
   "cell_type": "markdown",
   "metadata": {},
   "source": [
    "['поселок Лесное', 'коттеджный поселок Лесное']\n",
    "['поселок Рябово', 'поселок городского типа Рябово']\n",
    "['поселок станции Приветнинское', 'поселок при железнодорожной станции Приветнинское']\n",
    "['поселок станции Вещево', 'поселок при железнодорожной станции Вещево']\n",
    "['поселок станции Громово', 'поселок Громово']"
   ]
  },
  {
   "cell_type": "code",
   "execution_count": 56,
   "metadata": {},
   "outputs": [],
   "source": [
    "data['locality_name'].replace({'поселок Лесное':'коттеджный поселок Лесное', 'поселок Рябово':'поселок городского типа Рябово',\n",
    "                             'поселок станции Приветнинское':'поселок при железнодорожной станции Приветнинское',\n",
    "                             'поселок станции Вещево':'поселок при железнодорожной станции Вещево',\n",
    "                             'поселок Громово':'поселок станции Громово'}, inplace=True)"
   ]
  },
  {
   "cell_type": "code",
   "execution_count": 57,
   "metadata": {},
   "outputs": [
    {
     "name": "stdout",
     "output_type": "stream",
     "text": [
      "['Кингисепп', 'поселок Кингисеппский']\n",
      "['деревня Бегуницы', 'деревня Старые Бегуницы']\n",
      "['поселок Щеглово', 'деревня Щеглово']\n",
      "['село Русско-Высоцкое', 'Высоцк']\n",
      "['Любань', 'поселок Любань']\n",
      "['поселок городского типа Приладожский', 'садовое товарищество Приладожский']\n",
      "['садовое товарищество Новая Ропша', 'поселок Ропша']\n",
      "['поселок городского типа Рахья', 'садовое товарищество Рахья']\n",
      "['поселок Романовка', 'деревня Малая Романовка']\n",
      "['деревня Калитино', 'поселок Калитино']\n",
      "['деревня Рабитицы', 'поселок Рабитицы']\n",
      "['поселок станции Свирь', 'поселок городского типа Свирьстрой']\n",
      "['деревня Кудрово', 'Кудрово']\n",
      "['Коммунар', 'поселок Коммунары']\n",
      "['деревня Старая', 'поселок Старая Малукса', 'село Старая Ладога', 'деревня Старая Пустошь']\n",
      "['село Павлово', 'поселок городского типа Павлово']\n",
      "['поселок городского типа Красный Бор', 'Сосновый Бор', 'деревня Чудской Бор', 'деревня Бор', 'деревня Трубников Бор', 'поселок Пансионат Зелёный Бор', 'деревня Борисова Грива']\n",
      "['деревня Гарболово', 'поселок Гарболово']\n",
      "['поселок Зимитицы', 'деревня Зимитицы']\n",
      "['поселок Мурино', 'Мурино']\n",
      "['село Русско-Высоцкое', 'деревня Русско']\n",
      "['Луга', 'поселок Усть-Луга']\n",
      "['Никольское', 'село Никольское']\n",
      "['деревня Фёдоровское', 'поселок городского типа Фёдоровское']\n"
     ]
    }
   ],
   "source": [
    "loc_names_list = data['locality_name'].unique().tolist()\n",
    "loc_list = create_loc_list(data)\n",
    "find_notexplicit_dupls(loc_list, loc_names_list)"
   ]
  },
  {
   "cell_type": "markdown",
   "metadata": {},
   "source": [
    "<b> Неявных дубликатов нет </b>"
   ]
  },
  {
   "cell_type": "markdown",
   "metadata": {},
   "source": [
    "<b> Исследуем столбец ceiling_height </b>"
   ]
  },
  {
   "cell_type": "code",
   "execution_count": 58,
   "metadata": {},
   "outputs": [
    {
     "data": {
      "text/plain": [
       "<AxesSubplot:>"
      ]
     },
     "execution_count": 58,
     "metadata": {},
     "output_type": "execute_result"
    },
    {
     "data": {
      "image/png": "[encoded data removed]",
      "text/plain": [
       "<Figure size 432x288 with 1 Axes>"
      ]
     },
     "metadata": {
      "needs_background": "light"
     },
     "output_type": "display_data"
    }
   ],
   "source": [
    "data.boxplot('ceiling_height')"
   ]
  },
  {
   "cell_type": "markdown",
   "metadata": {},
   "source": [
    "Высота потолков 100 метров выглядит как явный выброс. Избавимся от него, заменив на медианное значение. Также, вероятно, значения больше 20 записаны не в метрах, а в см, поэтому разделим эти значения на 10."
   ]
  },
  {
   "cell_type": "code",
   "execution_count": 59,
   "metadata": {},
   "outputs": [
    {
     "data": {
      "text/plain": [
       "<AxesSubplot:>"
      ]
     },
     "execution_count": 59,
     "metadata": {},
     "output_type": "execute_result"
    },
    {
     "data": {
      "image/png": "[encoded data removed]",
      "text/plain": [
       "<Figure size 432x288 with 1 Axes>"
      ]
     },
     "metadata": {
      "needs_background": "light"
     },
     "output_type": "display_data"
    }
   ],
   "source": [
    "data.query('ceiling_height < 21').boxplot('ceiling_height')"
   ]
  },
  {
   "cell_type": "markdown",
   "metadata": {},
   "source": [
    "Посмотрим нижние значения"
   ]
  },
  {
   "cell_type": "code",
   "execution_count": 60,
   "metadata": {},
   "outputs": [],
   "source": [
    "idx = data.query('ceiling_height >= 20').index.tolist()"
   ]
  },
  {
   "cell_type": "code",
   "execution_count": 61,
   "metadata": {},
   "outputs": [],
   "source": [
    "data.loc[idx, 'ceiling_height'] = data.loc[idx, 'ceiling_height'] / 10"
   ]
  },
  {
   "cell_type": "code",
   "execution_count": 62,
   "metadata": {},
   "outputs": [
    {
     "data": {
      "text/plain": [
       "<AxesSubplot:>"
      ]
     },
     "execution_count": 62,
     "metadata": {},
     "output_type": "execute_result"
    },
    {
     "data": {
      "image/png": "[encoded data removed]",
      "text/plain": [
       "<Figure size 432x288 with 1 Axes>"
      ]
     },
     "metadata": {
      "needs_background": "light"
     },
     "output_type": "display_data"
    }
   ],
   "source": [
    "data.boxplot('ceiling_height')"
   ]
  },
  {
   "cell_type": "code",
   "execution_count": 63,
   "metadata": {},
   "outputs": [
    {
     "data": {
      "text/plain": [
       "count    23699.000000\n",
       "mean         2.698721\n",
       "std          0.253208\n",
       "min          1.000000\n",
       "25%          2.600000\n",
       "50%          2.650000\n",
       "75%          2.700000\n",
       "max         14.000000\n",
       "Name: ceiling_height, dtype: float64"
      ]
     },
     "execution_count": 63,
     "metadata": {},
     "output_type": "execute_result"
    }
   ],
   "source": [
    "data['ceiling_height'].describe()"
   ]
  },
  {
   "cell_type": "markdown",
   "metadata": {},
   "source": [
    "Заменим высоту потолков меньше 2 метров и выше 3 метров медианным значением"
   ]
  },
  {
   "cell_type": "code",
   "execution_count": 64,
   "metadata": {},
   "outputs": [],
   "source": [
    "median = data['ceiling_height'].median()"
   ]
  },
  {
   "cell_type": "code",
   "execution_count": 65,
   "metadata": {},
   "outputs": [],
   "source": [
    "idx = data.query('ceiling_height < 2 or ceiling_height > 3').index.tolist()"
   ]
  },
  {
   "cell_type": "code",
   "execution_count": 66,
   "metadata": {},
   "outputs": [],
   "source": [
    "data.loc[idx, 'ceiling_height'] = median"
   ]
  },
  {
   "cell_type": "markdown",
   "metadata": {},
   "source": [
    "Посмотрим распределение "
   ]
  },
  {
   "cell_type": "code",
   "execution_count": 67,
   "metadata": {},
   "outputs": [
    {
     "data": {
      "text/plain": [
       "<AxesSubplot:>"
      ]
     },
     "execution_count": 67,
     "metadata": {},
     "output_type": "execute_result"
    },
    {
     "data": {
      "image/png": "[encoded data removed]",
      "text/plain": [
       "<Figure size 432x288 with 1 Axes>"
      ]
     },
     "metadata": {
      "needs_background": "light"
     },
     "output_type": "display_data"
    }
   ],
   "source": [
    "data.boxplot('ceiling_height')"
   ]
  },
  {
   "cell_type": "code",
   "execution_count": 68,
   "metadata": {},
   "outputs": [
    {
     "data": {
      "text/plain": [
       "array([[<AxesSubplot:title={'center':'total_images'}>,\n",
       "        <AxesSubplot:title={'center':'last_price'}>,\n",
       "        <AxesSubplot:title={'center':'total_area'}>,\n",
       "        <AxesSubplot:title={'center':'rooms'}>],\n",
       "       [<AxesSubplot:title={'center':'ceiling_height'}>,\n",
       "        <AxesSubplot:title={'center':'floors_total'}>,\n",
       "        <AxesSubplot:title={'center':'living_area'}>,\n",
       "        <AxesSubplot:title={'center':'floor'}>],\n",
       "       [<AxesSubplot:title={'center':'kitchen_area'}>,\n",
       "        <AxesSubplot:title={'center':'balcony'}>,\n",
       "        <AxesSubplot:title={'center':'airports_nearest'}>,\n",
       "        <AxesSubplot:title={'center':'cityCenters_nearest'}>],\n",
       "       [<AxesSubplot:title={'center':'parks_around3000'}>,\n",
       "        <AxesSubplot:title={'center':'parks_nearest'}>,\n",
       "        <AxesSubplot:title={'center':'ponds_around3000'}>,\n",
       "        <AxesSubplot:title={'center':'ponds_nearest'}>],\n",
       "       [<AxesSubplot:title={'center':'days_exposition'}>, <AxesSubplot:>,\n",
       "        <AxesSubplot:>, <AxesSubplot:>]], dtype=object)"
      ]
     },
     "execution_count": 68,
     "metadata": {},
     "output_type": "execute_result"
    },
    {
     "data": {
      "image/png": "[encoded data removed]",
      "text/plain": [
       "<Figure size 1080x1080 with 20 Axes>"
      ]
     },
     "metadata": {
      "needs_background": "light"
     },
     "output_type": "display_data"
    }
   ],
   "source": [
    "data.hist(figsize=(15, 15))"
   ]
  },
  {
   "cell_type": "markdown",
   "metadata": {},
   "source": [
    "Рассмотрим столбец last_price"
   ]
  },
  {
   "cell_type": "code",
   "execution_count": 69,
   "metadata": {},
   "outputs": [
    {
     "data": {
      "text/plain": [
       "<AxesSubplot:>"
      ]
     },
     "execution_count": 69,
     "metadata": {},
     "output_type": "execute_result"
    },
    {
     "data": {
      "image/png": "[encoded data removed]",
      "text/plain": [
       "<Figure size 432x288 with 1 Axes>"
      ]
     },
     "metadata": {
      "needs_background": "light"
     },
     "output_type": "display_data"
    }
   ],
   "source": [
    "data.boxplot('last_price')"
   ]
  },
  {
   "cell_type": "code",
   "execution_count": 70,
   "metadata": {},
   "outputs": [
    {
     "data": {
      "text/plain": [
       "count    2.369900e+04\n",
       "mean     6.541549e+06\n",
       "std      1.088701e+07\n",
       "min      1.219000e+04\n",
       "25%      3.400000e+06\n",
       "50%      4.650000e+06\n",
       "75%      6.800000e+06\n",
       "max      7.630000e+08\n",
       "Name: last_price, dtype: float64"
      ]
     },
     "execution_count": 70,
     "metadata": {},
     "output_type": "execute_result"
    }
   ],
   "source": [
    "data['last_price'].describe()"
   ]
  },
  {
   "cell_type": "markdown",
   "metadata": {},
   "source": [
    "Рассмотрим левую сторону распределения (нижние значения)"
   ]
  },
  {
   "cell_type": "markdown",
   "metadata": {},
   "source": [
    "Минимальное значение 1.219000e+04 выглядит странно. "
   ]
  },
  {
   "cell_type": "code",
   "execution_count": 71,
   "metadata": {},
   "outputs": [
    {
     "data": {
      "text/html": [
       "<div>\n",
       "<style scoped>\n",
       "    .dataframe tbody tr th:only-of-type {\n",
       "        vertical-align: middle;\n",
       "    }\n",
       "\n",
       "    .dataframe tbody tr th {\n",
       "        vertical-align: top;\n",
       "    }\n",
       "\n",
       "    .dataframe thead th {\n",
       "        text-align: right;\n",
       "    }\n",
       "</style>\n",
       "<table border=\"1\" class=\"dataframe\">\n",
       "  <thead>\n",
       "    <tr style=\"text-align: right;\">\n",
       "      <th></th>\n",
       "      <th>total_images</th>\n",
       "      <th>last_price</th>\n",
       "      <th>total_area</th>\n",
       "      <th>first_day_exposition</th>\n",
       "      <th>rooms</th>\n",
       "      <th>ceiling_height</th>\n",
       "      <th>floors_total</th>\n",
       "      <th>living_area</th>\n",
       "      <th>floor</th>\n",
       "      <th>is_apartment</th>\n",
       "      <th>studio</th>\n",
       "      <th>open_plan</th>\n",
       "      <th>kitchen_area</th>\n",
       "      <th>balcony</th>\n",
       "      <th>locality_name</th>\n",
       "      <th>airports_nearest</th>\n",
       "      <th>cityCenters_nearest</th>\n",
       "      <th>parks_around3000</th>\n",
       "      <th>parks_nearest</th>\n",
       "      <th>ponds_around3000</th>\n",
       "      <th>ponds_nearest</th>\n",
       "      <th>days_exposition</th>\n",
       "    </tr>\n",
       "  </thead>\n",
       "  <tbody>\n",
       "    <tr>\n",
       "      <th>8793</th>\n",
       "      <td>7</td>\n",
       "      <td>12190.0</td>\n",
       "      <td>109.0</td>\n",
       "      <td>2019-03-20T00:00:00</td>\n",
       "      <td>2</td>\n",
       "      <td>2.75</td>\n",
       "      <td>25</td>\n",
       "      <td>32.0</td>\n",
       "      <td>25</td>\n",
       "      <td>False</td>\n",
       "      <td>False</td>\n",
       "      <td>False</td>\n",
       "      <td>40.5</td>\n",
       "      <td>0</td>\n",
       "      <td>Санкт-Петербург</td>\n",
       "      <td>36421.0</td>\n",
       "      <td>9176.0</td>\n",
       "      <td>1</td>\n",
       "      <td>805.0</td>\n",
       "      <td>0</td>\n",
       "      <td>NaN</td>\n",
       "      <td>8.0</td>\n",
       "    </tr>\n",
       "  </tbody>\n",
       "</table>\n",
       "</div>"
      ],
      "text/plain": [
       "      total_images  last_price  total_area first_day_exposition  rooms  \\\n",
       "8793             7     12190.0       109.0  2019-03-20T00:00:00      2   \n",
       "\n",
       "      ceiling_height  floors_total  living_area  floor  is_apartment  studio  \\\n",
       "8793            2.75            25         32.0     25         False   False   \n",
       "\n",
       "      open_plan  kitchen_area  balcony    locality_name  airports_nearest  \\\n",
       "8793      False          40.5        0  Санкт-Петербург           36421.0   \n",
       "\n",
       "      cityCenters_nearest  parks_around3000  parks_nearest  ponds_around3000  \\\n",
       "8793               9176.0                 1          805.0                 0   \n",
       "\n",
       "      ponds_nearest  days_exposition  \n",
       "8793            NaN              8.0  "
      ]
     },
     "execution_count": 71,
     "metadata": {},
     "output_type": "execute_result"
    }
   ],
   "source": [
    "data.query('last_price == 1.219000e+04')"
   ]
  },
  {
   "cell_type": "markdown",
   "metadata": {},
   "source": [
    "Заменим на медианное значение."
   ]
  },
  {
   "cell_type": "code",
   "execution_count": 72,
   "metadata": {},
   "outputs": [],
   "source": [
    "median = data['last_price'].median()"
   ]
  },
  {
   "cell_type": "code",
   "execution_count": 73,
   "metadata": {},
   "outputs": [
    {
     "data": {
      "text/plain": [
       "4650000.0"
      ]
     },
     "execution_count": 73,
     "metadata": {},
     "output_type": "execute_result"
    }
   ],
   "source": [
    "median"
   ]
  },
  {
   "cell_type": "code",
   "execution_count": 74,
   "metadata": {},
   "outputs": [],
   "source": [
    "data.loc[data.query('last_price == 1.219000e+04').index, 'last_price'] = median"
   ]
  },
  {
   "cell_type": "code",
   "execution_count": 75,
   "metadata": {},
   "outputs": [
    {
     "data": {
      "text/plain": [
       "count    2.369900e+04\n",
       "mean     6.541744e+06\n",
       "std      1.088694e+07\n",
       "min      4.300000e+05\n",
       "25%      3.400000e+06\n",
       "50%      4.650000e+06\n",
       "75%      6.800000e+06\n",
       "max      7.630000e+08\n",
       "Name: last_price, dtype: float64"
      ]
     },
     "execution_count": 75,
     "metadata": {},
     "output_type": "execute_result"
    }
   ],
   "source": [
    "data['last_price'].describe()"
   ]
  },
  {
   "cell_type": "code",
   "execution_count": 76,
   "metadata": {},
   "outputs": [
    {
     "data": {
      "text/html": [
       "<div>\n",
       "<style scoped>\n",
       "    .dataframe tbody tr th:only-of-type {\n",
       "        vertical-align: middle;\n",
       "    }\n",
       "\n",
       "    .dataframe tbody tr th {\n",
       "        vertical-align: top;\n",
       "    }\n",
       "\n",
       "    .dataframe thead th {\n",
       "        text-align: right;\n",
       "    }\n",
       "</style>\n",
       "<table border=\"1\" class=\"dataframe\">\n",
       "  <thead>\n",
       "    <tr style=\"text-align: right;\">\n",
       "      <th></th>\n",
       "      <th>total_images</th>\n",
       "      <th>last_price</th>\n",
       "      <th>total_area</th>\n",
       "      <th>first_day_exposition</th>\n",
       "      <th>rooms</th>\n",
       "      <th>ceiling_height</th>\n",
       "      <th>floors_total</th>\n",
       "      <th>living_area</th>\n",
       "      <th>floor</th>\n",
       "      <th>is_apartment</th>\n",
       "      <th>studio</th>\n",
       "      <th>open_plan</th>\n",
       "      <th>kitchen_area</th>\n",
       "      <th>balcony</th>\n",
       "      <th>locality_name</th>\n",
       "      <th>airports_nearest</th>\n",
       "      <th>cityCenters_nearest</th>\n",
       "      <th>parks_around3000</th>\n",
       "      <th>parks_nearest</th>\n",
       "      <th>ponds_around3000</th>\n",
       "      <th>ponds_nearest</th>\n",
       "      <th>days_exposition</th>\n",
       "    </tr>\n",
       "  </thead>\n",
       "  <tbody>\n",
       "  </tbody>\n",
       "</table>\n",
       "</div>"
      ],
      "text/plain": [
       "Empty DataFrame\n",
       "Columns: [total_images, last_price, total_area, first_day_exposition, rooms, ceiling_height, floors_total, living_area, floor, is_apartment, studio, open_plan, kitchen_area, balcony, locality_name, airports_nearest, cityCenters_nearest, parks_around3000, parks_nearest, ponds_around3000, ponds_nearest, days_exposition]\n",
       "Index: []"
      ]
     },
     "execution_count": 76,
     "metadata": {},
     "output_type": "execute_result"
    }
   ],
   "source": [
    "data.query('last_price <= 1.219000e+04')"
   ]
  },
  {
   "cell_type": "markdown",
   "metadata": {},
   "source": [
    "Рассмотрим столбец last_price"
   ]
  },
  {
   "cell_type": "code",
   "execution_count": 77,
   "metadata": {},
   "outputs": [
    {
     "data": {
      "text/plain": [
       "<AxesSubplot:>"
      ]
     },
     "execution_count": 77,
     "metadata": {},
     "output_type": "execute_result"
    },
    {
     "data": {
      "image/png": "[encoded data removed]",
      "text/plain": [
       "<Figure size 432x288 with 1 Axes>"
      ]
     },
     "metadata": {
      "needs_background": "light"
     },
     "output_type": "display_data"
    }
   ],
   "source": [
    "data.boxplot('last_price')"
   ]
  },
  {
   "cell_type": "markdown",
   "metadata": {},
   "source": [
    "Здесь мы видим выбивающееся значение сверху."
   ]
  },
  {
   "cell_type": "code",
   "execution_count": 78,
   "metadata": {},
   "outputs": [
    {
     "data": {
      "text/plain": [
       "count    2.369900e+04\n",
       "mean     6.541744e+06\n",
       "std      1.088694e+07\n",
       "min      4.300000e+05\n",
       "25%      3.400000e+06\n",
       "50%      4.650000e+06\n",
       "75%      6.800000e+06\n",
       "max      7.630000e+08\n",
       "Name: last_price, dtype: float64"
      ]
     },
     "execution_count": 78,
     "metadata": {},
     "output_type": "execute_result"
    }
   ],
   "source": [
    "data['last_price'].describe()"
   ]
  },
  {
   "cell_type": "code",
   "execution_count": 79,
   "metadata": {},
   "outputs": [
    {
     "data": {
      "text/plain": [
       "0.0032490822397569516"
      ]
     },
     "execution_count": 79,
     "metadata": {},
     "output_type": "execute_result"
    }
   ],
   "source": [
    "data[data['last_price'] > 6.8e+07].shape[0] / data.shape[0]"
   ]
  },
  {
   "cell_type": "markdown",
   "metadata": {},
   "source": [
    "Удалим данные с ценой больше 6.8e+07, что составляет примерно 0.3% выборки"
   ]
  },
  {
   "cell_type": "code",
   "execution_count": 80,
   "metadata": {},
   "outputs": [],
   "source": [
    "idx = data[data['last_price'] > 6.8e+07].index.tolist()\n",
    "data.drop(idx, inplace=True)\n",
    "data.reset_index(drop=True, inplace=True)"
   ]
  },
  {
   "cell_type": "code",
   "execution_count": 81,
   "metadata": {},
   "outputs": [
    {
     "data": {
      "text/plain": [
       "<AxesSubplot:>"
      ]
     },
     "execution_count": 81,
     "metadata": {},
     "output_type": "execute_result"
    },
    {
     "data": {
      "image/png": "[encoded data removed]",
      "text/plain": [
       "<Figure size 432x288 with 1 Axes>"
      ]
     },
     "metadata": {
      "needs_background": "light"
     },
     "output_type": "display_data"
    }
   ],
   "source": [
    "data.boxplot('last_price')"
   ]
  },
  {
   "cell_type": "code",
   "execution_count": 82,
   "metadata": {},
   "outputs": [
    {
     "data": {
      "text/plain": [
       "<AxesSubplot:>"
      ]
     },
     "execution_count": 82,
     "metadata": {},
     "output_type": "execute_result"
    },
    {
     "data": {
      "image/png": "[encoded data removed]",
      "text/plain": [
       "<Figure size 432x288 with 1 Axes>"
      ]
     },
     "metadata": {
      "needs_background": "light"
     },
     "output_type": "display_data"
    }
   ],
   "source": [
    "data['last_price'].hist()"
   ]
  },
  {
   "cell_type": "markdown",
   "metadata": {},
   "source": [
    "Рассмотрим столбец с количеством комнат"
   ]
  },
  {
   "cell_type": "code",
   "execution_count": 83,
   "metadata": {},
   "outputs": [
    {
     "data": {
      "text/plain": [
       "<AxesSubplot:>"
      ]
     },
     "execution_count": 83,
     "metadata": {},
     "output_type": "execute_result"
    },
    {
     "data": {
      "image/png": "[encoded data removed]",
      "text/plain": [
       "<Figure size 432x288 with 1 Axes>"
      ]
     },
     "metadata": {
      "needs_background": "light"
     },
     "output_type": "display_data"
    }
   ],
   "source": [
    "data['rooms'].hist()"
   ]
  },
  {
   "cell_type": "code",
   "execution_count": 84,
   "metadata": {},
   "outputs": [
    {
     "data": {
      "text/plain": [
       "1     8047\n",
       "2     7938\n",
       "3     5797\n",
       "4     1161\n",
       "5      307\n",
       "0      196\n",
       "6       97\n",
       "7       52\n",
       "8       10\n",
       "9        7\n",
       "10       3\n",
       "11       2\n",
       "14       2\n",
       "15       1\n",
       "19       1\n",
       "16       1\n",
       "Name: rooms, dtype: int64"
      ]
     },
     "execution_count": 84,
     "metadata": {},
     "output_type": "execute_result"
    }
   ],
   "source": [
    "data['rooms'].value_counts()"
   ]
  },
  {
   "cell_type": "code",
   "execution_count": 85,
   "metadata": {},
   "outputs": [
    {
     "data": {
      "text/plain": [
       "<AxesSubplot:>"
      ]
     },
     "execution_count": 85,
     "metadata": {},
     "output_type": "execute_result"
    },
    {
     "data": {
      "image/png": "[encoded data removed]",
      "text/plain": [
       "<Figure size 432x288 with 1 Axes>"
      ]
     },
     "metadata": {
      "needs_background": "light"
     },
     "output_type": "display_data"
    }
   ],
   "source": [
    "data[data['rooms'] == 0]['living_area'].hist()"
   ]
  },
  {
   "cell_type": "markdown",
   "metadata": {},
   "source": [
    "<div class=\"alert alert-info\">\n",
    "<b>v1 Комментарий студента:</b>\n",
    "<br>Итак, мы видим, что в объявлениях, указано количество комнат 0, площади квартир небольшие, поэтому заменим 0 на 1.\n",
    "</div>"
   ]
  },
  {
   "cell_type": "code",
   "execution_count": 86,
   "metadata": {},
   "outputs": [],
   "source": [
    "idx = data[data['rooms'] == 0].index.tolist()"
   ]
  },
  {
   "cell_type": "code",
   "execution_count": 87,
   "metadata": {},
   "outputs": [],
   "source": [
    "data.loc[idx, 'rooms'] = 1"
   ]
  },
  {
   "cell_type": "code",
   "execution_count": 88,
   "metadata": {},
   "outputs": [
    {
     "data": {
      "text/plain": [
       "1     8243\n",
       "2     7938\n",
       "3     5797\n",
       "4     1161\n",
       "5      307\n",
       "6       97\n",
       "7       52\n",
       "8       10\n",
       "9        7\n",
       "10       3\n",
       "11       2\n",
       "14       2\n",
       "15       1\n",
       "19       1\n",
       "16       1\n",
       "Name: rooms, dtype: int64"
      ]
     },
     "execution_count": 88,
     "metadata": {},
     "output_type": "execute_result"
    }
   ],
   "source": [
    "data['rooms'].value_counts()"
   ]
  },
  {
   "cell_type": "code",
   "execution_count": 89,
   "metadata": {},
   "outputs": [
    {
     "data": {
      "text/plain": [
       "1     8243\n",
       "2     7938\n",
       "3     5797\n",
       "4     1161\n",
       "5      307\n",
       "6       97\n",
       "7       52\n",
       "8       10\n",
       "9        7\n",
       "10       3\n",
       "11       2\n",
       "14       2\n",
       "15       1\n",
       "19       1\n",
       "16       1\n",
       "Name: rooms, dtype: int64"
      ]
     },
     "execution_count": 89,
     "metadata": {},
     "output_type": "execute_result"
    }
   ],
   "source": [
    "data['rooms'].value_counts()"
   ]
  },
  {
   "cell_type": "markdown",
   "metadata": {},
   "source": [
    "<div class=\"alert alert-info\">\n",
    "<b>v1 Комментарий студента:</b>\n",
    "<br>Рассмотрим какую долю составляют квартиры с количеством комнат больше 6\n",
    "</div>"
   ]
  },
  {
   "cell_type": "code",
   "execution_count": 90,
   "metadata": {},
   "outputs": [
    {
     "data": {
      "text/plain": [
       "0.007450681568029803"
      ]
     },
     "execution_count": 90,
     "metadata": {},
     "output_type": "execute_result"
    }
   ],
   "source": [
    "data['rooms'].value_counts().loc[6:].sum() / data.shape[0]"
   ]
  },
  {
   "cell_type": "markdown",
   "metadata": {},
   "source": [
    "<div class=\"alert alert-info\">\n",
    "<b>v1 Комментарий студента:</b>\n",
    "<br>Итак, такие данные составляют менее 1 %, поэтому можно их удалить\n",
    "</div>"
   ]
  },
  {
   "cell_type": "code",
   "execution_count": 91,
   "metadata": {},
   "outputs": [],
   "source": [
    "idx = data[data['rooms'] >= 6].index.tolist()\n",
    "data.drop(idx, axis=0, inplace=True)\n",
    "data.reset_index(drop=True, inplace=True)"
   ]
  },
  {
   "cell_type": "code",
   "execution_count": 92,
   "metadata": {},
   "outputs": [
    {
     "data": {
      "text/plain": [
       "1    8243\n",
       "2    7938\n",
       "3    5797\n",
       "4    1161\n",
       "5     307\n",
       "Name: rooms, dtype: int64"
      ]
     },
     "execution_count": 92,
     "metadata": {},
     "output_type": "execute_result"
    }
   ],
   "source": [
    "data['rooms'].value_counts()"
   ]
  },
  {
   "cell_type": "markdown",
   "metadata": {},
   "source": [
    "Рассмотрим столбец с общей площадью"
   ]
  },
  {
   "cell_type": "code",
   "execution_count": 93,
   "metadata": {},
   "outputs": [
    {
     "data": {
      "text/plain": [
       "<AxesSubplot:>"
      ]
     },
     "execution_count": 93,
     "metadata": {},
     "output_type": "execute_result"
    },
    {
     "data": {
      "image/png": "[encoded data removed]",
      "text/plain": [
       "<Figure size 432x288 with 1 Axes>"
      ]
     },
     "metadata": {
      "needs_background": "light"
     },
     "output_type": "display_data"
    }
   ],
   "source": [
    "data['total_area'].hist()"
   ]
  },
  {
   "cell_type": "code",
   "execution_count": 94,
   "metadata": {},
   "outputs": [
    {
     "data": {
      "text/plain": [
       "<AxesSubplot:>"
      ]
     },
     "execution_count": 94,
     "metadata": {},
     "output_type": "execute_result"
    },
    {
     "data": {
      "image/png": "[encoded data removed]",
      "text/plain": [
       "<Figure size 432x288 with 1 Axes>"
      ]
     },
     "metadata": {
      "needs_background": "light"
     },
     "output_type": "display_data"
    }
   ],
   "source": [
    "data['total_area'].hist(range=(90, 200))"
   ]
  },
  {
   "cell_type": "markdown",
   "metadata": {},
   "source": [
    "Рассмотрим, какую долю составляют квартиры с общей площадью более 180 квадратных метров"
   ]
  },
  {
   "cell_type": "code",
   "execution_count": 95,
   "metadata": {},
   "outputs": [
    {
     "data": {
      "text/plain": [
       "0.005715260598822827"
      ]
     },
     "execution_count": 95,
     "metadata": {},
     "output_type": "execute_result"
    }
   ],
   "source": [
    "data[data['total_area'] > 180].shape[0] / data.shape[0]"
   ]
  },
  {
   "cell_type": "markdown",
   "metadata": {},
   "source": [
    "Квартиры с общей площадью более 180 квадратных метра составляют около половины процента от всех данных. Удалим. "
   ]
  },
  {
   "cell_type": "code",
   "execution_count": 96,
   "metadata": {},
   "outputs": [],
   "source": [
    "idx = data[data['total_area'] > 180].index.tolist()\n",
    "data.drop(idx, axis=0, inplace=True)\n",
    "data.reset_index(drop=True, inplace=True)"
   ]
  },
  {
   "cell_type": "code",
   "execution_count": 97,
   "metadata": {},
   "outputs": [
    {
     "data": {
      "text/plain": [
       "<AxesSubplot:>"
      ]
     },
     "execution_count": 97,
     "metadata": {},
     "output_type": "execute_result"
    },
    {
     "data": {
      "image/png": "[encoded data removed]",
      "text/plain": [
       "<Figure size 432x288 with 1 Axes>"
      ]
     },
     "metadata": {
      "needs_background": "light"
     },
     "output_type": "display_data"
    }
   ],
   "source": [
    "data['total_area'].hist()"
   ]
  },
  {
   "cell_type": "markdown",
   "metadata": {},
   "source": [
    "- цена одного квадратного метра"
   ]
  },
  {
   "cell_type": "code",
   "execution_count": 98,
   "metadata": {},
   "outputs": [],
   "source": [
    "data['one_square_meter_price'] = data['last_price'] / data['total_area']"
   ]
  },
  {
   "cell_type": "markdown",
   "metadata": {},
   "source": [
    "- день недели публикации объявления (0 — понедельник, 1 — вторник и так далее);"
   ]
  },
  {
   "cell_type": "code",
   "execution_count": 99,
   "metadata": {},
   "outputs": [],
   "source": [
    "data['weekday_exposition'] = data['first_day_exposition'].apply(lambda x: pd.to_datetime(x).weekday())"
   ]
  },
  {
   "cell_type": "markdown",
   "metadata": {},
   "source": [
    "- месяц публикации объявления"
   ]
  },
  {
   "cell_type": "code",
   "execution_count": 100,
   "metadata": {},
   "outputs": [],
   "source": [
    "data['month_exposition'] = data['first_day_exposition'].apply(lambda x: pd.to_datetime(x).month)"
   ]
  },
  {
   "cell_type": "markdown",
   "metadata": {},
   "source": [
    "- год публикации объявления"
   ]
  },
  {
   "cell_type": "code",
   "execution_count": 101,
   "metadata": {},
   "outputs": [],
   "source": [
    "data['year_exposition'] = data['first_day_exposition'].apply(lambda x: pd.to_datetime(x).year)"
   ]
  },
  {
   "cell_type": "markdown",
   "metadata": {},
   "source": [
    "- тип этажа квартиры (значения — «‎первый», «последний», «другой»);"
   ]
  },
  {
   "cell_type": "code",
   "execution_count": 102,
   "metadata": {},
   "outputs": [],
   "source": [
    "data['floor_type'] = 'другой'"
   ]
  },
  {
   "cell_type": "code",
   "execution_count": 103,
   "metadata": {},
   "outputs": [],
   "source": [
    "for i in range(data.shape[0]):\n",
    "    current_floor = data.loc[i, 'floor']\n",
    "    total_floors = data.loc[i, 'floors_total']\n",
    "    if pd.isna(current_floor) or pd.isna(total_floors):\n",
    "        continue\n",
    "    if current_floor == 1:\n",
    "        data.loc[i, 'floor_type'] = 'первый'\n",
    "    elif current_floor == total_floors:\n",
    "        data.loc[i, 'floor_type'] = 'последний'"
   ]
  },
  {
   "cell_type": "markdown",
   "metadata": {},
   "source": [
    "- расстояние до центра города в километрах "
   ]
  },
  {
   "cell_type": "code",
   "execution_count": 104,
   "metadata": {},
   "outputs": [],
   "source": [
    "data['round_kilometers_cityCenters_nearest'] = round(data['cityCenters_nearest'] / 1000)"
   ]
  },
  {
   "cell_type": "markdown",
   "metadata": {},
   "source": [
    "### Исследовательский анализ данных"
   ]
  },
  {
   "cell_type": "markdown",
   "metadata": {},
   "source": [
    "- общая площадь"
   ]
  },
  {
   "cell_type": "code",
   "execution_count": 105,
   "metadata": {},
   "outputs": [
    {
     "data": {
      "text/plain": [
       "<AxesSubplot:>"
      ]
     },
     "execution_count": 105,
     "metadata": {},
     "output_type": "execute_result"
    },
    {
     "data": {
      "image/png": "[encoded data removed]",
      "text/plain": [
       "<Figure size 432x288 with 1 Axes>"
      ]
     },
     "metadata": {
      "needs_background": "light"
     },
     "output_type": "display_data"
    }
   ],
   "source": [
    "data['total_area'].hist()"
   ]
  },
  {
   "cell_type": "code",
   "execution_count": 106,
   "metadata": {},
   "outputs": [
    {
     "data": {
      "text/plain": [
       "count    23312.000000\n",
       "mean        57.428352\n",
       "std         24.910631\n",
       "min         12.000000\n",
       "25%         40.000000\n",
       "50%         51.400000\n",
       "75%         68.000000\n",
       "max        180.000000\n",
       "Name: total_area, dtype: float64"
      ]
     },
     "execution_count": 106,
     "metadata": {},
     "output_type": "execute_result"
    }
   ],
   "source": [
    "data['total_area'].describe()"
   ]
  },
  {
   "cell_type": "code",
   "execution_count": 107,
   "metadata": {},
   "outputs": [
    {
     "data": {
      "text/plain": [
       "<AxesSubplot:>"
      ]
     },
     "execution_count": 107,
     "metadata": {},
     "output_type": "execute_result"
    },
    {
     "data": {
      "image/png": "[encoded data removed]",
      "text/plain": [
       "<Figure size 432x288 with 1 Axes>"
      ]
     },
     "metadata": {
      "needs_background": "light"
     },
     "output_type": "display_data"
    }
   ],
   "source": [
    "data.boxplot('total_area')"
   ]
  },
  {
   "cell_type": "markdown",
   "metadata": {},
   "source": [
    "Мы видим гистограмму, смещенную влево. Действительно, в реальной жизни намного больше квартир с небольшой площадью, чем с большой. Среднее значение площади 60 квадратных метров. 50% значений площади располагаются между 40 и 69 м^2. Значения выше 200 м^2 выглядят как выбросы, хотя это могут быть особняки."
   ]
  },
  {
   "cell_type": "markdown",
   "metadata": {},
   "source": [
    "- жилая площадь"
   ]
  },
  {
   "cell_type": "code",
   "execution_count": 108,
   "metadata": {},
   "outputs": [
    {
     "data": {
      "image/png": "[encoded data removed]",
      "text/plain": [
       "<Figure size 432x288 with 1 Axes>"
      ]
     },
     "metadata": {
      "needs_background": "light"
     },
     "output_type": "display_data"
    }
   ],
   "source": [
    "data['living_area'].hist();"
   ]
  },
  {
   "cell_type": "code",
   "execution_count": 109,
   "metadata": {},
   "outputs": [
    {
     "data": {
      "text/plain": [
       "count    21452.000000\n",
       "mean        32.787313\n",
       "std         16.340411\n",
       "min          2.000000\n",
       "25%         18.500000\n",
       "50%         30.000000\n",
       "75%         42.000000\n",
       "max        140.000000\n",
       "Name: living_area, dtype: float64"
      ]
     },
     "execution_count": 109,
     "metadata": {},
     "output_type": "execute_result"
    }
   ],
   "source": [
    "data['living_area'].describe()"
   ]
  },
  {
   "cell_type": "code",
   "execution_count": 110,
   "metadata": {},
   "outputs": [
    {
     "data": {
      "text/plain": [
       "<AxesSubplot:>"
      ]
     },
     "execution_count": 110,
     "metadata": {},
     "output_type": "execute_result"
    },
    {
     "data": {
      "image/png": "[encoded data removed]",
      "text/plain": [
       "<Figure size 432x288 with 1 Axes>"
      ]
     },
     "metadata": {
      "needs_background": "light"
     },
     "output_type": "display_data"
    }
   ],
   "source": [
    "data.boxplot('living_area')"
   ]
  },
  {
   "cell_type": "markdown",
   "metadata": {},
   "source": [
    "Итак, мы видим, что максимальное значение жилой площади ~410 м^2, тогда как максимальное значение общей площади 900 м^2. \n",
    "Это выглядит странным. Вероятно, это выброс. Среднее значение жилой площади 34 м^2, 50% значений площади располагаются между 18,6 и 42,3 м^2. Минимальное значение жилой площади 2 м^2. Вероятно, здесь закралась ошибка."
   ]
  },
  {
   "cell_type": "code",
   "execution_count": 111,
   "metadata": {},
   "outputs": [
    {
     "data": {
      "image/png": "[encoded data removed]",
      "text/plain": [
       "<Figure size 432x288 with 1 Axes>"
      ]
     },
     "metadata": {
      "needs_background": "light"
     },
     "output_type": "display_data"
    }
   ],
   "source": [
    "data[data['living_area'] < 10]['living_area'].hist();"
   ]
  },
  {
   "cell_type": "markdown",
   "metadata": {},
   "source": [
    "Удалим выбросы 140 м^2 и менее 8 м^2"
   ]
  },
  {
   "cell_type": "code",
   "execution_count": 112,
   "metadata": {},
   "outputs": [
    {
     "data": {
      "text/html": [
       "<div>\n",
       "<style scoped>\n",
       "    .dataframe tbody tr th:only-of-type {\n",
       "        vertical-align: middle;\n",
       "    }\n",
       "\n",
       "    .dataframe tbody tr th {\n",
       "        vertical-align: top;\n",
       "    }\n",
       "\n",
       "    .dataframe thead th {\n",
       "        text-align: right;\n",
       "    }\n",
       "</style>\n",
       "<table border=\"1\" class=\"dataframe\">\n",
       "  <thead>\n",
       "    <tr style=\"text-align: right;\">\n",
       "      <th></th>\n",
       "      <th>total_images</th>\n",
       "      <th>last_price</th>\n",
       "      <th>total_area</th>\n",
       "      <th>first_day_exposition</th>\n",
       "      <th>rooms</th>\n",
       "      <th>ceiling_height</th>\n",
       "      <th>floors_total</th>\n",
       "      <th>living_area</th>\n",
       "      <th>floor</th>\n",
       "      <th>is_apartment</th>\n",
       "      <th>studio</th>\n",
       "      <th>...</th>\n",
       "      <th>parks_around3000</th>\n",
       "      <th>parks_nearest</th>\n",
       "      <th>ponds_around3000</th>\n",
       "      <th>ponds_nearest</th>\n",
       "      <th>days_exposition</th>\n",
       "      <th>one_square_meter_price</th>\n",
       "      <th>weekday_exposition</th>\n",
       "      <th>month_exposition</th>\n",
       "      <th>year_exposition</th>\n",
       "      <th>floor_type</th>\n",
       "      <th>round_kilometers_cityCenters_nearest</th>\n",
       "    </tr>\n",
       "  </thead>\n",
       "  <tbody>\n",
       "    <tr>\n",
       "      <th>13678</th>\n",
       "      <td>20</td>\n",
       "      <td>6350000.0</td>\n",
       "      <td>52.0</td>\n",
       "      <td>2018-02-06T00:00:00</td>\n",
       "      <td>2</td>\n",
       "      <td>3.00</td>\n",
       "      <td>6</td>\n",
       "      <td>2.0</td>\n",
       "      <td>2</td>\n",
       "      <td>False</td>\n",
       "      <td>False</td>\n",
       "      <td>...</td>\n",
       "      <td>0</td>\n",
       "      <td>NaN</td>\n",
       "      <td>1</td>\n",
       "      <td>1012.0</td>\n",
       "      <td>91.0</td>\n",
       "      <td>122115.384615</td>\n",
       "      <td>1</td>\n",
       "      <td>2</td>\n",
       "      <td>2018</td>\n",
       "      <td>другой</td>\n",
       "      <td>7.0</td>\n",
       "    </tr>\n",
       "    <tr>\n",
       "      <th>21410</th>\n",
       "      <td>0</td>\n",
       "      <td>2330000.0</td>\n",
       "      <td>23.0</td>\n",
       "      <td>2018-01-01T00:00:00</td>\n",
       "      <td>1</td>\n",
       "      <td>2.65</td>\n",
       "      <td>24</td>\n",
       "      <td>2.0</td>\n",
       "      <td>22</td>\n",
       "      <td>False</td>\n",
       "      <td>True</td>\n",
       "      <td>...</td>\n",
       "      <td>0</td>\n",
       "      <td>NaN</td>\n",
       "      <td>0</td>\n",
       "      <td>NaN</td>\n",
       "      <td>66.0</td>\n",
       "      <td>101304.347826</td>\n",
       "      <td>0</td>\n",
       "      <td>1</td>\n",
       "      <td>2018</td>\n",
       "      <td>другой</td>\n",
       "      <td>NaN</td>\n",
       "    </tr>\n",
       "  </tbody>\n",
       "</table>\n",
       "<p>2 rows × 28 columns</p>\n",
       "</div>"
      ],
      "text/plain": [
       "       total_images  last_price  total_area first_day_exposition  rooms  \\\n",
       "13678            20   6350000.0        52.0  2018-02-06T00:00:00      2   \n",
       "21410             0   2330000.0        23.0  2018-01-01T00:00:00      1   \n",
       "\n",
       "       ceiling_height  floors_total  living_area  floor  is_apartment  studio  \\\n",
       "13678            3.00             6          2.0      2         False   False   \n",
       "21410            2.65            24          2.0     22         False    True   \n",
       "\n",
       "       ...  parks_around3000  parks_nearest  ponds_around3000 ponds_nearest  \\\n",
       "13678  ...                 0            NaN                 1        1012.0   \n",
       "21410  ...                 0            NaN                 0           NaN   \n",
       "\n",
       "       days_exposition  one_square_meter_price  weekday_exposition  \\\n",
       "13678             91.0           122115.384615                   1   \n",
       "21410             66.0           101304.347826                   0   \n",
       "\n",
       "       month_exposition  year_exposition  floor_type  \\\n",
       "13678                 2             2018      другой   \n",
       "21410                 1             2018      другой   \n",
       "\n",
       "       round_kilometers_cityCenters_nearest  \n",
       "13678                                   7.0  \n",
       "21410                                   NaN  \n",
       "\n",
       "[2 rows x 28 columns]"
      ]
     },
     "execution_count": 112,
     "metadata": {},
     "output_type": "execute_result"
    }
   ],
   "source": [
    "data.query('living_area == 2')"
   ]
  },
  {
   "cell_type": "code",
   "execution_count": 113,
   "metadata": {},
   "outputs": [],
   "source": [
    "cond_1 = data['living_area'] >= 140\n",
    "cond_2 = data['living_area'] <= 8"
   ]
  },
  {
   "cell_type": "code",
   "execution_count": 114,
   "metadata": {},
   "outputs": [
    {
     "data": {
      "text/plain": [
       "0.00047185998627316403"
      ]
     },
     "execution_count": 114,
     "metadata": {},
     "output_type": "execute_result"
    }
   ],
   "source": [
    "data[cond_1 | cond_2].shape[0] / data.shape[0]"
   ]
  },
  {
   "cell_type": "code",
   "execution_count": 115,
   "metadata": {},
   "outputs": [
    {
     "data": {
      "text/html": [
       "<div>\n",
       "<style scoped>\n",
       "    .dataframe tbody tr th:only-of-type {\n",
       "        vertical-align: middle;\n",
       "    }\n",
       "\n",
       "    .dataframe tbody tr th {\n",
       "        vertical-align: top;\n",
       "    }\n",
       "\n",
       "    .dataframe thead th {\n",
       "        text-align: right;\n",
       "    }\n",
       "</style>\n",
       "<table border=\"1\" class=\"dataframe\">\n",
       "  <thead>\n",
       "    <tr style=\"text-align: right;\">\n",
       "      <th></th>\n",
       "      <th>total_images</th>\n",
       "      <th>last_price</th>\n",
       "      <th>total_area</th>\n",
       "      <th>first_day_exposition</th>\n",
       "      <th>rooms</th>\n",
       "      <th>ceiling_height</th>\n",
       "      <th>floors_total</th>\n",
       "      <th>living_area</th>\n",
       "      <th>floor</th>\n",
       "      <th>is_apartment</th>\n",
       "      <th>studio</th>\n",
       "      <th>...</th>\n",
       "      <th>parks_around3000</th>\n",
       "      <th>parks_nearest</th>\n",
       "      <th>ponds_around3000</th>\n",
       "      <th>ponds_nearest</th>\n",
       "      <th>days_exposition</th>\n",
       "      <th>one_square_meter_price</th>\n",
       "      <th>weekday_exposition</th>\n",
       "      <th>month_exposition</th>\n",
       "      <th>year_exposition</th>\n",
       "      <th>floor_type</th>\n",
       "      <th>round_kilometers_cityCenters_nearest</th>\n",
       "    </tr>\n",
       "  </thead>\n",
       "  <tbody>\n",
       "    <tr>\n",
       "      <th>13498</th>\n",
       "      <td>14</td>\n",
       "      <td>20300000.0</td>\n",
       "      <td>170.0</td>\n",
       "      <td>2017-11-26T00:00:00</td>\n",
       "      <td>3</td>\n",
       "      <td>2.65</td>\n",
       "      <td>6</td>\n",
       "      <td>140.0</td>\n",
       "      <td>4</td>\n",
       "      <td>False</td>\n",
       "      <td>False</td>\n",
       "      <td>...</td>\n",
       "      <td>3</td>\n",
       "      <td>388.0</td>\n",
       "      <td>1</td>\n",
       "      <td>189.0</td>\n",
       "      <td>104.0</td>\n",
       "      <td>119411.764706</td>\n",
       "      <td>6</td>\n",
       "      <td>11</td>\n",
       "      <td>2017</td>\n",
       "      <td>другой</td>\n",
       "      <td>5.0</td>\n",
       "    </tr>\n",
       "  </tbody>\n",
       "</table>\n",
       "<p>1 rows × 28 columns</p>\n",
       "</div>"
      ],
      "text/plain": [
       "       total_images  last_price  total_area first_day_exposition  rooms  \\\n",
       "13498            14  20300000.0       170.0  2017-11-26T00:00:00      3   \n",
       "\n",
       "       ceiling_height  floors_total  living_area  floor  is_apartment  studio  \\\n",
       "13498            2.65             6        140.0      4         False   False   \n",
       "\n",
       "       ...  parks_around3000  parks_nearest  ponds_around3000 ponds_nearest  \\\n",
       "13498  ...                 3          388.0                 1         189.0   \n",
       "\n",
       "       days_exposition  one_square_meter_price  weekday_exposition  \\\n",
       "13498            104.0           119411.764706                   6   \n",
       "\n",
       "       month_exposition  year_exposition  floor_type  \\\n",
       "13498                11             2017      другой   \n",
       "\n",
       "       round_kilometers_cityCenters_nearest  \n",
       "13498                                   5.0  \n",
       "\n",
       "[1 rows x 28 columns]"
      ]
     },
     "execution_count": 115,
     "metadata": {},
     "output_type": "execute_result"
    }
   ],
   "source": [
    "data[data['living_area'] >= 140]"
   ]
  },
  {
   "cell_type": "code",
   "execution_count": 116,
   "metadata": {},
   "outputs": [],
   "source": [
    "idx = data[cond_1 | cond_2].index.tolist()\n",
    "data.drop(idx, axis=0, inplace=True)\n",
    "data.reset_index(drop=True, inplace=True)"
   ]
  },
  {
   "cell_type": "code",
   "execution_count": 117,
   "metadata": {},
   "outputs": [
    {
     "data": {
      "image/png": "[encoded data removed]",
      "text/plain": [
       "<Figure size 432x288 with 1 Axes>"
      ]
     },
     "metadata": {
      "needs_background": "light"
     },
     "output_type": "display_data"
    }
   ],
   "source": [
    "data['living_area'].hist();"
   ]
  },
  {
   "cell_type": "markdown",
   "metadata": {},
   "source": [
    "- площадь кухни;"
   ]
  },
  {
   "cell_type": "code",
   "execution_count": 118,
   "metadata": {},
   "outputs": [
    {
     "data": {
      "image/png": "[encoded data removed]",
      "text/plain": [
       "<Figure size 432x288 with 1 Axes>"
      ]
     },
     "metadata": {
      "needs_background": "light"
     },
     "output_type": "display_data"
    }
   ],
   "source": [
    "data['kitchen_area'].hist();"
   ]
  },
  {
   "cell_type": "code",
   "execution_count": 119,
   "metadata": {},
   "outputs": [
    {
     "data": {
      "text/plain": [
       "count    21069.000000\n",
       "mean        10.316782\n",
       "std          5.230029\n",
       "min          1.300000\n",
       "25%          7.000000\n",
       "50%          9.000000\n",
       "75%         11.800000\n",
       "max         93.000000\n",
       "Name: kitchen_area, dtype: float64"
      ]
     },
     "execution_count": 119,
     "metadata": {},
     "output_type": "execute_result"
    }
   ],
   "source": [
    "data['kitchen_area'].describe()"
   ]
  },
  {
   "cell_type": "code",
   "execution_count": 120,
   "metadata": {},
   "outputs": [
    {
     "data": {
      "text/plain": [
       "<AxesSubplot:>"
      ]
     },
     "execution_count": 120,
     "metadata": {},
     "output_type": "execute_result"
    },
    {
     "data": {
      "image/png": "[encoded data removed]",
      "text/plain": [
       "<Figure size 432x288 with 1 Axes>"
      ]
     },
     "metadata": {
      "needs_background": "light"
     },
     "output_type": "display_data"
    }
   ],
   "source": [
    "data.boxplot('kitchen_area')"
   ]
  },
  {
   "cell_type": "markdown",
   "metadata": {},
   "source": [
    "Мы видим гистограмму, смещенную влево, что соответствует реальной жизни. Среднее значение площади кухни 10 квадратных метров.\n",
    "50% значений площади располагаются между 7 и 12 м^2. Минимальное значение 1,3 м^2 выглядит как выброс."
   ]
  },
  {
   "cell_type": "code",
   "execution_count": 121,
   "metadata": {},
   "outputs": [
    {
     "data": {
      "text/plain": [
       "<AxesSubplot:>"
      ]
     },
     "execution_count": 121,
     "metadata": {},
     "output_type": "execute_result"
    },
    {
     "data": {
      "image/png": "[encoded data removed]",
      "text/plain": [
       "<Figure size 432x288 with 1 Axes>"
      ]
     },
     "metadata": {
      "needs_background": "light"
     },
     "output_type": "display_data"
    }
   ],
   "source": [
    "data['kitchen_area'].hist(range=(0, 10))"
   ]
  },
  {
   "cell_type": "code",
   "execution_count": 122,
   "metadata": {},
   "outputs": [
    {
     "data": {
      "text/plain": [
       "0.002317497103128621"
      ]
     },
     "execution_count": 122,
     "metadata": {},
     "output_type": "execute_result"
    }
   ],
   "source": [
    "data[data['kitchen_area'] <= 4].shape[0] / data.shape[0]"
   ]
  },
  {
   "cell_type": "markdown",
   "metadata": {},
   "source": []
  },
  {
   "cell_type": "code",
   "execution_count": 123,
   "metadata": {},
   "outputs": [
    {
     "data": {
      "text/html": [
       "<div>\n",
       "<style scoped>\n",
       "    .dataframe tbody tr th:only-of-type {\n",
       "        vertical-align: middle;\n",
       "    }\n",
       "\n",
       "    .dataframe tbody tr th {\n",
       "        vertical-align: top;\n",
       "    }\n",
       "\n",
       "    .dataframe thead th {\n",
       "        text-align: right;\n",
       "    }\n",
       "</style>\n",
       "<table border=\"1\" class=\"dataframe\">\n",
       "  <thead>\n",
       "    <tr style=\"text-align: right;\">\n",
       "      <th></th>\n",
       "      <th>total_images</th>\n",
       "      <th>last_price</th>\n",
       "      <th>total_area</th>\n",
       "      <th>first_day_exposition</th>\n",
       "      <th>rooms</th>\n",
       "      <th>ceiling_height</th>\n",
       "      <th>floors_total</th>\n",
       "      <th>living_area</th>\n",
       "      <th>floor</th>\n",
       "      <th>is_apartment</th>\n",
       "      <th>studio</th>\n",
       "      <th>...</th>\n",
       "      <th>parks_around3000</th>\n",
       "      <th>parks_nearest</th>\n",
       "      <th>ponds_around3000</th>\n",
       "      <th>ponds_nearest</th>\n",
       "      <th>days_exposition</th>\n",
       "      <th>one_square_meter_price</th>\n",
       "      <th>weekday_exposition</th>\n",
       "      <th>month_exposition</th>\n",
       "      <th>year_exposition</th>\n",
       "      <th>floor_type</th>\n",
       "      <th>round_kilometers_cityCenters_nearest</th>\n",
       "    </tr>\n",
       "  </thead>\n",
       "  <tbody>\n",
       "    <tr>\n",
       "      <th>19888</th>\n",
       "      <td>7</td>\n",
       "      <td>4250000.0</td>\n",
       "      <td>28.5</td>\n",
       "      <td>2019-05-01T00:00:00</td>\n",
       "      <td>1</td>\n",
       "      <td>2.8</td>\n",
       "      <td>14</td>\n",
       "      <td>19.5</td>\n",
       "      <td>10</td>\n",
       "      <td>False</td>\n",
       "      <td>False</td>\n",
       "      <td>...</td>\n",
       "      <td>0</td>\n",
       "      <td>NaN</td>\n",
       "      <td>0</td>\n",
       "      <td>NaN</td>\n",
       "      <td>NaN</td>\n",
       "      <td>149122.807018</td>\n",
       "      <td>2</td>\n",
       "      <td>5</td>\n",
       "      <td>2019</td>\n",
       "      <td>другой</td>\n",
       "      <td>13.0</td>\n",
       "    </tr>\n",
       "  </tbody>\n",
       "</table>\n",
       "<p>1 rows × 28 columns</p>\n",
       "</div>"
      ],
      "text/plain": [
       "       total_images  last_price  total_area first_day_exposition  rooms  \\\n",
       "19888             7   4250000.0        28.5  2019-05-01T00:00:00      1   \n",
       "\n",
       "       ceiling_height  floors_total  living_area  floor  is_apartment  studio  \\\n",
       "19888             2.8            14         19.5     10         False   False   \n",
       "\n",
       "       ...  parks_around3000  parks_nearest  ponds_around3000 ponds_nearest  \\\n",
       "19888  ...                 0            NaN                 0           NaN   \n",
       "\n",
       "       days_exposition  one_square_meter_price  weekday_exposition  \\\n",
       "19888              NaN           149122.807018                   2   \n",
       "\n",
       "       month_exposition  year_exposition  floor_type  \\\n",
       "19888                 5             2019      другой   \n",
       "\n",
       "       round_kilometers_cityCenters_nearest  \n",
       "19888                                  13.0  \n",
       "\n",
       "[1 rows x 28 columns]"
      ]
     },
     "execution_count": 123,
     "metadata": {},
     "output_type": "execute_result"
    }
   ],
   "source": [
    "data.query('kitchen_area == 1.3')"
   ]
  },
  {
   "cell_type": "markdown",
   "metadata": {},
   "source": [
    "Удалим выбросы менее 4 квадратных метров"
   ]
  },
  {
   "cell_type": "code",
   "execution_count": 124,
   "metadata": {},
   "outputs": [],
   "source": [
    "idx = data[data['kitchen_area'] <= 4].index.tolist()\n",
    "data.drop(idx, axis=0, inplace=True)\n",
    "data.reset_index(drop=True, inplace=True)"
   ]
  },
  {
   "cell_type": "code",
   "execution_count": 125,
   "metadata": {},
   "outputs": [
    {
     "data": {
      "text/plain": [
       "<AxesSubplot:>"
      ]
     },
     "execution_count": 125,
     "metadata": {},
     "output_type": "execute_result"
    },
    {
     "data": {
      "image/png": "[encoded data removed]",
      "text/plain": [
       "<Figure size 432x288 with 1 Axes>"
      ]
     },
     "metadata": {
      "needs_background": "light"
     },
     "output_type": "display_data"
    }
   ],
   "source": [
    "data['kitchen_area'].hist(range=(0, 10))"
   ]
  },
  {
   "cell_type": "code",
   "execution_count": 126,
   "metadata": {},
   "outputs": [
    {
     "data": {
      "text/plain": [
       "<AxesSubplot:>"
      ]
     },
     "execution_count": 126,
     "metadata": {},
     "output_type": "execute_result"
    },
    {
     "data": {
      "image/png": "[encoded data removed]",
      "text/plain": [
       "<Figure size 432x288 with 1 Axes>"
      ]
     },
     "metadata": {
      "needs_background": "light"
     },
     "output_type": "display_data"
    }
   ],
   "source": [
    "data['kitchen_area'].hist()"
   ]
  },
  {
   "cell_type": "code",
   "execution_count": 127,
   "metadata": {},
   "outputs": [
    {
     "data": {
      "text/plain": [
       "count    21015.000000\n",
       "mean        10.334589\n",
       "std          5.224776\n",
       "min          4.100000\n",
       "25%          7.000000\n",
       "50%          9.000000\n",
       "75%         11.850000\n",
       "max         93.000000\n",
       "Name: kitchen_area, dtype: float64"
      ]
     },
     "execution_count": 127,
     "metadata": {},
     "output_type": "execute_result"
    }
   ],
   "source": [
    "data['kitchen_area'].describe()"
   ]
  },
  {
   "cell_type": "markdown",
   "metadata": {},
   "source": [
    "Мы видим гистограмму, смещенную влево, что соответствует реальной жизни. Среднее значение площади кухни 10 квадратных метров.\n",
    "50% значений площади располагаются между 7 и 12 м^2"
   ]
  },
  {
   "cell_type": "markdown",
   "metadata": {},
   "source": [
    "- цена объекта;"
   ]
  },
  {
   "cell_type": "code",
   "execution_count": 128,
   "metadata": {},
   "outputs": [
    {
     "data": {
      "text/plain": [
       "<AxesSubplot:>"
      ]
     },
     "execution_count": 128,
     "metadata": {},
     "output_type": "execute_result"
    },
    {
     "data": {
      "image/png": "[encoded data removed]",
      "text/plain": [
       "<Figure size 432x288 with 1 Axes>"
      ]
     },
     "metadata": {
      "needs_background": "light"
     },
     "output_type": "display_data"
    }
   ],
   "source": [
    "data['last_price'].hist()"
   ]
  },
  {
   "cell_type": "code",
   "execution_count": 129,
   "metadata": {},
   "outputs": [
    {
     "data": {
      "text/plain": [
       "count    2.324700e+04\n",
       "mean     5.850692e+06\n",
       "std      4.816249e+06\n",
       "min      4.300000e+05\n",
       "25%      3.400000e+06\n",
       "50%      4.600000e+06\n",
       "75%      6.600000e+06\n",
       "max      6.700000e+07\n",
       "Name: last_price, dtype: float64"
      ]
     },
     "execution_count": 129,
     "metadata": {},
     "output_type": "execute_result"
    }
   ],
   "source": [
    "data['last_price'].describe()"
   ]
  },
  {
   "cell_type": "code",
   "execution_count": 130,
   "metadata": {},
   "outputs": [
    {
     "data": {
      "text/plain": [
       "<AxesSubplot:>"
      ]
     },
     "execution_count": 130,
     "metadata": {},
     "output_type": "execute_result"
    },
    {
     "data": {
      "image/png": "[encoded data removed]",
      "text/plain": [
       "<Figure size 432x288 with 1 Axes>"
      ]
     },
     "metadata": {
      "needs_background": "light"
     },
     "output_type": "display_data"
    }
   ],
   "source": [
    "data['last_price'].hist(range=(0, 0.2*1e8))"
   ]
  },
  {
   "cell_type": "markdown",
   "metadata": {},
   "source": [
    "Разделим все значения на 1 млн"
   ]
  },
  {
   "cell_type": "code",
   "execution_count": 131,
   "metadata": {},
   "outputs": [],
   "source": [
    "data['last_price'] = data['last_price'] / 1000000"
   ]
  },
  {
   "cell_type": "code",
   "execution_count": 132,
   "metadata": {},
   "outputs": [
    {
     "data": {
      "text/plain": [
       "<AxesSubplot:>"
      ]
     },
     "execution_count": 132,
     "metadata": {},
     "output_type": "execute_result"
    },
    {
     "data": {
      "image/png": "[encoded data removed]",
      "text/plain": [
       "<Figure size 432x288 with 1 Axes>"
      ]
     },
     "metadata": {
      "needs_background": "light"
     },
     "output_type": "display_data"
    }
   ],
   "source": [
    "data.boxplot('last_price')"
   ]
  },
  {
   "cell_type": "code",
   "execution_count": 133,
   "metadata": {},
   "outputs": [
    {
     "data": {
      "text/plain": [
       "4.6"
      ]
     },
     "execution_count": 133,
     "metadata": {},
     "output_type": "execute_result"
    }
   ],
   "source": [
    "data['last_price'].median()"
   ]
  },
  {
   "cell_type": "markdown",
   "metadata": {},
   "source": [
    "Медианное значение цены 4650000, а среднее 6.541744e+06. 50 % значений находятся между значениями 3.400000e+06 и 6.800000e+06. \n",
    "Минимальное значение 4.300000e+05 выглядит подозрительным."
   ]
  },
  {
   "cell_type": "code",
   "execution_count": 134,
   "metadata": {},
   "outputs": [
    {
     "data": {
      "text/html": [
       "<div>\n",
       "<style scoped>\n",
       "    .dataframe tbody tr th:only-of-type {\n",
       "        vertical-align: middle;\n",
       "    }\n",
       "\n",
       "    .dataframe tbody tr th {\n",
       "        vertical-align: top;\n",
       "    }\n",
       "\n",
       "    .dataframe thead th {\n",
       "        text-align: right;\n",
       "    }\n",
       "</style>\n",
       "<table border=\"1\" class=\"dataframe\">\n",
       "  <thead>\n",
       "    <tr style=\"text-align: right;\">\n",
       "      <th></th>\n",
       "      <th>total_images</th>\n",
       "      <th>last_price</th>\n",
       "      <th>total_area</th>\n",
       "      <th>first_day_exposition</th>\n",
       "      <th>rooms</th>\n",
       "      <th>ceiling_height</th>\n",
       "      <th>floors_total</th>\n",
       "      <th>living_area</th>\n",
       "      <th>floor</th>\n",
       "      <th>is_apartment</th>\n",
       "      <th>studio</th>\n",
       "      <th>...</th>\n",
       "      <th>parks_around3000</th>\n",
       "      <th>parks_nearest</th>\n",
       "      <th>ponds_around3000</th>\n",
       "      <th>ponds_nearest</th>\n",
       "      <th>days_exposition</th>\n",
       "      <th>one_square_meter_price</th>\n",
       "      <th>weekday_exposition</th>\n",
       "      <th>month_exposition</th>\n",
       "      <th>year_exposition</th>\n",
       "      <th>floor_type</th>\n",
       "      <th>round_kilometers_cityCenters_nearest</th>\n",
       "    </tr>\n",
       "  </thead>\n",
       "  <tbody>\n",
       "  </tbody>\n",
       "</table>\n",
       "<p>0 rows × 28 columns</p>\n",
       "</div>"
      ],
      "text/plain": [
       "Empty DataFrame\n",
       "Columns: [total_images, last_price, total_area, first_day_exposition, rooms, ceiling_height, floors_total, living_area, floor, is_apartment, studio, open_plan, kitchen_area, balcony, locality_name, airports_nearest, cityCenters_nearest, parks_around3000, parks_nearest, ponds_around3000, ponds_nearest, days_exposition, one_square_meter_price, weekday_exposition, month_exposition, year_exposition, floor_type, round_kilometers_cityCenters_nearest]\n",
       "Index: []\n",
       "\n",
       "[0 rows x 28 columns]"
      ]
     },
     "execution_count": 134,
     "metadata": {},
     "output_type": "execute_result"
    }
   ],
   "source": [
    "data.query('last_price == 4.300000e+05')"
   ]
  },
  {
   "cell_type": "code",
   "execution_count": 135,
   "metadata": {},
   "outputs": [
    {
     "data": {
      "text/plain": [
       "count    23247.000000\n",
       "mean         5.850692\n",
       "std          4.816249\n",
       "min          0.430000\n",
       "25%          3.400000\n",
       "50%          4.600000\n",
       "75%          6.600000\n",
       "max         67.000000\n",
       "Name: last_price, dtype: float64"
      ]
     },
     "execution_count": 135,
     "metadata": {},
     "output_type": "execute_result"
    }
   ],
   "source": [
    "data['last_price'].describe()"
   ]
  },
  {
   "cell_type": "code",
   "execution_count": 136,
   "metadata": {},
   "outputs": [
    {
     "data": {
      "text/plain": [
       "4.6"
      ]
     },
     "execution_count": 136,
     "metadata": {},
     "output_type": "execute_result"
    }
   ],
   "source": [
    "data['last_price'].median()"
   ]
  },
  {
   "cell_type": "markdown",
   "metadata": {},
   "source": [
    "Медианное значение цены 4.6 млн, а среднее 5.8 млн. 50 % значений находятся между значениями 3.4 и 6.6. Минимальное значение 0.43 выглядит подозрительным."
   ]
  },
  {
   "cell_type": "code",
   "execution_count": 137,
   "metadata": {},
   "outputs": [
    {
     "data": {
      "text/plain": [
       "<AxesSubplot:>"
      ]
     },
     "execution_count": 137,
     "metadata": {},
     "output_type": "execute_result"
    },
    {
     "data": {
      "image/png": "[encoded data removed]",
      "text/plain": [
       "<Figure size 432x288 with 1 Axes>"
      ]
     },
     "metadata": {
      "needs_background": "light"
     },
     "output_type": "display_data"
    }
   ],
   "source": [
    "data['last_price'].hist(range=(0, 1))"
   ]
  },
  {
   "cell_type": "markdown",
   "metadata": {},
   "source": [
    "Рассмотрим, какую долю составляют квартиры со стоимостью менее 1 млн"
   ]
  },
  {
   "cell_type": "code",
   "execution_count": 138,
   "metadata": {},
   "outputs": [
    {
     "data": {
      "text/plain": [
       "0.009592635608895771"
      ]
     },
     "execution_count": 138,
     "metadata": {},
     "output_type": "execute_result"
    }
   ],
   "source": [
    "data[data['last_price'] < 1].shape[0] / data.shape[0]"
   ]
  },
  {
   "cell_type": "markdown",
   "metadata": {},
   "source": [
    "Квартиры со стоимостью менее 1 млн составляют около процента. Удалим."
   ]
  },
  {
   "cell_type": "code",
   "execution_count": 139,
   "metadata": {},
   "outputs": [],
   "source": [
    "idx = data[data['last_price'] < 1].index.tolist()\n",
    "data.drop(idx, axis=0, inplace=True)\n",
    "data.reset_index(drop=True, inplace=True)"
   ]
  },
  {
   "cell_type": "code",
   "execution_count": 140,
   "metadata": {},
   "outputs": [
    {
     "data": {
      "text/plain": [
       "count    23024.000000\n",
       "mean         5.899886\n",
       "std          4.813357\n",
       "min          1.000000\n",
       "25%          3.450000\n",
       "50%          4.600000\n",
       "75%          6.650000\n",
       "max         67.000000\n",
       "Name: last_price, dtype: float64"
      ]
     },
     "execution_count": 140,
     "metadata": {},
     "output_type": "execute_result"
    }
   ],
   "source": [
    "data['last_price'].describe()"
   ]
  },
  {
   "cell_type": "code",
   "execution_count": 141,
   "metadata": {},
   "outputs": [
    {
     "data": {
      "text/plain": [
       "4.6"
      ]
     },
     "execution_count": 141,
     "metadata": {},
     "output_type": "execute_result"
    }
   ],
   "source": [
    "data['last_price'].median()"
   ]
  },
  {
   "cell_type": "code",
   "execution_count": 142,
   "metadata": {},
   "outputs": [
    {
     "data": {
      "text/plain": [
       "<AxesSubplot:>"
      ]
     },
     "execution_count": 142,
     "metadata": {},
     "output_type": "execute_result"
    },
    {
     "data": {
      "image/png": "[encoded data removed]",
      "text/plain": [
       "<Figure size 432x288 with 1 Axes>"
      ]
     },
     "metadata": {
      "needs_background": "light"
     },
     "output_type": "display_data"
    }
   ],
   "source": [
    "data.boxplot('last_price')"
   ]
  },
  {
   "cell_type": "markdown",
   "metadata": {},
   "source": [
    "медианное значение цены 4.6 млн, а среднее 5.8 млн. 50 % значений находятся между значениями 3.4 и 6.6 млн. \n",
    "Среднее больше медианного из-за того, что в выборке присутствует небольшое количество дшорогих квартир. "
   ]
  },
  {
   "cell_type": "markdown",
   "metadata": {},
   "source": [
    "- количество комнат;"
   ]
  },
  {
   "cell_type": "code",
   "execution_count": 143,
   "metadata": {},
   "outputs": [
    {
     "data": {
      "text/plain": [
       "<AxesSubplot:>"
      ]
     },
     "execution_count": 143,
     "metadata": {},
     "output_type": "execute_result"
    },
    {
     "data": {
      "image/png": "[encoded data removed]",
      "text/plain": [
       "<Figure size 432x288 with 1 Axes>"
      ]
     },
     "metadata": {
      "needs_background": "light"
     },
     "output_type": "display_data"
    }
   ],
   "source": [
    "data['rooms'].hist(bins=11, range=(0,10))"
   ]
  },
  {
   "cell_type": "code",
   "execution_count": 144,
   "metadata": {},
   "outputs": [
    {
     "data": {
      "text/plain": [
       "<AxesSubplot:>"
      ]
     },
     "execution_count": 144,
     "metadata": {},
     "output_type": "execute_result"
    },
    {
     "data": {
      "image/png": "[encoded data removed]",
      "text/plain": [
       "<Figure size 432x288 with 1 Axes>"
      ]
     },
     "metadata": {
      "needs_background": "light"
     },
     "output_type": "display_data"
    }
   ],
   "source": [
    "data.boxplot('rooms')"
   ]
  },
  {
   "cell_type": "code",
   "execution_count": 145,
   "metadata": {},
   "outputs": [
    {
     "data": {
      "text/plain": [
       "count    23024.000000\n",
       "mean         2.025929\n",
       "std          0.942731\n",
       "min          1.000000\n",
       "25%          1.000000\n",
       "50%          2.000000\n",
       "75%          3.000000\n",
       "max          5.000000\n",
       "Name: rooms, dtype: float64"
      ]
     },
     "execution_count": 145,
     "metadata": {},
     "output_type": "execute_result"
    }
   ],
   "source": [
    "data['rooms'].describe()"
   ]
  },
  {
   "cell_type": "code",
   "execution_count": 146,
   "metadata": {},
   "outputs": [
    {
     "data": {
      "text/plain": [
       "2.0"
      ]
     },
     "execution_count": 146,
     "metadata": {},
     "output_type": "execute_result"
    }
   ],
   "source": [
    "data['rooms'].median()"
   ]
  },
  {
   "cell_type": "markdown",
   "metadata": {},
   "source": [
    "итак, больше всего обхявлений с 1 и 2 комнатными квартирами."
   ]
  },
  {
   "cell_type": "markdown",
   "metadata": {},
   "source": [
    "- высота потолков"
   ]
  },
  {
   "cell_type": "code",
   "execution_count": 147,
   "metadata": {},
   "outputs": [
    {
     "data": {
      "text/plain": [
       "<AxesSubplot:>"
      ]
     },
     "execution_count": 147,
     "metadata": {},
     "output_type": "execute_result"
    },
    {
     "data": {
      "image/png": "[encoded data removed]",
      "text/plain": [
       "<Figure size 432x288 with 1 Axes>"
      ]
     },
     "metadata": {
      "needs_background": "light"
     },
     "output_type": "display_data"
    }
   ],
   "source": [
    "data.boxplot('ceiling_height')"
   ]
  },
  {
   "cell_type": "code",
   "execution_count": 148,
   "metadata": {},
   "outputs": [
    {
     "data": {
      "text/plain": [
       "count    23024.000000\n",
       "mean         2.651717\n",
       "std          0.113835\n",
       "min          2.000000\n",
       "25%          2.600000\n",
       "50%          2.650000\n",
       "75%          2.650000\n",
       "max          3.000000\n",
       "Name: ceiling_height, dtype: float64"
      ]
     },
     "execution_count": 148,
     "metadata": {},
     "output_type": "execute_result"
    }
   ],
   "source": [
    "data['ceiling_height'].describe()"
   ]
  },
  {
   "cell_type": "markdown",
   "metadata": {},
   "source": [
    "Итак, средняя высота потолков ~2,65 метров, максимальная 3 метра, минимальная 2 метра. Эти значения были рассмотрены ранее."
   ]
  },
  {
   "cell_type": "markdown",
   "metadata": {},
   "source": [
    "- этаж квартиры;"
   ]
  },
  {
   "cell_type": "code",
   "execution_count": 149,
   "metadata": {},
   "outputs": [
    {
     "data": {
      "text/plain": [
       "<AxesSubplot:>"
      ]
     },
     "execution_count": 149,
     "metadata": {},
     "output_type": "execute_result"
    },
    {
     "data": {
      "image/png": "[encoded data removed]",
      "text/plain": [
       "<Figure size 432x288 with 1 Axes>"
      ]
     },
     "metadata": {
      "needs_background": "light"
     },
     "output_type": "display_data"
    }
   ],
   "source": [
    "data['floor'].hist()"
   ]
  },
  {
   "cell_type": "code",
   "execution_count": 150,
   "metadata": {},
   "outputs": [
    {
     "data": {
      "text/plain": [
       "<AxesSubplot:>"
      ]
     },
     "execution_count": 150,
     "metadata": {},
     "output_type": "execute_result"
    },
    {
     "data": {
      "image/png": "[encoded data removed]",
      "text/plain": [
       "<Figure size 432x288 with 1 Axes>"
      ]
     },
     "metadata": {
      "needs_background": "light"
     },
     "output_type": "display_data"
    }
   ],
   "source": [
    "data.boxplot('floor')"
   ]
  },
  {
   "cell_type": "code",
   "execution_count": 151,
   "metadata": {},
   "outputs": [
    {
     "data": {
      "text/plain": [
       "count    23024.000000\n",
       "mean         5.940453\n",
       "std          4.905347\n",
       "min          1.000000\n",
       "25%          2.000000\n",
       "50%          4.000000\n",
       "75%          8.000000\n",
       "max         33.000000\n",
       "Name: floor, dtype: float64"
      ]
     },
     "execution_count": 151,
     "metadata": {},
     "output_type": "execute_result"
    }
   ],
   "source": [
    "data['floor'].describe()"
   ]
  },
  {
   "cell_type": "code",
   "execution_count": 152,
   "metadata": {},
   "outputs": [
    {
     "data": {
      "text/plain": [
       "4.0"
      ]
     },
     "execution_count": 152,
     "metadata": {},
     "output_type": "execute_result"
    }
   ],
   "source": [
    "data['floor'].median()"
   ]
  },
  {
   "cell_type": "markdown",
   "metadata": {},
   "source": [
    "Самое популярное (медианное) значение - 4, то есть больше всего объявлений о продаже квартир на 4 этаже. \n",
    "50 % значений лежат между 2 и 8. Чем выше этаж, тем меньше объявлений о продаже."
   ]
  },
  {
   "cell_type": "markdown",
   "metadata": {},
   "source": [
    "- тип этажа квартиры («первый», «последний», «другой»);"
   ]
  },
  {
   "cell_type": "code",
   "execution_count": 153,
   "metadata": {},
   "outputs": [
    {
     "data": {
      "text/plain": [
       "другой       17086\n",
       "последний     3144\n",
       "первый        2794\n",
       "Name: floor_type, dtype: int64"
      ]
     },
     "execution_count": 153,
     "metadata": {},
     "output_type": "execute_result"
    }
   ],
   "source": [
    "data['floor_type'].value_counts()"
   ]
  },
  {
   "cell_type": "code",
   "execution_count": 154,
   "metadata": {},
   "outputs": [
    {
     "data": {
      "text/plain": [
       "0.1266938846421126"
      ]
     },
     "execution_count": 154,
     "metadata": {},
     "output_type": "execute_result"
    }
   ],
   "source": [
    "2917 / data.shape[0]"
   ]
  },
  {
   "cell_type": "markdown",
   "metadata": {},
   "source": [
    "Меньше всего объявлений о продаже квартир на последнем этаже, на первом продается ~12 %. В основном квартиры продаются между 1 и последним этажами."
   ]
  },
  {
   "cell_type": "markdown",
   "metadata": {},
   "source": [
    "- общее количество этажей в доме;"
   ]
  },
  {
   "cell_type": "code",
   "execution_count": 155,
   "metadata": {},
   "outputs": [
    {
     "data": {
      "text/plain": [
       "<AxesSubplot:>"
      ]
     },
     "execution_count": 155,
     "metadata": {},
     "output_type": "execute_result"
    },
    {
     "data": {
      "image/png": "[encoded data removed]",
      "text/plain": [
       "<Figure size 432x288 with 1 Axes>"
      ]
     },
     "metadata": {
      "needs_background": "light"
     },
     "output_type": "display_data"
    }
   ],
   "source": [
    "data['floors_total'].hist()"
   ]
  },
  {
   "cell_type": "code",
   "execution_count": 156,
   "metadata": {},
   "outputs": [
    {
     "data": {
      "text/plain": [
       "count    23024.000000\n",
       "mean        10.767981\n",
       "std          6.618856\n",
       "min          1.000000\n",
       "25%          5.000000\n",
       "50%          9.000000\n",
       "75%         16.000000\n",
       "max         60.000000\n",
       "Name: floors_total, dtype: float64"
      ]
     },
     "execution_count": 156,
     "metadata": {},
     "output_type": "execute_result"
    }
   ],
   "source": [
    "data['floors_total'].describe()"
   ]
  },
  {
   "cell_type": "code",
   "execution_count": 157,
   "metadata": {},
   "outputs": [
    {
     "data": {
      "text/plain": [
       "total_images                              int64\n",
       "last_price                              float64\n",
       "total_area                              float64\n",
       "first_day_exposition                     object\n",
       "rooms                                     int64\n",
       "ceiling_height                          float64\n",
       "floors_total                              int32\n",
       "living_area                             float64\n",
       "floor                                     int64\n",
       "is_apartment                               bool\n",
       "studio                                     bool\n",
       "open_plan                                  bool\n",
       "kitchen_area                            float64\n",
       "balcony                                   int32\n",
       "locality_name                            object\n",
       "airports_nearest                        float64\n",
       "cityCenters_nearest                     float64\n",
       "parks_around3000                          int32\n",
       "parks_nearest                           float64\n",
       "ponds_around3000                          int32\n",
       "ponds_nearest                           float64\n",
       "days_exposition                         float64\n",
       "one_square_meter_price                  float64\n",
       "weekday_exposition                        int64\n",
       "month_exposition                          int64\n",
       "year_exposition                           int64\n",
       "floor_type                               object\n",
       "round_kilometers_cityCenters_nearest    float64\n",
       "dtype: object"
      ]
     },
     "execution_count": 157,
     "metadata": {},
     "output_type": "execute_result"
    }
   ],
   "source": [
    "data.dtypes"
   ]
  },
  {
   "cell_type": "code",
   "execution_count": 158,
   "metadata": {},
   "outputs": [],
   "source": [
    "data['floors_total'] = data['floors_total'].map(int)"
   ]
  },
  {
   "cell_type": "code",
   "execution_count": 159,
   "metadata": {},
   "outputs": [
    {
     "data": {
      "text/plain": [
       "total_images                              int64\n",
       "last_price                              float64\n",
       "total_area                              float64\n",
       "first_day_exposition                     object\n",
       "rooms                                     int64\n",
       "ceiling_height                          float64\n",
       "floors_total                              int64\n",
       "living_area                             float64\n",
       "floor                                     int64\n",
       "is_apartment                               bool\n",
       "studio                                     bool\n",
       "open_plan                                  bool\n",
       "kitchen_area                            float64\n",
       "balcony                                   int32\n",
       "locality_name                            object\n",
       "airports_nearest                        float64\n",
       "cityCenters_nearest                     float64\n",
       "parks_around3000                          int32\n",
       "parks_nearest                           float64\n",
       "ponds_around3000                          int32\n",
       "ponds_nearest                           float64\n",
       "days_exposition                         float64\n",
       "one_square_meter_price                  float64\n",
       "weekday_exposition                        int64\n",
       "month_exposition                          int64\n",
       "year_exposition                           int64\n",
       "floor_type                               object\n",
       "round_kilometers_cityCenters_nearest    float64\n",
       "dtype: object"
      ]
     },
     "execution_count": 159,
     "metadata": {},
     "output_type": "execute_result"
    }
   ],
   "source": [
    "data.dtypes"
   ]
  },
  {
   "cell_type": "code",
   "execution_count": 160,
   "metadata": {},
   "outputs": [
    {
     "data": {
      "text/plain": [
       "<AxesSubplot:>"
      ]
     },
     "execution_count": 160,
     "metadata": {},
     "output_type": "execute_result"
    },
    {
     "data": {
      "image/png": "[encoded data removed]",
      "text/plain": [
       "<Figure size 432x288 with 1 Axes>"
      ]
     },
     "metadata": {
      "needs_background": "light"
     },
     "output_type": "display_data"
    }
   ],
   "source": [
    "data.boxplot('floors_total')"
   ]
  },
  {
   "cell_type": "code",
   "execution_count": 161,
   "metadata": {},
   "outputs": [
    {
     "data": {
      "text/plain": [
       "count    23024.000000\n",
       "mean        10.767981\n",
       "std          6.618856\n",
       "min          1.000000\n",
       "25%          5.000000\n",
       "50%          9.000000\n",
       "75%         16.000000\n",
       "max         60.000000\n",
       "Name: floors_total, dtype: float64"
      ]
     },
     "execution_count": 161,
     "metadata": {},
     "output_type": "execute_result"
    }
   ],
   "source": [
    "data['floors_total'].describe()"
   ]
  },
  {
   "cell_type": "code",
   "execution_count": 162,
   "metadata": {},
   "outputs": [
    {
     "data": {
      "text/plain": [
       "9.0"
      ]
     },
     "execution_count": 162,
     "metadata": {},
     "output_type": "execute_result"
    }
   ],
   "source": [
    "data['floors_total'].median()"
   ]
  },
  {
   "cell_type": "markdown",
   "metadata": {},
   "source": [
    "Итак, большинство объявлений с квартирами в 9-ти этажных домах. 50% значений лежат между 6 и 14. "
   ]
  },
  {
   "cell_type": "markdown",
   "metadata": {},
   "source": [
    "- расстояние до центра города в метрах;"
   ]
  },
  {
   "cell_type": "code",
   "execution_count": 163,
   "metadata": {},
   "outputs": [
    {
     "data": {
      "text/plain": [
       "<AxesSubplot:>"
      ]
     },
     "execution_count": 163,
     "metadata": {},
     "output_type": "execute_result"
    },
    {
     "data": {
      "image/png": "[encoded data removed]",
      "text/plain": [
       "<Figure size 432x288 with 1 Axes>"
      ]
     },
     "metadata": {
      "needs_background": "light"
     },
     "output_type": "display_data"
    }
   ],
   "source": [
    "data['cityCenters_nearest'].hist()"
   ]
  },
  {
   "cell_type": "code",
   "execution_count": 164,
   "metadata": {},
   "outputs": [
    {
     "data": {
      "text/plain": [
       "count    17749.000000\n",
       "mean     14347.441828\n",
       "std       8570.798329\n",
       "min        181.000000\n",
       "25%       9550.000000\n",
       "50%      13205.000000\n",
       "75%      16379.000000\n",
       "max      65968.000000\n",
       "Name: cityCenters_nearest, dtype: float64"
      ]
     },
     "execution_count": 164,
     "metadata": {},
     "output_type": "execute_result"
    }
   ],
   "source": [
    "data['cityCenters_nearest'].describe()"
   ]
  },
  {
   "cell_type": "code",
   "execution_count": 165,
   "metadata": {},
   "outputs": [
    {
     "data": {
      "text/plain": [
       "13205.0"
      ]
     },
     "execution_count": 165,
     "metadata": {},
     "output_type": "execute_result"
    }
   ],
   "source": [
    "data['cityCenters_nearest'].median()"
   ]
  },
  {
   "cell_type": "markdown",
   "metadata": {},
   "source": [
    "Среднее значение расстояния от центра порядка 13 км. 50% значений находятся между ~9 и ~16 километрами. Распределение нельзя назвать нормальным."
   ]
  },
  {
   "cell_type": "markdown",
   "metadata": {},
   "source": [
    "- расстояние до ближайшего аэропорта;"
   ]
  },
  {
   "cell_type": "code",
   "execution_count": 166,
   "metadata": {},
   "outputs": [
    {
     "data": {
      "text/plain": [
       "<AxesSubplot:>"
      ]
     },
     "execution_count": 166,
     "metadata": {},
     "output_type": "execute_result"
    },
    {
     "data": {
      "image/png": "[encoded data removed]",
      "text/plain": [
       "<Figure size 432x288 with 1 Axes>"
      ]
     },
     "metadata": {
      "needs_background": "light"
     },
     "output_type": "display_data"
    }
   ],
   "source": [
    "data['airports_nearest'].hist()"
   ]
  },
  {
   "cell_type": "code",
   "execution_count": 167,
   "metadata": {},
   "outputs": [
    {
     "data": {
      "text/plain": [
       "count    17729.000000\n",
       "mean     28851.013368\n",
       "std      12701.312526\n",
       "min          0.000000\n",
       "25%      18490.000000\n",
       "50%      26890.000000\n",
       "75%      37407.000000\n",
       "max      84869.000000\n",
       "Name: airports_nearest, dtype: float64"
      ]
     },
     "execution_count": 167,
     "metadata": {},
     "output_type": "execute_result"
    }
   ],
   "source": [
    "data['airports_nearest'].describe()"
   ]
  },
  {
   "cell_type": "code",
   "execution_count": 168,
   "metadata": {},
   "outputs": [
    {
     "data": {
      "text/plain": [
       "26890.0"
      ]
     },
     "execution_count": 168,
     "metadata": {},
     "output_type": "execute_result"
    }
   ],
   "source": [
    "data['airports_nearest'].median()"
   ]
  },
  {
   "cell_type": "markdown",
   "metadata": {},
   "source": [
    "Среднее значение расстояния до ближайшего аэропорта порядка 28 км. 50% значений лежат между ~18 И ~37 км."
   ]
  },
  {
   "cell_type": "markdown",
   "metadata": {},
   "source": [
    "- расстояние до ближайшего парка;"
   ]
  },
  {
   "cell_type": "code",
   "execution_count": 169,
   "metadata": {},
   "outputs": [
    {
     "data": {
      "text/plain": [
       "<AxesSubplot:>"
      ]
     },
     "execution_count": 169,
     "metadata": {},
     "output_type": "execute_result"
    },
    {
     "data": {
      "image/png": "[encoded data removed]",
      "text/plain": [
       "<Figure size 432x288 with 1 Axes>"
      ]
     },
     "metadata": {
      "needs_background": "light"
     },
     "output_type": "display_data"
    }
   ],
   "source": [
    "data['parks_nearest'].hist()"
   ]
  },
  {
   "cell_type": "code",
   "execution_count": 170,
   "metadata": {},
   "outputs": [
    {
     "data": {
      "text/plain": [
       "count    7803.000000\n",
       "mean      492.376650\n",
       "std       342.688407\n",
       "min         1.000000\n",
       "25%       288.000000\n",
       "50%       456.000000\n",
       "75%       614.000000\n",
       "max      3190.000000\n",
       "Name: parks_nearest, dtype: float64"
      ]
     },
     "execution_count": 170,
     "metadata": {},
     "output_type": "execute_result"
    }
   ],
   "source": [
    "data['parks_nearest'].describe()"
   ]
  },
  {
   "cell_type": "markdown",
   "metadata": {},
   "source": [
    "Среднее значение расстояния до ближайшего парка порядка 490 метров. 50% значений находятся между ~288 и ~614 метрами. \n",
    "У большинства квартир в радиусе 3 км есть хотя бы 1 парк. Странное значение 1 метр."
   ]
  },
  {
   "cell_type": "code",
   "execution_count": 171,
   "metadata": {},
   "outputs": [
    {
     "data": {
      "text/plain": [
       "<AxesSubplot:>"
      ]
     },
     "execution_count": 171,
     "metadata": {},
     "output_type": "execute_result"
    },
    {
     "data": {
      "image/png": "[encoded data removed]",
      "text/plain": [
       "<Figure size 432x288 with 1 Axes>"
      ]
     },
     "metadata": {
      "needs_background": "light"
     },
     "output_type": "display_data"
    }
   ],
   "source": [
    "data[data['parks_nearest'] < 500].boxplot('parks_nearest')"
   ]
  },
  {
   "cell_type": "markdown",
   "metadata": {},
   "source": [
    "- день и месяц публикации объявления."
   ]
  },
  {
   "cell_type": "code",
   "execution_count": 172,
   "metadata": {},
   "outputs": [
    {
     "data": {
      "image/png": "[encoded data removed]",
      "text/plain": [
       "<Figure size 1080x432 with 2 Axes>"
      ]
     },
     "metadata": {
      "needs_background": "light"
     },
     "output_type": "display_data"
    }
   ],
   "source": [
    "data[['weekday_exposition', 'month_exposition']].hist(figsize=(15, 6), bins=12);"
   ]
  },
  {
   "cell_type": "code",
   "execution_count": 173,
   "metadata": {},
   "outputs": [
    {
     "data": {
      "text/plain": [
       "3    4155\n",
       "1    4085\n",
       "4    3901\n",
       "2    3847\n",
       "0    3516\n",
       "5    1869\n",
       "6    1651\n",
       "Name: weekday_exposition, dtype: int64"
      ]
     },
     "execution_count": 173,
     "metadata": {},
     "output_type": "execute_result"
    }
   ],
   "source": [
    "data['weekday_exposition'].value_counts()"
   ]
  },
  {
   "cell_type": "code",
   "execution_count": 174,
   "metadata": {},
   "outputs": [
    {
     "data": {
      "text/plain": [
       "2     2555\n",
       "3     2518\n",
       "4     2317\n",
       "11    2312\n",
       "10    2081\n",
       "9     1924\n",
       "6     1706\n",
       "8     1698\n",
       "7     1634\n",
       "12    1593\n",
       "1     1450\n",
       "5     1236\n",
       "Name: month_exposition, dtype: int64"
      ]
     },
     "execution_count": 174,
     "metadata": {},
     "output_type": "execute_result"
    }
   ],
   "source": [
    "data['month_exposition'].value_counts()"
   ]
  },
  {
   "cell_type": "markdown",
   "metadata": {},
   "source": [
    "Итак, большинство объявлений публикуют в середине недели - в среду, меньше всего на выходных. Большинство объявлений публикуют после Нового года - в феврале, далее количество объявлений уменьшается (меньше всего в мае). Начиная с июня, вновь наблюдается рост публикаций."
   ]
  },
  {
   "cell_type": "markdown",
   "metadata": {},
   "source": [
    "Изучим, как быстро продавались квартиры (столбец days_exposition)"
   ]
  },
  {
   "cell_type": "code",
   "execution_count": 175,
   "metadata": {},
   "outputs": [
    {
     "data": {
      "text/plain": [
       "<AxesSubplot:>"
      ]
     },
     "execution_count": 175,
     "metadata": {},
     "output_type": "execute_result"
    },
    {
     "data": {
      "image/png": "[encoded data removed]",
      "text/plain": [
       "<Figure size 432x288 with 1 Axes>"
      ]
     },
     "metadata": {
      "needs_background": "light"
     },
     "output_type": "display_data"
    }
   ],
   "source": [
    "data['days_exposition'].hist()"
   ]
  },
  {
   "cell_type": "code",
   "execution_count": 176,
   "metadata": {},
   "outputs": [
    {
     "data": {
      "text/plain": [
       "count    19992.000000\n",
       "mean       179.496399\n",
       "std        218.261342\n",
       "min          1.000000\n",
       "25%         44.000000\n",
       "50%         95.000000\n",
       "75%        229.000000\n",
       "max       1580.000000\n",
       "Name: days_exposition, dtype: float64"
      ]
     },
     "execution_count": 176,
     "metadata": {},
     "output_type": "execute_result"
    }
   ],
   "source": [
    "data['days_exposition'].describe()"
   ]
  },
  {
   "cell_type": "code",
   "execution_count": 177,
   "metadata": {},
   "outputs": [
    {
     "data": {
      "text/plain": [
       "95.0"
      ]
     },
     "execution_count": 177,
     "metadata": {},
     "output_type": "execute_result"
    }
   ],
   "source": [
    "data['days_exposition'].median()"
   ]
  },
  {
   "cell_type": "markdown",
   "metadata": {},
   "source": [
    "Итак, самое популярное значение количества дней, сколько было размещено каждое объявление, - 95, то есть порядка 3 месяцев.\n",
    "Минимально - 1 день (вероятно либо очень выгодное предложение, на которое было много откликов, либо продавец сам его \n",
    "снял с публикации), максимальное значение -  1580 дней (~4,3 года). 50% значений лежат между 45 днями и 232 днями. Меньше 45 дней - быстрые продажи, больше 232 дней - долгие продажи."
   ]
  },
  {
   "cell_type": "code",
   "execution_count": 178,
   "metadata": {},
   "outputs": [
    {
     "data": {
      "image/png": "[encoded data removed]",
      "text/plain": [
       "<Figure size 432x288 with 1 Axes>"
      ]
     },
     "metadata": {
      "needs_background": "light"
     },
     "output_type": "display_data"
    }
   ],
   "source": [
    "data[data['days_exposition'] <=100]['days_exposition'].hist();"
   ]
  },
  {
   "cell_type": "code",
   "execution_count": 179,
   "metadata": {},
   "outputs": [
    {
     "data": {
      "image/png": "[encoded data removed]",
      "text/plain": [
       "<Figure size 432x288 with 1 Axes>"
      ]
     },
     "metadata": {
      "needs_background": "light"
     },
     "output_type": "display_data"
    }
   ],
   "source": [
    "data['days_exposition'].hist(range=(0, 250));"
   ]
  },
  {
   "cell_type": "markdown",
   "metadata": {},
   "source": [
    " итак, больше продается квартир за 1.5 месяца"
   ]
  },
  {
   "cell_type": "code",
   "execution_count": 180,
   "metadata": {},
   "outputs": [
    {
     "data": {
      "text/plain": [
       "4.328767123287672"
      ]
     },
     "execution_count": 180,
     "metadata": {},
     "output_type": "execute_result"
    }
   ],
   "source": [
    "1580/365 "
   ]
  },
  {
   "cell_type": "markdown",
   "metadata": {},
   "source": [
    "Изучим, зависит ли цена от:"
   ]
  },
  {
   "cell_type": "markdown",
   "metadata": {},
   "source": [
    "- общей площади;"
   ]
  },
  {
   "cell_type": "code",
   "execution_count": 181,
   "metadata": {},
   "outputs": [
    {
     "data": {
      "text/html": [
       "<div>\n",
       "<style scoped>\n",
       "    .dataframe tbody tr th:only-of-type {\n",
       "        vertical-align: middle;\n",
       "    }\n",
       "\n",
       "    .dataframe tbody tr th {\n",
       "        vertical-align: top;\n",
       "    }\n",
       "\n",
       "    .dataframe thead th {\n",
       "        text-align: right;\n",
       "    }\n",
       "</style>\n",
       "<table border=\"1\" class=\"dataframe\">\n",
       "  <thead>\n",
       "    <tr style=\"text-align: right;\">\n",
       "      <th></th>\n",
       "      <th>last_price</th>\n",
       "      <th>total_area</th>\n",
       "    </tr>\n",
       "  </thead>\n",
       "  <tbody>\n",
       "    <tr>\n",
       "      <th>last_price</th>\n",
       "      <td>1.000000</td>\n",
       "      <td>0.742649</td>\n",
       "    </tr>\n",
       "    <tr>\n",
       "      <th>total_area</th>\n",
       "      <td>0.742649</td>\n",
       "      <td>1.000000</td>\n",
       "    </tr>\n",
       "  </tbody>\n",
       "</table>\n",
       "</div>"
      ],
      "text/plain": [
       "            last_price  total_area\n",
       "last_price    1.000000    0.742649\n",
       "total_area    0.742649    1.000000"
      ]
     },
     "execution_count": 181,
     "metadata": {},
     "output_type": "execute_result"
    }
   ],
   "source": [
    "data[['last_price', 'total_area']].corr()"
   ]
  },
  {
   "cell_type": "markdown",
   "metadata": {},
   "source": [
    "Коэффициент корреляции цены и общей площади 0.74. Это значит, что линейная зависимость присутствует."
   ]
  },
  {
   "cell_type": "markdown",
   "metadata": {},
   "source": [
    "- жилой площади;"
   ]
  },
  {
   "cell_type": "code",
   "execution_count": 182,
   "metadata": {},
   "outputs": [
    {
     "data": {
      "text/html": [
       "<div>\n",
       "<style scoped>\n",
       "    .dataframe tbody tr th:only-of-type {\n",
       "        vertical-align: middle;\n",
       "    }\n",
       "\n",
       "    .dataframe tbody tr th {\n",
       "        vertical-align: top;\n",
       "    }\n",
       "\n",
       "    .dataframe thead th {\n",
       "        text-align: right;\n",
       "    }\n",
       "</style>\n",
       "<table border=\"1\" class=\"dataframe\">\n",
       "  <thead>\n",
       "    <tr style=\"text-align: right;\">\n",
       "      <th></th>\n",
       "      <th>last_price</th>\n",
       "      <th>living_area</th>\n",
       "    </tr>\n",
       "  </thead>\n",
       "  <tbody>\n",
       "    <tr>\n",
       "      <th>last_price</th>\n",
       "      <td>1.000000</td>\n",
       "      <td>0.623681</td>\n",
       "    </tr>\n",
       "    <tr>\n",
       "      <th>living_area</th>\n",
       "      <td>0.623681</td>\n",
       "      <td>1.000000</td>\n",
       "    </tr>\n",
       "  </tbody>\n",
       "</table>\n",
       "</div>"
      ],
      "text/plain": [
       "             last_price  living_area\n",
       "last_price     1.000000     0.623681\n",
       "living_area    0.623681     1.000000"
      ]
     },
     "execution_count": 182,
     "metadata": {},
     "output_type": "execute_result"
    }
   ],
   "source": [
    "data[['last_price', 'living_area']].corr()"
   ]
  },
  {
   "cell_type": "markdown",
   "metadata": {},
   "source": [
    " цены и жилой площади 0.62. Это значит, что линейная зависимость слабая, но есть."
   ]
  },
  {
   "cell_type": "markdown",
   "metadata": {},
   "source": [
    "- площади кухни;"
   ]
  },
  {
   "cell_type": "code",
   "execution_count": 183,
   "metadata": {},
   "outputs": [
    {
     "data": {
      "text/html": [
       "<div>\n",
       "<style scoped>\n",
       "    .dataframe tbody tr th:only-of-type {\n",
       "        vertical-align: middle;\n",
       "    }\n",
       "\n",
       "    .dataframe tbody tr th {\n",
       "        vertical-align: top;\n",
       "    }\n",
       "\n",
       "    .dataframe thead th {\n",
       "        text-align: right;\n",
       "    }\n",
       "</style>\n",
       "<table border=\"1\" class=\"dataframe\">\n",
       "  <thead>\n",
       "    <tr style=\"text-align: right;\">\n",
       "      <th></th>\n",
       "      <th>last_price</th>\n",
       "      <th>kitchen_area</th>\n",
       "    </tr>\n",
       "  </thead>\n",
       "  <tbody>\n",
       "    <tr>\n",
       "      <th>last_price</th>\n",
       "      <td>1.000000</td>\n",
       "      <td>0.576996</td>\n",
       "    </tr>\n",
       "    <tr>\n",
       "      <th>kitchen_area</th>\n",
       "      <td>0.576996</td>\n",
       "      <td>1.000000</td>\n",
       "    </tr>\n",
       "  </tbody>\n",
       "</table>\n",
       "</div>"
      ],
      "text/plain": [
       "              last_price  kitchen_area\n",
       "last_price      1.000000      0.576996\n",
       "kitchen_area    0.576996      1.000000"
      ]
     },
     "execution_count": 183,
     "metadata": {},
     "output_type": "execute_result"
    }
   ],
   "source": [
    "data[['last_price', 'kitchen_area']].corr()"
   ]
  },
  {
   "cell_type": "markdown",
   "metadata": {},
   "source": [
    "Коэффициент корреляции цены и площади кухни 0.58. Это значит, что линейная зависимость слабая."
   ]
  },
  {
   "cell_type": "markdown",
   "metadata": {},
   "source": [
    "- количества комнат;"
   ]
  },
  {
   "cell_type": "code",
   "execution_count": 184,
   "metadata": {},
   "outputs": [
    {
     "data": {
      "text/html": [
       "<div>\n",
       "<style scoped>\n",
       "    .dataframe tbody tr th:only-of-type {\n",
       "        vertical-align: middle;\n",
       "    }\n",
       "\n",
       "    .dataframe tbody tr th {\n",
       "        vertical-align: top;\n",
       "    }\n",
       "\n",
       "    .dataframe thead th {\n",
       "        text-align: right;\n",
       "    }\n",
       "</style>\n",
       "<table border=\"1\" class=\"dataframe\">\n",
       "  <thead>\n",
       "    <tr style=\"text-align: right;\">\n",
       "      <th></th>\n",
       "      <th>last_price</th>\n",
       "      <th>rooms</th>\n",
       "    </tr>\n",
       "  </thead>\n",
       "  <tbody>\n",
       "    <tr>\n",
       "      <th>last_price</th>\n",
       "      <td>1.000000</td>\n",
       "      <td>0.432504</td>\n",
       "    </tr>\n",
       "    <tr>\n",
       "      <th>rooms</th>\n",
       "      <td>0.432504</td>\n",
       "      <td>1.000000</td>\n",
       "    </tr>\n",
       "  </tbody>\n",
       "</table>\n",
       "</div>"
      ],
      "text/plain": [
       "            last_price     rooms\n",
       "last_price    1.000000  0.432504\n",
       "rooms         0.432504  1.000000"
      ]
     },
     "execution_count": 184,
     "metadata": {},
     "output_type": "execute_result"
    }
   ],
   "source": [
    "data[['last_price', 'rooms']].corr()"
   ]
  },
  {
   "cell_type": "markdown",
   "metadata": {},
   "source": [
    "Коэффициент корреляции цены и количества комнат 0.43. Это значит, что линейной зависимости нет"
   ]
  },
  {
   "cell_type": "markdown",
   "metadata": {},
   "source": [
    "- этажа, на котором расположена квартира (первый, последний, другой);"
   ]
  },
  {
   "cell_type": "code",
   "execution_count": 185,
   "metadata": {},
   "outputs": [
    {
     "data": {
      "text/plain": [
       "count    2794.000000\n",
       "mean        4.633647\n",
       "std         3.370745\n",
       "min         1.000000\n",
       "25%         2.900000\n",
       "50%         3.950000\n",
       "75%         5.400000\n",
       "max        51.000000\n",
       "Name: last_price, dtype: float64"
      ]
     },
     "execution_count": 185,
     "metadata": {},
     "output_type": "execute_result"
    }
   ],
   "source": [
    "data[data['floor_type'] == 'первый']['last_price'].describe()"
   ]
  },
  {
   "cell_type": "code",
   "execution_count": 186,
   "metadata": {},
   "outputs": [
    {
     "data": {
      "text/plain": [
       "count    3144.000000\n",
       "mean        5.623357\n",
       "std         4.799523\n",
       "min         1.000000\n",
       "25%         3.068199\n",
       "50%         4.300000\n",
       "75%         6.500000\n",
       "max        67.000000\n",
       "Name: last_price, dtype: float64"
      ]
     },
     "execution_count": 186,
     "metadata": {},
     "output_type": "execute_result"
    }
   ],
   "source": [
    "data[data['floor_type'] == 'последний']['last_price'].describe()"
   ]
  },
  {
   "cell_type": "code",
   "execution_count": 187,
   "metadata": {},
   "outputs": [
    {
     "data": {
      "text/plain": [
       "count    17086.000000\n",
       "mean         6.157833\n",
       "std          4.978237\n",
       "min          1.000000\n",
       "25%          3.600000\n",
       "50%          4.800000\n",
       "75%          6.900000\n",
       "max         67.000000\n",
       "Name: last_price, dtype: float64"
      ]
     },
     "execution_count": 187,
     "metadata": {},
     "output_type": "execute_result"
    }
   ],
   "source": [
    "data[data['floor_type'] == 'другой']['last_price'].describe()"
   ]
  },
  {
   "cell_type": "code",
   "execution_count": 188,
   "metadata": {},
   "outputs": [
    {
     "data": {
      "text/html": [
       "<div>\n",
       "<style scoped>\n",
       "    .dataframe tbody tr th:only-of-type {\n",
       "        vertical-align: middle;\n",
       "    }\n",
       "\n",
       "    .dataframe tbody tr th {\n",
       "        vertical-align: top;\n",
       "    }\n",
       "\n",
       "    .dataframe thead th {\n",
       "        text-align: right;\n",
       "    }\n",
       "</style>\n",
       "<table border=\"1\" class=\"dataframe\">\n",
       "  <thead>\n",
       "    <tr style=\"text-align: right;\">\n",
       "      <th></th>\n",
       "      <th>last_price</th>\n",
       "    </tr>\n",
       "    <tr>\n",
       "      <th>floor_type</th>\n",
       "      <th></th>\n",
       "    </tr>\n",
       "  </thead>\n",
       "  <tbody>\n",
       "    <tr>\n",
       "      <th>другой</th>\n",
       "      <td>4.80</td>\n",
       "    </tr>\n",
       "    <tr>\n",
       "      <th>первый</th>\n",
       "      <td>3.95</td>\n",
       "    </tr>\n",
       "    <tr>\n",
       "      <th>последний</th>\n",
       "      <td>4.30</td>\n",
       "    </tr>\n",
       "  </tbody>\n",
       "</table>\n",
       "</div>"
      ],
      "text/plain": [
       "            last_price\n",
       "floor_type            \n",
       "другой            4.80\n",
       "первый            3.95\n",
       "последний         4.30"
      ]
     },
     "execution_count": 188,
     "metadata": {},
     "output_type": "execute_result"
    }
   ],
   "source": [
    "data.pivot_table(index='floor_type', values='last_price', aggfunc='median')"
   ]
  },
  {
   "cell_type": "code",
   "execution_count": 189,
   "metadata": {},
   "outputs": [
    {
     "data": {
      "text/html": [
       "<div>\n",
       "<style scoped>\n",
       "    .dataframe tbody tr th:only-of-type {\n",
       "        vertical-align: middle;\n",
       "    }\n",
       "\n",
       "    .dataframe tbody tr th {\n",
       "        vertical-align: top;\n",
       "    }\n",
       "\n",
       "    .dataframe thead th {\n",
       "        text-align: right;\n",
       "    }\n",
       "</style>\n",
       "<table border=\"1\" class=\"dataframe\">\n",
       "  <thead>\n",
       "    <tr style=\"text-align: right;\">\n",
       "      <th></th>\n",
       "      <th>last_price</th>\n",
       "    </tr>\n",
       "    <tr>\n",
       "      <th>floor_type</th>\n",
       "      <th></th>\n",
       "    </tr>\n",
       "  </thead>\n",
       "  <tbody>\n",
       "    <tr>\n",
       "      <th>другой</th>\n",
       "      <td>6.157833</td>\n",
       "    </tr>\n",
       "    <tr>\n",
       "      <th>первый</th>\n",
       "      <td>4.633647</td>\n",
       "    </tr>\n",
       "    <tr>\n",
       "      <th>последний</th>\n",
       "      <td>5.623357</td>\n",
       "    </tr>\n",
       "  </tbody>\n",
       "</table>\n",
       "</div>"
      ],
      "text/plain": [
       "            last_price\n",
       "floor_type            \n",
       "другой        6.157833\n",
       "первый        4.633647\n",
       "последний     5.623357"
      ]
     },
     "execution_count": 189,
     "metadata": {},
     "output_type": "execute_result"
    }
   ],
   "source": [
    "data.pivot_table(index='floor_type', values='last_price', aggfunc='mean')"
   ]
  },
  {
   "cell_type": "markdown",
   "metadata": {},
   "source": [
    "Итак, средняя цена на квартиры на первом этаже ниже чем на других. Средняя и медианная цена квартир \n",
    "на последнем этаже немного ниже чем на других этажах. Это соответствует действительности, так как квартиры на первых \n",
    "этажах имеют ряд недостатков и оттого хуже покупаются."
   ]
  },
  {
   "cell_type": "markdown",
   "metadata": {},
   "source": [
    "- даты размещения (день недели, месяц, год)."
   ]
  },
  {
   "cell_type": "code",
   "execution_count": 190,
   "metadata": {},
   "outputs": [
    {
     "data": {
      "text/plain": [
       "<AxesSubplot:xlabel='weekday_exposition'>"
      ]
     },
     "execution_count": 190,
     "metadata": {},
     "output_type": "execute_result"
    },
    {
     "data": {
      "image/png": "[encoded data removed]",
      "text/plain": [
       "<Figure size 432x288 with 1 Axes>"
      ]
     },
     "metadata": {
      "needs_background": "light"
     },
     "output_type": "display_data"
    }
   ],
   "source": [
    "data.pivot_table(index='weekday_exposition', values='last_price', aggfunc='median').plot(grid=True)"
   ]
  },
  {
   "cell_type": "markdown",
   "metadata": {},
   "source": [
    " Итак, квартиры во вторник чаще всего продаются по наибольшей цене, далее цена снижается. Также наблюдается небольшой пик в субботу."
   ]
  },
  {
   "cell_type": "code",
   "execution_count": 191,
   "metadata": {},
   "outputs": [
    {
     "data": {
      "text/plain": [
       "<AxesSubplot:xlabel='month_exposition'>"
      ]
     },
     "execution_count": 191,
     "metadata": {},
     "output_type": "execute_result"
    },
    {
     "data": {
      "image/png": "[encoded data removed]",
      "text/plain": [
       "<Figure size 432x288 with 1 Axes>"
      ]
     },
     "metadata": {
      "needs_background": "light"
     },
     "output_type": "display_data"
    }
   ],
   "source": [
    "data.pivot_table(index='month_exposition', values='last_price', aggfunc='median').plot(grid=True)"
   ]
  },
  {
   "cell_type": "markdown",
   "metadata": {},
   "source": [
    "Самые высокие цены на квартиры в апреле, вероятно это связано с наибольшим спросом. Самая наименьшая цена в июне. Выгодней всего искать квартиры в июне."
   ]
  },
  {
   "cell_type": "code",
   "execution_count": 192,
   "metadata": {},
   "outputs": [
    {
     "data": {
      "text/plain": [
       "<AxesSubplot:xlabel='year_exposition'>"
      ]
     },
     "execution_count": 192,
     "metadata": {},
     "output_type": "execute_result"
    },
    {
     "data": {
      "image/png": "[encoded data removed]",
      "text/plain": [
       "<Figure size 432x288 with 1 Axes>"
      ]
     },
     "metadata": {
      "needs_background": "light"
     },
     "output_type": "display_data"
    }
   ],
   "source": [
    "data.pivot_table(index='year_exposition', values='last_price', aggfunc='median').plot(grid=True)"
   ]
  },
  {
   "cell_type": "markdown",
   "metadata": {},
   "source": [
    "Самые высокие цены были в 2014 году, затем они стали снижаться. После 2017 года цены стали вновь расти."
   ]
  },
  {
   "cell_type": "markdown",
   "metadata": {},
   "source": [
    "Посчитаем среднюю цену одного квадратного метра в 10 населённых пунктах с наибольшим числом объявлений. Выделим населённые пункты с самой высокой и низкой стоимостью квадратного метра."
   ]
  },
  {
   "cell_type": "markdown",
   "metadata": {},
   "source": [
    "Найдем 10 населенных пунктов с наибольшим числом объявлений"
   ]
  },
  {
   "cell_type": "code",
   "execution_count": 193,
   "metadata": {},
   "outputs": [
    {
     "data": {
      "text/plain": [
       "locality_name\n",
       "Санкт-Петербург      15312\n",
       "поселок Мурино         551\n",
       "поселок Шушары         438\n",
       "Всеволожск             397\n",
       "Пушкин                 361\n",
       "Колпино                337\n",
       "поселок Парголово      326\n",
       "Гатчина                306\n",
       "деревня Кудрово        299\n",
       "Выборг                 230\n",
       "Name: locality_name, dtype: int64"
      ]
     },
     "execution_count": 193,
     "metadata": {},
     "output_type": "execute_result"
    }
   ],
   "source": [
    "data.groupby(['locality_name'])['locality_name'].count().sort_values(ascending=False)[:10]"
   ]
  },
  {
   "cell_type": "code",
   "execution_count": 194,
   "metadata": {},
   "outputs": [],
   "source": [
    "most_popular_places = data.groupby(['locality_name'])['locality_name'].count().sort_values(ascending=False)[:10].index.tolist()"
   ]
  },
  {
   "cell_type": "markdown",
   "metadata": {},
   "source": [
    "Выберем объявления из этих 10 мест"
   ]
  },
  {
   "cell_type": "code",
   "execution_count": 195,
   "metadata": {},
   "outputs": [],
   "source": [
    "adverts = data[data['locality_name'].isin(most_popular_places)].copy()"
   ]
  },
  {
   "cell_type": "code",
   "execution_count": 196,
   "metadata": {},
   "outputs": [],
   "source": [
    "adverts.reset_index(drop=True, inplace=True)"
   ]
  },
  {
   "cell_type": "code",
   "execution_count": 197,
   "metadata": {},
   "outputs": [
    {
     "data": {
      "text/html": [
       "<div>\n",
       "<style scoped>\n",
       "    .dataframe tbody tr th:only-of-type {\n",
       "        vertical-align: middle;\n",
       "    }\n",
       "\n",
       "    .dataframe tbody tr th {\n",
       "        vertical-align: top;\n",
       "    }\n",
       "\n",
       "    .dataframe thead th {\n",
       "        text-align: right;\n",
       "    }\n",
       "</style>\n",
       "<table border=\"1\" class=\"dataframe\">\n",
       "  <thead>\n",
       "    <tr style=\"text-align: right;\">\n",
       "      <th></th>\n",
       "      <th>one_square_meter_price</th>\n",
       "    </tr>\n",
       "    <tr>\n",
       "      <th>locality_name</th>\n",
       "      <th></th>\n",
       "    </tr>\n",
       "  </thead>\n",
       "  <tbody>\n",
       "    <tr>\n",
       "      <th>Выборг</th>\n",
       "      <td>58673.498341</td>\n",
       "    </tr>\n",
       "    <tr>\n",
       "      <th>Всеволожск</th>\n",
       "      <td>68719.287383</td>\n",
       "    </tr>\n",
       "    <tr>\n",
       "      <th>Гатчина</th>\n",
       "      <td>68935.194838</td>\n",
       "    </tr>\n",
       "    <tr>\n",
       "      <th>Колпино</th>\n",
       "      <td>75333.295801</td>\n",
       "    </tr>\n",
       "    <tr>\n",
       "      <th>поселок Шушары</th>\n",
       "      <td>78513.333916</td>\n",
       "    </tr>\n",
       "    <tr>\n",
       "      <th>поселок Мурино</th>\n",
       "      <td>85548.507459</td>\n",
       "    </tr>\n",
       "    <tr>\n",
       "      <th>поселок Парголово</th>\n",
       "      <td>90332.263023</td>\n",
       "    </tr>\n",
       "    <tr>\n",
       "      <th>деревня Кудрово</th>\n",
       "      <td>92473.547576</td>\n",
       "    </tr>\n",
       "    <tr>\n",
       "      <th>Пушкин</th>\n",
       "      <td>103092.514299</td>\n",
       "    </tr>\n",
       "    <tr>\n",
       "      <th>Санкт-Петербург</th>\n",
       "      <td>112673.500770</td>\n",
       "    </tr>\n",
       "  </tbody>\n",
       "</table>\n",
       "</div>"
      ],
      "text/plain": [
       "                   one_square_meter_price\n",
       "locality_name                            \n",
       "Выборг                       58673.498341\n",
       "Всеволожск                   68719.287383\n",
       "Гатчина                      68935.194838\n",
       "Колпино                      75333.295801\n",
       "поселок Шушары               78513.333916\n",
       "поселок Мурино               85548.507459\n",
       "поселок Парголово            90332.263023\n",
       "деревня Кудрово              92473.547576\n",
       "Пушкин                      103092.514299\n",
       "Санкт-Петербург             112673.500770"
      ]
     },
     "execution_count": 197,
     "metadata": {},
     "output_type": "execute_result"
    }
   ],
   "source": [
    "adverts.pivot_table(index='locality_name', values='one_square_meter_price', aggfunc='mean')\\\n",
    "                                                    .sort_values(by='one_square_meter_price')"
   ]
  },
  {
   "cell_type": "markdown",
   "metadata": {},
   "source": [
    "Рассмотрим 10 мест, в которых наибольшее число объявлений о продаже квартир. Из них: \n",
    "в Выборге самая маленькая цена квардратного метра,\n",
    "а в Санкт-Питербурге самая высокая цена квадратного метра (соответствует реальности)."
   ]
  },
  {
   "cell_type": "code",
   "execution_count": 198,
   "metadata": {},
   "outputs": [
    {
     "data": {
      "image/png": "[encoded data removed]",
      "text/plain": [
       "<Figure size 432x288 with 1 Axes>"
      ]
     },
     "metadata": {
      "needs_background": "light"
     },
     "output_type": "display_data"
    }
   ],
   "source": [
    "adverts.pivot_table(index='locality_name', values='one_square_meter_price', aggfunc='mean')\\\n",
    "                                                    .sort_values(by='one_square_meter_price').plot(kind='bar', grid=True);"
   ]
  },
  {
   "cell_type": "markdown",
   "metadata": {},
   "source": [
    "Выделим квартиры в Санкт-Петербурге с помощью столбца locality_name и вычислим среднюю цену каждого километра. Опишим, как стоимость объектов зависит от расстояния до центра города."
   ]
  },
  {
   "cell_type": "code",
   "execution_count": 199,
   "metadata": {},
   "outputs": [],
   "source": [
    "st_petersberg_flats = data[data['locality_name'] == 'Санкт-Петербург'].copy()"
   ]
  },
  {
   "cell_type": "code",
   "execution_count": 200,
   "metadata": {},
   "outputs": [],
   "source": [
    "st_petersberg_flats.reset_index(drop=True, inplace=True)"
   ]
  },
  {
   "cell_type": "code",
   "execution_count": 201,
   "metadata": {},
   "outputs": [
    {
     "data": {
      "image/png": "[encoded data removed]",
      "text/plain": [
       "<Figure size 1080x360 with 1 Axes>"
      ]
     },
     "metadata": {
      "needs_background": "light"
     },
     "output_type": "display_data"
    }
   ],
   "source": [
    "st_petersberg_flats.plot(x='round_kilometers_cityCenters_nearest', y='last_price', kind='scatter', grid=True,\n",
    "                        figsize=(15,5));"
   ]
  },
  {
   "cell_type": "markdown",
   "metadata": {},
   "source": [
    "Чем меньше расстояние до центра, тем выше цены, что логично. Дальше 7 км от центра цены заметно снижаются."
   ]
  },
  {
   "cell_type": "markdown",
   "metadata": {},
   "source": [
    "### Общий вывод"
   ]
  },
  {
   "cell_type": "markdown",
   "metadata": {},
   "source": [
    "Итак, \n",
    "- намного больше квартир с небольшой площадью, чем с большой. Среднее значение площади 60 квадратных метров. 50% значений площади располагаются между 40 и 69 м^2\n",
    "- среднее значение жилой площади 34 м^2, 50% значений площади располагаются между 18,6 и 42,3 м^2\n",
    "- среднее значение площади кухни 10 квадратных метров.50% значений площади располагаются между 7 и 12 м^2.\n",
    "- медианное значение цены 4650000, а среднее 6541744. 50 % значений находятся между значениями 3400000 и 6800000\n",
    "- больше всего объявлений с 1 и 2 комнатными квартирами.\n",
    "- больше всего объявлений о продаже квартир на 4 этаже. 50 % значений лежат между 2 и 8. Чем выше этаж, тем меньше объявлений о продаже.\n",
    "- меньше всего объявлений о продаже квартир на последнем этаже, на первом продается ~12 %. В основном квартиры продаются между 1 и последним этажами.\n",
    "- среднее значение расстояния от центра порядка 13 км. 50% значений находятся между ~9 b и ~16 километрами.\n",
    "- среднее значение расстояния до ближайшего аэропорта порядка 28 км. 50% значений лежат между ~18,5 И ~37,3 км.\n",
    "- среднее значение расстояния до ближайшего парка 490 метров. 50% значений находятся между ~288 и ~612 метрами. У большинства квартир в радиусе 3 км есть хотя бы 1 парк. \n",
    "- большинство объявлений публикуют в середине недели - в среду, меньше всего на выходных. Большинство объявлений публикуют после Нового года - в феврале, далее количество объявлений уменьшается (меньше всего в мае). Начиная с июня, вновь наблюдается рост публикаций.\n",
    "- самое популярное значение количества дней, сколько было размещено каждое объявление, - 95, то есть порядка 3 месяцев. Минимально - 1 день (вероятно либо очень выгодное предложение, на которое было много откликов, либо продавец сам его снял с публикации), максимальное значение - 1580 дней (~4,3 года). 50% значений лежат между 45 днями и 232 днями. Меньше 45 дней - быстрые продажи, больше 232 дней - долгие продажи.\n",
    "- линейная зависимость между ценой и другими параметрами не обнаружена.\n",
    "- средняя цена на квартиры на первом этаже ниже чем на других. Средняя и медианная цена квартир на последнем этаже немного ниже чем на других этажах. Это соответствует действительности, так как квартиры на первых этажах имеют ряд недостатков и оттого хуже покупаются\n",
    "- самые высокие цены на квартиры в апреле, вероятно это связано с наибольшим спросом. Самая наименьшая цена в июне. Выгодней всего искать квартиры в июне.\n",
    "- самые высокие цены были в 2014 году, затем они стали снижаться. После 2017 года цены стали вновь расти.\n",
    "- 10 мест, в которых наибольшее число объявлений о продаже квартир:  'Выборг', 'Всеволожск', 'Гатчина', 'Колпино', 'поселок Шушары','поселок Мурино', 'поселок Парголово', 'деревня Кудрово', 'Пушкин','Санкт-Петербург'\n",
    "Из них: в Выборге самая маленькая цена квардратного метра, а в Санкт-Питербурге самая высокая цена квадратного метра (соответствует реальности). \n",
    "- чем меньше расстояние до центра, тем выше цены, что логично. Дальше 7 км от центра цены заметно снижаются."
   ]
  },
  {
   "cell_type": "code",
   "execution_count": null,
   "metadata": {},
   "outputs": [],
   "source": []
  }
 ],
 "metadata": {
  "ExecuteTimeLog": [
   {
    "duration": 521,
    "start_time": "2023-03-16T11:30:47.223Z"
   },
   {
    "duration": 428,
    "start_time": "2023-03-16T11:30:57.437Z"
   },
   {
    "duration": 20,
    "start_time": "2023-03-16T11:31:02.502Z"
   },
   {
    "duration": 99,
    "start_time": "2023-03-16T11:31:13.817Z"
   },
   {
    "duration": 125,
    "start_time": "2023-03-16T11:31:23.249Z"
   },
   {
    "duration": 10,
    "start_time": "2023-03-16T11:31:24.197Z"
   },
   {
    "duration": 126,
    "start_time": "2023-03-16T11:31:44.083Z"
   },
   {
    "duration": 95,
    "start_time": "2023-03-16T11:31:49.303Z"
   },
   {
    "duration": 179,
    "start_time": "2023-03-16T11:31:54.838Z"
   },
   {
    "duration": 39,
    "start_time": "2023-03-16T11:31:55.713Z"
   },
   {
    "duration": 95,
    "start_time": "2023-03-16T11:32:41.920Z"
   },
   {
    "duration": 714,
    "start_time": "2023-03-16T11:33:04.166Z"
   },
   {
    "duration": 9,
    "start_time": "2023-03-16T11:33:11.532Z"
   },
   {
    "duration": 10,
    "start_time": "2023-03-16T11:39:03.492Z"
   },
   {
    "duration": 9,
    "start_time": "2023-03-16T11:41:38.024Z"
   },
   {
    "duration": 109,
    "start_time": "2023-03-16T11:42:06.002Z"
   },
   {
    "duration": 4,
    "start_time": "2023-03-16T11:42:12.708Z"
   },
   {
    "duration": 4,
    "start_time": "2023-03-16T11:51:02.383Z"
   },
   {
    "duration": 2487,
    "start_time": "2023-03-16T11:51:06.004Z"
   },
   {
    "duration": 8,
    "start_time": "2023-03-16T11:55:22.587Z"
   },
   {
    "duration": 12,
    "start_time": "2023-03-16T11:56:08.819Z"
   },
   {
    "duration": 19,
    "start_time": "2023-03-16T11:56:50.408Z"
   },
   {
    "duration": 7,
    "start_time": "2023-03-16T11:56:57.588Z"
   },
   {
    "duration": 104,
    "start_time": "2023-03-16T12:15:45.800Z"
   },
   {
    "duration": 8,
    "start_time": "2023-03-16T15:58:07.410Z"
   },
   {
    "duration": 163,
    "start_time": "2023-03-16T15:58:23.048Z"
   },
   {
    "duration": 204,
    "start_time": "2023-03-16T15:58:27.204Z"
   },
   {
    "duration": 224,
    "start_time": "2023-03-16T15:58:44.511Z"
   },
   {
    "duration": 224,
    "start_time": "2023-03-16T15:59:19.848Z"
   },
   {
    "duration": 191,
    "start_time": "2023-03-16T15:59:28.198Z"
   },
   {
    "duration": 314,
    "start_time": "2023-03-16T15:59:41.325Z"
   },
   {
    "duration": 13,
    "start_time": "2023-03-16T16:01:18.626Z"
   },
   {
    "duration": 635,
    "start_time": "2023-03-16T16:01:25.653Z"
   },
   {
    "duration": 8,
    "start_time": "2023-03-16T18:24:34.745Z"
   },
   {
    "duration": 169,
    "start_time": "2023-03-16T19:20:10.683Z"
   },
   {
    "duration": 11,
    "start_time": "2023-03-16T19:20:34.651Z"
   },
   {
    "duration": 140,
    "start_time": "2023-03-16T19:21:47.121Z"
   },
   {
    "duration": 130,
    "start_time": "2023-03-16T20:12:51.339Z"
   },
   {
    "duration": 150,
    "start_time": "2023-03-16T20:12:54.589Z"
   },
   {
    "duration": 114,
    "start_time": "2023-03-16T20:12:58.393Z"
   },
   {
    "duration": 150,
    "start_time": "2023-03-16T20:13:03.253Z"
   },
   {
    "duration": 115,
    "start_time": "2023-03-16T20:13:06.171Z"
   },
   {
    "duration": 65,
    "start_time": "2023-03-16T20:13:57.864Z"
   },
   {
    "duration": 390,
    "start_time": "2023-04-17T12:00:59.775Z"
   },
   {
    "duration": 144,
    "start_time": "2023-04-17T12:01:01.061Z"
   },
   {
    "duration": 29,
    "start_time": "2023-04-17T12:01:01.925Z"
   },
   {
    "duration": 528,
    "start_time": "2023-04-17T12:07:16.637Z"
   },
   {
    "duration": 87,
    "start_time": "2023-04-17T12:08:48.247Z"
   },
   {
    "duration": 35,
    "start_time": "2023-04-17T12:12:14.307Z"
   },
   {
    "duration": 28,
    "start_time": "2023-04-17T12:12:29.530Z"
   },
   {
    "duration": 24,
    "start_time": "2023-04-17T12:12:40.043Z"
   },
   {
    "duration": 3,
    "start_time": "2023-04-17T12:13:32.117Z"
   },
   {
    "duration": 4,
    "start_time": "2023-04-17T12:21:49.933Z"
   },
   {
    "duration": 9,
    "start_time": "2023-04-17T12:22:06.734Z"
   },
   {
    "duration": 7,
    "start_time": "2023-04-17T12:44:47.434Z"
   },
   {
    "duration": 7,
    "start_time": "2023-04-17T12:45:30.410Z"
   },
   {
    "duration": 6,
    "start_time": "2023-04-17T12:45:51.191Z"
   },
   {
    "duration": 5,
    "start_time": "2023-04-17T12:46:16.980Z"
   },
   {
    "duration": 38,
    "start_time": "2023-04-17T12:46:28.861Z"
   },
   {
    "duration": 7,
    "start_time": "2023-04-17T12:47:06.212Z"
   },
   {
    "duration": 29,
    "start_time": "2023-04-17T12:48:37.097Z"
   },
   {
    "duration": 44,
    "start_time": "2023-04-17T12:48:51.258Z"
   },
   {
    "duration": 10,
    "start_time": "2023-04-17T12:49:06.213Z"
   },
   {
    "duration": 85,
    "start_time": "2023-04-17T12:49:17.132Z"
   },
   {
    "duration": 45,
    "start_time": "2023-04-17T12:49:21.198Z"
   },
   {
    "duration": 11,
    "start_time": "2023-04-17T12:49:30.661Z"
   },
   {
    "duration": 9,
    "start_time": "2023-04-17T12:49:34.187Z"
   },
   {
    "duration": 529,
    "start_time": "2023-04-19T11:08:01.568Z"
   },
   {
    "duration": 1329,
    "start_time": "2023-04-19T11:08:02.683Z"
   },
   {
    "duration": 53,
    "start_time": "2023-04-19T11:08:04.020Z"
   },
   {
    "duration": 3465,
    "start_time": "2023-04-19T11:08:05.306Z"
   },
   {
    "duration": 17,
    "start_time": "2023-04-19T11:09:24.740Z"
   },
   {
    "duration": 78,
    "start_time": "2023-04-19T11:09:54.104Z"
   },
   {
    "duration": 19,
    "start_time": "2023-04-19T11:10:03.426Z"
   },
   {
    "duration": 27,
    "start_time": "2023-04-19T11:10:08.304Z"
   },
   {
    "duration": 25,
    "start_time": "2023-04-19T11:10:19.064Z"
   },
   {
    "duration": 9,
    "start_time": "2023-04-19T11:10:38.170Z"
   },
   {
    "duration": 100,
    "start_time": "2023-04-19T11:46:53.218Z"
   },
   {
    "duration": 11,
    "start_time": "2023-04-19T11:46:59.949Z"
   },
   {
    "duration": 9,
    "start_time": "2023-04-19T11:47:14.133Z"
   },
   {
    "duration": 10,
    "start_time": "2023-04-19T11:47:17.241Z"
   },
   {
    "duration": 7,
    "start_time": "2023-04-19T11:48:48.172Z"
   },
   {
    "duration": 77,
    "start_time": "2023-04-19T11:49:17.787Z"
   },
   {
    "duration": 52,
    "start_time": "2023-04-19T11:49:27.419Z"
   },
   {
    "duration": 16,
    "start_time": "2023-04-19T11:49:31.153Z"
   },
   {
    "duration": 57,
    "start_time": "2023-04-19T11:51:42.216Z"
   },
   {
    "duration": 83,
    "start_time": "2023-04-19T11:52:01.580Z"
   },
   {
    "duration": 7,
    "start_time": "2023-04-19T11:53:22.936Z"
   },
   {
    "duration": 121,
    "start_time": "2023-04-19T11:54:43.935Z"
   },
   {
    "duration": 9,
    "start_time": "2023-04-19T11:54:56.600Z"
   },
   {
    "duration": 7,
    "start_time": "2023-04-19T11:54:58.139Z"
   },
   {
    "duration": 5,
    "start_time": "2023-04-19T11:55:00.345Z"
   },
   {
    "duration": 11,
    "start_time": "2023-04-19T11:55:02.607Z"
   },
   {
    "duration": 14,
    "start_time": "2023-04-19T11:55:06.888Z"
   },
   {
    "duration": 13,
    "start_time": "2023-04-19T11:57:12.955Z"
   },
   {
    "duration": 7,
    "start_time": "2023-04-19T12:05:28.921Z"
   },
   {
    "duration": 6,
    "start_time": "2023-04-19T12:06:22.240Z"
   },
   {
    "duration": 49,
    "start_time": "2023-04-19T12:07:47.414Z"
   },
   {
    "duration": 7,
    "start_time": "2023-04-19T12:07:55.423Z"
   },
   {
    "duration": 5,
    "start_time": "2023-04-19T12:08:05.423Z"
   },
   {
    "duration": 12,
    "start_time": "2023-04-19T12:08:19.415Z"
   },
   {
    "duration": 12,
    "start_time": "2023-04-19T12:09:47.009Z"
   },
   {
    "duration": 6,
    "start_time": "2023-04-19T12:11:29.479Z"
   },
   {
    "duration": 57,
    "start_time": "2023-04-19T12:12:10.153Z"
   },
   {
    "duration": 6,
    "start_time": "2023-04-19T12:12:18.609Z"
   },
   {
    "duration": 5,
    "start_time": "2023-04-19T12:12:22.850Z"
   },
   {
    "duration": 9,
    "start_time": "2023-04-19T12:12:35.257Z"
   },
   {
    "duration": 8,
    "start_time": "2023-04-19T12:13:23.073Z"
   },
   {
    "duration": 9,
    "start_time": "2023-04-19T12:13:39.625Z"
   },
   {
    "duration": 10,
    "start_time": "2023-04-19T12:13:51.013Z"
   },
   {
    "duration": 6,
    "start_time": "2023-04-19T12:14:04.231Z"
   },
   {
    "duration": 6,
    "start_time": "2023-04-19T12:15:39.441Z"
   },
   {
    "duration": 6,
    "start_time": "2023-04-19T12:15:54.642Z"
   },
   {
    "duration": 36,
    "start_time": "2023-04-19T12:16:03.525Z"
   },
   {
    "duration": 95,
    "start_time": "2023-04-19T12:16:18.767Z"
   },
   {
    "duration": 13,
    "start_time": "2023-04-19T12:16:27.610Z"
   },
   {
    "duration": 66,
    "start_time": "2023-04-19T12:17:32.706Z"
   },
   {
    "duration": 67,
    "start_time": "2023-04-19T12:17:35.583Z"
   },
   {
    "duration": 33,
    "start_time": "2023-04-19T12:17:40.811Z"
   },
   {
    "duration": 14,
    "start_time": "2023-04-19T12:19:45.984Z"
   },
   {
    "duration": 3,
    "start_time": "2023-04-19T12:28:05.447Z"
   },
   {
    "duration": 38,
    "start_time": "2023-04-19T12:28:14.540Z"
   },
   {
    "duration": 39,
    "start_time": "2023-04-19T12:28:34.842Z"
   },
   {
    "duration": 37,
    "start_time": "2023-04-19T12:28:51.353Z"
   },
   {
    "duration": 7,
    "start_time": "2023-04-19T12:28:57.679Z"
   },
   {
    "duration": 9,
    "start_time": "2023-04-19T12:29:01.539Z"
   },
   {
    "duration": 37,
    "start_time": "2023-04-19T12:29:23.046Z"
   },
   {
    "duration": 17,
    "start_time": "2023-04-19T12:29:37.157Z"
   },
   {
    "duration": 5,
    "start_time": "2023-04-19T12:29:42.334Z"
   },
   {
    "duration": 8,
    "start_time": "2023-04-19T12:30:02.650Z"
   },
   {
    "duration": 6,
    "start_time": "2023-04-19T12:30:06.725Z"
   },
   {
    "duration": 13,
    "start_time": "2023-04-19T12:30:10.350Z"
   },
   {
    "duration": 6,
    "start_time": "2023-04-19T12:33:47.392Z"
   },
   {
    "duration": 4,
    "start_time": "2023-04-19T12:35:01.880Z"
   },
   {
    "duration": 5,
    "start_time": "2023-04-19T12:35:08.339Z"
   },
   {
    "duration": 5,
    "start_time": "2023-04-19T12:35:23.154Z"
   },
   {
    "duration": 10,
    "start_time": "2023-04-19T12:35:30.779Z"
   },
   {
    "duration": 7,
    "start_time": "2023-04-19T12:49:48.120Z"
   },
   {
    "duration": 9,
    "start_time": "2023-04-19T12:50:15.255Z"
   },
   {
    "duration": 6,
    "start_time": "2023-04-19T12:50:26.891Z"
   },
   {
    "duration": 9,
    "start_time": "2023-04-19T12:50:33.776Z"
   },
   {
    "duration": 10,
    "start_time": "2023-04-19T12:51:15.928Z"
   },
   {
    "duration": 5,
    "start_time": "2023-04-19T12:51:24.857Z"
   },
   {
    "duration": 5,
    "start_time": "2023-04-19T12:51:31.581Z"
   },
   {
    "duration": 55,
    "start_time": "2023-04-19T12:54:30.089Z"
   },
   {
    "duration": 8,
    "start_time": "2023-04-19T12:54:39.803Z"
   },
   {
    "duration": 49,
    "start_time": "2023-04-19T12:54:52.440Z"
   },
   {
    "duration": 10,
    "start_time": "2023-04-19T12:54:56.121Z"
   },
   {
    "duration": 6,
    "start_time": "2023-04-19T12:55:09.879Z"
   },
   {
    "duration": 40,
    "start_time": "2023-04-19T12:56:29.714Z"
   },
   {
    "duration": 6,
    "start_time": "2023-04-19T12:56:32.513Z"
   },
   {
    "duration": 8,
    "start_time": "2023-04-19T12:56:47.571Z"
   },
   {
    "duration": 47,
    "start_time": "2023-04-19T12:56:51.839Z"
   },
   {
    "duration": 6,
    "start_time": "2023-04-19T12:56:54.680Z"
   },
   {
    "duration": 7,
    "start_time": "2023-04-19T12:57:16.703Z"
   },
   {
    "duration": 5,
    "start_time": "2023-04-19T12:57:24.798Z"
   },
   {
    "duration": 18,
    "start_time": "2023-04-19T12:57:51.302Z"
   },
   {
    "duration": 4,
    "start_time": "2023-04-19T13:22:27.975Z"
   },
   {
    "duration": 5,
    "start_time": "2023-04-19T13:22:31.701Z"
   },
   {
    "duration": 8,
    "start_time": "2023-04-19T13:22:34.223Z"
   },
   {
    "duration": 4,
    "start_time": "2023-04-19T13:22:53.572Z"
   },
   {
    "duration": 5,
    "start_time": "2023-04-19T13:23:05.483Z"
   },
   {
    "duration": 10,
    "start_time": "2023-04-19T13:23:14.193Z"
   },
   {
    "duration": 9,
    "start_time": "2023-04-19T13:23:16.682Z"
   },
   {
    "duration": 10,
    "start_time": "2023-04-19T13:23:20.191Z"
   },
   {
    "duration": 4,
    "start_time": "2023-04-19T13:23:25.677Z"
   },
   {
    "duration": 8,
    "start_time": "2023-04-19T13:23:28.220Z"
   },
   {
    "duration": 7,
    "start_time": "2023-04-19T13:23:54.584Z"
   },
   {
    "duration": 41,
    "start_time": "2023-04-19T13:24:22.357Z"
   },
   {
    "duration": 6,
    "start_time": "2023-04-19T13:24:24.716Z"
   },
   {
    "duration": 3,
    "start_time": "2023-04-19T13:24:34.985Z"
   },
   {
    "duration": 353,
    "start_time": "2023-04-19T13:24:35.336Z"
   },
   {
    "duration": 28,
    "start_time": "2023-04-19T13:24:35.703Z"
   },
   {
    "duration": 1999,
    "start_time": "2023-04-19T13:24:36.414Z"
   },
   {
    "duration": 9,
    "start_time": "2023-04-19T13:24:39.732Z"
   },
   {
    "duration": 7,
    "start_time": "2023-04-19T13:24:41.653Z"
   },
   {
    "duration": 5,
    "start_time": "2023-04-19T13:24:42.613Z"
   },
   {
    "duration": 7,
    "start_time": "2023-04-19T13:24:43.074Z"
   },
   {
    "duration": 4,
    "start_time": "2023-04-19T13:24:43.995Z"
   },
   {
    "duration": 4,
    "start_time": "2023-04-19T13:24:48.838Z"
   },
   {
    "duration": 6,
    "start_time": "2023-04-19T13:24:49.156Z"
   },
   {
    "duration": 7,
    "start_time": "2023-04-19T13:24:50.072Z"
   },
   {
    "duration": 9,
    "start_time": "2023-04-19T13:25:04.083Z"
   },
   {
    "duration": 4,
    "start_time": "2023-04-19T13:25:05.802Z"
   },
   {
    "duration": 5,
    "start_time": "2023-04-19T13:25:06.146Z"
   },
   {
    "duration": 116,
    "start_time": "2023-04-19T13:25:08.622Z"
   },
   {
    "duration": 120,
    "start_time": "2023-04-19T13:25:09.175Z"
   },
   {
    "duration": 12,
    "start_time": "2023-04-19T13:25:10.549Z"
   },
   {
    "duration": 6,
    "start_time": "2023-04-19T13:25:16.172Z"
   },
   {
    "duration": 5,
    "start_time": "2023-04-19T13:25:16.686Z"
   },
   {
    "duration": 5,
    "start_time": "2023-04-19T13:25:17.975Z"
   },
   {
    "duration": 5,
    "start_time": "2023-04-19T13:25:18.284Z"
   },
   {
    "duration": 5,
    "start_time": "2023-04-19T13:25:19.907Z"
   },
   {
    "duration": 5,
    "start_time": "2023-04-19T13:25:21.124Z"
   },
   {
    "duration": 5,
    "start_time": "2023-04-19T13:25:21.422Z"
   },
   {
    "duration": 5,
    "start_time": "2023-04-19T13:25:21.804Z"
   },
   {
    "duration": 10,
    "start_time": "2023-04-19T13:25:22.337Z"
   },
   {
    "duration": 6,
    "start_time": "2023-04-19T13:25:25.831Z"
   },
   {
    "duration": 4,
    "start_time": "2023-04-19T13:25:26.277Z"
   },
   {
    "duration": 5,
    "start_time": "2023-04-19T13:25:28.283Z"
   },
   {
    "duration": 6,
    "start_time": "2023-04-19T13:25:28.623Z"
   },
   {
    "duration": 10,
    "start_time": "2023-04-19T13:25:29.374Z"
   },
   {
    "duration": 6,
    "start_time": "2023-04-19T13:25:34.186Z"
   },
   {
    "duration": 6,
    "start_time": "2023-04-19T13:25:40.609Z"
   },
   {
    "duration": 5,
    "start_time": "2023-04-19T13:25:52.306Z"
   },
   {
    "duration": 53,
    "start_time": "2023-04-19T13:41:49.220Z"
   },
   {
    "duration": 6,
    "start_time": "2023-04-19T13:41:53.176Z"
   },
   {
    "duration": 5,
    "start_time": "2023-04-19T14:06:44.839Z"
   },
   {
    "duration": 6,
    "start_time": "2023-04-19T14:07:04.206Z"
   },
   {
    "duration": 4,
    "start_time": "2023-04-19T14:07:08.918Z"
   },
   {
    "duration": 5,
    "start_time": "2023-04-19T14:07:15.726Z"
   },
   {
    "duration": 10,
    "start_time": "2023-04-19T14:08:17.940Z"
   },
   {
    "duration": 8,
    "start_time": "2023-04-19T14:08:29.948Z"
   },
   {
    "duration": 10,
    "start_time": "2023-04-19T14:08:35.906Z"
   },
   {
    "duration": 4,
    "start_time": "2023-04-19T14:08:38.182Z"
   },
   {
    "duration": 5,
    "start_time": "2023-04-19T14:19:52.928Z"
   },
   {
    "duration": 49,
    "start_time": "2023-04-19T14:20:24.295Z"
   },
   {
    "duration": 6,
    "start_time": "2023-04-19T14:20:26.979Z"
   },
   {
    "duration": 6,
    "start_time": "2023-04-19T14:20:32.668Z"
   },
   {
    "duration": 42,
    "start_time": "2023-04-19T14:20:42.268Z"
   },
   {
    "duration": 6,
    "start_time": "2023-04-19T14:20:45.672Z"
   },
   {
    "duration": 13,
    "start_time": "2023-04-19T14:20:58.108Z"
   },
   {
    "duration": 8,
    "start_time": "2023-04-19T15:37:58.296Z"
   },
   {
    "duration": 5,
    "start_time": "2023-04-19T15:37:58.817Z"
   },
   {
    "duration": 34,
    "start_time": "2023-04-19T15:39:59.856Z"
   },
   {
    "duration": 7,
    "start_time": "2023-04-19T15:40:04.092Z"
   },
   {
    "duration": 5,
    "start_time": "2023-04-19T15:40:15.679Z"
   },
   {
    "duration": 5,
    "start_time": "2023-04-19T15:43:30.904Z"
   },
   {
    "duration": 7,
    "start_time": "2023-04-19T15:43:40.004Z"
   },
   {
    "duration": 9,
    "start_time": "2023-04-19T15:44:49.686Z"
   },
   {
    "duration": 4,
    "start_time": "2023-04-19T15:45:04.700Z"
   },
   {
    "duration": 10,
    "start_time": "2023-04-19T15:46:57.159Z"
   },
   {
    "duration": 2416,
    "start_time": "2023-04-19T15:47:24.718Z"
   },
   {
    "duration": 3038,
    "start_time": "2023-04-19T15:47:36.392Z"
   },
   {
    "duration": 8,
    "start_time": "2023-04-19T15:48:05.529Z"
   },
   {
    "duration": 8,
    "start_time": "2023-04-19T15:48:10.102Z"
   },
   {
    "duration": 16,
    "start_time": "2023-04-19T15:48:29.389Z"
   },
   {
    "duration": 15,
    "start_time": "2023-04-19T15:48:36.049Z"
   },
   {
    "duration": 8,
    "start_time": "2023-04-19T15:49:04.689Z"
   },
   {
    "duration": 99,
    "start_time": "2023-04-19T15:49:52.680Z"
   },
   {
    "duration": 5,
    "start_time": "2023-04-19T15:50:30.032Z"
   },
   {
    "duration": 5,
    "start_time": "2023-04-19T15:50:30.387Z"
   },
   {
    "duration": 6,
    "start_time": "2023-04-19T15:50:35.838Z"
   },
   {
    "duration": 9,
    "start_time": "2023-04-19T15:53:31.602Z"
   },
   {
    "duration": 7,
    "start_time": "2023-04-19T15:53:50.602Z"
   },
   {
    "duration": 7,
    "start_time": "2023-04-19T15:54:36.163Z"
   },
   {
    "duration": 11,
    "start_time": "2023-04-19T15:55:50.003Z"
   },
   {
    "duration": 9,
    "start_time": "2023-04-19T15:55:56.318Z"
   },
   {
    "duration": 8,
    "start_time": "2023-04-19T15:56:02.142Z"
   },
   {
    "duration": 10,
    "start_time": "2023-04-19T15:56:08.833Z"
   },
   {
    "duration": 11,
    "start_time": "2023-04-19T15:56:11.880Z"
   },
   {
    "duration": 7,
    "start_time": "2023-04-19T15:56:15.403Z"
   },
   {
    "duration": 5,
    "start_time": "2023-04-19T15:58:36.048Z"
   },
   {
    "duration": 4,
    "start_time": "2023-04-19T15:58:40.628Z"
   },
   {
    "duration": 4,
    "start_time": "2023-04-19T15:59:45.627Z"
   },
   {
    "duration": 4,
    "start_time": "2023-04-19T15:59:48.197Z"
   },
   {
    "duration": 3,
    "start_time": "2023-04-19T15:59:51.458Z"
   },
   {
    "duration": 4,
    "start_time": "2023-04-19T15:59:59.786Z"
   },
   {
    "duration": 4,
    "start_time": "2023-04-19T16:00:05.400Z"
   },
   {
    "duration": 4,
    "start_time": "2023-04-19T16:00:09.802Z"
   },
   {
    "duration": 4,
    "start_time": "2023-04-19T16:00:14.286Z"
   },
   {
    "duration": 4,
    "start_time": "2023-04-19T16:00:17.691Z"
   },
   {
    "duration": 4,
    "start_time": "2023-04-19T16:00:23.106Z"
   },
   {
    "duration": 15,
    "start_time": "2023-04-19T16:07:18.484Z"
   },
   {
    "duration": 10,
    "start_time": "2023-04-19T16:07:27.695Z"
   },
   {
    "duration": 20,
    "start_time": "2023-04-19T16:07:46.904Z"
   },
   {
    "duration": 13,
    "start_time": "2023-04-19T16:09:10.401Z"
   },
   {
    "duration": 11,
    "start_time": "2023-04-19T16:09:18.898Z"
   },
   {
    "duration": 20,
    "start_time": "2023-04-19T16:09:32.298Z"
   },
   {
    "duration": 4,
    "start_time": "2023-04-19T16:09:42.086Z"
   },
   {
    "duration": 88,
    "start_time": "2023-04-19T16:09:51.329Z"
   },
   {
    "duration": 4,
    "start_time": "2023-04-19T16:09:57.290Z"
   },
   {
    "duration": 11,
    "start_time": "2023-04-19T16:10:54.518Z"
   },
   {
    "duration": 40,
    "start_time": "2023-04-19T16:11:08.590Z"
   },
   {
    "duration": 8,
    "start_time": "2023-04-19T16:18:11.908Z"
   },
   {
    "duration": 4,
    "start_time": "2023-04-19T16:18:19.157Z"
   },
   {
    "duration": 5,
    "start_time": "2023-04-19T16:19:22.349Z"
   },
   {
    "duration": 3,
    "start_time": "2023-04-19T16:20:03.090Z"
   },
   {
    "duration": 4,
    "start_time": "2023-04-19T16:20:12.274Z"
   },
   {
    "duration": 5,
    "start_time": "2023-04-19T16:20:16.490Z"
   },
   {
    "duration": 12,
    "start_time": "2023-04-19T16:22:18.553Z"
   },
   {
    "duration": 7,
    "start_time": "2023-04-19T16:27:07.711Z"
   },
   {
    "duration": 52,
    "start_time": "2023-04-19T16:27:16.899Z"
   },
   {
    "duration": 10,
    "start_time": "2023-04-19T16:27:23.771Z"
   },
   {
    "duration": 7,
    "start_time": "2023-04-19T16:38:09.263Z"
   },
   {
    "duration": 11,
    "start_time": "2023-04-19T16:38:34.588Z"
   },
   {
    "duration": 124,
    "start_time": "2023-04-19T16:39:28.910Z"
   },
   {
    "duration": 6,
    "start_time": "2023-04-19T16:40:24.744Z"
   },
   {
    "duration": 6,
    "start_time": "2023-04-19T16:40:36.252Z"
   },
   {
    "duration": 7,
    "start_time": "2023-04-19T16:40:41.778Z"
   },
   {
    "duration": 5,
    "start_time": "2023-04-19T16:40:46.897Z"
   },
   {
    "duration": 11,
    "start_time": "2023-04-19T16:40:55.947Z"
   },
   {
    "duration": 4,
    "start_time": "2023-04-19T16:41:06.898Z"
   },
   {
    "duration": 10,
    "start_time": "2023-04-19T16:41:21.655Z"
   },
   {
    "duration": 7,
    "start_time": "2023-04-19T16:41:26.626Z"
   },
   {
    "duration": 12,
    "start_time": "2023-04-19T16:43:11.319Z"
   },
   {
    "duration": 5,
    "start_time": "2023-04-19T18:39:17.713Z"
   },
   {
    "duration": 7,
    "start_time": "2023-04-19T18:39:21.192Z"
   },
   {
    "duration": 7,
    "start_time": "2023-04-19T18:40:14.002Z"
   },
   {
    "duration": 3,
    "start_time": "2023-04-19T18:41:11.350Z"
   },
   {
    "duration": 7,
    "start_time": "2023-04-19T18:41:34.487Z"
   },
   {
    "duration": 4,
    "start_time": "2023-04-19T18:41:39.824Z"
   },
   {
    "duration": 14,
    "start_time": "2023-04-19T18:41:45.585Z"
   },
   {
    "duration": 3,
    "start_time": "2023-04-19T18:42:00.205Z"
   },
   {
    "duration": 6,
    "start_time": "2023-04-19T18:42:04.112Z"
   },
   {
    "duration": 3,
    "start_time": "2023-04-19T18:42:26.194Z"
   },
   {
    "duration": 6,
    "start_time": "2023-04-19T18:42:27.094Z"
   },
   {
    "duration": 4,
    "start_time": "2023-04-19T18:42:56.828Z"
   },
   {
    "duration": 5,
    "start_time": "2023-04-19T18:43:09.706Z"
   },
   {
    "duration": 5,
    "start_time": "2023-04-19T18:43:13.514Z"
   },
   {
    "duration": 9,
    "start_time": "2023-04-19T18:44:04.817Z"
   },
   {
    "duration": 3,
    "start_time": "2023-04-19T18:44:09.046Z"
   },
   {
    "duration": 17,
    "start_time": "2023-04-19T18:44:13.896Z"
   },
   {
    "duration": 4,
    "start_time": "2023-04-19T18:49:58.795Z"
   },
   {
    "duration": 27,
    "start_time": "2023-04-19T18:56:51.888Z"
   },
   {
    "duration": 47,
    "start_time": "2023-04-19T18:57:55.795Z"
   },
   {
    "duration": 20,
    "start_time": "2023-04-19T18:58:04.086Z"
   },
   {
    "duration": 3,
    "start_time": "2023-04-19T18:58:11.288Z"
   },
   {
    "duration": 57,
    "start_time": "2023-04-19T18:58:25.529Z"
   },
   {
    "duration": 14,
    "start_time": "2023-04-19T18:58:26.539Z"
   },
   {
    "duration": 8,
    "start_time": "2023-04-19T20:07:56.452Z"
   },
   {
    "duration": 10,
    "start_time": "2023-04-19T20:08:04.425Z"
   },
   {
    "duration": 16,
    "start_time": "2023-04-19T20:08:09.508Z"
   },
   {
    "duration": 6,
    "start_time": "2023-04-19T20:08:15.914Z"
   },
   {
    "duration": 7,
    "start_time": "2023-04-19T20:08:27.113Z"
   },
   {
    "duration": 8,
    "start_time": "2023-04-19T20:08:27.645Z"
   },
   {
    "duration": 5,
    "start_time": "2023-04-19T20:08:41.103Z"
   },
   {
    "duration": 9,
    "start_time": "2023-04-19T20:08:43.012Z"
   },
   {
    "duration": 14,
    "start_time": "2023-04-19T20:08:43.807Z"
   },
   {
    "duration": 3,
    "start_time": "2023-04-19T20:09:57.157Z"
   },
   {
    "duration": 7,
    "start_time": "2023-04-19T20:10:03.803Z"
   },
   {
    "duration": 6,
    "start_time": "2023-04-19T20:10:04.113Z"
   },
   {
    "duration": 8,
    "start_time": "2023-04-19T20:10:04.416Z"
   },
   {
    "duration": 10,
    "start_time": "2023-04-19T20:10:05.254Z"
   },
   {
    "duration": 6,
    "start_time": "2023-04-19T20:10:50.112Z"
   },
   {
    "duration": 6,
    "start_time": "2023-04-19T20:10:54.860Z"
   },
   {
    "duration": 14,
    "start_time": "2023-04-19T20:11:00.904Z"
   },
   {
    "duration": 8,
    "start_time": "2023-04-19T20:11:32.204Z"
   },
   {
    "duration": 6,
    "start_time": "2023-04-19T20:11:41.436Z"
   },
   {
    "duration": 7,
    "start_time": "2023-04-19T20:11:53.762Z"
   },
   {
    "duration": 9,
    "start_time": "2023-04-19T20:12:24.913Z"
   },
   {
    "duration": 8,
    "start_time": "2023-04-19T20:12:33.713Z"
   },
   {
    "duration": 8,
    "start_time": "2023-04-19T20:50:22.942Z"
   },
   {
    "duration": 7,
    "start_time": "2023-04-19T20:50:36.912Z"
   },
   {
    "duration": 6,
    "start_time": "2023-04-19T20:50:45.602Z"
   },
   {
    "duration": 4,
    "start_time": "2023-04-19T20:50:49.111Z"
   },
   {
    "duration": 6,
    "start_time": "2023-04-19T20:54:01.144Z"
   },
   {
    "duration": 8,
    "start_time": "2023-04-19T20:54:12.303Z"
   },
   {
    "duration": 10,
    "start_time": "2023-04-19T20:54:51.895Z"
   },
   {
    "duration": 4,
    "start_time": "2023-04-19T20:54:52.614Z"
   },
   {
    "duration": 3,
    "start_time": "2023-04-19T20:55:03.704Z"
   },
   {
    "duration": 8,
    "start_time": "2023-04-19T20:55:04.536Z"
   },
   {
    "duration": 7,
    "start_time": "2023-04-19T20:55:08.143Z"
   },
   {
    "duration": 4,
    "start_time": "2023-04-19T20:55:53.054Z"
   },
   {
    "duration": 7,
    "start_time": "2023-04-19T20:58:19.143Z"
   },
   {
    "duration": 5,
    "start_time": "2023-04-19T20:58:25.700Z"
   },
   {
    "duration": 9,
    "start_time": "2023-04-19T20:58:26.765Z"
   },
   {
    "duration": 7,
    "start_time": "2023-04-19T21:06:11.945Z"
   },
   {
    "duration": 8,
    "start_time": "2023-04-19T21:06:38.805Z"
   },
   {
    "duration": 3,
    "start_time": "2023-04-19T21:07:28.041Z"
   },
   {
    "duration": 7,
    "start_time": "2023-04-19T21:07:33.159Z"
   },
   {
    "duration": 5,
    "start_time": "2023-04-19T21:07:33.809Z"
   },
   {
    "duration": 8,
    "start_time": "2023-04-19T21:07:34.486Z"
   },
   {
    "duration": 4,
    "start_time": "2023-04-19T21:09:12.123Z"
   },
   {
    "duration": 4,
    "start_time": "2023-04-19T21:09:28.648Z"
   },
   {
    "duration": 4,
    "start_time": "2023-04-19T21:18:54.480Z"
   },
   {
    "duration": 3,
    "start_time": "2023-04-19T21:18:56.602Z"
   },
   {
    "duration": 7,
    "start_time": "2023-04-19T21:18:57.551Z"
   },
   {
    "duration": 8,
    "start_time": "2023-04-19T21:18:58.411Z"
   },
   {
    "duration": 5,
    "start_time": "2023-04-19T21:18:59.564Z"
   },
   {
    "duration": 4,
    "start_time": "2023-04-19T21:19:01.043Z"
   },
   {
    "duration": 11,
    "start_time": "2023-04-19T21:19:01.404Z"
   },
   {
    "duration": 7,
    "start_time": "2023-04-19T21:20:21.870Z"
   },
   {
    "duration": 10,
    "start_time": "2023-04-19T21:21:08.827Z"
   },
   {
    "duration": 9,
    "start_time": "2023-04-19T21:21:13.203Z"
   },
   {
    "duration": 10,
    "start_time": "2023-04-19T21:21:16.379Z"
   },
   {
    "duration": 9,
    "start_time": "2023-04-19T21:21:19.803Z"
   },
   {
    "duration": 5,
    "start_time": "2023-04-19T21:21:25.507Z"
   },
   {
    "duration": 6,
    "start_time": "2023-04-19T21:33:01.301Z"
   },
   {
    "duration": 3,
    "start_time": "2023-04-19T21:33:36.815Z"
   },
   {
    "duration": 5,
    "start_time": "2023-04-19T21:35:08.075Z"
   },
   {
    "duration": 6,
    "start_time": "2023-04-19T21:41:12.774Z"
   },
   {
    "duration": 3,
    "start_time": "2023-04-19T21:41:16.925Z"
   },
   {
    "duration": 5,
    "start_time": "2023-04-19T21:41:18.397Z"
   },
   {
    "duration": 9,
    "start_time": "2023-04-19T21:41:34.056Z"
   },
   {
    "duration": 3,
    "start_time": "2023-04-19T21:41:36.932Z"
   },
   {
    "duration": 4,
    "start_time": "2023-04-19T21:41:38.603Z"
   },
   {
    "duration": 6,
    "start_time": "2023-04-19T21:41:51.221Z"
   },
   {
    "duration": 7,
    "start_time": "2023-04-19T21:43:20.630Z"
   },
   {
    "duration": 14,
    "start_time": "2023-04-19T21:48:16.998Z"
   },
   {
    "duration": 11,
    "start_time": "2023-04-19T21:49:54.459Z"
   },
   {
    "duration": 8,
    "start_time": "2023-04-19T21:50:51.510Z"
   },
   {
    "duration": 5,
    "start_time": "2023-04-19T21:51:05.953Z"
   },
   {
    "duration": 5,
    "start_time": "2023-04-19T21:51:15.678Z"
   },
   {
    "duration": 9,
    "start_time": "2023-04-19T21:51:46.937Z"
   },
   {
    "duration": 8,
    "start_time": "2023-04-19T21:52:05.146Z"
   },
   {
    "duration": 5,
    "start_time": "2023-04-19T21:52:06.582Z"
   },
   {
    "duration": 5,
    "start_time": "2023-04-19T21:52:07.231Z"
   },
   {
    "duration": 4,
    "start_time": "2023-04-19T21:58:43.698Z"
   },
   {
    "duration": 3,
    "start_time": "2023-04-19T21:59:16.498Z"
   },
   {
    "duration": 4,
    "start_time": "2023-04-19T21:59:25.954Z"
   },
   {
    "duration": 5,
    "start_time": "2023-04-19T21:59:46.850Z"
   },
   {
    "duration": 5,
    "start_time": "2023-04-19T21:59:50.753Z"
   },
   {
    "duration": 4,
    "start_time": "2023-04-19T22:00:00.645Z"
   },
   {
    "duration": 6,
    "start_time": "2023-04-19T22:00:00.930Z"
   },
   {
    "duration": 5,
    "start_time": "2023-04-19T22:00:04.547Z"
   },
   {
    "duration": 6,
    "start_time": "2023-04-19T22:00:11.747Z"
   },
   {
    "duration": 5,
    "start_time": "2023-04-19T22:00:17.913Z"
   },
   {
    "duration": 5,
    "start_time": "2023-04-19T22:00:32.779Z"
   },
   {
    "duration": 6,
    "start_time": "2023-04-19T22:24:55.125Z"
   },
   {
    "duration": 11,
    "start_time": "2023-04-19T22:24:59.732Z"
   },
   {
    "duration": 6,
    "start_time": "2023-04-19T22:25:06.867Z"
   },
   {
    "duration": 8,
    "start_time": "2023-04-19T22:25:07.470Z"
   },
   {
    "duration": 13,
    "start_time": "2023-04-19T22:26:41.124Z"
   },
   {
    "duration": 11,
    "start_time": "2023-04-19T22:30:46.111Z"
   },
   {
    "duration": 4,
    "start_time": "2023-04-19T22:30:56.005Z"
   },
   {
    "duration": 13,
    "start_time": "2023-04-19T22:31:30.903Z"
   },
   {
    "duration": 11,
    "start_time": "2023-04-19T22:31:51.636Z"
   },
   {
    "duration": 16,
    "start_time": "2023-04-19T22:32:04.524Z"
   },
   {
    "duration": 4,
    "start_time": "2023-04-19T22:32:06.657Z"
   },
   {
    "duration": 21,
    "start_time": "2023-04-19T22:32:18.943Z"
   },
   {
    "duration": 2,
    "start_time": "2023-04-19T22:32:54.231Z"
   },
   {
    "duration": 5,
    "start_time": "2023-04-19T22:32:54.546Z"
   },
   {
    "duration": 5,
    "start_time": "2023-04-19T22:33:03.607Z"
   },
   {
    "duration": 2,
    "start_time": "2023-04-19T22:33:11.924Z"
   },
   {
    "duration": 4,
    "start_time": "2023-04-19T22:33:12.495Z"
   },
   {
    "duration": 7,
    "start_time": "2023-04-19T22:33:45.287Z"
   },
   {
    "duration": 8,
    "start_time": "2023-04-19T22:34:40.505Z"
   },
   {
    "duration": 7,
    "start_time": "2023-04-19T22:34:44.096Z"
   },
   {
    "duration": 471,
    "start_time": "2023-04-19T22:39:17.487Z"
   },
   {
    "duration": 7,
    "start_time": "2023-04-19T22:46:26.602Z"
   },
   {
    "duration": 5,
    "start_time": "2023-04-19T22:46:48.176Z"
   },
   {
    "duration": 11,
    "start_time": "2023-04-19T22:46:57.646Z"
   },
   {
    "duration": 11,
    "start_time": "2023-04-20T12:39:13.684Z"
   },
   {
    "duration": 4,
    "start_time": "2023-04-20T12:40:34.235Z"
   },
   {
    "duration": 10,
    "start_time": "2023-04-20T12:41:07.376Z"
   },
   {
    "duration": 36,
    "start_time": "2023-04-20T12:44:09.904Z"
   },
   {
    "duration": 4,
    "start_time": "2023-04-20T12:50:31.351Z"
   },
   {
    "duration": 5,
    "start_time": "2023-04-20T12:51:48.453Z"
   },
   {
    "duration": 5,
    "start_time": "2023-04-20T12:51:54.242Z"
   },
   {
    "duration": 6,
    "start_time": "2023-04-20T12:52:07.099Z"
   },
   {
    "duration": 5,
    "start_time": "2023-04-20T12:52:08.609Z"
   },
   {
    "duration": 24,
    "start_time": "2023-04-20T12:52:22.665Z"
   },
   {
    "duration": 9,
    "start_time": "2023-04-20T12:54:09.943Z"
   },
   {
    "duration": 7,
    "start_time": "2023-04-20T12:55:07.656Z"
   },
   {
    "duration": 28,
    "start_time": "2023-04-20T12:55:29.426Z"
   },
   {
    "duration": 3,
    "start_time": "2023-04-20T12:56:29.383Z"
   },
   {
    "duration": 4,
    "start_time": "2023-04-20T12:57:18.413Z"
   },
   {
    "duration": 5,
    "start_time": "2023-04-20T12:57:22.612Z"
   },
   {
    "duration": 9,
    "start_time": "2023-04-20T12:58:00.044Z"
   },
   {
    "duration": 26,
    "start_time": "2023-04-20T12:58:18.061Z"
   },
   {
    "duration": 23,
    "start_time": "2023-04-20T12:58:33.198Z"
   },
   {
    "duration": 19,
    "start_time": "2023-04-20T12:58:36.128Z"
   },
   {
    "duration": 19,
    "start_time": "2023-04-20T12:59:30.602Z"
   },
   {
    "duration": 8,
    "start_time": "2023-04-20T13:04:42.852Z"
   },
   {
    "duration": 5,
    "start_time": "2023-04-20T13:05:11.695Z"
   },
   {
    "duration": 4,
    "start_time": "2023-04-20T13:05:43.947Z"
   },
   {
    "duration": 16,
    "start_time": "2023-04-20T13:05:58.268Z"
   },
   {
    "duration": 7,
    "start_time": "2023-04-20T13:10:20.509Z"
   },
   {
    "duration": 6,
    "start_time": "2023-04-20T13:10:27.382Z"
   },
   {
    "duration": 5,
    "start_time": "2023-04-20T13:10:31.540Z"
   },
   {
    "duration": 10,
    "start_time": "2023-04-20T13:10:46.474Z"
   },
   {
    "duration": 5,
    "start_time": "2023-04-20T13:10:51.421Z"
   },
   {
    "duration": 5,
    "start_time": "2023-04-20T13:11:10.499Z"
   },
   {
    "duration": 5,
    "start_time": "2023-04-20T13:11:16.985Z"
   },
   {
    "duration": 25,
    "start_time": "2023-04-20T13:12:41.156Z"
   },
   {
    "duration": 18,
    "start_time": "2023-04-20T13:12:56.575Z"
   },
   {
    "duration": 82,
    "start_time": "2023-04-20T13:16:46.439Z"
   },
   {
    "duration": 12,
    "start_time": "2023-04-20T13:16:54.067Z"
   },
   {
    "duration": 9,
    "start_time": "2023-04-20T13:17:03.772Z"
   },
   {
    "duration": 16,
    "start_time": "2023-04-20T13:17:09.438Z"
   },
   {
    "duration": 129,
    "start_time": "2023-04-20T13:18:23.508Z"
   },
   {
    "duration": 495,
    "start_time": "2023-04-20T13:22:13.065Z"
   },
   {
    "duration": 151,
    "start_time": "2023-04-20T13:22:20.194Z"
   },
   {
    "duration": 122,
    "start_time": "2023-04-20T13:22:45.638Z"
   },
   {
    "duration": 86,
    "start_time": "2023-04-20T13:24:27.952Z"
   },
   {
    "duration": 51,
    "start_time": "2023-04-20T13:24:35.598Z"
   },
   {
    "duration": 8,
    "start_time": "2023-04-20T13:24:55.156Z"
   },
   {
    "duration": 52338,
    "start_time": "2023-04-20T13:25:13.151Z"
   },
   {
    "duration": 7,
    "start_time": "2023-04-20T13:26:32.685Z"
   },
   {
    "duration": 8,
    "start_time": "2023-04-20T13:26:42.164Z"
   },
   {
    "duration": 7,
    "start_time": "2023-04-20T13:26:47.245Z"
   },
   {
    "duration": 7,
    "start_time": "2023-04-20T13:26:54.136Z"
   },
   {
    "duration": 22,
    "start_time": "2023-04-20T13:27:26.141Z"
   },
   {
    "duration": 11,
    "start_time": "2023-04-20T13:27:40.925Z"
   },
   {
    "duration": 7,
    "start_time": "2023-04-20T13:27:45.090Z"
   },
   {
    "duration": 147,
    "start_time": "2023-04-20T13:28:29.952Z"
   },
   {
    "duration": 184,
    "start_time": "2023-04-20T13:29:07.224Z"
   },
   {
    "duration": 164,
    "start_time": "2023-04-20T13:29:11.818Z"
   },
   {
    "duration": 202,
    "start_time": "2023-04-20T13:29:20.495Z"
   },
   {
    "duration": 148,
    "start_time": "2023-04-20T13:29:38.542Z"
   },
   {
    "duration": 7,
    "start_time": "2023-04-20T13:30:35.612Z"
   },
   {
    "duration": 11,
    "start_time": "2023-04-20T13:30:40.902Z"
   },
   {
    "duration": 6,
    "start_time": "2023-04-20T13:31:46.500Z"
   },
   {
    "duration": 20,
    "start_time": "2023-04-20T13:32:19.671Z"
   },
   {
    "duration": 52,
    "start_time": "2023-04-20T13:32:38.899Z"
   },
   {
    "duration": 18,
    "start_time": "2023-04-20T13:32:44.606Z"
   },
   {
    "duration": 8,
    "start_time": "2023-04-20T13:32:48.411Z"
   },
   {
    "duration": 4,
    "start_time": "2023-04-20T13:33:07.794Z"
   },
   {
    "duration": 4,
    "start_time": "2023-04-20T13:33:12.067Z"
   },
   {
    "duration": 136,
    "start_time": "2023-04-20T13:33:28.000Z"
   },
   {
    "duration": 1403,
    "start_time": "2023-04-20T13:39:09.292Z"
   },
   {
    "duration": 1728,
    "start_time": "2023-04-20T13:39:23.482Z"
   },
   {
    "duration": 2410,
    "start_time": "2023-04-20T13:39:32.081Z"
   },
   {
    "duration": 135,
    "start_time": "2023-04-20T13:41:07.338Z"
   },
   {
    "duration": 137,
    "start_time": "2023-04-20T13:41:11.436Z"
   },
   {
    "duration": 10,
    "start_time": "2023-04-20T13:41:32.998Z"
   },
   {
    "duration": 126,
    "start_time": "2023-04-20T13:42:49.652Z"
   },
   {
    "duration": 4,
    "start_time": "2023-04-20T13:43:08.422Z"
   },
   {
    "duration": 47,
    "start_time": "2023-04-20T13:43:35.091Z"
   },
   {
    "duration": 22,
    "start_time": "2023-04-20T13:43:48.625Z"
   },
   {
    "duration": 141,
    "start_time": "2023-04-20T13:49:08.670Z"
   },
   {
    "duration": 7,
    "start_time": "2023-04-20T13:49:26.546Z"
   },
   {
    "duration": 47,
    "start_time": "2023-04-20T13:50:06.390Z"
   },
   {
    "duration": 18,
    "start_time": "2023-04-20T13:50:13.757Z"
   },
   {
    "duration": 19,
    "start_time": "2023-04-20T13:50:21.962Z"
   },
   {
    "duration": 114,
    "start_time": "2023-04-20T13:50:26.566Z"
   },
   {
    "duration": 109,
    "start_time": "2023-04-20T13:51:08.042Z"
   },
   {
    "duration": 26,
    "start_time": "2023-04-20T13:51:13.240Z"
   },
   {
    "duration": 27,
    "start_time": "2023-04-20T13:51:16.998Z"
   },
   {
    "duration": 6,
    "start_time": "2023-04-20T13:53:06.424Z"
   },
   {
    "duration": 16,
    "start_time": "2023-04-20T13:53:27.206Z"
   },
   {
    "duration": 87,
    "start_time": "2023-04-20T13:53:46.252Z"
   },
   {
    "duration": 4,
    "start_time": "2023-04-20T13:54:09.975Z"
   },
   {
    "duration": 4,
    "start_time": "2023-04-20T13:54:13.472Z"
   },
   {
    "duration": 27,
    "start_time": "2023-04-20T13:54:48.082Z"
   },
   {
    "duration": 4,
    "start_time": "2023-04-20T13:56:17.365Z"
   },
   {
    "duration": 5,
    "start_time": "2023-04-20T13:56:18.004Z"
   },
   {
    "duration": 26,
    "start_time": "2023-04-20T13:56:44.585Z"
   },
   {
    "duration": 8,
    "start_time": "2023-04-20T13:56:55.601Z"
   },
   {
    "duration": 7,
    "start_time": "2023-04-20T13:57:02.637Z"
   },
   {
    "duration": 9,
    "start_time": "2023-04-20T13:57:06.582Z"
   },
   {
    "duration": 10,
    "start_time": "2023-04-20T13:57:19.783Z"
   },
   {
    "duration": 8,
    "start_time": "2023-04-20T13:57:33.286Z"
   },
   {
    "duration": 6,
    "start_time": "2023-04-20T13:57:38.096Z"
   },
   {
    "duration": 9,
    "start_time": "2023-04-20T13:57:42.932Z"
   },
   {
    "duration": 7,
    "start_time": "2023-04-20T13:57:56.097Z"
   },
   {
    "duration": 4,
    "start_time": "2023-04-20T13:57:59.125Z"
   },
   {
    "duration": 745,
    "start_time": "2023-04-20T13:58:17.050Z"
   },
   {
    "duration": 9,
    "start_time": "2023-04-20T13:58:53.966Z"
   },
   {
    "duration": 7,
    "start_time": "2023-04-20T13:58:58.940Z"
   },
   {
    "duration": 9,
    "start_time": "2023-04-20T13:59:05.614Z"
   },
   {
    "duration": 7,
    "start_time": "2023-04-20T13:59:08.942Z"
   },
   {
    "duration": 116,
    "start_time": "2023-04-20T13:59:23.222Z"
   },
   {
    "duration": 11,
    "start_time": "2023-04-20T13:59:36.602Z"
   },
   {
    "duration": 6,
    "start_time": "2023-04-20T14:01:38.226Z"
   },
   {
    "duration": 7,
    "start_time": "2023-04-20T14:02:04.697Z"
   },
   {
    "duration": 4,
    "start_time": "2023-04-20T14:49:03.688Z"
   },
   {
    "duration": 7,
    "start_time": "2023-04-20T14:50:29.817Z"
   },
   {
    "duration": 5,
    "start_time": "2023-04-20T14:50:57.871Z"
   },
   {
    "duration": 6,
    "start_time": "2023-04-20T14:51:10.247Z"
   },
   {
    "duration": 5,
    "start_time": "2023-04-20T14:51:55.771Z"
   },
   {
    "duration": 11,
    "start_time": "2023-04-20T14:52:37.796Z"
   },
   {
    "duration": 8,
    "start_time": "2023-04-20T14:52:54.776Z"
   },
   {
    "duration": 5,
    "start_time": "2023-04-20T14:53:19.961Z"
   },
   {
    "duration": 10,
    "start_time": "2023-04-20T14:53:22.992Z"
   },
   {
    "duration": 5,
    "start_time": "2023-04-20T14:53:27.344Z"
   },
   {
    "duration": 6,
    "start_time": "2023-04-20T14:53:53.315Z"
   },
   {
    "duration": 9,
    "start_time": "2023-04-20T14:56:29.251Z"
   },
   {
    "duration": 17,
    "start_time": "2023-04-20T14:57:55.085Z"
   },
   {
    "duration": 1652,
    "start_time": "2023-04-20T14:58:10.185Z"
   },
   {
    "duration": 1550,
    "start_time": "2023-04-20T14:58:17.852Z"
   },
   {
    "duration": 9,
    "start_time": "2023-04-20T14:59:08.050Z"
   },
   {
    "duration": 11,
    "start_time": "2023-04-20T14:59:12.599Z"
   },
   {
    "duration": 11,
    "start_time": "2023-04-20T14:59:15.804Z"
   },
   {
    "duration": 11,
    "start_time": "2023-04-20T15:00:22.003Z"
   },
   {
    "duration": 10,
    "start_time": "2023-04-20T15:00:27.407Z"
   },
   {
    "duration": 12,
    "start_time": "2023-04-20T15:00:29.628Z"
   },
   {
    "duration": 11,
    "start_time": "2023-04-20T15:00:46.127Z"
   },
   {
    "duration": 11,
    "start_time": "2023-04-20T15:00:49.832Z"
   },
   {
    "duration": 5,
    "start_time": "2023-04-20T15:01:00.600Z"
   },
   {
    "duration": 1483,
    "start_time": "2023-04-20T15:01:20.873Z"
   },
   {
    "duration": 325,
    "start_time": "2023-04-20T15:02:04.385Z"
   },
   {
    "duration": 4,
    "start_time": "2023-04-20T15:02:18.003Z"
   },
   {
    "duration": 1705,
    "start_time": "2023-04-20T15:02:33.435Z"
   },
   {
    "duration": 1456,
    "start_time": "2023-04-20T15:02:51.902Z"
   },
   {
    "duration": 6,
    "start_time": "2023-04-20T15:03:14.286Z"
   },
   {
    "duration": 1630,
    "start_time": "2023-04-20T15:03:29.874Z"
   },
   {
    "duration": 6,
    "start_time": "2023-04-20T15:04:13.028Z"
   },
   {
    "duration": 1223,
    "start_time": "2023-04-20T15:04:28.537Z"
   },
   {
    "duration": 5,
    "start_time": "2023-04-20T15:04:44.179Z"
   },
   {
    "duration": 5,
    "start_time": "2023-04-20T15:10:49.820Z"
   },
   {
    "duration": 4,
    "start_time": "2023-04-20T15:10:53.238Z"
   },
   {
    "duration": 76,
    "start_time": "2023-04-20T15:11:23.871Z"
   },
   {
    "duration": 1735,
    "start_time": "2023-04-20T15:11:30.130Z"
   },
   {
    "duration": 7,
    "start_time": "2023-04-20T15:11:35.143Z"
   },
   {
    "duration": 6,
    "start_time": "2023-04-20T15:12:07.731Z"
   },
   {
    "duration": 10,
    "start_time": "2023-04-20T15:13:51.020Z"
   },
   {
    "duration": 4,
    "start_time": "2023-04-20T15:14:09.270Z"
   },
   {
    "duration": 2568,
    "start_time": "2023-04-20T15:14:55.778Z"
   },
   {
    "duration": 8,
    "start_time": "2023-04-20T15:15:07.380Z"
   },
   {
    "duration": 1372,
    "start_time": "2023-04-20T15:15:27.152Z"
   },
   {
    "duration": 15,
    "start_time": "2023-04-20T15:15:34.649Z"
   },
   {
    "duration": 7,
    "start_time": "2023-04-20T15:16:38.674Z"
   },
   {
    "duration": 7,
    "start_time": "2023-04-20T15:16:53.162Z"
   },
   {
    "duration": 8,
    "start_time": "2023-04-20T15:17:03.366Z"
   },
   {
    "duration": 5,
    "start_time": "2023-04-20T15:17:33.807Z"
   },
   {
    "duration": 5,
    "start_time": "2023-04-20T15:19:00.206Z"
   },
   {
    "duration": 8,
    "start_time": "2023-04-20T15:19:08.500Z"
   },
   {
    "duration": 143,
    "start_time": "2023-04-20T15:19:11.863Z"
   },
   {
    "duration": 10,
    "start_time": "2023-04-20T15:19:29.646Z"
   },
   {
    "duration": 135,
    "start_time": "2023-04-20T15:21:06.962Z"
   },
   {
    "duration": 221,
    "start_time": "2023-04-20T15:26:32.773Z"
   },
   {
    "duration": 13,
    "start_time": "2023-04-20T15:26:43.917Z"
   },
   {
    "duration": 145,
    "start_time": "2023-04-20T15:27:41.274Z"
   },
   {
    "duration": 86,
    "start_time": "2023-04-20T15:31:08.689Z"
   },
   {
    "duration": 30,
    "start_time": "2023-04-20T15:33:15.669Z"
   },
   {
    "duration": 185,
    "start_time": "2023-04-20T15:34:39.740Z"
   },
   {
    "duration": 13,
    "start_time": "2023-04-20T15:34:49.606Z"
   },
   {
    "duration": 144,
    "start_time": "2023-04-20T15:35:04.061Z"
   },
   {
    "duration": 26,
    "start_time": "2023-04-20T15:37:19.916Z"
   },
   {
    "duration": 4,
    "start_time": "2023-04-20T16:49:15.998Z"
   },
   {
    "duration": 150,
    "start_time": "2023-04-20T16:49:32.094Z"
   },
   {
    "duration": 9,
    "start_time": "2023-04-20T16:49:52.696Z"
   },
   {
    "duration": 10,
    "start_time": "2023-04-20T16:49:59.455Z"
   },
   {
    "duration": 167,
    "start_time": "2023-04-20T16:51:03.390Z"
   },
   {
    "duration": 287,
    "start_time": "2023-04-20T16:51:07.620Z"
   },
   {
    "duration": 167,
    "start_time": "2023-04-20T16:51:25.196Z"
   },
   {
    "duration": 153,
    "start_time": "2023-04-20T16:51:30.863Z"
   },
   {
    "duration": 152,
    "start_time": "2023-04-20T16:51:43.101Z"
   },
   {
    "duration": 166,
    "start_time": "2023-04-20T16:51:53.394Z"
   },
   {
    "duration": 134,
    "start_time": "2023-04-20T16:53:51.927Z"
   },
   {
    "duration": 1237,
    "start_time": "2023-04-20T16:54:37.726Z"
   },
   {
    "duration": 48,
    "start_time": "2023-04-20T16:55:08.084Z"
   },
   {
    "duration": 576,
    "start_time": "2023-04-20T16:56:29.406Z"
   },
   {
    "duration": 102,
    "start_time": "2023-04-20T16:56:45.262Z"
   },
   {
    "duration": 4,
    "start_time": "2023-04-20T16:57:12.570Z"
   },
   {
    "duration": 5,
    "start_time": "2023-04-20T16:58:01.307Z"
   },
   {
    "duration": 6,
    "start_time": "2023-04-20T16:58:11.046Z"
   },
   {
    "duration": 74,
    "start_time": "2023-04-20T16:59:19.392Z"
   },
   {
    "duration": 24,
    "start_time": "2023-04-20T16:59:52.124Z"
   },
   {
    "duration": 5,
    "start_time": "2023-04-20T17:01:51.163Z"
   },
   {
    "duration": 159,
    "start_time": "2023-04-20T17:01:54.706Z"
   },
   {
    "duration": 159,
    "start_time": "2023-04-20T17:02:00.062Z"
   },
   {
    "duration": 157,
    "start_time": "2023-04-20T17:02:05.464Z"
   },
   {
    "duration": 148,
    "start_time": "2023-04-20T17:02:13.700Z"
   },
   {
    "duration": 158,
    "start_time": "2023-04-20T17:02:23.175Z"
   },
   {
    "duration": 134,
    "start_time": "2023-04-20T17:06:51.691Z"
   },
   {
    "duration": 10,
    "start_time": "2023-04-20T17:07:11.143Z"
   },
   {
    "duration": 6,
    "start_time": "2023-04-20T17:07:26.116Z"
   },
   {
    "duration": 149,
    "start_time": "2023-04-20T17:07:36.563Z"
   },
   {
    "duration": 168,
    "start_time": "2023-04-20T17:07:44.587Z"
   },
   {
    "duration": 152,
    "start_time": "2023-04-20T17:07:49.149Z"
   },
   {
    "duration": 160,
    "start_time": "2023-04-20T17:07:54.899Z"
   },
   {
    "duration": 194,
    "start_time": "2023-04-20T17:08:00.827Z"
   },
   {
    "duration": 163,
    "start_time": "2023-04-20T17:08:04.496Z"
   },
   {
    "duration": 156,
    "start_time": "2023-04-20T17:08:09.211Z"
   },
   {
    "duration": 156,
    "start_time": "2023-04-20T17:08:14.847Z"
   },
   {
    "duration": 181,
    "start_time": "2023-04-20T17:08:21.223Z"
   },
   {
    "duration": 154,
    "start_time": "2023-04-20T17:08:24.403Z"
   },
   {
    "duration": 155,
    "start_time": "2023-04-20T17:08:27.692Z"
   },
   {
    "duration": 171,
    "start_time": "2023-04-20T17:08:31.112Z"
   },
   {
    "duration": 147,
    "start_time": "2023-04-20T17:08:34.265Z"
   },
   {
    "duration": 143,
    "start_time": "2023-04-20T17:08:40.835Z"
   },
   {
    "duration": 149,
    "start_time": "2023-04-20T17:08:57.151Z"
   },
   {
    "duration": 143,
    "start_time": "2023-04-20T17:09:01.929Z"
   },
   {
    "duration": 145,
    "start_time": "2023-04-20T17:09:05.173Z"
   },
   {
    "duration": 191,
    "start_time": "2023-04-20T17:09:11.150Z"
   },
   {
    "duration": 213,
    "start_time": "2023-04-20T17:09:25.188Z"
   },
   {
    "duration": 206,
    "start_time": "2023-04-20T17:09:32.655Z"
   },
   {
    "duration": 156,
    "start_time": "2023-04-20T17:09:40.886Z"
   },
   {
    "duration": 705,
    "start_time": "2023-04-20T17:10:53.499Z"
   },
   {
    "duration": 130,
    "start_time": "2023-04-20T17:11:48.911Z"
   },
   {
    "duration": 14,
    "start_time": "2023-04-20T17:12:00.114Z"
   },
   {
    "duration": 79,
    "start_time": "2023-04-20T17:12:44.279Z"
   },
   {
    "duration": 143,
    "start_time": "2023-04-20T17:13:13.534Z"
   },
   {
    "duration": 133,
    "start_time": "2023-04-20T17:13:25.288Z"
   },
   {
    "duration": 9,
    "start_time": "2023-04-20T17:13:34.072Z"
   },
   {
    "duration": 9,
    "start_time": "2023-04-20T17:14:02.102Z"
   },
   {
    "duration": 157,
    "start_time": "2023-04-20T17:15:36.643Z"
   },
   {
    "duration": 10,
    "start_time": "2023-04-20T17:16:17.888Z"
   },
   {
    "duration": 6,
    "start_time": "2023-04-20T17:16:21.225Z"
   },
   {
    "duration": 11,
    "start_time": "2023-04-20T17:16:54.287Z"
   },
   {
    "duration": 9,
    "start_time": "2023-04-20T17:17:48.745Z"
   },
   {
    "duration": 8,
    "start_time": "2023-04-20T17:17:52.954Z"
   },
   {
    "duration": 5,
    "start_time": "2023-04-20T17:18:04.379Z"
   },
   {
    "duration": 100,
    "start_time": "2023-04-20T17:18:33.215Z"
   },
   {
    "duration": 14,
    "start_time": "2023-04-20T17:19:08.807Z"
   },
   {
    "duration": 166,
    "start_time": "2023-04-20T17:19:26.340Z"
   },
   {
    "duration": 11,
    "start_time": "2023-04-20T17:19:38.924Z"
   },
   {
    "duration": 6,
    "start_time": "2023-04-20T17:19:42.850Z"
   },
   {
    "duration": 11,
    "start_time": "2023-04-20T17:19:56.779Z"
   },
   {
    "duration": 118,
    "start_time": "2023-04-20T17:20:28.029Z"
   },
   {
    "duration": 1257,
    "start_time": "2023-04-20T17:20:54.465Z"
   },
   {
    "duration": 7,
    "start_time": "2023-04-20T17:20:58.613Z"
   },
   {
    "duration": 10,
    "start_time": "2023-04-20T17:21:21.136Z"
   },
   {
    "duration": 138,
    "start_time": "2023-04-20T17:21:46.529Z"
   },
   {
    "duration": 121,
    "start_time": "2023-04-20T17:44:33.310Z"
   },
   {
    "duration": 9,
    "start_time": "2023-04-20T17:45:05.801Z"
   },
   {
    "duration": 8,
    "start_time": "2023-04-20T17:45:57.578Z"
   },
   {
    "duration": 4,
    "start_time": "2023-04-20T17:46:14.236Z"
   },
   {
    "duration": 18,
    "start_time": "2023-04-20T17:46:37.709Z"
   },
   {
    "duration": 5,
    "start_time": "2023-04-20T17:47:02.404Z"
   },
   {
    "duration": 5,
    "start_time": "2023-04-20T17:47:16.593Z"
   },
   {
    "duration": 4,
    "start_time": "2023-04-20T17:47:23.280Z"
   },
   {
    "duration": 4,
    "start_time": "2023-04-20T17:47:26.542Z"
   },
   {
    "duration": 4,
    "start_time": "2023-04-20T17:47:29.735Z"
   },
   {
    "duration": 5,
    "start_time": "2023-04-20T17:48:28.645Z"
   },
   {
    "duration": 8,
    "start_time": "2023-04-20T17:48:32.104Z"
   },
   {
    "duration": 11,
    "start_time": "2023-04-20T17:48:34.684Z"
   },
   {
    "duration": 7,
    "start_time": "2023-04-20T17:48:43.429Z"
   },
   {
    "duration": 5,
    "start_time": "2023-04-20T17:48:46.190Z"
   },
   {
    "duration": 4,
    "start_time": "2023-04-20T17:49:22.084Z"
   },
   {
    "duration": 9,
    "start_time": "2023-04-20T17:49:47.248Z"
   },
   {
    "duration": 6,
    "start_time": "2023-04-20T17:49:50.460Z"
   },
   {
    "duration": 12,
    "start_time": "2023-04-20T17:50:15.365Z"
   },
   {
    "duration": 10,
    "start_time": "2023-04-20T17:50:24.055Z"
   },
   {
    "duration": 6,
    "start_time": "2023-04-20T17:50:29.217Z"
   },
   {
    "duration": 8,
    "start_time": "2023-04-20T17:50:53.582Z"
   },
   {
    "duration": 149,
    "start_time": "2023-04-20T17:51:00.728Z"
   },
   {
    "duration": 9,
    "start_time": "2023-04-20T17:51:23.371Z"
   },
   {
    "duration": 6,
    "start_time": "2023-04-20T17:51:30.355Z"
   },
   {
    "duration": 6,
    "start_time": "2023-04-20T17:53:05.913Z"
   },
   {
    "duration": 14,
    "start_time": "2023-04-20T17:54:02.791Z"
   },
   {
    "duration": 138,
    "start_time": "2023-04-20T17:54:07.868Z"
   },
   {
    "duration": 10,
    "start_time": "2023-04-20T17:54:24.324Z"
   },
   {
    "duration": 9,
    "start_time": "2023-04-20T17:54:30.756Z"
   },
   {
    "duration": 130,
    "start_time": "2023-04-20T18:00:09.011Z"
   },
   {
    "duration": 12,
    "start_time": "2023-04-20T18:00:27.587Z"
   },
   {
    "duration": 7,
    "start_time": "2023-04-20T18:00:43.242Z"
   },
   {
    "duration": 95,
    "start_time": "2023-04-20T18:03:51.193Z"
   },
   {
    "duration": 152,
    "start_time": "2023-04-20T18:04:22.409Z"
   },
   {
    "duration": 13,
    "start_time": "2023-04-20T18:04:31.136Z"
   },
   {
    "duration": 84,
    "start_time": "2023-04-20T18:08:32.121Z"
   },
   {
    "duration": 119,
    "start_time": "2023-04-20T18:08:51.333Z"
   },
   {
    "duration": 116,
    "start_time": "2023-04-20T18:09:05.303Z"
   },
   {
    "duration": 108,
    "start_time": "2023-04-20T18:09:17.825Z"
   },
   {
    "duration": 39,
    "start_time": "2023-04-20T18:09:33.050Z"
   },
   {
    "duration": 12,
    "start_time": "2023-04-20T18:09:43.775Z"
   },
   {
    "duration": 9,
    "start_time": "2023-04-20T18:09:48.178Z"
   },
   {
    "duration": 315,
    "start_time": "2023-04-20T18:11:08.678Z"
   },
   {
    "duration": 13,
    "start_time": "2023-04-20T18:11:23.401Z"
   },
   {
    "duration": 329,
    "start_time": "2023-04-20T18:11:27.194Z"
   },
   {
    "duration": 307,
    "start_time": "2023-04-20T18:11:32.773Z"
   },
   {
    "duration": 319,
    "start_time": "2023-04-20T18:11:38.627Z"
   },
   {
    "duration": 282,
    "start_time": "2023-04-20T18:11:57.338Z"
   },
   {
    "duration": 13,
    "start_time": "2023-04-20T18:12:40.635Z"
   },
   {
    "duration": 6,
    "start_time": "2023-04-20T18:12:48.586Z"
   },
   {
    "duration": 5,
    "start_time": "2023-04-20T18:13:19.030Z"
   },
   {
    "duration": 168,
    "start_time": "2023-04-20T18:16:37.588Z"
   },
   {
    "duration": 10,
    "start_time": "2023-04-20T18:16:50.997Z"
   },
   {
    "duration": 7,
    "start_time": "2023-04-20T18:16:58.702Z"
   },
   {
    "duration": 5,
    "start_time": "2023-04-20T18:19:39.609Z"
   },
   {
    "duration": 92,
    "start_time": "2023-04-20T18:19:46.353Z"
   },
   {
    "duration": 5,
    "start_time": "2023-04-20T18:27:19.074Z"
   },
   {
    "duration": 10,
    "start_time": "2023-04-20T18:27:29.412Z"
   },
   {
    "duration": 12,
    "start_time": "2023-04-20T18:28:41.467Z"
   },
   {
    "duration": 72,
    "start_time": "2023-04-20T18:29:28.737Z"
   },
   {
    "duration": 10,
    "start_time": "2023-04-20T18:30:09.374Z"
   },
   {
    "duration": 94,
    "start_time": "2023-04-20T18:30:29.164Z"
   },
   {
    "duration": 13,
    "start_time": "2023-04-20T18:30:59.470Z"
   },
   {
    "duration": 11,
    "start_time": "2023-04-20T18:31:52.475Z"
   },
   {
    "duration": 7,
    "start_time": "2023-04-20T18:32:27.472Z"
   },
   {
    "duration": 13,
    "start_time": "2023-04-20T19:19:25.226Z"
   },
   {
    "duration": 10,
    "start_time": "2023-04-20T19:19:41.551Z"
   },
   {
    "duration": 11,
    "start_time": "2023-04-20T19:19:48.307Z"
   },
   {
    "duration": 23,
    "start_time": "2023-04-20T19:19:58.192Z"
   },
   {
    "duration": 15,
    "start_time": "2023-04-20T19:21:02.324Z"
   },
   {
    "duration": 22,
    "start_time": "2023-04-20T19:22:30.608Z"
   },
   {
    "duration": 15,
    "start_time": "2023-04-20T19:22:39.544Z"
   },
   {
    "duration": 15,
    "start_time": "2023-04-20T19:22:47.212Z"
   },
   {
    "duration": 14,
    "start_time": "2023-04-20T19:23:48.283Z"
   },
   {
    "duration": 8,
    "start_time": "2023-04-20T19:23:57.728Z"
   },
   {
    "duration": 12,
    "start_time": "2023-04-20T19:24:05.719Z"
   },
   {
    "duration": 17,
    "start_time": "2023-04-20T19:24:33.312Z"
   },
   {
    "duration": 11,
    "start_time": "2023-04-20T19:32:28.418Z"
   },
   {
    "duration": 15,
    "start_time": "2023-04-20T19:32:32.231Z"
   },
   {
    "duration": 16,
    "start_time": "2023-04-20T19:32:46.557Z"
   },
   {
    "duration": 17,
    "start_time": "2023-04-20T19:32:55.476Z"
   },
   {
    "duration": 23,
    "start_time": "2023-04-20T19:33:33.380Z"
   },
   {
    "duration": 15,
    "start_time": "2023-04-20T19:33:37.647Z"
   },
   {
    "duration": 13,
    "start_time": "2023-04-20T19:34:26.924Z"
   },
   {
    "duration": 171,
    "start_time": "2023-04-20T19:34:41.855Z"
   },
   {
    "duration": 194,
    "start_time": "2023-04-20T19:34:56.592Z"
   },
   {
    "duration": 212,
    "start_time": "2023-04-20T19:35:03.286Z"
   },
   {
    "duration": 198,
    "start_time": "2023-04-20T19:35:16.978Z"
   },
   {
    "duration": 86,
    "start_time": "2023-04-20T19:36:44.715Z"
   },
   {
    "duration": 204,
    "start_time": "2023-04-20T19:36:57.914Z"
   },
   {
    "duration": 178,
    "start_time": "2023-04-20T19:42:32.149Z"
   },
   {
    "duration": 177,
    "start_time": "2023-04-20T19:42:49.430Z"
   },
   {
    "duration": 192,
    "start_time": "2023-04-20T19:43:02.061Z"
   },
   {
    "duration": 179,
    "start_time": "2023-04-20T19:43:11.351Z"
   },
   {
    "duration": 5,
    "start_time": "2023-04-20T19:43:33.666Z"
   },
   {
    "duration": 1769,
    "start_time": "2023-04-20T19:46:44.462Z"
   },
   {
    "duration": 6,
    "start_time": "2023-04-20T19:46:54.945Z"
   },
   {
    "duration": 188,
    "start_time": "2023-04-20T19:46:58.551Z"
   },
   {
    "duration": 70,
    "start_time": "2023-04-20T19:48:45.276Z"
   },
   {
    "duration": 10,
    "start_time": "2023-04-20T19:52:25.015Z"
   },
   {
    "duration": 14,
    "start_time": "2023-04-20T19:52:34.535Z"
   },
   {
    "duration": 16,
    "start_time": "2023-04-20T19:52:40.100Z"
   },
   {
    "duration": 15,
    "start_time": "2023-04-20T19:53:21.315Z"
   },
   {
    "duration": 14,
    "start_time": "2023-04-20T19:53:28.376Z"
   },
   {
    "duration": 10,
    "start_time": "2023-04-20T19:53:32.645Z"
   },
   {
    "duration": 10,
    "start_time": "2023-04-20T19:53:37.512Z"
   },
   {
    "duration": 16,
    "start_time": "2023-04-20T19:55:16.887Z"
   },
   {
    "duration": 9,
    "start_time": "2023-04-20T19:55:22.929Z"
   },
   {
    "duration": 12,
    "start_time": "2023-04-20T19:55:26.794Z"
   },
   {
    "duration": 56,
    "start_time": "2023-04-20T19:56:19.984Z"
   },
   {
    "duration": 76,
    "start_time": "2023-04-20T19:56:41.004Z"
   },
   {
    "duration": 7,
    "start_time": "2023-04-20T19:56:57.024Z"
   },
   {
    "duration": 15,
    "start_time": "2023-04-20T19:57:01.583Z"
   },
   {
    "duration": 4,
    "start_time": "2023-04-20T19:57:12.201Z"
   },
   {
    "duration": 55,
    "start_time": "2023-04-20T19:57:15.136Z"
   },
   {
    "duration": 4,
    "start_time": "2023-04-20T19:58:05.400Z"
   },
   {
    "duration": 16,
    "start_time": "2023-04-20T19:58:18.988Z"
   },
   {
    "duration": 16,
    "start_time": "2023-04-20T19:58:27.644Z"
   },
   {
    "duration": 15,
    "start_time": "2023-04-20T19:58:35.824Z"
   },
   {
    "duration": 21,
    "start_time": "2023-04-20T19:58:45.386Z"
   },
   {
    "duration": 70,
    "start_time": "2023-04-20T19:58:52.085Z"
   },
   {
    "duration": 103,
    "start_time": "2023-04-20T19:59:00.123Z"
   },
   {
    "duration": 120,
    "start_time": "2023-04-20T19:59:17.381Z"
   },
   {
    "duration": 79,
    "start_time": "2023-04-20T19:59:20.604Z"
   },
   {
    "duration": 77,
    "start_time": "2023-04-20T19:59:24.401Z"
   },
   {
    "duration": 126,
    "start_time": "2023-04-20T19:59:26.011Z"
   },
   {
    "duration": 67,
    "start_time": "2023-04-20T19:59:28.600Z"
   },
   {
    "duration": 20,
    "start_time": "2023-04-20T19:59:31.341Z"
   },
   {
    "duration": 16,
    "start_time": "2023-04-20T19:59:44.542Z"
   },
   {
    "duration": 9,
    "start_time": "2023-04-20T20:04:18.105Z"
   },
   {
    "duration": 43,
    "start_time": "2023-04-20T20:04:21.947Z"
   },
   {
    "duration": 6,
    "start_time": "2023-04-20T20:04:27.770Z"
   },
   {
    "duration": 3,
    "start_time": "2023-04-20T20:04:46.505Z"
   },
   {
    "duration": 51,
    "start_time": "2023-04-20T20:04:50.538Z"
   },
   {
    "duration": 6,
    "start_time": "2023-04-20T20:06:55.586Z"
   },
   {
    "duration": 5,
    "start_time": "2023-04-20T20:07:06.298Z"
   },
   {
    "duration": 8,
    "start_time": "2023-04-20T20:08:12.762Z"
   },
   {
    "duration": 2205,
    "start_time": "2023-04-20T20:08:16.674Z"
   },
   {
    "duration": 406,
    "start_time": "2023-04-20T20:08:24.414Z"
   },
   {
    "duration": 358,
    "start_time": "2023-04-20T20:08:53.269Z"
   },
   {
    "duration": 206,
    "start_time": "2023-04-20T20:09:22.444Z"
   },
   {
    "duration": 214,
    "start_time": "2023-04-20T20:09:36.376Z"
   },
   {
    "duration": 216,
    "start_time": "2023-04-20T20:12:11.437Z"
   },
   {
    "duration": 232,
    "start_time": "2023-04-20T20:12:19.328Z"
   },
   {
    "duration": 230,
    "start_time": "2023-04-20T20:12:28.359Z"
   },
   {
    "duration": 13,
    "start_time": "2023-04-20T20:21:14.422Z"
   },
   {
    "duration": 2,
    "start_time": "2023-04-20T20:27:04.241Z"
   },
   {
    "duration": 102,
    "start_time": "2023-04-20T20:27:04.681Z"
   },
   {
    "duration": 28,
    "start_time": "2023-04-20T20:27:05.134Z"
   },
   {
    "duration": 2097,
    "start_time": "2023-04-20T20:27:05.640Z"
   },
   {
    "duration": 11,
    "start_time": "2023-04-20T20:27:12.421Z"
   },
   {
    "duration": 7,
    "start_time": "2023-04-20T20:27:13.724Z"
   },
   {
    "duration": 6,
    "start_time": "2023-04-20T20:27:14.700Z"
   },
   {
    "duration": 7,
    "start_time": "2023-04-20T20:27:15.087Z"
   },
   {
    "duration": 6,
    "start_time": "2023-04-20T20:27:16.315Z"
   },
   {
    "duration": 10,
    "start_time": "2023-04-20T20:27:17.293Z"
   },
   {
    "duration": 6,
    "start_time": "2023-04-20T20:27:17.607Z"
   },
   {
    "duration": 8,
    "start_time": "2023-04-20T20:27:18.496Z"
   },
   {
    "duration": 7,
    "start_time": "2023-04-20T20:27:19.211Z"
   },
   {
    "duration": 3,
    "start_time": "2023-04-20T20:27:22.954Z"
   },
   {
    "duration": 5,
    "start_time": "2023-04-20T20:27:23.313Z"
   },
   {
    "duration": 127,
    "start_time": "2023-04-20T20:27:24.340Z"
   },
   {
    "duration": 133,
    "start_time": "2023-04-20T20:27:26.700Z"
   },
   {
    "duration": 9,
    "start_time": "2023-04-20T20:27:27.471Z"
   },
   {
    "duration": 5,
    "start_time": "2023-04-20T20:27:28.357Z"
   },
   {
    "duration": 4,
    "start_time": "2023-04-20T20:27:28.908Z"
   },
   {
    "duration": 5,
    "start_time": "2023-04-20T20:27:29.846Z"
   },
   {
    "duration": 5,
    "start_time": "2023-04-20T20:27:30.181Z"
   },
   {
    "duration": 8,
    "start_time": "2023-04-20T20:27:30.822Z"
   },
   {
    "duration": 4,
    "start_time": "2023-04-20T20:27:31.238Z"
   },
   {
    "duration": 6,
    "start_time": "2023-04-20T20:27:31.657Z"
   },
   {
    "duration": 7,
    "start_time": "2023-04-20T20:27:31.974Z"
   },
   {
    "duration": 12,
    "start_time": "2023-04-20T20:27:32.456Z"
   },
   {
    "duration": 7,
    "start_time": "2023-04-20T20:27:34.212Z"
   },
   {
    "duration": 4,
    "start_time": "2023-04-20T20:27:34.739Z"
   },
   {
    "duration": 7,
    "start_time": "2023-04-20T20:27:35.144Z"
   },
   {
    "duration": 7,
    "start_time": "2023-04-20T20:27:35.504Z"
   },
   {
    "duration": 10,
    "start_time": "2023-04-20T20:27:36.102Z"
   },
   {
    "duration": 7,
    "start_time": "2023-04-20T20:27:38.860Z"
   },
   {
    "duration": 6,
    "start_time": "2023-04-20T20:27:39.279Z"
   },
   {
    "duration": 51,
    "start_time": "2023-04-20T20:27:39.969Z"
   },
   {
    "duration": 9,
    "start_time": "2023-04-20T20:27:40.807Z"
   },
   {
    "duration": 15,
    "start_time": "2023-04-20T20:27:43.594Z"
   },
   {
    "duration": 5,
    "start_time": "2023-04-20T20:27:45.022Z"
   },
   {
    "duration": 7,
    "start_time": "2023-04-20T20:27:45.573Z"
   },
   {
    "duration": 6,
    "start_time": "2023-04-20T20:27:47.008Z"
   },
   {
    "duration": 6,
    "start_time": "2023-04-20T20:27:47.411Z"
   },
   {
    "duration": 6,
    "start_time": "2023-04-20T20:27:47.854Z"
   },
   {
    "duration": 14,
    "start_time": "2023-04-20T20:27:50.712Z"
   },
   {
    "duration": 7,
    "start_time": "2023-04-20T20:27:55.904Z"
   },
   {
    "duration": 4,
    "start_time": "2023-04-20T20:27:56.324Z"
   },
   {
    "duration": 6,
    "start_time": "2023-04-20T20:27:56.604Z"
   },
   {
    "duration": 4,
    "start_time": "2023-04-20T20:27:57.043Z"
   },
   {
    "duration": 4,
    "start_time": "2023-04-20T20:27:57.547Z"
   },
   {
    "duration": 5,
    "start_time": "2023-04-20T20:27:57.924Z"
   },
   {
    "duration": 4,
    "start_time": "2023-04-20T20:27:58.244Z"
   },
   {
    "duration": 4,
    "start_time": "2023-04-20T20:27:58.576Z"
   },
   {
    "duration": 21,
    "start_time": "2023-04-20T20:27:59.289Z"
   },
   {
    "duration": 24,
    "start_time": "2023-04-20T20:28:06.315Z"
   },
   {
    "duration": 20,
    "start_time": "2023-04-20T20:28:07.037Z"
   },
   {
    "duration": 8,
    "start_time": "2023-04-20T20:28:24.720Z"
   },
   {
    "duration": 16,
    "start_time": "2023-04-20T20:28:27.102Z"
   },
   {
    "duration": 24,
    "start_time": "2023-04-20T20:28:34.999Z"
   },
   {
    "duration": 15,
    "start_time": "2023-04-20T20:28:35.861Z"
   },
   {
    "duration": 15,
    "start_time": "2023-04-20T20:28:37.492Z"
   },
   {
    "duration": 16,
    "start_time": "2023-04-20T20:28:38.064Z"
   },
   {
    "duration": 133,
    "start_time": "2023-04-20T20:28:39.904Z"
   },
   {
    "duration": 175,
    "start_time": "2023-04-20T20:28:41.211Z"
   },
   {
    "duration": 8,
    "start_time": "2023-04-20T20:28:42.070Z"
   },
   {
    "duration": 10,
    "start_time": "2023-04-20T20:28:42.383Z"
   },
   {
    "duration": 157,
    "start_time": "2023-04-20T20:28:42.776Z"
   },
   {
    "duration": 9,
    "start_time": "2023-04-20T20:28:43.136Z"
   },
   {
    "duration": 3,
    "start_time": "2023-04-20T20:28:43.978Z"
   },
   {
    "duration": 8,
    "start_time": "2023-04-20T20:28:44.354Z"
   },
   {
    "duration": 5,
    "start_time": "2023-04-20T20:28:44.710Z"
   },
   {
    "duration": 150,
    "start_time": "2023-04-20T20:28:45.391Z"
   },
   {
    "duration": 2092,
    "start_time": "2023-04-20T20:28:46.130Z"
   },
   {
    "duration": 146,
    "start_time": "2023-04-20T20:28:48.224Z"
   },
   {
    "duration": 26,
    "start_time": "2023-04-20T20:28:48.372Z"
   },
   {
    "duration": 44,
    "start_time": "2023-04-20T20:28:53.583Z"
   },
   {
    "duration": 4,
    "start_time": "2023-04-20T20:28:54.238Z"
   },
   {
    "duration": 4,
    "start_time": "2023-04-20T20:28:54.517Z"
   },
   {
    "duration": 10,
    "start_time": "2023-04-20T20:28:54.786Z"
   },
   {
    "duration": 10,
    "start_time": "2023-04-20T20:28:55.075Z"
   },
   {
    "duration": 19,
    "start_time": "2023-04-20T20:28:55.435Z"
   },
   {
    "duration": 4,
    "start_time": "2023-04-20T20:28:56.736Z"
   },
   {
    "duration": 1751,
    "start_time": "2023-04-20T20:28:57.363Z"
   },
   {
    "duration": 1571,
    "start_time": "2023-04-20T20:28:59.116Z"
   },
   {
    "duration": 1689,
    "start_time": "2023-04-20T20:29:00.689Z"
   },
   {
    "duration": 8,
    "start_time": "2023-04-20T20:29:02.381Z"
   },
   {
    "duration": 2653,
    "start_time": "2023-04-20T20:29:02.399Z"
   },
   {
    "duration": 5,
    "start_time": "2023-04-20T20:29:06.315Z"
   },
   {
    "duration": 129,
    "start_time": "2023-04-20T20:29:07.269Z"
   },
   {
    "duration": 9,
    "start_time": "2023-04-20T20:29:07.603Z"
   },
   {
    "duration": 130,
    "start_time": "2023-04-20T20:29:07.903Z"
   },
   {
    "duration": 183,
    "start_time": "2023-04-20T20:29:08.723Z"
   },
   {
    "duration": 10,
    "start_time": "2023-04-20T20:29:09.020Z"
   },
   {
    "duration": 145,
    "start_time": "2023-04-20T20:29:09.313Z"
   },
   {
    "duration": 28,
    "start_time": "2023-04-20T20:29:09.849Z"
   },
   {
    "duration": 211,
    "start_time": "2023-04-20T20:29:10.462Z"
   },
   {
    "duration": 12,
    "start_time": "2023-04-20T20:29:10.746Z"
   },
   {
    "duration": 135,
    "start_time": "2023-04-20T20:29:11.058Z"
   },
   {
    "duration": 74,
    "start_time": "2023-04-20T20:29:11.376Z"
   },
   {
    "duration": 25,
    "start_time": "2023-04-20T20:29:11.654Z"
   },
   {
    "duration": 154,
    "start_time": "2023-04-20T20:29:12.200Z"
   },
   {
    "duration": 10,
    "start_time": "2023-04-20T20:29:12.454Z"
   },
   {
    "duration": 165,
    "start_time": "2023-04-20T20:29:12.709Z"
   },
   {
    "duration": 152,
    "start_time": "2023-04-20T20:29:12.961Z"
   },
   {
    "duration": 5,
    "start_time": "2023-04-20T20:29:13.217Z"
   },
   {
    "duration": 25,
    "start_time": "2023-04-20T20:29:13.937Z"
   },
   {
    "duration": 163,
    "start_time": "2023-04-20T20:29:14.572Z"
   },
   {
    "duration": 130,
    "start_time": "2023-04-20T20:29:14.843Z"
   },
   {
    "duration": 8,
    "start_time": "2023-04-20T20:29:15.135Z"
   },
   {
    "duration": 5,
    "start_time": "2023-04-20T20:29:15.454Z"
   },
   {
    "duration": 143,
    "start_time": "2023-04-20T20:29:16.411Z"
   },
   {
    "duration": 9,
    "start_time": "2023-04-20T20:29:16.732Z"
   },
   {
    "duration": 146,
    "start_time": "2023-04-20T20:29:17.550Z"
   },
   {
    "duration": 123,
    "start_time": "2023-04-20T20:29:17.854Z"
   },
   {
    "duration": 9,
    "start_time": "2023-04-20T20:29:18.141Z"
   },
   {
    "duration": 5,
    "start_time": "2023-04-20T20:29:18.404Z"
   },
   {
    "duration": 8,
    "start_time": "2023-04-20T20:29:19.242Z"
   },
   {
    "duration": 5,
    "start_time": "2023-04-20T20:29:19.501Z"
   },
   {
    "duration": 177,
    "start_time": "2023-04-20T20:29:20.299Z"
   },
   {
    "duration": 12,
    "start_time": "2023-04-20T20:29:20.575Z"
   },
   {
    "duration": 6,
    "start_time": "2023-04-20T20:29:20.847Z"
   },
   {
    "duration": 17,
    "start_time": "2023-04-20T20:29:21.146Z"
   },
   {
    "duration": 6,
    "start_time": "2023-04-20T20:29:21.464Z"
   },
   {
    "duration": 123,
    "start_time": "2023-04-20T20:29:21.755Z"
   },
   {
    "duration": 10,
    "start_time": "2023-04-20T20:29:22.079Z"
   },
   {
    "duration": 6,
    "start_time": "2023-04-20T20:29:22.364Z"
   },
   {
    "duration": 159,
    "start_time": "2023-04-20T20:29:23.270Z"
   },
   {
    "duration": 10,
    "start_time": "2023-04-20T20:29:23.567Z"
   },
   {
    "duration": 6,
    "start_time": "2023-04-20T20:29:23.839Z"
   },
   {
    "duration": 137,
    "start_time": "2023-04-20T20:29:24.621Z"
   },
   {
    "duration": 10,
    "start_time": "2023-04-20T20:29:24.855Z"
   },
   {
    "duration": 6,
    "start_time": "2023-04-20T20:29:25.133Z"
   },
   {
    "duration": 163,
    "start_time": "2023-04-20T20:29:25.850Z"
   },
   {
    "duration": 10,
    "start_time": "2023-04-20T20:29:26.058Z"
   },
   {
    "duration": 122,
    "start_time": "2023-04-20T20:29:26.520Z"
   },
   {
    "duration": 300,
    "start_time": "2023-04-20T20:29:26.917Z"
   },
   {
    "duration": 7,
    "start_time": "2023-04-20T20:29:27.236Z"
   },
   {
    "duration": 6,
    "start_time": "2023-04-20T20:29:27.530Z"
   },
   {
    "duration": 158,
    "start_time": "2023-04-20T20:29:29.092Z"
   },
   {
    "duration": 11,
    "start_time": "2023-04-20T20:29:29.500Z"
   },
   {
    "duration": 6,
    "start_time": "2023-04-20T20:29:30.299Z"
   },
   {
    "duration": 5,
    "start_time": "2023-04-20T20:29:31.011Z"
   },
   {
    "duration": 10,
    "start_time": "2023-04-20T20:29:32.174Z"
   },
   {
    "duration": 10,
    "start_time": "2023-04-20T20:29:33.253Z"
   },
   {
    "duration": 13,
    "start_time": "2023-04-20T20:29:34.295Z"
   },
   {
    "duration": 11,
    "start_time": "2023-04-20T20:29:35.260Z"
   },
   {
    "duration": 12,
    "start_time": "2023-04-20T20:29:36.301Z"
   },
   {
    "duration": 12,
    "start_time": "2023-04-20T20:29:36.614Z"
   },
   {
    "duration": 15,
    "start_time": "2023-04-20T20:29:37.000Z"
   },
   {
    "duration": 14,
    "start_time": "2023-04-20T20:29:37.355Z"
   },
   {
    "duration": 14,
    "start_time": "2023-04-20T20:29:38.157Z"
   },
   {
    "duration": 168,
    "start_time": "2023-04-20T20:29:39.325Z"
   },
   {
    "duration": 180,
    "start_time": "2023-04-20T20:29:40.705Z"
   },
   {
    "duration": 160,
    "start_time": "2023-04-20T20:29:42.121Z"
   },
   {
    "duration": 10,
    "start_time": "2023-04-20T20:29:44.212Z"
   },
   {
    "duration": 9,
    "start_time": "2023-04-20T20:29:44.804Z"
   },
   {
    "duration": 11,
    "start_time": "2023-04-20T20:29:45.732Z"
   },
   {
    "duration": 3,
    "start_time": "2023-04-20T20:29:46.049Z"
   },
   {
    "duration": 17,
    "start_time": "2023-04-20T20:29:46.342Z"
   },
   {
    "duration": 9,
    "start_time": "2023-04-20T20:29:47.781Z"
   },
   {
    "duration": 2,
    "start_time": "2023-04-20T20:29:48.099Z"
   },
   {
    "duration": 212,
    "start_time": "2023-04-20T20:29:48.880Z"
   },
   {
    "duration": 480,
    "start_time": "2023-04-20T20:37:13.478Z"
   },
   {
    "duration": 188,
    "start_time": "2023-04-20T20:37:13.961Z"
   },
   {
    "duration": 46,
    "start_time": "2023-04-20T20:37:14.151Z"
   },
   {
    "duration": 2335,
    "start_time": "2023-04-20T20:37:14.199Z"
   },
   {
    "duration": 10,
    "start_time": "2023-04-20T20:37:16.536Z"
   },
   {
    "duration": 28,
    "start_time": "2023-04-20T20:37:16.547Z"
   },
   {
    "duration": 21,
    "start_time": "2023-04-20T20:37:16.576Z"
   },
   {
    "duration": 17,
    "start_time": "2023-04-20T20:37:16.598Z"
   },
   {
    "duration": 6,
    "start_time": "2023-04-20T20:37:16.617Z"
   },
   {
    "duration": 4,
    "start_time": "2023-04-20T20:37:16.626Z"
   },
   {
    "duration": 9,
    "start_time": "2023-04-20T20:37:16.631Z"
   },
   {
    "duration": 6,
    "start_time": "2023-04-20T20:37:16.642Z"
   },
   {
    "duration": 14,
    "start_time": "2023-04-20T20:37:16.650Z"
   },
   {
    "duration": 4,
    "start_time": "2023-04-20T20:37:16.666Z"
   },
   {
    "duration": 20,
    "start_time": "2023-04-20T20:37:16.672Z"
   },
   {
    "duration": 143,
    "start_time": "2023-04-20T20:37:16.694Z"
   },
   {
    "duration": 137,
    "start_time": "2023-04-20T20:37:16.838Z"
   },
   {
    "duration": 10,
    "start_time": "2023-04-20T20:37:16.978Z"
   },
   {
    "duration": 18,
    "start_time": "2023-04-20T20:37:16.990Z"
   },
   {
    "duration": 5,
    "start_time": "2023-04-20T20:37:17.010Z"
   },
   {
    "duration": 5,
    "start_time": "2023-04-20T20:37:17.016Z"
   },
   {
    "duration": 15,
    "start_time": "2023-04-20T20:37:17.023Z"
   },
   {
    "duration": 38,
    "start_time": "2023-04-20T20:37:17.039Z"
   },
   {
    "duration": 9,
    "start_time": "2023-04-20T20:37:17.078Z"
   },
   {
    "duration": 8,
    "start_time": "2023-04-20T20:37:17.088Z"
   },
   {
    "duration": 6,
    "start_time": "2023-04-20T20:37:17.097Z"
   },
   {
    "duration": 8,
    "start_time": "2023-04-20T20:37:17.105Z"
   },
   {
    "duration": 7,
    "start_time": "2023-04-20T20:37:17.117Z"
   },
   {
    "duration": 4,
    "start_time": "2023-04-20T20:37:17.126Z"
   },
   {
    "duration": 6,
    "start_time": "2023-04-20T20:37:17.131Z"
   },
   {
    "duration": 19,
    "start_time": "2023-04-20T20:37:17.138Z"
   },
   {
    "duration": 11,
    "start_time": "2023-04-20T20:37:17.159Z"
   },
   {
    "duration": 10,
    "start_time": "2023-04-20T20:37:17.172Z"
   },
   {
    "duration": 11,
    "start_time": "2023-04-20T20:37:17.183Z"
   },
   {
    "duration": 38,
    "start_time": "2023-04-20T20:37:17.196Z"
   },
   {
    "duration": 23,
    "start_time": "2023-04-20T20:37:17.236Z"
   },
   {
    "duration": 20,
    "start_time": "2023-04-20T20:37:17.261Z"
   },
   {
    "duration": 11,
    "start_time": "2023-04-20T20:37:17.282Z"
   },
   {
    "duration": 8,
    "start_time": "2023-04-20T20:37:17.295Z"
   },
   {
    "duration": 6,
    "start_time": "2023-04-20T20:37:17.305Z"
   },
   {
    "duration": 5,
    "start_time": "2023-04-20T20:37:17.314Z"
   },
   {
    "duration": 9,
    "start_time": "2023-04-20T20:37:17.321Z"
   },
   {
    "duration": 104,
    "start_time": "2023-04-20T20:37:17.331Z"
   },
   {
    "duration": 0,
    "start_time": "2023-04-20T20:37:17.439Z"
   },
   {
    "duration": 0,
    "start_time": "2023-04-20T20:37:17.440Z"
   },
   {
    "duration": 0,
    "start_time": "2023-04-20T20:37:17.441Z"
   },
   {
    "duration": 0,
    "start_time": "2023-04-20T20:37:17.442Z"
   },
   {
    "duration": 0,
    "start_time": "2023-04-20T20:37:17.443Z"
   },
   {
    "duration": 0,
    "start_time": "2023-04-20T20:37:17.444Z"
   },
   {
    "duration": 0,
    "start_time": "2023-04-20T20:37:17.445Z"
   },
   {
    "duration": 0,
    "start_time": "2023-04-20T20:37:17.446Z"
   },
   {
    "duration": 0,
    "start_time": "2023-04-20T20:37:17.456Z"
   },
   {
    "duration": 0,
    "start_time": "2023-04-20T20:37:17.457Z"
   },
   {
    "duration": 0,
    "start_time": "2023-04-20T20:37:17.458Z"
   },
   {
    "duration": 0,
    "start_time": "2023-04-20T20:37:17.459Z"
   },
   {
    "duration": 0,
    "start_time": "2023-04-20T20:37:17.460Z"
   },
   {
    "duration": 0,
    "start_time": "2023-04-20T20:37:17.461Z"
   },
   {
    "duration": 0,
    "start_time": "2023-04-20T20:37:17.462Z"
   },
   {
    "duration": 0,
    "start_time": "2023-04-20T20:37:17.463Z"
   },
   {
    "duration": 0,
    "start_time": "2023-04-20T20:37:17.465Z"
   },
   {
    "duration": 0,
    "start_time": "2023-04-20T20:37:17.465Z"
   },
   {
    "duration": 0,
    "start_time": "2023-04-20T20:37:17.467Z"
   },
   {
    "duration": 0,
    "start_time": "2023-04-20T20:37:17.468Z"
   },
   {
    "duration": 0,
    "start_time": "2023-04-20T20:37:17.469Z"
   },
   {
    "duration": 0,
    "start_time": "2023-04-20T20:37:17.470Z"
   },
   {
    "duration": 0,
    "start_time": "2023-04-20T20:37:17.471Z"
   },
   {
    "duration": 0,
    "start_time": "2023-04-20T20:37:17.472Z"
   },
   {
    "duration": 0,
    "start_time": "2023-04-20T20:37:17.473Z"
   },
   {
    "duration": 0,
    "start_time": "2023-04-20T20:37:17.476Z"
   },
   {
    "duration": 0,
    "start_time": "2023-04-20T20:37:17.477Z"
   },
   {
    "duration": 0,
    "start_time": "2023-04-20T20:37:17.478Z"
   },
   {
    "duration": 0,
    "start_time": "2023-04-20T20:37:17.480Z"
   },
   {
    "duration": 0,
    "start_time": "2023-04-20T20:37:17.481Z"
   },
   {
    "duration": 0,
    "start_time": "2023-04-20T20:37:17.482Z"
   },
   {
    "duration": 0,
    "start_time": "2023-04-20T20:37:17.483Z"
   },
   {
    "duration": 1,
    "start_time": "2023-04-20T20:37:17.484Z"
   },
   {
    "duration": 0,
    "start_time": "2023-04-20T20:37:17.485Z"
   },
   {
    "duration": 0,
    "start_time": "2023-04-20T20:37:17.487Z"
   },
   {
    "duration": 0,
    "start_time": "2023-04-20T20:37:17.488Z"
   },
   {
    "duration": 0,
    "start_time": "2023-04-20T20:37:17.489Z"
   },
   {
    "duration": 0,
    "start_time": "2023-04-20T20:37:17.490Z"
   },
   {
    "duration": 0,
    "start_time": "2023-04-20T20:37:17.491Z"
   },
   {
    "duration": 0,
    "start_time": "2023-04-20T20:37:17.492Z"
   },
   {
    "duration": 0,
    "start_time": "2023-04-20T20:37:17.493Z"
   },
   {
    "duration": 0,
    "start_time": "2023-04-20T20:37:17.494Z"
   },
   {
    "duration": 0,
    "start_time": "2023-04-20T20:37:17.495Z"
   },
   {
    "duration": 0,
    "start_time": "2023-04-20T20:37:17.496Z"
   },
   {
    "duration": 0,
    "start_time": "2023-04-20T20:37:17.556Z"
   },
   {
    "duration": 0,
    "start_time": "2023-04-20T20:37:17.557Z"
   },
   {
    "duration": 0,
    "start_time": "2023-04-20T20:37:17.558Z"
   },
   {
    "duration": 0,
    "start_time": "2023-04-20T20:37:17.559Z"
   },
   {
    "duration": 0,
    "start_time": "2023-04-20T20:37:17.560Z"
   },
   {
    "duration": 0,
    "start_time": "2023-04-20T20:37:17.565Z"
   },
   {
    "duration": 0,
    "start_time": "2023-04-20T20:37:17.565Z"
   },
   {
    "duration": 0,
    "start_time": "2023-04-20T20:37:17.566Z"
   },
   {
    "duration": 0,
    "start_time": "2023-04-20T20:37:17.567Z"
   },
   {
    "duration": 0,
    "start_time": "2023-04-20T20:37:17.569Z"
   },
   {
    "duration": 0,
    "start_time": "2023-04-20T20:37:17.571Z"
   },
   {
    "duration": 0,
    "start_time": "2023-04-20T20:37:17.572Z"
   },
   {
    "duration": 0,
    "start_time": "2023-04-20T20:37:17.574Z"
   },
   {
    "duration": 0,
    "start_time": "2023-04-20T20:37:17.576Z"
   },
   {
    "duration": 0,
    "start_time": "2023-04-20T20:37:17.577Z"
   },
   {
    "duration": 0,
    "start_time": "2023-04-20T20:37:17.578Z"
   },
   {
    "duration": 0,
    "start_time": "2023-04-20T20:37:17.579Z"
   },
   {
    "duration": 0,
    "start_time": "2023-04-20T20:37:17.580Z"
   },
   {
    "duration": 0,
    "start_time": "2023-04-20T20:37:17.581Z"
   },
   {
    "duration": 0,
    "start_time": "2023-04-20T20:37:17.582Z"
   },
   {
    "duration": 0,
    "start_time": "2023-04-20T20:37:17.583Z"
   },
   {
    "duration": 0,
    "start_time": "2023-04-20T20:37:17.584Z"
   },
   {
    "duration": 0,
    "start_time": "2023-04-20T20:37:17.585Z"
   },
   {
    "duration": 0,
    "start_time": "2023-04-20T20:37:17.586Z"
   },
   {
    "duration": 0,
    "start_time": "2023-04-20T20:37:17.587Z"
   },
   {
    "duration": 0,
    "start_time": "2023-04-20T20:37:17.588Z"
   },
   {
    "duration": 0,
    "start_time": "2023-04-20T20:37:17.589Z"
   },
   {
    "duration": 0,
    "start_time": "2023-04-20T20:37:17.589Z"
   },
   {
    "duration": 0,
    "start_time": "2023-04-20T20:37:17.590Z"
   },
   {
    "duration": 0,
    "start_time": "2023-04-20T20:37:17.592Z"
   },
   {
    "duration": 0,
    "start_time": "2023-04-20T20:37:17.600Z"
   },
   {
    "duration": 0,
    "start_time": "2023-04-20T20:37:17.601Z"
   },
   {
    "duration": 0,
    "start_time": "2023-04-20T20:37:17.602Z"
   },
   {
    "duration": 0,
    "start_time": "2023-04-20T20:37:17.657Z"
   },
   {
    "duration": 0,
    "start_time": "2023-04-20T20:37:17.659Z"
   },
   {
    "duration": 0,
    "start_time": "2023-04-20T20:37:17.660Z"
   },
   {
    "duration": 0,
    "start_time": "2023-04-20T20:37:17.661Z"
   },
   {
    "duration": 0,
    "start_time": "2023-04-20T20:37:17.662Z"
   },
   {
    "duration": 0,
    "start_time": "2023-04-20T20:37:17.664Z"
   },
   {
    "duration": 0,
    "start_time": "2023-04-20T20:37:17.665Z"
   },
   {
    "duration": 0,
    "start_time": "2023-04-20T20:37:17.666Z"
   },
   {
    "duration": 0,
    "start_time": "2023-04-20T20:37:17.667Z"
   },
   {
    "duration": 0,
    "start_time": "2023-04-20T20:37:17.667Z"
   },
   {
    "duration": 0,
    "start_time": "2023-04-20T20:37:17.668Z"
   },
   {
    "duration": 1,
    "start_time": "2023-04-20T20:37:17.668Z"
   },
   {
    "duration": 0,
    "start_time": "2023-04-20T20:37:17.669Z"
   },
   {
    "duration": 0,
    "start_time": "2023-04-20T20:37:17.670Z"
   },
   {
    "duration": 0,
    "start_time": "2023-04-20T20:37:17.670Z"
   },
   {
    "duration": 0,
    "start_time": "2023-04-20T20:37:17.671Z"
   },
   {
    "duration": 0,
    "start_time": "2023-04-20T20:37:17.671Z"
   },
   {
    "duration": 0,
    "start_time": "2023-04-20T20:37:17.673Z"
   },
   {
    "duration": 0,
    "start_time": "2023-04-20T20:37:17.674Z"
   },
   {
    "duration": 0,
    "start_time": "2023-04-20T20:37:17.676Z"
   },
   {
    "duration": 0,
    "start_time": "2023-04-20T20:37:17.677Z"
   },
   {
    "duration": 0,
    "start_time": "2023-04-20T20:37:17.679Z"
   },
   {
    "duration": 0,
    "start_time": "2023-04-20T20:37:17.680Z"
   },
   {
    "duration": 0,
    "start_time": "2023-04-20T20:37:17.681Z"
   },
   {
    "duration": 0,
    "start_time": "2023-04-20T20:37:17.683Z"
   },
   {
    "duration": 0,
    "start_time": "2023-04-20T20:37:17.684Z"
   },
   {
    "duration": 0,
    "start_time": "2023-04-20T20:37:17.686Z"
   },
   {
    "duration": 0,
    "start_time": "2023-04-20T20:37:17.687Z"
   },
   {
    "duration": 0,
    "start_time": "2023-04-20T20:37:17.688Z"
   },
   {
    "duration": 0,
    "start_time": "2023-04-20T20:37:17.690Z"
   },
   {
    "duration": 0,
    "start_time": "2023-04-20T20:37:17.691Z"
   },
   {
    "duration": 0,
    "start_time": "2023-04-20T20:37:17.693Z"
   },
   {
    "duration": 0,
    "start_time": "2023-04-20T20:37:17.694Z"
   },
   {
    "duration": 0,
    "start_time": "2023-04-20T20:37:17.756Z"
   },
   {
    "duration": 0,
    "start_time": "2023-04-20T20:37:17.758Z"
   },
   {
    "duration": 0,
    "start_time": "2023-04-20T20:37:17.759Z"
   },
   {
    "duration": 0,
    "start_time": "2023-04-20T20:37:17.760Z"
   },
   {
    "duration": 0,
    "start_time": "2023-04-20T20:37:17.761Z"
   },
   {
    "duration": 3,
    "start_time": "2023-04-20T20:59:19.685Z"
   },
   {
    "duration": 134,
    "start_time": "2023-04-20T20:59:20.388Z"
   },
   {
    "duration": 28,
    "start_time": "2023-04-20T20:59:22.888Z"
   },
   {
    "duration": 2882,
    "start_time": "2023-04-20T20:59:23.415Z"
   },
   {
    "duration": 14,
    "start_time": "2023-04-20T20:59:26.300Z"
   },
   {
    "duration": 10,
    "start_time": "2023-04-20T20:59:29.503Z"
   },
   {
    "duration": 6,
    "start_time": "2023-04-20T20:59:30.186Z"
   },
   {
    "duration": 7,
    "start_time": "2023-04-20T20:59:30.484Z"
   },
   {
    "duration": 5,
    "start_time": "2023-04-20T20:59:31.508Z"
   },
   {
    "duration": 5,
    "start_time": "2023-04-20T20:59:32.223Z"
   },
   {
    "duration": 6,
    "start_time": "2023-04-20T20:59:32.605Z"
   },
   {
    "duration": 6,
    "start_time": "2023-04-20T20:59:33.390Z"
   },
   {
    "duration": 11,
    "start_time": "2023-04-20T20:59:34.135Z"
   },
   {
    "duration": 5,
    "start_time": "2023-04-20T20:59:34.985Z"
   },
   {
    "duration": 8,
    "start_time": "2023-04-20T20:59:35.321Z"
   },
   {
    "duration": 141,
    "start_time": "2023-04-20T20:59:36.086Z"
   },
   {
    "duration": 193,
    "start_time": "2023-04-20T20:59:36.454Z"
   },
   {
    "duration": 11,
    "start_time": "2023-04-20T20:59:36.986Z"
   },
   {
    "duration": 5,
    "start_time": "2023-04-20T20:59:37.437Z"
   },
   {
    "duration": 6,
    "start_time": "2023-04-20T20:59:37.837Z"
   },
   {
    "duration": 5,
    "start_time": "2023-04-20T20:59:39.223Z"
   },
   {
    "duration": 5,
    "start_time": "2023-04-20T20:59:39.557Z"
   },
   {
    "duration": 8,
    "start_time": "2023-04-20T20:59:40.319Z"
   },
   {
    "duration": 4,
    "start_time": "2023-04-20T20:59:40.743Z"
   },
   {
    "duration": 7,
    "start_time": "2023-04-20T20:59:41.190Z"
   },
   {
    "duration": 6,
    "start_time": "2023-04-20T20:59:41.618Z"
   },
   {
    "duration": 11,
    "start_time": "2023-04-20T20:59:42.086Z"
   },
   {
    "duration": 7,
    "start_time": "2023-04-20T20:59:45.729Z"
   },
   {
    "duration": 4,
    "start_time": "2023-04-20T20:59:46.408Z"
   },
   {
    "duration": 7,
    "start_time": "2023-04-20T20:59:47.947Z"
   },
   {
    "duration": 8,
    "start_time": "2023-04-20T20:59:48.346Z"
   },
   {
    "duration": 473,
    "start_time": "2023-04-20T20:59:58.239Z"
   },
   {
    "duration": 113,
    "start_time": "2023-04-20T20:59:58.714Z"
   },
   {
    "duration": 34,
    "start_time": "2023-04-20T20:59:58.829Z"
   },
   {
    "duration": 2589,
    "start_time": "2023-04-20T20:59:58.866Z"
   },
   {
    "duration": 15,
    "start_time": "2023-04-20T21:00:01.458Z"
   },
   {
    "duration": 79,
    "start_time": "2023-04-20T21:00:01.475Z"
   },
   {
    "duration": 79,
    "start_time": "2023-04-20T21:00:01.556Z"
   },
   {
    "duration": 101,
    "start_time": "2023-04-20T21:00:01.637Z"
   },
   {
    "duration": 80,
    "start_time": "2023-04-20T21:00:01.741Z"
   },
   {
    "duration": 69,
    "start_time": "2023-04-20T21:00:01.823Z"
   },
   {
    "duration": 76,
    "start_time": "2023-04-20T21:00:01.894Z"
   },
   {
    "duration": 70,
    "start_time": "2023-04-20T21:00:01.972Z"
   },
   {
    "duration": 81,
    "start_time": "2023-04-20T21:00:02.044Z"
   },
   {
    "duration": 175,
    "start_time": "2023-04-20T21:00:02.130Z"
   },
   {
    "duration": 62,
    "start_time": "2023-04-20T21:00:02.307Z"
   },
   {
    "duration": 193,
    "start_time": "2023-04-20T21:00:02.371Z"
   },
   {
    "duration": 184,
    "start_time": "2023-04-20T21:00:02.566Z"
   },
   {
    "duration": 12,
    "start_time": "2023-04-20T21:00:02.752Z"
   },
   {
    "duration": 113,
    "start_time": "2023-04-20T21:00:02.766Z"
   },
   {
    "duration": 155,
    "start_time": "2023-04-20T21:00:02.882Z"
   },
   {
    "duration": 46,
    "start_time": "2023-04-20T21:00:03.039Z"
   },
   {
    "duration": 104,
    "start_time": "2023-04-20T21:00:03.088Z"
   },
   {
    "duration": 57,
    "start_time": "2023-04-20T21:00:03.194Z"
   },
   {
    "duration": 27,
    "start_time": "2023-04-20T21:00:03.252Z"
   },
   {
    "duration": 77,
    "start_time": "2023-04-20T21:00:03.281Z"
   },
   {
    "duration": 29,
    "start_time": "2023-04-20T21:00:03.360Z"
   },
   {
    "duration": 56,
    "start_time": "2023-04-20T21:00:03.391Z"
   },
   {
    "duration": 57,
    "start_time": "2023-04-20T21:00:03.449Z"
   },
   {
    "duration": 43,
    "start_time": "2023-04-20T21:00:03.508Z"
   },
   {
    "duration": 38,
    "start_time": "2023-04-20T21:00:03.554Z"
   },
   {
    "duration": 52,
    "start_time": "2023-04-20T21:00:03.594Z"
   },
   {
    "duration": 41,
    "start_time": "2023-04-20T21:00:03.648Z"
   },
   {
    "duration": 52,
    "start_time": "2023-04-20T21:00:03.691Z"
   },
   {
    "duration": 57,
    "start_time": "2023-04-20T21:00:03.746Z"
   },
   {
    "duration": 79,
    "start_time": "2023-04-20T21:00:03.804Z"
   },
   {
    "duration": 26,
    "start_time": "2023-04-20T21:00:03.885Z"
   },
   {
    "duration": 38,
    "start_time": "2023-04-20T21:00:03.913Z"
   },
   {
    "duration": 40,
    "start_time": "2023-04-20T21:00:03.954Z"
   },
   {
    "duration": 48,
    "start_time": "2023-04-20T21:00:03.995Z"
   },
   {
    "duration": 26,
    "start_time": "2023-04-20T21:00:04.045Z"
   },
   {
    "duration": 40,
    "start_time": "2023-04-20T21:00:04.077Z"
   },
   {
    "duration": 30,
    "start_time": "2023-04-20T21:00:04.119Z"
   },
   {
    "duration": 127,
    "start_time": "2023-04-20T21:00:04.151Z"
   },
   {
    "duration": 0,
    "start_time": "2023-04-20T21:00:04.281Z"
   },
   {
    "duration": 0,
    "start_time": "2023-04-20T21:00:04.283Z"
   },
   {
    "duration": 0,
    "start_time": "2023-04-20T21:00:04.285Z"
   },
   {
    "duration": 0,
    "start_time": "2023-04-20T21:00:04.286Z"
   },
   {
    "duration": 0,
    "start_time": "2023-04-20T21:00:04.287Z"
   },
   {
    "duration": 1,
    "start_time": "2023-04-20T21:00:04.288Z"
   },
   {
    "duration": 0,
    "start_time": "2023-04-20T21:00:04.290Z"
   },
   {
    "duration": 0,
    "start_time": "2023-04-20T21:00:04.292Z"
   },
   {
    "duration": 0,
    "start_time": "2023-04-20T21:00:04.293Z"
   },
   {
    "duration": 0,
    "start_time": "2023-04-20T21:00:04.294Z"
   },
   {
    "duration": 0,
    "start_time": "2023-04-20T21:00:04.296Z"
   },
   {
    "duration": 0,
    "start_time": "2023-04-20T21:00:04.297Z"
   },
   {
    "duration": 0,
    "start_time": "2023-04-20T21:00:04.299Z"
   },
   {
    "duration": 0,
    "start_time": "2023-04-20T21:00:04.300Z"
   },
   {
    "duration": 0,
    "start_time": "2023-04-20T21:00:04.301Z"
   },
   {
    "duration": 0,
    "start_time": "2023-04-20T21:00:04.303Z"
   },
   {
    "duration": 0,
    "start_time": "2023-04-20T21:00:04.304Z"
   },
   {
    "duration": 0,
    "start_time": "2023-04-20T21:00:04.306Z"
   },
   {
    "duration": 0,
    "start_time": "2023-04-20T21:00:04.308Z"
   },
   {
    "duration": 0,
    "start_time": "2023-04-20T21:00:04.309Z"
   },
   {
    "duration": 0,
    "start_time": "2023-04-20T21:00:04.311Z"
   },
   {
    "duration": 0,
    "start_time": "2023-04-20T21:00:04.312Z"
   },
   {
    "duration": 0,
    "start_time": "2023-04-20T21:00:04.314Z"
   },
   {
    "duration": 0,
    "start_time": "2023-04-20T21:00:04.315Z"
   },
   {
    "duration": 0,
    "start_time": "2023-04-20T21:00:04.317Z"
   },
   {
    "duration": 0,
    "start_time": "2023-04-20T21:00:04.319Z"
   },
   {
    "duration": 0,
    "start_time": "2023-04-20T21:00:04.320Z"
   },
   {
    "duration": 0,
    "start_time": "2023-04-20T21:00:04.321Z"
   },
   {
    "duration": 0,
    "start_time": "2023-04-20T21:00:04.322Z"
   },
   {
    "duration": 0,
    "start_time": "2023-04-20T21:00:04.324Z"
   },
   {
    "duration": 0,
    "start_time": "2023-04-20T21:00:04.325Z"
   },
   {
    "duration": 0,
    "start_time": "2023-04-20T21:00:04.327Z"
   },
   {
    "duration": 0,
    "start_time": "2023-04-20T21:00:04.328Z"
   },
   {
    "duration": 0,
    "start_time": "2023-04-20T21:00:04.388Z"
   },
   {
    "duration": 0,
    "start_time": "2023-04-20T21:00:04.390Z"
   },
   {
    "duration": 0,
    "start_time": "2023-04-20T21:00:04.392Z"
   },
   {
    "duration": 0,
    "start_time": "2023-04-20T21:00:04.393Z"
   },
   {
    "duration": 0,
    "start_time": "2023-04-20T21:00:04.395Z"
   },
   {
    "duration": 0,
    "start_time": "2023-04-20T21:00:04.396Z"
   },
   {
    "duration": 0,
    "start_time": "2023-04-20T21:00:04.397Z"
   },
   {
    "duration": 0,
    "start_time": "2023-04-20T21:00:04.399Z"
   },
   {
    "duration": 0,
    "start_time": "2023-04-20T21:00:04.400Z"
   },
   {
    "duration": 0,
    "start_time": "2023-04-20T21:00:04.401Z"
   },
   {
    "duration": 0,
    "start_time": "2023-04-20T21:00:04.402Z"
   },
   {
    "duration": 0,
    "start_time": "2023-04-20T21:00:04.403Z"
   },
   {
    "duration": 0,
    "start_time": "2023-04-20T21:00:04.404Z"
   },
   {
    "duration": 0,
    "start_time": "2023-04-20T21:00:04.405Z"
   },
   {
    "duration": 0,
    "start_time": "2023-04-20T21:00:04.407Z"
   },
   {
    "duration": 0,
    "start_time": "2023-04-20T21:00:04.408Z"
   },
   {
    "duration": 0,
    "start_time": "2023-04-20T21:00:04.409Z"
   },
   {
    "duration": 0,
    "start_time": "2023-04-20T21:00:04.410Z"
   },
   {
    "duration": 0,
    "start_time": "2023-04-20T21:00:04.411Z"
   },
   {
    "duration": 0,
    "start_time": "2023-04-20T21:00:04.412Z"
   },
   {
    "duration": 0,
    "start_time": "2023-04-20T21:00:04.413Z"
   },
   {
    "duration": 0,
    "start_time": "2023-04-20T21:00:04.414Z"
   },
   {
    "duration": 0,
    "start_time": "2023-04-20T21:00:04.415Z"
   },
   {
    "duration": 0,
    "start_time": "2023-04-20T21:00:04.416Z"
   },
   {
    "duration": 0,
    "start_time": "2023-04-20T21:00:04.418Z"
   },
   {
    "duration": 0,
    "start_time": "2023-04-20T21:00:04.419Z"
   },
   {
    "duration": 0,
    "start_time": "2023-04-20T21:00:04.420Z"
   },
   {
    "duration": 0,
    "start_time": "2023-04-20T21:00:04.421Z"
   },
   {
    "duration": 0,
    "start_time": "2023-04-20T21:00:04.423Z"
   },
   {
    "duration": 0,
    "start_time": "2023-04-20T21:00:04.487Z"
   },
   {
    "duration": 0,
    "start_time": "2023-04-20T21:00:04.488Z"
   },
   {
    "duration": 0,
    "start_time": "2023-04-20T21:00:04.490Z"
   },
   {
    "duration": 0,
    "start_time": "2023-04-20T21:00:04.491Z"
   },
   {
    "duration": 0,
    "start_time": "2023-04-20T21:00:04.493Z"
   },
   {
    "duration": 0,
    "start_time": "2023-04-20T21:00:04.494Z"
   },
   {
    "duration": 0,
    "start_time": "2023-04-20T21:00:04.495Z"
   },
   {
    "duration": 0,
    "start_time": "2023-04-20T21:00:04.497Z"
   },
   {
    "duration": 0,
    "start_time": "2023-04-20T21:00:04.498Z"
   },
   {
    "duration": 0,
    "start_time": "2023-04-20T21:00:04.499Z"
   },
   {
    "duration": 0,
    "start_time": "2023-04-20T21:00:04.500Z"
   },
   {
    "duration": 0,
    "start_time": "2023-04-20T21:00:04.501Z"
   },
   {
    "duration": 0,
    "start_time": "2023-04-20T21:00:04.502Z"
   },
   {
    "duration": 0,
    "start_time": "2023-04-20T21:00:04.503Z"
   },
   {
    "duration": 0,
    "start_time": "2023-04-20T21:00:04.504Z"
   },
   {
    "duration": 0,
    "start_time": "2023-04-20T21:00:04.505Z"
   },
   {
    "duration": 0,
    "start_time": "2023-04-20T21:00:04.507Z"
   },
   {
    "duration": 0,
    "start_time": "2023-04-20T21:00:04.507Z"
   },
   {
    "duration": 0,
    "start_time": "2023-04-20T21:00:04.511Z"
   },
   {
    "duration": 0,
    "start_time": "2023-04-20T21:00:04.512Z"
   },
   {
    "duration": 0,
    "start_time": "2023-04-20T21:00:04.514Z"
   },
   {
    "duration": 0,
    "start_time": "2023-04-20T21:00:04.515Z"
   },
   {
    "duration": 0,
    "start_time": "2023-04-20T21:00:04.516Z"
   },
   {
    "duration": 0,
    "start_time": "2023-04-20T21:00:04.517Z"
   },
   {
    "duration": 0,
    "start_time": "2023-04-20T21:00:04.518Z"
   },
   {
    "duration": 0,
    "start_time": "2023-04-20T21:00:04.519Z"
   },
   {
    "duration": 0,
    "start_time": "2023-04-20T21:00:04.520Z"
   },
   {
    "duration": 0,
    "start_time": "2023-04-20T21:00:04.521Z"
   },
   {
    "duration": 0,
    "start_time": "2023-04-20T21:00:04.523Z"
   },
   {
    "duration": 0,
    "start_time": "2023-04-20T21:00:04.523Z"
   },
   {
    "duration": 0,
    "start_time": "2023-04-20T21:00:04.525Z"
   },
   {
    "duration": 0,
    "start_time": "2023-04-20T21:00:04.526Z"
   },
   {
    "duration": 0,
    "start_time": "2023-04-20T21:00:04.587Z"
   },
   {
    "duration": 1,
    "start_time": "2023-04-20T21:00:04.588Z"
   },
   {
    "duration": 0,
    "start_time": "2023-04-20T21:00:04.590Z"
   },
   {
    "duration": 0,
    "start_time": "2023-04-20T21:00:04.591Z"
   },
   {
    "duration": 0,
    "start_time": "2023-04-20T21:00:04.593Z"
   },
   {
    "duration": 0,
    "start_time": "2023-04-20T21:00:04.594Z"
   },
   {
    "duration": 0,
    "start_time": "2023-04-20T21:00:04.596Z"
   },
   {
    "duration": 0,
    "start_time": "2023-04-20T21:00:04.598Z"
   },
   {
    "duration": 0,
    "start_time": "2023-04-20T21:00:04.599Z"
   },
   {
    "duration": 0,
    "start_time": "2023-04-20T21:00:04.609Z"
   },
   {
    "duration": 0,
    "start_time": "2023-04-20T21:00:04.612Z"
   },
   {
    "duration": 0,
    "start_time": "2023-04-20T21:00:04.614Z"
   },
   {
    "duration": 0,
    "start_time": "2023-04-20T21:00:04.615Z"
   },
   {
    "duration": 0,
    "start_time": "2023-04-20T21:00:04.619Z"
   },
   {
    "duration": 0,
    "start_time": "2023-04-20T21:00:04.620Z"
   },
   {
    "duration": 0,
    "start_time": "2023-04-20T21:00:04.621Z"
   },
   {
    "duration": 0,
    "start_time": "2023-04-20T21:00:04.622Z"
   },
   {
    "duration": 0,
    "start_time": "2023-04-20T21:00:04.623Z"
   },
   {
    "duration": 0,
    "start_time": "2023-04-20T21:00:04.624Z"
   },
   {
    "duration": 0,
    "start_time": "2023-04-20T21:00:04.626Z"
   },
   {
    "duration": 0,
    "start_time": "2023-04-20T21:00:04.628Z"
   },
   {
    "duration": 99,
    "start_time": "2023-04-20T21:02:40.323Z"
   },
   {
    "duration": 599,
    "start_time": "2023-04-21T15:17:02.222Z"
   },
   {
    "duration": 184,
    "start_time": "2023-04-21T15:17:02.824Z"
   },
   {
    "duration": 96,
    "start_time": "2023-04-21T15:17:03.010Z"
   },
   {
    "duration": 4983,
    "start_time": "2023-04-21T15:17:03.110Z"
   },
   {
    "duration": 13,
    "start_time": "2023-04-21T15:17:08.095Z"
   },
   {
    "duration": 20,
    "start_time": "2023-04-21T15:17:08.109Z"
   },
   {
    "duration": 59,
    "start_time": "2023-04-21T15:17:08.130Z"
   },
   {
    "duration": 24,
    "start_time": "2023-04-21T15:17:08.191Z"
   },
   {
    "duration": 17,
    "start_time": "2023-04-21T15:17:08.217Z"
   },
   {
    "duration": 22,
    "start_time": "2023-04-21T15:17:08.283Z"
   },
   {
    "duration": 20,
    "start_time": "2023-04-21T15:17:08.307Z"
   },
   {
    "duration": 16,
    "start_time": "2023-04-21T15:17:08.329Z"
   },
   {
    "duration": 24,
    "start_time": "2023-04-21T15:17:08.384Z"
   },
   {
    "duration": 9,
    "start_time": "2023-04-21T15:17:08.410Z"
   },
   {
    "duration": 9,
    "start_time": "2023-04-21T15:17:08.420Z"
   },
   {
    "duration": 255,
    "start_time": "2023-04-21T15:17:08.430Z"
   },
   {
    "duration": 296,
    "start_time": "2023-04-21T15:17:08.687Z"
   },
   {
    "duration": 10,
    "start_time": "2023-04-21T15:17:08.985Z"
   },
   {
    "duration": 6,
    "start_time": "2023-04-21T15:17:08.997Z"
   },
   {
    "duration": 6,
    "start_time": "2023-04-21T15:17:09.004Z"
   },
   {
    "duration": 8,
    "start_time": "2023-04-21T15:17:09.012Z"
   },
   {
    "duration": 5,
    "start_time": "2023-04-21T15:17:09.083Z"
   },
   {
    "duration": 18,
    "start_time": "2023-04-21T15:17:09.089Z"
   },
   {
    "duration": 6,
    "start_time": "2023-04-21T15:17:09.109Z"
   },
   {
    "duration": 13,
    "start_time": "2023-04-21T15:17:09.117Z"
   },
   {
    "duration": 6,
    "start_time": "2023-04-21T15:17:09.183Z"
   },
   {
    "duration": 16,
    "start_time": "2023-04-21T15:17:09.190Z"
   },
   {
    "duration": 8,
    "start_time": "2023-04-21T15:17:09.210Z"
   },
   {
    "duration": 65,
    "start_time": "2023-04-21T15:17:09.220Z"
   },
   {
    "duration": 11,
    "start_time": "2023-04-21T15:17:09.286Z"
   },
   {
    "duration": 13,
    "start_time": "2023-04-21T15:17:09.299Z"
   },
   {
    "duration": 74,
    "start_time": "2023-04-21T15:17:09.313Z"
   },
   {
    "duration": 5,
    "start_time": "2023-04-21T15:17:09.388Z"
   },
   {
    "duration": 28,
    "start_time": "2023-04-21T15:17:09.395Z"
   },
   {
    "duration": 92,
    "start_time": "2023-04-21T15:17:09.425Z"
   },
   {
    "duration": 5,
    "start_time": "2023-04-21T15:17:09.519Z"
   },
   {
    "duration": 63,
    "start_time": "2023-04-21T15:17:09.526Z"
   },
   {
    "duration": 13,
    "start_time": "2023-04-21T15:17:09.591Z"
   },
   {
    "duration": 7,
    "start_time": "2023-04-21T15:17:09.606Z"
   },
   {
    "duration": 6,
    "start_time": "2023-04-21T15:17:09.615Z"
   },
   {
    "duration": 71,
    "start_time": "2023-04-21T15:17:09.622Z"
   },
   {
    "duration": 10,
    "start_time": "2023-04-21T15:17:09.694Z"
   },
   {
    "duration": 12,
    "start_time": "2023-04-21T15:17:09.706Z"
   },
   {
    "duration": 10,
    "start_time": "2023-04-21T15:17:09.720Z"
   },
   {
    "duration": 56,
    "start_time": "2023-04-21T15:17:09.731Z"
   },
   {
    "duration": 118,
    "start_time": "2023-04-21T15:17:09.788Z"
   },
   {
    "duration": 8,
    "start_time": "2023-04-21T15:17:09.908Z"
   },
   {
    "duration": 8,
    "start_time": "2023-04-21T15:17:09.918Z"
   },
   {
    "duration": 11,
    "start_time": "2023-04-21T15:17:09.928Z"
   },
   {
    "duration": 7,
    "start_time": "2023-04-21T15:17:09.984Z"
   },
   {
    "duration": 8,
    "start_time": "2023-04-21T15:17:09.993Z"
   },
   {
    "duration": 21,
    "start_time": "2023-04-21T15:17:10.002Z"
   },
   {
    "duration": 517,
    "start_time": "2023-04-21T15:17:10.085Z"
   },
   {
    "duration": 0,
    "start_time": "2023-04-21T15:17:10.606Z"
   },
   {
    "duration": 0,
    "start_time": "2023-04-21T15:17:10.607Z"
   },
   {
    "duration": 0,
    "start_time": "2023-04-21T15:17:10.608Z"
   },
   {
    "duration": 0,
    "start_time": "2023-04-21T15:17:10.610Z"
   },
   {
    "duration": 0,
    "start_time": "2023-04-21T15:17:10.611Z"
   },
   {
    "duration": 0,
    "start_time": "2023-04-21T15:17:10.612Z"
   },
   {
    "duration": 0,
    "start_time": "2023-04-21T15:17:10.613Z"
   },
   {
    "duration": 0,
    "start_time": "2023-04-21T15:17:10.614Z"
   },
   {
    "duration": 0,
    "start_time": "2023-04-21T15:17:10.615Z"
   },
   {
    "duration": 0,
    "start_time": "2023-04-21T15:17:10.616Z"
   },
   {
    "duration": 0,
    "start_time": "2023-04-21T15:17:10.617Z"
   },
   {
    "duration": 0,
    "start_time": "2023-04-21T15:17:10.618Z"
   },
   {
    "duration": 0,
    "start_time": "2023-04-21T15:17:10.619Z"
   },
   {
    "duration": 0,
    "start_time": "2023-04-21T15:17:10.620Z"
   },
   {
    "duration": 0,
    "start_time": "2023-04-21T15:17:10.622Z"
   },
   {
    "duration": 0,
    "start_time": "2023-04-21T15:17:10.684Z"
   },
   {
    "duration": 0,
    "start_time": "2023-04-21T15:17:10.685Z"
   },
   {
    "duration": 0,
    "start_time": "2023-04-21T15:17:10.686Z"
   },
   {
    "duration": 0,
    "start_time": "2023-04-21T15:17:10.687Z"
   },
   {
    "duration": 0,
    "start_time": "2023-04-21T15:17:10.688Z"
   },
   {
    "duration": 0,
    "start_time": "2023-04-21T15:17:10.689Z"
   },
   {
    "duration": 0,
    "start_time": "2023-04-21T15:17:10.690Z"
   },
   {
    "duration": 0,
    "start_time": "2023-04-21T15:17:10.691Z"
   },
   {
    "duration": 0,
    "start_time": "2023-04-21T15:17:10.692Z"
   },
   {
    "duration": 0,
    "start_time": "2023-04-21T15:17:10.693Z"
   },
   {
    "duration": 0,
    "start_time": "2023-04-21T15:17:10.694Z"
   },
   {
    "duration": 0,
    "start_time": "2023-04-21T15:17:10.696Z"
   },
   {
    "duration": 0,
    "start_time": "2023-04-21T15:17:10.696Z"
   },
   {
    "duration": 0,
    "start_time": "2023-04-21T15:17:10.697Z"
   },
   {
    "duration": 0,
    "start_time": "2023-04-21T15:17:10.699Z"
   },
   {
    "duration": 0,
    "start_time": "2023-04-21T15:17:10.699Z"
   },
   {
    "duration": 0,
    "start_time": "2023-04-21T15:17:10.700Z"
   },
   {
    "duration": 0,
    "start_time": "2023-04-21T15:17:10.701Z"
   },
   {
    "duration": 0,
    "start_time": "2023-04-21T15:17:10.703Z"
   },
   {
    "duration": 0,
    "start_time": "2023-04-21T15:17:10.704Z"
   },
   {
    "duration": 0,
    "start_time": "2023-04-21T15:17:10.705Z"
   },
   {
    "duration": 0,
    "start_time": "2023-04-21T15:17:10.706Z"
   },
   {
    "duration": 0,
    "start_time": "2023-04-21T15:17:10.707Z"
   },
   {
    "duration": 0,
    "start_time": "2023-04-21T15:17:10.708Z"
   },
   {
    "duration": 1,
    "start_time": "2023-04-21T15:17:10.709Z"
   },
   {
    "duration": 0,
    "start_time": "2023-04-21T15:17:10.783Z"
   },
   {
    "duration": 0,
    "start_time": "2023-04-21T15:17:10.785Z"
   },
   {
    "duration": 0,
    "start_time": "2023-04-21T15:17:10.786Z"
   },
   {
    "duration": 0,
    "start_time": "2023-04-21T15:17:10.787Z"
   },
   {
    "duration": 0,
    "start_time": "2023-04-21T15:17:10.788Z"
   },
   {
    "duration": 0,
    "start_time": "2023-04-21T15:17:10.790Z"
   },
   {
    "duration": 0,
    "start_time": "2023-04-21T15:17:10.790Z"
   },
   {
    "duration": 0,
    "start_time": "2023-04-21T15:17:10.792Z"
   },
   {
    "duration": 0,
    "start_time": "2023-04-21T15:17:10.793Z"
   },
   {
    "duration": 0,
    "start_time": "2023-04-21T15:17:10.795Z"
   },
   {
    "duration": 0,
    "start_time": "2023-04-21T15:17:10.796Z"
   },
   {
    "duration": 0,
    "start_time": "2023-04-21T15:17:10.797Z"
   },
   {
    "duration": 1,
    "start_time": "2023-04-21T15:17:10.798Z"
   },
   {
    "duration": 0,
    "start_time": "2023-04-21T15:17:10.800Z"
   },
   {
    "duration": 0,
    "start_time": "2023-04-21T15:17:10.801Z"
   },
   {
    "duration": 0,
    "start_time": "2023-04-21T15:17:10.802Z"
   },
   {
    "duration": 0,
    "start_time": "2023-04-21T15:17:10.803Z"
   },
   {
    "duration": 0,
    "start_time": "2023-04-21T15:17:10.804Z"
   },
   {
    "duration": 0,
    "start_time": "2023-04-21T15:17:10.805Z"
   },
   {
    "duration": 0,
    "start_time": "2023-04-21T15:17:10.806Z"
   },
   {
    "duration": 0,
    "start_time": "2023-04-21T15:17:10.883Z"
   },
   {
    "duration": 0,
    "start_time": "2023-04-21T15:17:10.884Z"
   },
   {
    "duration": 0,
    "start_time": "2023-04-21T15:17:10.885Z"
   },
   {
    "duration": 0,
    "start_time": "2023-04-21T15:17:10.886Z"
   },
   {
    "duration": 0,
    "start_time": "2023-04-21T15:17:10.888Z"
   },
   {
    "duration": 0,
    "start_time": "2023-04-21T15:17:10.889Z"
   },
   {
    "duration": 0,
    "start_time": "2023-04-21T15:17:10.890Z"
   },
   {
    "duration": 0,
    "start_time": "2023-04-21T15:17:10.891Z"
   },
   {
    "duration": 0,
    "start_time": "2023-04-21T15:17:10.892Z"
   },
   {
    "duration": 0,
    "start_time": "2023-04-21T15:17:10.893Z"
   },
   {
    "duration": 0,
    "start_time": "2023-04-21T15:17:10.894Z"
   },
   {
    "duration": 0,
    "start_time": "2023-04-21T15:17:10.895Z"
   },
   {
    "duration": 0,
    "start_time": "2023-04-21T15:17:10.896Z"
   },
   {
    "duration": 1,
    "start_time": "2023-04-21T15:17:10.897Z"
   },
   {
    "duration": 0,
    "start_time": "2023-04-21T15:17:10.899Z"
   },
   {
    "duration": 0,
    "start_time": "2023-04-21T15:17:10.901Z"
   },
   {
    "duration": 0,
    "start_time": "2023-04-21T15:17:10.902Z"
   },
   {
    "duration": 0,
    "start_time": "2023-04-21T15:17:10.903Z"
   },
   {
    "duration": 0,
    "start_time": "2023-04-21T15:17:10.905Z"
   },
   {
    "duration": 0,
    "start_time": "2023-04-21T15:17:10.906Z"
   },
   {
    "duration": 0,
    "start_time": "2023-04-21T15:17:10.908Z"
   },
   {
    "duration": 0,
    "start_time": "2023-04-21T15:17:10.984Z"
   },
   {
    "duration": 0,
    "start_time": "2023-04-21T15:17:10.985Z"
   },
   {
    "duration": 0,
    "start_time": "2023-04-21T15:17:10.986Z"
   },
   {
    "duration": 0,
    "start_time": "2023-04-21T15:17:10.987Z"
   },
   {
    "duration": 0,
    "start_time": "2023-04-21T15:17:10.988Z"
   },
   {
    "duration": 0,
    "start_time": "2023-04-21T15:17:10.989Z"
   },
   {
    "duration": 0,
    "start_time": "2023-04-21T15:17:10.990Z"
   },
   {
    "duration": 0,
    "start_time": "2023-04-21T15:17:10.991Z"
   },
   {
    "duration": 0,
    "start_time": "2023-04-21T15:17:10.991Z"
   },
   {
    "duration": 0,
    "start_time": "2023-04-21T15:17:10.992Z"
   },
   {
    "duration": 0,
    "start_time": "2023-04-21T15:17:10.993Z"
   },
   {
    "duration": 0,
    "start_time": "2023-04-21T15:17:10.994Z"
   },
   {
    "duration": 0,
    "start_time": "2023-04-21T15:17:10.996Z"
   },
   {
    "duration": 0,
    "start_time": "2023-04-21T15:17:10.997Z"
   },
   {
    "duration": 0,
    "start_time": "2023-04-21T15:17:10.998Z"
   },
   {
    "duration": 0,
    "start_time": "2023-04-21T15:17:10.999Z"
   },
   {
    "duration": 0,
    "start_time": "2023-04-21T15:17:11.000Z"
   },
   {
    "duration": 0,
    "start_time": "2023-04-21T15:17:11.001Z"
   },
   {
    "duration": 0,
    "start_time": "2023-04-21T15:17:11.002Z"
   },
   {
    "duration": 0,
    "start_time": "2023-04-21T15:17:11.003Z"
   },
   {
    "duration": 0,
    "start_time": "2023-04-21T15:17:11.004Z"
   },
   {
    "duration": 0,
    "start_time": "2023-04-21T15:17:11.005Z"
   },
   {
    "duration": 0,
    "start_time": "2023-04-21T15:17:11.007Z"
   },
   {
    "duration": 0,
    "start_time": "2023-04-21T15:17:11.083Z"
   },
   {
    "duration": 431,
    "start_time": "2023-04-21T15:20:01.607Z"
   },
   {
    "duration": 623,
    "start_time": "2023-04-21T15:20:02.040Z"
   },
   {
    "duration": 29,
    "start_time": "2023-04-21T15:20:02.664Z"
   },
   {
    "duration": 2312,
    "start_time": "2023-04-21T15:20:02.695Z"
   },
   {
    "duration": 9,
    "start_time": "2023-04-21T15:20:05.009Z"
   },
   {
    "duration": 11,
    "start_time": "2023-04-21T15:20:05.020Z"
   },
   {
    "duration": 15,
    "start_time": "2023-04-21T15:20:05.033Z"
   },
   {
    "duration": 42,
    "start_time": "2023-04-21T15:20:05.050Z"
   },
   {
    "duration": 16,
    "start_time": "2023-04-21T15:20:05.094Z"
   },
   {
    "duration": 4,
    "start_time": "2023-04-21T15:20:05.112Z"
   },
   {
    "duration": 8,
    "start_time": "2023-04-21T15:20:05.118Z"
   },
   {
    "duration": 9,
    "start_time": "2023-04-21T15:20:05.128Z"
   },
   {
    "duration": 10,
    "start_time": "2023-04-21T15:20:05.139Z"
   },
   {
    "duration": 3,
    "start_time": "2023-04-21T15:20:05.153Z"
   },
   {
    "duration": 12,
    "start_time": "2023-04-21T15:20:05.158Z"
   },
   {
    "duration": 123,
    "start_time": "2023-04-21T15:20:05.172Z"
   },
   {
    "duration": 124,
    "start_time": "2023-04-21T15:20:05.297Z"
   },
   {
    "duration": 9,
    "start_time": "2023-04-21T15:20:05.423Z"
   },
   {
    "duration": 19,
    "start_time": "2023-04-21T15:20:05.433Z"
   },
   {
    "duration": 6,
    "start_time": "2023-04-21T15:20:05.454Z"
   },
   {
    "duration": 7,
    "start_time": "2023-04-21T15:20:05.461Z"
   },
   {
    "duration": 5,
    "start_time": "2023-04-21T15:20:05.469Z"
   },
   {
    "duration": 9,
    "start_time": "2023-04-21T15:20:05.476Z"
   },
   {
    "duration": 4,
    "start_time": "2023-04-21T15:20:05.487Z"
   },
   {
    "duration": 9,
    "start_time": "2023-04-21T15:20:05.493Z"
   },
   {
    "duration": 11,
    "start_time": "2023-04-21T15:20:05.504Z"
   },
   {
    "duration": 34,
    "start_time": "2023-04-21T15:20:05.516Z"
   },
   {
    "duration": 6,
    "start_time": "2023-04-21T15:20:05.552Z"
   },
   {
    "duration": 9,
    "start_time": "2023-04-21T15:20:05.560Z"
   },
   {
    "duration": 21,
    "start_time": "2023-04-21T15:20:05.571Z"
   },
   {
    "duration": 24,
    "start_time": "2023-04-21T15:20:05.593Z"
   },
   {
    "duration": 31,
    "start_time": "2023-04-21T15:20:05.618Z"
   },
   {
    "duration": 5,
    "start_time": "2023-04-21T15:20:05.650Z"
   },
   {
    "duration": 9,
    "start_time": "2023-04-21T15:20:05.656Z"
   },
   {
    "duration": 35,
    "start_time": "2023-04-21T15:20:05.666Z"
   },
   {
    "duration": 5,
    "start_time": "2023-04-21T15:20:05.702Z"
   },
   {
    "duration": 24,
    "start_time": "2023-04-21T15:20:05.709Z"
   },
   {
    "duration": 6,
    "start_time": "2023-04-21T15:20:05.735Z"
   },
   {
    "duration": 8,
    "start_time": "2023-04-21T15:20:05.742Z"
   },
   {
    "duration": 8,
    "start_time": "2023-04-21T15:20:05.751Z"
   },
   {
    "duration": 10,
    "start_time": "2023-04-21T15:20:05.764Z"
   },
   {
    "duration": 11,
    "start_time": "2023-04-21T15:20:05.776Z"
   },
   {
    "duration": 5,
    "start_time": "2023-04-21T15:20:05.788Z"
   },
   {
    "duration": 13,
    "start_time": "2023-04-21T15:20:05.794Z"
   },
   {
    "duration": 12,
    "start_time": "2023-04-21T15:20:05.808Z"
   },
   {
    "duration": 33,
    "start_time": "2023-04-21T15:20:05.822Z"
   },
   {
    "duration": 8,
    "start_time": "2023-04-21T15:20:05.857Z"
   },
   {
    "duration": 18,
    "start_time": "2023-04-21T15:20:05.866Z"
   },
   {
    "duration": 31,
    "start_time": "2023-04-21T15:20:05.886Z"
   },
   {
    "duration": 9,
    "start_time": "2023-04-21T15:20:05.918Z"
   },
   {
    "duration": 17,
    "start_time": "2023-04-21T15:20:05.928Z"
   },
   {
    "duration": 34,
    "start_time": "2023-04-21T15:20:05.947Z"
   },
   {
    "duration": 1179,
    "start_time": "2023-04-21T15:20:05.982Z"
   },
   {
    "duration": 0,
    "start_time": "2023-04-21T15:20:07.164Z"
   },
   {
    "duration": 0,
    "start_time": "2023-04-21T15:20:07.165Z"
   },
   {
    "duration": 0,
    "start_time": "2023-04-21T15:20:07.166Z"
   },
   {
    "duration": 0,
    "start_time": "2023-04-21T15:20:07.167Z"
   },
   {
    "duration": 0,
    "start_time": "2023-04-21T15:20:07.168Z"
   },
   {
    "duration": 0,
    "start_time": "2023-04-21T15:20:07.169Z"
   },
   {
    "duration": 0,
    "start_time": "2023-04-21T15:20:07.170Z"
   },
   {
    "duration": 0,
    "start_time": "2023-04-21T15:20:07.171Z"
   },
   {
    "duration": 0,
    "start_time": "2023-04-21T15:20:07.171Z"
   },
   {
    "duration": 0,
    "start_time": "2023-04-21T15:20:07.172Z"
   },
   {
    "duration": 0,
    "start_time": "2023-04-21T15:20:07.173Z"
   },
   {
    "duration": 0,
    "start_time": "2023-04-21T15:20:07.174Z"
   },
   {
    "duration": 0,
    "start_time": "2023-04-21T15:20:07.175Z"
   },
   {
    "duration": 0,
    "start_time": "2023-04-21T15:20:07.176Z"
   },
   {
    "duration": 0,
    "start_time": "2023-04-21T15:20:07.177Z"
   },
   {
    "duration": 0,
    "start_time": "2023-04-21T15:20:07.178Z"
   },
   {
    "duration": 0,
    "start_time": "2023-04-21T15:20:07.179Z"
   },
   {
    "duration": 0,
    "start_time": "2023-04-21T15:20:07.180Z"
   },
   {
    "duration": 0,
    "start_time": "2023-04-21T15:20:07.181Z"
   },
   {
    "duration": 0,
    "start_time": "2023-04-21T15:20:07.182Z"
   },
   {
    "duration": 0,
    "start_time": "2023-04-21T15:20:07.183Z"
   },
   {
    "duration": 0,
    "start_time": "2023-04-21T15:20:07.184Z"
   },
   {
    "duration": 0,
    "start_time": "2023-04-21T15:20:07.185Z"
   },
   {
    "duration": 0,
    "start_time": "2023-04-21T15:20:07.186Z"
   },
   {
    "duration": 0,
    "start_time": "2023-04-21T15:20:07.187Z"
   },
   {
    "duration": 0,
    "start_time": "2023-04-21T15:20:07.188Z"
   },
   {
    "duration": 0,
    "start_time": "2023-04-21T15:20:07.189Z"
   },
   {
    "duration": 0,
    "start_time": "2023-04-21T15:20:07.190Z"
   },
   {
    "duration": 0,
    "start_time": "2023-04-21T15:20:07.191Z"
   },
   {
    "duration": 0,
    "start_time": "2023-04-21T15:20:07.192Z"
   },
   {
    "duration": 1,
    "start_time": "2023-04-21T15:20:07.192Z"
   },
   {
    "duration": 0,
    "start_time": "2023-04-21T15:20:07.193Z"
   },
   {
    "duration": 0,
    "start_time": "2023-04-21T15:20:07.194Z"
   },
   {
    "duration": 0,
    "start_time": "2023-04-21T15:20:07.196Z"
   },
   {
    "duration": 0,
    "start_time": "2023-04-21T15:20:07.196Z"
   },
   {
    "duration": 0,
    "start_time": "2023-04-21T15:20:07.197Z"
   },
   {
    "duration": 0,
    "start_time": "2023-04-21T15:20:07.199Z"
   },
   {
    "duration": 0,
    "start_time": "2023-04-21T15:20:07.248Z"
   },
   {
    "duration": 0,
    "start_time": "2023-04-21T15:20:07.250Z"
   },
   {
    "duration": 0,
    "start_time": "2023-04-21T15:20:07.251Z"
   },
   {
    "duration": 0,
    "start_time": "2023-04-21T15:20:07.252Z"
   },
   {
    "duration": 0,
    "start_time": "2023-04-21T15:20:07.253Z"
   },
   {
    "duration": 0,
    "start_time": "2023-04-21T15:20:07.254Z"
   },
   {
    "duration": 0,
    "start_time": "2023-04-21T15:20:07.255Z"
   },
   {
    "duration": 0,
    "start_time": "2023-04-21T15:20:07.256Z"
   },
   {
    "duration": 0,
    "start_time": "2023-04-21T15:20:07.256Z"
   },
   {
    "duration": 0,
    "start_time": "2023-04-21T15:20:07.258Z"
   },
   {
    "duration": 0,
    "start_time": "2023-04-21T15:20:07.258Z"
   },
   {
    "duration": 0,
    "start_time": "2023-04-21T15:20:07.259Z"
   },
   {
    "duration": 0,
    "start_time": "2023-04-21T15:20:07.260Z"
   },
   {
    "duration": 0,
    "start_time": "2023-04-21T15:20:07.261Z"
   },
   {
    "duration": 0,
    "start_time": "2023-04-21T15:20:07.262Z"
   },
   {
    "duration": 0,
    "start_time": "2023-04-21T15:20:07.262Z"
   },
   {
    "duration": 0,
    "start_time": "2023-04-21T15:20:07.263Z"
   },
   {
    "duration": 0,
    "start_time": "2023-04-21T15:20:07.264Z"
   },
   {
    "duration": 0,
    "start_time": "2023-04-21T15:20:07.265Z"
   },
   {
    "duration": 0,
    "start_time": "2023-04-21T15:20:07.265Z"
   },
   {
    "duration": 0,
    "start_time": "2023-04-21T15:20:07.266Z"
   },
   {
    "duration": 0,
    "start_time": "2023-04-21T15:20:07.267Z"
   },
   {
    "duration": 0,
    "start_time": "2023-04-21T15:20:07.268Z"
   },
   {
    "duration": 0,
    "start_time": "2023-04-21T15:20:07.269Z"
   },
   {
    "duration": 0,
    "start_time": "2023-04-21T15:20:07.269Z"
   },
   {
    "duration": 0,
    "start_time": "2023-04-21T15:20:07.270Z"
   },
   {
    "duration": 0,
    "start_time": "2023-04-21T15:20:07.271Z"
   },
   {
    "duration": 0,
    "start_time": "2023-04-21T15:20:07.272Z"
   },
   {
    "duration": 0,
    "start_time": "2023-04-21T15:20:07.272Z"
   },
   {
    "duration": 0,
    "start_time": "2023-04-21T15:20:07.273Z"
   },
   {
    "duration": 0,
    "start_time": "2023-04-21T15:20:07.274Z"
   },
   {
    "duration": 0,
    "start_time": "2023-04-21T15:20:07.275Z"
   },
   {
    "duration": 0,
    "start_time": "2023-04-21T15:20:07.276Z"
   },
   {
    "duration": 0,
    "start_time": "2023-04-21T15:20:07.277Z"
   },
   {
    "duration": 0,
    "start_time": "2023-04-21T15:20:07.277Z"
   },
   {
    "duration": 0,
    "start_time": "2023-04-21T15:20:07.278Z"
   },
   {
    "duration": 0,
    "start_time": "2023-04-21T15:20:07.279Z"
   },
   {
    "duration": 0,
    "start_time": "2023-04-21T15:20:07.280Z"
   },
   {
    "duration": 0,
    "start_time": "2023-04-21T15:20:07.280Z"
   },
   {
    "duration": 0,
    "start_time": "2023-04-21T15:20:07.281Z"
   },
   {
    "duration": 0,
    "start_time": "2023-04-21T15:20:07.282Z"
   },
   {
    "duration": 0,
    "start_time": "2023-04-21T15:20:07.283Z"
   },
   {
    "duration": 0,
    "start_time": "2023-04-21T15:20:07.284Z"
   },
   {
    "duration": 0,
    "start_time": "2023-04-21T15:20:07.284Z"
   },
   {
    "duration": 0,
    "start_time": "2023-04-21T15:20:07.349Z"
   },
   {
    "duration": 0,
    "start_time": "2023-04-21T15:20:07.350Z"
   },
   {
    "duration": 0,
    "start_time": "2023-04-21T15:20:07.351Z"
   },
   {
    "duration": 0,
    "start_time": "2023-04-21T15:20:07.352Z"
   },
   {
    "duration": 0,
    "start_time": "2023-04-21T15:20:07.352Z"
   },
   {
    "duration": 0,
    "start_time": "2023-04-21T15:20:07.353Z"
   },
   {
    "duration": 0,
    "start_time": "2023-04-21T15:20:07.354Z"
   },
   {
    "duration": 0,
    "start_time": "2023-04-21T15:20:07.354Z"
   },
   {
    "duration": 0,
    "start_time": "2023-04-21T15:20:07.355Z"
   },
   {
    "duration": 0,
    "start_time": "2023-04-21T15:20:07.356Z"
   },
   {
    "duration": 0,
    "start_time": "2023-04-21T15:20:07.357Z"
   },
   {
    "duration": 0,
    "start_time": "2023-04-21T15:20:07.357Z"
   },
   {
    "duration": 0,
    "start_time": "2023-04-21T15:20:07.358Z"
   },
   {
    "duration": 0,
    "start_time": "2023-04-21T15:20:07.359Z"
   },
   {
    "duration": 1,
    "start_time": "2023-04-21T15:20:07.359Z"
   },
   {
    "duration": 0,
    "start_time": "2023-04-21T15:20:07.360Z"
   },
   {
    "duration": 0,
    "start_time": "2023-04-21T15:20:07.361Z"
   },
   {
    "duration": 0,
    "start_time": "2023-04-21T15:20:07.362Z"
   },
   {
    "duration": 0,
    "start_time": "2023-04-21T15:20:07.363Z"
   },
   {
    "duration": 0,
    "start_time": "2023-04-21T15:20:07.364Z"
   },
   {
    "duration": 0,
    "start_time": "2023-04-21T15:20:07.365Z"
   },
   {
    "duration": 0,
    "start_time": "2023-04-21T15:20:07.365Z"
   },
   {
    "duration": 0,
    "start_time": "2023-04-21T15:20:07.366Z"
   },
   {
    "duration": 0,
    "start_time": "2023-04-21T15:20:07.367Z"
   },
   {
    "duration": 443,
    "start_time": "2023-04-21T15:20:36.436Z"
   },
   {
    "duration": 88,
    "start_time": "2023-04-21T15:20:36.881Z"
   },
   {
    "duration": 27,
    "start_time": "2023-04-21T15:20:36.971Z"
   },
   {
    "duration": 1984,
    "start_time": "2023-04-21T15:20:37.000Z"
   },
   {
    "duration": 8,
    "start_time": "2023-04-21T15:20:38.986Z"
   },
   {
    "duration": 23,
    "start_time": "2023-04-21T15:20:38.996Z"
   },
   {
    "duration": 40,
    "start_time": "2023-04-21T15:20:39.020Z"
   },
   {
    "duration": 29,
    "start_time": "2023-04-21T15:20:39.062Z"
   },
   {
    "duration": 16,
    "start_time": "2023-04-21T15:20:39.093Z"
   },
   {
    "duration": 23,
    "start_time": "2023-04-21T15:20:39.110Z"
   },
   {
    "duration": 8,
    "start_time": "2023-04-21T15:20:39.134Z"
   },
   {
    "duration": 14,
    "start_time": "2023-04-21T15:20:39.143Z"
   },
   {
    "duration": 27,
    "start_time": "2023-04-21T15:20:39.158Z"
   },
   {
    "duration": 9,
    "start_time": "2023-04-21T15:20:39.188Z"
   },
   {
    "duration": 7,
    "start_time": "2023-04-21T15:20:39.198Z"
   },
   {
    "duration": 127,
    "start_time": "2023-04-21T15:20:39.207Z"
   },
   {
    "duration": 115,
    "start_time": "2023-04-21T15:20:39.335Z"
   },
   {
    "duration": 10,
    "start_time": "2023-04-21T15:20:39.451Z"
   },
   {
    "duration": 6,
    "start_time": "2023-04-21T15:20:39.462Z"
   },
   {
    "duration": 15,
    "start_time": "2023-04-21T15:20:39.469Z"
   },
   {
    "duration": 7,
    "start_time": "2023-04-21T15:20:39.485Z"
   },
   {
    "duration": 7,
    "start_time": "2023-04-21T15:20:39.494Z"
   },
   {
    "duration": 11,
    "start_time": "2023-04-21T15:20:39.502Z"
   },
   {
    "duration": 3,
    "start_time": "2023-04-21T15:20:39.514Z"
   },
   {
    "duration": 8,
    "start_time": "2023-04-21T15:20:39.518Z"
   },
   {
    "duration": 24,
    "start_time": "2023-04-21T15:20:39.527Z"
   },
   {
    "duration": 10,
    "start_time": "2023-04-21T15:20:39.553Z"
   },
   {
    "duration": 12,
    "start_time": "2023-04-21T15:20:39.565Z"
   },
   {
    "duration": 6,
    "start_time": "2023-04-21T15:20:39.578Z"
   },
   {
    "duration": 29,
    "start_time": "2023-04-21T15:20:39.585Z"
   },
   {
    "duration": 24,
    "start_time": "2023-04-21T15:20:39.616Z"
   },
   {
    "duration": 53,
    "start_time": "2023-04-21T15:20:39.642Z"
   },
   {
    "duration": 19,
    "start_time": "2023-04-21T15:20:39.697Z"
   },
   {
    "duration": 51,
    "start_time": "2023-04-21T15:20:39.717Z"
   },
   {
    "duration": 93,
    "start_time": "2023-04-21T15:20:39.769Z"
   },
   {
    "duration": 16,
    "start_time": "2023-04-21T15:20:39.864Z"
   },
   {
    "duration": 61,
    "start_time": "2023-04-21T15:20:39.881Z"
   },
   {
    "duration": 44,
    "start_time": "2023-04-21T15:20:39.943Z"
   },
   {
    "duration": 19,
    "start_time": "2023-04-21T15:20:39.988Z"
   },
   {
    "duration": 22,
    "start_time": "2023-04-21T15:20:40.009Z"
   },
   {
    "duration": 16,
    "start_time": "2023-04-21T15:20:40.038Z"
   },
   {
    "duration": 27,
    "start_time": "2023-04-21T15:20:40.056Z"
   },
   {
    "duration": 20,
    "start_time": "2023-04-21T15:20:40.085Z"
   },
   {
    "duration": 10,
    "start_time": "2023-04-21T15:20:40.106Z"
   },
   {
    "duration": 28,
    "start_time": "2023-04-21T15:20:40.118Z"
   },
   {
    "duration": 17,
    "start_time": "2023-04-21T15:20:40.147Z"
   },
   {
    "duration": 8,
    "start_time": "2023-04-21T15:20:40.166Z"
   },
   {
    "duration": 12,
    "start_time": "2023-04-21T15:20:40.176Z"
   },
   {
    "duration": 26,
    "start_time": "2023-04-21T15:20:40.189Z"
   },
   {
    "duration": 22,
    "start_time": "2023-04-21T15:20:40.217Z"
   },
   {
    "duration": 24,
    "start_time": "2023-04-21T15:20:40.241Z"
   },
   {
    "duration": 41,
    "start_time": "2023-04-21T15:20:40.267Z"
   },
   {
    "duration": 32,
    "start_time": "2023-04-21T15:20:40.310Z"
   },
   {
    "duration": 47,
    "start_time": "2023-04-21T15:20:40.343Z"
   },
   {
    "duration": 36,
    "start_time": "2023-04-21T15:20:40.391Z"
   },
   {
    "duration": 30,
    "start_time": "2023-04-21T15:20:40.429Z"
   },
   {
    "duration": 25,
    "start_time": "2023-04-21T15:20:40.461Z"
   },
   {
    "duration": 10,
    "start_time": "2023-04-21T15:20:40.487Z"
   },
   {
    "duration": 35,
    "start_time": "2023-04-21T15:20:40.499Z"
   },
   {
    "duration": 114,
    "start_time": "2023-04-21T15:20:40.536Z"
   },
   {
    "duration": 122,
    "start_time": "2023-04-21T15:20:40.652Z"
   },
   {
    "duration": 5,
    "start_time": "2023-04-21T15:20:40.775Z"
   },
   {
    "duration": 25,
    "start_time": "2023-04-21T15:20:40.782Z"
   },
   {
    "duration": 109,
    "start_time": "2023-04-21T15:20:40.809Z"
   },
   {
    "duration": 7,
    "start_time": "2023-04-21T15:20:40.920Z"
   },
   {
    "duration": 18,
    "start_time": "2023-04-21T15:20:40.929Z"
   },
   {
    "duration": 17,
    "start_time": "2023-04-21T15:20:40.948Z"
   },
   {
    "duration": 11,
    "start_time": "2023-04-21T15:20:40.967Z"
   },
   {
    "duration": 112,
    "start_time": "2023-04-21T15:20:40.979Z"
   },
   {
    "duration": 1558,
    "start_time": "2023-04-21T15:20:41.092Z"
   },
   {
    "duration": 118,
    "start_time": "2023-04-21T15:20:42.651Z"
   },
   {
    "duration": 8,
    "start_time": "2023-04-21T15:20:42.770Z"
   },
   {
    "duration": 22,
    "start_time": "2023-04-21T15:20:42.779Z"
   },
   {
    "duration": 3,
    "start_time": "2023-04-21T15:20:42.802Z"
   },
   {
    "duration": 4,
    "start_time": "2023-04-21T15:20:42.807Z"
   },
   {
    "duration": 5,
    "start_time": "2023-04-21T15:20:42.813Z"
   },
   {
    "duration": 8,
    "start_time": "2023-04-21T15:20:42.848Z"
   },
   {
    "duration": 15,
    "start_time": "2023-04-21T15:20:42.857Z"
   },
   {
    "duration": 3,
    "start_time": "2023-04-21T15:20:42.873Z"
   },
   {
    "duration": 1426,
    "start_time": "2023-04-21T15:20:42.878Z"
   },
   {
    "duration": 1468,
    "start_time": "2023-04-21T15:20:44.305Z"
   },
   {
    "duration": 1425,
    "start_time": "2023-04-21T15:20:45.774Z"
   },
   {
    "duration": 3,
    "start_time": "2023-04-21T15:20:47.200Z"
   },
   {
    "duration": 2641,
    "start_time": "2023-04-21T15:20:47.205Z"
   },
   {
    "duration": 5,
    "start_time": "2023-04-21T15:20:49.848Z"
   },
   {
    "duration": 120,
    "start_time": "2023-04-21T15:20:49.855Z"
   },
   {
    "duration": 8,
    "start_time": "2023-04-21T15:20:49.976Z"
   },
   {
    "duration": 111,
    "start_time": "2023-04-21T15:20:49.986Z"
   },
   {
    "duration": 209,
    "start_time": "2023-04-21T15:20:50.099Z"
   },
   {
    "duration": 8,
    "start_time": "2023-04-21T15:20:50.309Z"
   },
   {
    "duration": 121,
    "start_time": "2023-04-21T15:20:50.319Z"
   },
   {
    "duration": 23,
    "start_time": "2023-04-21T15:20:50.448Z"
   },
   {
    "duration": 137,
    "start_time": "2023-04-21T15:20:50.473Z"
   },
   {
    "duration": 8,
    "start_time": "2023-04-21T15:20:50.611Z"
   },
   {
    "duration": 104,
    "start_time": "2023-04-21T15:20:50.620Z"
   },
   {
    "duration": 80,
    "start_time": "2023-04-21T15:20:50.726Z"
   },
   {
    "duration": 0,
    "start_time": "2023-04-21T15:20:50.809Z"
   },
   {
    "duration": 0,
    "start_time": "2023-04-21T15:20:50.810Z"
   },
   {
    "duration": 0,
    "start_time": "2023-04-21T15:20:50.811Z"
   },
   {
    "duration": 0,
    "start_time": "2023-04-21T15:20:50.812Z"
   },
   {
    "duration": 0,
    "start_time": "2023-04-21T15:20:50.813Z"
   },
   {
    "duration": 0,
    "start_time": "2023-04-21T15:20:50.814Z"
   },
   {
    "duration": 0,
    "start_time": "2023-04-21T15:20:50.815Z"
   },
   {
    "duration": 0,
    "start_time": "2023-04-21T15:20:50.816Z"
   },
   {
    "duration": 0,
    "start_time": "2023-04-21T15:20:50.817Z"
   },
   {
    "duration": 0,
    "start_time": "2023-04-21T15:20:50.818Z"
   },
   {
    "duration": 0,
    "start_time": "2023-04-21T15:20:50.819Z"
   },
   {
    "duration": 0,
    "start_time": "2023-04-21T15:20:50.820Z"
   },
   {
    "duration": 0,
    "start_time": "2023-04-21T15:20:50.821Z"
   },
   {
    "duration": 0,
    "start_time": "2023-04-21T15:20:50.822Z"
   },
   {
    "duration": 0,
    "start_time": "2023-04-21T15:20:50.823Z"
   },
   {
    "duration": 0,
    "start_time": "2023-04-21T15:20:50.824Z"
   },
   {
    "duration": 0,
    "start_time": "2023-04-21T15:20:50.825Z"
   },
   {
    "duration": 0,
    "start_time": "2023-04-21T15:20:50.827Z"
   },
   {
    "duration": 0,
    "start_time": "2023-04-21T15:20:50.828Z"
   },
   {
    "duration": 0,
    "start_time": "2023-04-21T15:20:50.829Z"
   },
   {
    "duration": 0,
    "start_time": "2023-04-21T15:20:50.830Z"
   },
   {
    "duration": 0,
    "start_time": "2023-04-21T15:20:50.832Z"
   },
   {
    "duration": 0,
    "start_time": "2023-04-21T15:20:50.833Z"
   },
   {
    "duration": 0,
    "start_time": "2023-04-21T15:20:50.834Z"
   },
   {
    "duration": 0,
    "start_time": "2023-04-21T15:20:50.835Z"
   },
   {
    "duration": 0,
    "start_time": "2023-04-21T15:20:50.836Z"
   },
   {
    "duration": 0,
    "start_time": "2023-04-21T15:20:50.837Z"
   },
   {
    "duration": 0,
    "start_time": "2023-04-21T15:20:50.838Z"
   },
   {
    "duration": 0,
    "start_time": "2023-04-21T15:20:50.839Z"
   },
   {
    "duration": 0,
    "start_time": "2023-04-21T15:20:50.840Z"
   },
   {
    "duration": 0,
    "start_time": "2023-04-21T15:20:50.841Z"
   },
   {
    "duration": 0,
    "start_time": "2023-04-21T15:20:50.842Z"
   },
   {
    "duration": 0,
    "start_time": "2023-04-21T15:20:50.843Z"
   },
   {
    "duration": 0,
    "start_time": "2023-04-21T15:20:50.844Z"
   },
   {
    "duration": 0,
    "start_time": "2023-04-21T15:20:50.844Z"
   },
   {
    "duration": 0,
    "start_time": "2023-04-21T15:20:50.845Z"
   },
   {
    "duration": 0,
    "start_time": "2023-04-21T15:20:50.846Z"
   },
   {
    "duration": 0,
    "start_time": "2023-04-21T15:20:50.848Z"
   },
   {
    "duration": 0,
    "start_time": "2023-04-21T15:20:50.849Z"
   },
   {
    "duration": 0,
    "start_time": "2023-04-21T15:20:50.850Z"
   },
   {
    "duration": 0,
    "start_time": "2023-04-21T15:20:50.851Z"
   },
   {
    "duration": 1,
    "start_time": "2023-04-21T15:20:50.852Z"
   },
   {
    "duration": 0,
    "start_time": "2023-04-21T15:20:50.854Z"
   },
   {
    "duration": 0,
    "start_time": "2023-04-21T15:20:50.855Z"
   },
   {
    "duration": 0,
    "start_time": "2023-04-21T15:20:50.857Z"
   },
   {
    "duration": 0,
    "start_time": "2023-04-21T15:20:50.858Z"
   },
   {
    "duration": 0,
    "start_time": "2023-04-21T15:20:50.860Z"
   },
   {
    "duration": 0,
    "start_time": "2023-04-21T15:20:50.861Z"
   },
   {
    "duration": 0,
    "start_time": "2023-04-21T15:20:50.862Z"
   },
   {
    "duration": 0,
    "start_time": "2023-04-21T15:20:50.863Z"
   },
   {
    "duration": 0,
    "start_time": "2023-04-21T15:20:50.865Z"
   },
   {
    "duration": 0,
    "start_time": "2023-04-21T15:20:50.866Z"
   },
   {
    "duration": 0,
    "start_time": "2023-04-21T15:20:50.867Z"
   },
   {
    "duration": 0,
    "start_time": "2023-04-21T15:20:50.869Z"
   },
   {
    "duration": 0,
    "start_time": "2023-04-21T15:20:50.870Z"
   },
   {
    "duration": 0,
    "start_time": "2023-04-21T15:20:50.871Z"
   },
   {
    "duration": 0,
    "start_time": "2023-04-21T15:20:50.872Z"
   },
   {
    "duration": 0,
    "start_time": "2023-04-21T15:20:50.874Z"
   },
   {
    "duration": 0,
    "start_time": "2023-04-21T15:20:50.875Z"
   },
   {
    "duration": 0,
    "start_time": "2023-04-21T15:20:50.879Z"
   },
   {
    "duration": 0,
    "start_time": "2023-04-21T15:20:50.880Z"
   },
   {
    "duration": 0,
    "start_time": "2023-04-21T15:20:50.881Z"
   },
   {
    "duration": 0,
    "start_time": "2023-04-21T15:20:50.882Z"
   },
   {
    "duration": 447,
    "start_time": "2023-04-21T15:21:12.946Z"
   },
   {
    "duration": 98,
    "start_time": "2023-04-21T15:21:13.395Z"
   },
   {
    "duration": 29,
    "start_time": "2023-04-21T15:21:13.494Z"
   },
   {
    "duration": 2036,
    "start_time": "2023-04-21T15:21:13.524Z"
   },
   {
    "duration": 9,
    "start_time": "2023-04-21T15:21:15.562Z"
   },
   {
    "duration": 15,
    "start_time": "2023-04-21T15:21:15.573Z"
   },
   {
    "duration": 13,
    "start_time": "2023-04-21T15:21:15.589Z"
   },
   {
    "duration": 17,
    "start_time": "2023-04-21T15:21:15.604Z"
   },
   {
    "duration": 8,
    "start_time": "2023-04-21T15:21:15.622Z"
   },
   {
    "duration": 9,
    "start_time": "2023-04-21T15:21:15.631Z"
   },
   {
    "duration": 8,
    "start_time": "2023-04-21T15:21:15.641Z"
   },
   {
    "duration": 6,
    "start_time": "2023-04-21T15:21:15.651Z"
   },
   {
    "duration": 10,
    "start_time": "2023-04-21T15:21:15.658Z"
   },
   {
    "duration": 10,
    "start_time": "2023-04-21T15:21:15.670Z"
   },
   {
    "duration": 28,
    "start_time": "2023-04-21T15:21:15.681Z"
   },
   {
    "duration": 104,
    "start_time": "2023-04-21T15:21:15.711Z"
   },
   {
    "duration": 146,
    "start_time": "2023-04-21T15:21:15.817Z"
   },
   {
    "duration": 10,
    "start_time": "2023-04-21T15:21:15.965Z"
   },
   {
    "duration": 7,
    "start_time": "2023-04-21T15:21:15.977Z"
   },
   {
    "duration": 19,
    "start_time": "2023-04-21T15:21:15.985Z"
   },
   {
    "duration": 32,
    "start_time": "2023-04-21T15:21:16.005Z"
   },
   {
    "duration": 6,
    "start_time": "2023-04-21T15:21:16.039Z"
   },
   {
    "duration": 26,
    "start_time": "2023-04-21T15:21:16.047Z"
   },
   {
    "duration": 7,
    "start_time": "2023-04-21T15:21:16.075Z"
   },
   {
    "duration": 23,
    "start_time": "2023-04-21T15:21:16.084Z"
   },
   {
    "duration": 18,
    "start_time": "2023-04-21T15:21:16.108Z"
   },
   {
    "duration": 39,
    "start_time": "2023-04-21T15:21:16.127Z"
   },
   {
    "duration": 26,
    "start_time": "2023-04-21T15:21:16.168Z"
   },
   {
    "duration": 13,
    "start_time": "2023-04-21T15:21:16.195Z"
   },
   {
    "duration": 17,
    "start_time": "2023-04-21T15:21:16.209Z"
   },
   {
    "duration": 8,
    "start_time": "2023-04-21T15:21:16.228Z"
   },
   {
    "duration": 9,
    "start_time": "2023-04-21T15:21:16.237Z"
   },
   {
    "duration": 7,
    "start_time": "2023-04-21T15:21:16.247Z"
   },
   {
    "duration": 6,
    "start_time": "2023-04-21T15:21:16.256Z"
   },
   {
    "duration": 45,
    "start_time": "2023-04-21T15:21:16.263Z"
   },
   {
    "duration": 5,
    "start_time": "2023-04-21T15:21:16.310Z"
   },
   {
    "duration": 14,
    "start_time": "2023-04-21T15:21:16.316Z"
   },
   {
    "duration": 10,
    "start_time": "2023-04-21T15:21:16.332Z"
   },
   {
    "duration": 12,
    "start_time": "2023-04-21T15:21:16.344Z"
   },
   {
    "duration": 9,
    "start_time": "2023-04-21T15:21:16.357Z"
   },
   {
    "duration": 8,
    "start_time": "2023-04-21T15:21:16.372Z"
   },
   {
    "duration": 17,
    "start_time": "2023-04-21T15:21:16.382Z"
   },
   {
    "duration": 16,
    "start_time": "2023-04-21T15:21:16.401Z"
   },
   {
    "duration": 26,
    "start_time": "2023-04-21T15:21:16.419Z"
   },
   {
    "duration": 10,
    "start_time": "2023-04-21T15:21:16.446Z"
   },
   {
    "duration": 25,
    "start_time": "2023-04-21T15:21:16.458Z"
   },
   {
    "duration": 10,
    "start_time": "2023-04-21T15:21:16.484Z"
   },
   {
    "duration": 21,
    "start_time": "2023-04-21T15:21:16.495Z"
   },
   {
    "duration": 8,
    "start_time": "2023-04-21T15:21:16.518Z"
   },
   {
    "duration": 23,
    "start_time": "2023-04-21T15:21:16.527Z"
   },
   {
    "duration": 11,
    "start_time": "2023-04-21T15:21:16.552Z"
   },
   {
    "duration": 22,
    "start_time": "2023-04-21T15:21:16.565Z"
   },
   {
    "duration": 3,
    "start_time": "2023-04-21T15:21:16.589Z"
   },
   {
    "duration": 39,
    "start_time": "2023-04-21T15:21:16.594Z"
   },
   {
    "duration": 22,
    "start_time": "2023-04-21T15:21:16.635Z"
   },
   {
    "duration": 42,
    "start_time": "2023-04-21T15:21:16.658Z"
   },
   {
    "duration": 19,
    "start_time": "2023-04-21T15:21:16.702Z"
   },
   {
    "duration": 7,
    "start_time": "2023-04-21T15:21:16.722Z"
   },
   {
    "duration": 19,
    "start_time": "2023-04-21T15:21:16.731Z"
   },
   {
    "duration": 110,
    "start_time": "2023-04-21T15:21:16.752Z"
   },
   {
    "duration": 125,
    "start_time": "2023-04-21T15:21:16.864Z"
   },
   {
    "duration": 6,
    "start_time": "2023-04-21T15:21:16.991Z"
   },
   {
    "duration": 16,
    "start_time": "2023-04-21T15:21:16.998Z"
   },
   {
    "duration": 130,
    "start_time": "2023-04-21T15:21:17.015Z"
   },
   {
    "duration": 8,
    "start_time": "2023-04-21T15:21:17.148Z"
   },
   {
    "duration": 16,
    "start_time": "2023-04-21T15:21:17.158Z"
   },
   {
    "duration": 29,
    "start_time": "2023-04-21T15:21:17.175Z"
   },
   {
    "duration": 12,
    "start_time": "2023-04-21T15:21:17.206Z"
   },
   {
    "duration": 116,
    "start_time": "2023-04-21T15:21:17.219Z"
   },
   {
    "duration": 1596,
    "start_time": "2023-04-21T15:21:17.336Z"
   },
   {
    "duration": 137,
    "start_time": "2023-04-21T15:21:18.933Z"
   },
   {
    "duration": 9,
    "start_time": "2023-04-21T15:21:19.072Z"
   },
   {
    "duration": 24,
    "start_time": "2023-04-21T15:21:19.082Z"
   },
   {
    "duration": 3,
    "start_time": "2023-04-21T15:21:19.108Z"
   },
   {
    "duration": 6,
    "start_time": "2023-04-21T15:21:19.112Z"
   },
   {
    "duration": 16,
    "start_time": "2023-04-21T15:21:19.119Z"
   },
   {
    "duration": 8,
    "start_time": "2023-04-21T15:21:19.148Z"
   },
   {
    "duration": 18,
    "start_time": "2023-04-21T15:21:19.158Z"
   },
   {
    "duration": 3,
    "start_time": "2023-04-21T15:21:19.178Z"
   },
   {
    "duration": 1483,
    "start_time": "2023-04-21T15:21:19.183Z"
   },
   {
    "duration": 1445,
    "start_time": "2023-04-21T15:21:20.667Z"
   },
   {
    "duration": 1461,
    "start_time": "2023-04-21T15:21:22.114Z"
   },
   {
    "duration": 4,
    "start_time": "2023-04-21T15:21:23.576Z"
   },
   {
    "duration": 2682,
    "start_time": "2023-04-21T15:21:23.581Z"
   },
   {
    "duration": 4,
    "start_time": "2023-04-21T15:21:26.265Z"
   },
   {
    "duration": 134,
    "start_time": "2023-04-21T15:21:26.270Z"
   },
   {
    "duration": 8,
    "start_time": "2023-04-21T15:21:26.406Z"
   },
   {
    "duration": 118,
    "start_time": "2023-04-21T15:21:26.415Z"
   },
   {
    "duration": 220,
    "start_time": "2023-04-21T15:21:26.534Z"
   },
   {
    "duration": 8,
    "start_time": "2023-04-21T15:21:26.756Z"
   },
   {
    "duration": 139,
    "start_time": "2023-04-21T15:21:26.765Z"
   },
   {
    "duration": 24,
    "start_time": "2023-04-21T15:21:26.906Z"
   },
   {
    "duration": 135,
    "start_time": "2023-04-21T15:21:26.931Z"
   },
   {
    "duration": 9,
    "start_time": "2023-04-21T15:21:27.068Z"
   },
   {
    "duration": 118,
    "start_time": "2023-04-21T15:21:27.078Z"
   },
   {
    "duration": 20,
    "start_time": "2023-04-21T15:21:27.197Z"
   },
   {
    "duration": 140,
    "start_time": "2023-04-21T15:21:27.219Z"
   },
   {
    "duration": 8,
    "start_time": "2023-04-21T15:21:27.360Z"
   },
   {
    "duration": 151,
    "start_time": "2023-04-21T15:21:27.369Z"
   },
   {
    "duration": 129,
    "start_time": "2023-04-21T15:21:27.521Z"
   },
   {
    "duration": 4,
    "start_time": "2023-04-21T15:21:27.652Z"
   },
   {
    "duration": 22,
    "start_time": "2023-04-21T15:21:27.658Z"
   },
   {
    "duration": 137,
    "start_time": "2023-04-21T15:21:27.681Z"
   },
   {
    "duration": 119,
    "start_time": "2023-04-21T15:21:27.820Z"
   },
   {
    "duration": 7,
    "start_time": "2023-04-21T15:21:27.948Z"
   },
   {
    "duration": 12,
    "start_time": "2023-04-21T15:21:27.957Z"
   },
   {
    "duration": 131,
    "start_time": "2023-04-21T15:21:27.971Z"
   },
   {
    "duration": 7,
    "start_time": "2023-04-21T15:21:28.103Z"
   },
   {
    "duration": 118,
    "start_time": "2023-04-21T15:21:28.112Z"
   },
   {
    "duration": 121,
    "start_time": "2023-04-21T15:21:28.231Z"
   },
   {
    "duration": 7,
    "start_time": "2023-04-21T15:21:28.354Z"
   },
   {
    "duration": 10,
    "start_time": "2023-04-21T15:21:28.362Z"
   },
   {
    "duration": 17,
    "start_time": "2023-04-21T15:21:28.373Z"
   },
   {
    "duration": 10,
    "start_time": "2023-04-21T15:21:28.392Z"
   },
   {
    "duration": 137,
    "start_time": "2023-04-21T15:21:28.404Z"
   },
   {
    "duration": 12,
    "start_time": "2023-04-21T15:21:28.543Z"
   },
   {
    "duration": 13,
    "start_time": "2023-04-21T15:21:28.556Z"
   },
   {
    "duration": 20,
    "start_time": "2023-04-21T15:21:28.570Z"
   },
   {
    "duration": 10,
    "start_time": "2023-04-21T15:21:28.592Z"
   },
   {
    "duration": 111,
    "start_time": "2023-04-21T15:21:28.604Z"
   },
   {
    "duration": 8,
    "start_time": "2023-04-21T15:21:28.717Z"
   },
   {
    "duration": 18,
    "start_time": "2023-04-21T15:21:28.732Z"
   },
   {
    "duration": 133,
    "start_time": "2023-04-21T15:21:28.751Z"
   },
   {
    "duration": 9,
    "start_time": "2023-04-21T15:21:28.885Z"
   },
   {
    "duration": 5,
    "start_time": "2023-04-21T15:21:28.895Z"
   },
   {
    "duration": 114,
    "start_time": "2023-04-21T15:21:28.901Z"
   },
   {
    "duration": 8,
    "start_time": "2023-04-21T15:21:29.017Z"
   },
   {
    "duration": 4,
    "start_time": "2023-04-21T15:21:29.027Z"
   },
   {
    "duration": 149,
    "start_time": "2023-04-21T15:21:29.033Z"
   },
   {
    "duration": 8,
    "start_time": "2023-04-21T15:21:29.183Z"
   },
   {
    "duration": 105,
    "start_time": "2023-04-21T15:21:29.192Z"
   },
   {
    "duration": 344,
    "start_time": "2023-04-21T15:21:29.298Z"
   },
   {
    "duration": 5,
    "start_time": "2023-04-21T15:21:29.648Z"
   },
   {
    "duration": 22,
    "start_time": "2023-04-21T15:21:29.654Z"
   },
   {
    "duration": 172,
    "start_time": "2023-04-21T15:21:29.677Z"
   },
   {
    "duration": 8,
    "start_time": "2023-04-21T15:21:29.851Z"
   },
   {
    "duration": 4,
    "start_time": "2023-04-21T15:21:29.860Z"
   },
   {
    "duration": 4,
    "start_time": "2023-04-21T15:21:29.866Z"
   },
   {
    "duration": 8,
    "start_time": "2023-04-21T15:21:29.872Z"
   },
   {
    "duration": 9,
    "start_time": "2023-04-21T15:21:29.882Z"
   },
   {
    "duration": 8,
    "start_time": "2023-04-21T15:21:29.893Z"
   },
   {
    "duration": 51,
    "start_time": "2023-04-21T15:21:29.903Z"
   },
   {
    "duration": 11,
    "start_time": "2023-04-21T15:21:29.955Z"
   },
   {
    "duration": 9,
    "start_time": "2023-04-21T15:21:29.968Z"
   },
   {
    "duration": 12,
    "start_time": "2023-04-21T15:21:29.979Z"
   },
   {
    "duration": 15,
    "start_time": "2023-04-21T15:21:29.993Z"
   },
   {
    "duration": 49,
    "start_time": "2023-04-21T15:21:30.010Z"
   },
   {
    "duration": 165,
    "start_time": "2023-04-21T15:21:30.060Z"
   },
   {
    "duration": 146,
    "start_time": "2023-04-21T15:21:30.227Z"
   },
   {
    "duration": 150,
    "start_time": "2023-04-21T15:21:30.375Z"
   },
   {
    "duration": 10,
    "start_time": "2023-04-21T15:21:30.527Z"
   },
   {
    "duration": 43,
    "start_time": "2023-04-21T15:21:30.549Z"
   },
   {
    "duration": 54,
    "start_time": "2023-04-21T15:21:30.593Z"
   },
   {
    "duration": 35,
    "start_time": "2023-04-21T15:21:30.649Z"
   },
   {
    "duration": 94,
    "start_time": "2023-04-21T15:21:30.686Z"
   },
   {
    "duration": 49,
    "start_time": "2023-04-21T15:21:30.782Z"
   },
   {
    "duration": 89,
    "start_time": "2023-04-21T15:21:30.833Z"
   },
   {
    "duration": 283,
    "start_time": "2023-04-21T15:21:30.925Z"
   },
   {
    "duration": 463,
    "start_time": "2023-04-21T20:16:21.588Z"
   },
   {
    "duration": 105,
    "start_time": "2023-04-21T20:16:22.053Z"
   },
   {
    "duration": 52,
    "start_time": "2023-04-21T20:16:22.160Z"
   },
   {
    "duration": 2427,
    "start_time": "2023-04-21T20:16:22.215Z"
   },
   {
    "duration": 10,
    "start_time": "2023-04-21T20:16:24.644Z"
   },
   {
    "duration": 7,
    "start_time": "2023-04-21T20:16:24.656Z"
   },
   {
    "duration": 43,
    "start_time": "2023-04-21T20:16:24.664Z"
   },
   {
    "duration": 9,
    "start_time": "2023-04-21T20:16:24.708Z"
   },
   {
    "duration": 8,
    "start_time": "2023-04-21T20:16:24.719Z"
   },
   {
    "duration": 3,
    "start_time": "2023-04-21T20:16:24.731Z"
   },
   {
    "duration": 6,
    "start_time": "2023-04-21T20:16:24.736Z"
   },
   {
    "duration": 5,
    "start_time": "2023-04-21T20:16:24.744Z"
   },
   {
    "duration": 12,
    "start_time": "2023-04-21T20:16:24.750Z"
   },
   {
    "duration": 3,
    "start_time": "2023-04-21T20:16:24.764Z"
   },
   {
    "duration": 21,
    "start_time": "2023-04-21T20:16:24.768Z"
   },
   {
    "duration": 145,
    "start_time": "2023-04-21T20:16:24.790Z"
   },
   {
    "duration": 159,
    "start_time": "2023-04-21T20:16:24.937Z"
   },
   {
    "duration": 15,
    "start_time": "2023-04-21T20:16:25.098Z"
   },
   {
    "duration": 17,
    "start_time": "2023-04-21T20:16:25.116Z"
   },
   {
    "duration": 20,
    "start_time": "2023-04-21T20:16:25.135Z"
   },
   {
    "duration": 15,
    "start_time": "2023-04-21T20:16:25.157Z"
   },
   {
    "duration": 29,
    "start_time": "2023-04-21T20:16:25.174Z"
   },
   {
    "duration": 11,
    "start_time": "2023-04-21T20:16:25.205Z"
   },
   {
    "duration": 5,
    "start_time": "2023-04-21T20:16:25.218Z"
   },
   {
    "duration": 8,
    "start_time": "2023-04-21T20:16:25.224Z"
   },
   {
    "duration": 7,
    "start_time": "2023-04-21T20:16:25.234Z"
   },
   {
    "duration": 16,
    "start_time": "2023-04-21T20:16:25.242Z"
   },
   {
    "duration": 6,
    "start_time": "2023-04-21T20:16:25.263Z"
   },
   {
    "duration": 28,
    "start_time": "2023-04-21T20:16:25.271Z"
   },
   {
    "duration": 7,
    "start_time": "2023-04-21T20:16:25.301Z"
   },
   {
    "duration": 8,
    "start_time": "2023-04-21T20:16:25.311Z"
   },
   {
    "duration": 14,
    "start_time": "2023-04-21T20:16:25.321Z"
   },
   {
    "duration": 6,
    "start_time": "2023-04-21T20:16:25.337Z"
   },
   {
    "duration": 9,
    "start_time": "2023-04-21T20:16:25.345Z"
   },
   {
    "duration": 65,
    "start_time": "2023-04-21T20:16:25.356Z"
   },
   {
    "duration": 5,
    "start_time": "2023-04-21T20:16:25.423Z"
   },
   {
    "duration": 14,
    "start_time": "2023-04-21T20:16:25.429Z"
   },
   {
    "duration": 9,
    "start_time": "2023-04-21T20:16:25.444Z"
   },
   {
    "duration": 9,
    "start_time": "2023-04-21T20:16:25.455Z"
   },
   {
    "duration": 7,
    "start_time": "2023-04-21T20:16:25.483Z"
   },
   {
    "duration": 14,
    "start_time": "2023-04-21T20:16:25.496Z"
   },
   {
    "duration": 13,
    "start_time": "2023-04-21T20:16:25.512Z"
   },
   {
    "duration": 5,
    "start_time": "2023-04-21T20:16:25.526Z"
   },
   {
    "duration": 7,
    "start_time": "2023-04-21T20:16:25.532Z"
   },
   {
    "duration": 6,
    "start_time": "2023-04-21T20:16:25.541Z"
   },
   {
    "duration": 7,
    "start_time": "2023-04-21T20:16:25.549Z"
   },
   {
    "duration": 3,
    "start_time": "2023-04-21T20:16:25.558Z"
   },
   {
    "duration": 36,
    "start_time": "2023-04-21T20:16:25.563Z"
   },
   {
    "duration": 10,
    "start_time": "2023-04-21T20:16:25.601Z"
   },
   {
    "duration": 9,
    "start_time": "2023-04-21T20:16:25.612Z"
   },
   {
    "duration": 8,
    "start_time": "2023-04-21T20:16:25.623Z"
   },
   {
    "duration": 19,
    "start_time": "2023-04-21T20:16:25.633Z"
   },
   {
    "duration": 3,
    "start_time": "2023-04-21T20:16:25.653Z"
   },
   {
    "duration": 45,
    "start_time": "2023-04-21T20:16:25.657Z"
   },
   {
    "duration": 17,
    "start_time": "2023-04-21T20:16:25.704Z"
   },
   {
    "duration": 22,
    "start_time": "2023-04-21T20:16:25.723Z"
   },
   {
    "duration": 37,
    "start_time": "2023-04-21T20:16:25.747Z"
   },
   {
    "duration": 14,
    "start_time": "2023-04-21T20:16:25.786Z"
   },
   {
    "duration": 19,
    "start_time": "2023-04-21T20:16:25.801Z"
   },
   {
    "duration": 137,
    "start_time": "2023-04-21T20:16:25.822Z"
   },
   {
    "duration": 152,
    "start_time": "2023-04-21T20:16:25.961Z"
   },
   {
    "duration": 6,
    "start_time": "2023-04-21T20:16:26.115Z"
   },
   {
    "duration": 8,
    "start_time": "2023-04-21T20:16:26.122Z"
   },
   {
    "duration": 140,
    "start_time": "2023-04-21T20:16:26.131Z"
   },
   {
    "duration": 25,
    "start_time": "2023-04-21T20:16:26.274Z"
   },
   {
    "duration": 5,
    "start_time": "2023-04-21T20:16:26.302Z"
   },
   {
    "duration": 10,
    "start_time": "2023-04-21T20:16:26.309Z"
   },
   {
    "duration": 8,
    "start_time": "2023-04-21T20:16:26.320Z"
   },
   {
    "duration": 134,
    "start_time": "2023-04-21T20:16:26.329Z"
   },
   {
    "duration": 1919,
    "start_time": "2023-04-21T20:16:26.465Z"
   },
   {
    "duration": 147,
    "start_time": "2023-04-21T20:16:28.391Z"
   },
   {
    "duration": 10,
    "start_time": "2023-04-21T20:16:28.540Z"
   },
   {
    "duration": 48,
    "start_time": "2023-04-21T20:16:28.552Z"
   },
   {
    "duration": 4,
    "start_time": "2023-04-21T20:16:28.603Z"
   },
   {
    "duration": 11,
    "start_time": "2023-04-21T20:16:28.609Z"
   },
   {
    "duration": 9,
    "start_time": "2023-04-21T20:16:28.622Z"
   },
   {
    "duration": 8,
    "start_time": "2023-04-21T20:16:28.633Z"
   },
   {
    "duration": 51,
    "start_time": "2023-04-21T20:16:28.643Z"
   },
   {
    "duration": 5,
    "start_time": "2023-04-21T20:16:28.698Z"
   },
   {
    "duration": 1518,
    "start_time": "2023-04-21T20:16:28.705Z"
   },
   {
    "duration": 1548,
    "start_time": "2023-04-21T20:16:30.225Z"
   },
   {
    "duration": 1541,
    "start_time": "2023-04-21T20:16:31.785Z"
   },
   {
    "duration": 3,
    "start_time": "2023-04-21T20:16:33.328Z"
   },
   {
    "duration": 2517,
    "start_time": "2023-04-21T20:16:33.333Z"
   },
   {
    "duration": 4,
    "start_time": "2023-04-21T20:16:35.852Z"
   },
   {
    "duration": 145,
    "start_time": "2023-04-21T20:16:35.857Z"
   },
   {
    "duration": 9,
    "start_time": "2023-04-21T20:16:36.004Z"
   },
   {
    "duration": 149,
    "start_time": "2023-04-21T20:16:36.014Z"
   },
   {
    "duration": 280,
    "start_time": "2023-04-21T20:16:36.165Z"
   },
   {
    "duration": 9,
    "start_time": "2023-04-21T20:16:36.446Z"
   },
   {
    "duration": 148,
    "start_time": "2023-04-21T20:16:36.457Z"
   },
   {
    "duration": 26,
    "start_time": "2023-04-21T20:16:36.606Z"
   },
   {
    "duration": 183,
    "start_time": "2023-04-21T20:16:36.634Z"
   },
   {
    "duration": 9,
    "start_time": "2023-04-21T20:16:36.819Z"
   },
   {
    "duration": 139,
    "start_time": "2023-04-21T20:16:36.830Z"
   },
   {
    "duration": 30,
    "start_time": "2023-04-21T20:16:36.971Z"
   },
   {
    "duration": 155,
    "start_time": "2023-04-21T20:16:37.003Z"
   },
   {
    "duration": 8,
    "start_time": "2023-04-21T20:16:37.160Z"
   },
   {
    "duration": 191,
    "start_time": "2023-04-21T20:16:37.170Z"
   },
   {
    "duration": 152,
    "start_time": "2023-04-21T20:16:37.362Z"
   },
   {
    "duration": 5,
    "start_time": "2023-04-21T20:16:37.516Z"
   },
   {
    "duration": 44,
    "start_time": "2023-04-21T20:16:37.523Z"
   },
   {
    "duration": 161,
    "start_time": "2023-04-21T20:16:37.569Z"
   },
   {
    "duration": 152,
    "start_time": "2023-04-21T20:16:37.732Z"
   },
   {
    "duration": 12,
    "start_time": "2023-04-21T20:16:37.892Z"
   },
   {
    "duration": 5,
    "start_time": "2023-04-21T20:16:37.906Z"
   },
   {
    "duration": 144,
    "start_time": "2023-04-21T20:16:37.912Z"
   },
   {
    "duration": 33,
    "start_time": "2023-04-21T20:16:38.057Z"
   },
   {
    "duration": 158,
    "start_time": "2023-04-21T20:16:38.092Z"
   },
   {
    "duration": 151,
    "start_time": "2023-04-21T20:16:38.252Z"
   },
   {
    "duration": 9,
    "start_time": "2023-04-21T20:16:38.405Z"
   },
   {
    "duration": 11,
    "start_time": "2023-04-21T20:16:38.416Z"
   },
   {
    "duration": 27,
    "start_time": "2023-04-21T20:16:38.429Z"
   },
   {
    "duration": 7,
    "start_time": "2023-04-21T20:16:38.458Z"
   },
   {
    "duration": 181,
    "start_time": "2023-04-21T20:16:38.467Z"
   },
   {
    "duration": 9,
    "start_time": "2023-04-21T20:16:38.651Z"
   },
   {
    "duration": 8,
    "start_time": "2023-04-21T20:16:38.662Z"
   },
   {
    "duration": 15,
    "start_time": "2023-04-21T20:16:38.686Z"
   },
   {
    "duration": 18,
    "start_time": "2023-04-21T20:16:38.703Z"
   },
   {
    "duration": 129,
    "start_time": "2023-04-21T20:16:38.723Z"
   },
   {
    "duration": 12,
    "start_time": "2023-04-21T20:16:38.854Z"
   },
   {
    "duration": 22,
    "start_time": "2023-04-21T20:16:38.868Z"
   },
   {
    "duration": 182,
    "start_time": "2023-04-21T20:16:38.892Z"
   },
   {
    "duration": 13,
    "start_time": "2023-04-21T20:16:39.083Z"
   },
   {
    "duration": 12,
    "start_time": "2023-04-21T20:16:39.099Z"
   },
   {
    "duration": 134,
    "start_time": "2023-04-21T20:16:39.113Z"
   },
   {
    "duration": 10,
    "start_time": "2023-04-21T20:16:39.248Z"
   },
   {
    "duration": 27,
    "start_time": "2023-04-21T20:16:39.260Z"
   },
   {
    "duration": 155,
    "start_time": "2023-04-21T20:16:39.296Z"
   },
   {
    "duration": 10,
    "start_time": "2023-04-21T20:16:39.452Z"
   },
   {
    "duration": 137,
    "start_time": "2023-04-21T20:16:39.464Z"
   },
   {
    "duration": 437,
    "start_time": "2023-04-21T20:16:39.603Z"
   },
   {
    "duration": 7,
    "start_time": "2023-04-21T20:16:40.042Z"
   },
   {
    "duration": 15,
    "start_time": "2023-04-21T20:16:40.051Z"
   },
   {
    "duration": 185,
    "start_time": "2023-04-21T20:16:40.068Z"
   },
   {
    "duration": 10,
    "start_time": "2023-04-21T20:16:40.255Z"
   },
   {
    "duration": 31,
    "start_time": "2023-04-21T20:16:40.267Z"
   },
   {
    "duration": 6,
    "start_time": "2023-04-21T20:16:40.301Z"
   },
   {
    "duration": 29,
    "start_time": "2023-04-21T20:16:40.309Z"
   },
   {
    "duration": 14,
    "start_time": "2023-04-21T20:16:40.339Z"
   },
   {
    "duration": 9,
    "start_time": "2023-04-21T20:16:40.355Z"
   },
   {
    "duration": 28,
    "start_time": "2023-04-21T20:16:40.365Z"
   },
   {
    "duration": 15,
    "start_time": "2023-04-21T20:16:40.395Z"
   },
   {
    "duration": 12,
    "start_time": "2023-04-21T20:16:40.412Z"
   },
   {
    "duration": 17,
    "start_time": "2023-04-21T20:16:40.426Z"
   },
   {
    "duration": 17,
    "start_time": "2023-04-21T20:16:40.444Z"
   },
   {
    "duration": 21,
    "start_time": "2023-04-21T20:16:40.487Z"
   },
   {
    "duration": 199,
    "start_time": "2023-04-21T20:16:40.510Z"
   },
   {
    "duration": 201,
    "start_time": "2023-04-21T20:16:40.711Z"
   },
   {
    "duration": 186,
    "start_time": "2023-04-21T20:16:40.916Z"
   },
   {
    "duration": 10,
    "start_time": "2023-04-21T20:16:41.103Z"
   },
   {
    "duration": 14,
    "start_time": "2023-04-21T20:16:41.115Z"
   },
   {
    "duration": 18,
    "start_time": "2023-04-21T20:16:41.131Z"
   },
   {
    "duration": 3,
    "start_time": "2023-04-21T20:16:41.151Z"
   },
   {
    "duration": 19,
    "start_time": "2023-04-21T20:16:41.155Z"
   },
   {
    "duration": 30,
    "start_time": "2023-04-21T20:16:41.176Z"
   },
   {
    "duration": 11,
    "start_time": "2023-04-21T20:16:41.208Z"
   },
   {
    "duration": 237,
    "start_time": "2023-04-21T20:16:41.220Z"
   },
   {
    "duration": 7,
    "start_time": "2023-04-21T20:18:14.099Z"
   },
   {
    "duration": 27,
    "start_time": "2023-04-21T20:18:38.278Z"
   },
   {
    "duration": 99,
    "start_time": "2023-04-21T20:18:42.050Z"
   },
   {
    "duration": 82,
    "start_time": "2023-04-21T20:18:52.156Z"
   },
   {
    "duration": 7,
    "start_time": "2023-04-21T20:19:08.971Z"
   },
   {
    "duration": 9,
    "start_time": "2023-04-21T20:19:27.507Z"
   },
   {
    "duration": 445,
    "start_time": "2023-04-21T22:21:54.659Z"
   },
   {
    "duration": 320,
    "start_time": "2023-04-21T22:21:55.105Z"
   },
   {
    "duration": 37,
    "start_time": "2023-04-21T22:21:55.532Z"
   },
   {
    "duration": 22,
    "start_time": "2023-04-21T22:22:20.769Z"
   },
   {
    "duration": 31,
    "start_time": "2023-04-21T22:25:43.538Z"
   },
   {
    "duration": 3,
    "start_time": "2023-04-21T22:25:48.414Z"
   },
   {
    "duration": 107,
    "start_time": "2023-04-21T22:25:49.208Z"
   },
   {
    "duration": 24,
    "start_time": "2023-04-21T22:25:50.931Z"
   },
   {
    "duration": 2166,
    "start_time": "2023-04-21T22:26:06.103Z"
   },
   {
    "duration": 138,
    "start_time": "2023-04-21T22:45:54.877Z"
   },
   {
    "duration": 202,
    "start_time": "2023-04-21T22:46:01.139Z"
   },
   {
    "duration": 150,
    "start_time": "2023-04-21T22:46:16.738Z"
   },
   {
    "duration": 75,
    "start_time": "2023-04-21T22:48:39.225Z"
   },
   {
    "duration": 6,
    "start_time": "2023-04-21T22:49:17.874Z"
   },
   {
    "duration": 4,
    "start_time": "2023-04-21T22:53:22.692Z"
   },
   {
    "duration": 8,
    "start_time": "2023-04-21T22:53:25.493Z"
   },
   {
    "duration": 6,
    "start_time": "2023-04-21T22:53:33.103Z"
   },
   {
    "duration": 115,
    "start_time": "2023-04-21T22:53:50.479Z"
   },
   {
    "duration": 4,
    "start_time": "2023-04-21T22:53:59.849Z"
   },
   {
    "duration": 8,
    "start_time": "2023-04-21T22:54:03.653Z"
   },
   {
    "duration": 5,
    "start_time": "2023-04-21T22:54:07.031Z"
   },
   {
    "duration": 7,
    "start_time": "2023-04-21T22:54:10.340Z"
   },
   {
    "duration": 10,
    "start_time": "2023-04-21T22:57:09.942Z"
   },
   {
    "duration": 7,
    "start_time": "2023-04-21T22:58:20.200Z"
   },
   {
    "duration": 7,
    "start_time": "2023-04-21T22:58:21.073Z"
   },
   {
    "duration": 8,
    "start_time": "2023-04-21T22:58:22.009Z"
   },
   {
    "duration": 6,
    "start_time": "2023-04-21T22:58:25.546Z"
   },
   {
    "duration": 4,
    "start_time": "2023-04-21T22:58:26.403Z"
   },
   {
    "duration": 7,
    "start_time": "2023-04-21T22:58:27.948Z"
   },
   {
    "duration": 6,
    "start_time": "2023-04-21T22:58:28.754Z"
   },
   {
    "duration": 9,
    "start_time": "2023-04-21T22:58:29.275Z"
   },
   {
    "duration": 4,
    "start_time": "2023-04-21T22:58:34.122Z"
   },
   {
    "duration": 5,
    "start_time": "2023-04-21T22:58:59.434Z"
   },
   {
    "duration": 117,
    "start_time": "2023-04-21T22:59:01.620Z"
   },
   {
    "duration": 169,
    "start_time": "2023-04-21T22:59:04.455Z"
   },
   {
    "duration": 10,
    "start_time": "2023-04-21T22:59:05.885Z"
   },
   {
    "duration": 6,
    "start_time": "2023-04-21T22:59:06.264Z"
   },
   {
    "duration": 5,
    "start_time": "2023-04-21T22:59:06.551Z"
   },
   {
    "duration": 5,
    "start_time": "2023-04-21T22:59:07.215Z"
   },
   {
    "duration": 5,
    "start_time": "2023-04-21T22:59:10.043Z"
   },
   {
    "duration": 7,
    "start_time": "2023-04-21T22:59:12.200Z"
   },
   {
    "duration": 5,
    "start_time": "2023-04-21T22:59:12.574Z"
   },
   {
    "duration": 6,
    "start_time": "2023-04-21T22:59:12.929Z"
   },
   {
    "duration": 6,
    "start_time": "2023-04-21T22:59:13.237Z"
   },
   {
    "duration": 13,
    "start_time": "2023-04-21T22:59:13.551Z"
   },
   {
    "duration": 8,
    "start_time": "2023-04-21T22:59:16.058Z"
   },
   {
    "duration": 4,
    "start_time": "2023-04-21T22:59:17.966Z"
   },
   {
    "duration": 7,
    "start_time": "2023-04-21T22:59:18.549Z"
   },
   {
    "duration": 6,
    "start_time": "2023-04-21T22:59:18.969Z"
   },
   {
    "duration": 11,
    "start_time": "2023-04-21T22:59:19.511Z"
   },
   {
    "duration": 6,
    "start_time": "2023-04-21T22:59:29.054Z"
   },
   {
    "duration": 5,
    "start_time": "2023-04-21T22:59:30.161Z"
   },
   {
    "duration": 51,
    "start_time": "2023-04-21T22:59:34.655Z"
   },
   {
    "duration": 7,
    "start_time": "2023-04-21T22:59:34.928Z"
   },
   {
    "duration": 16,
    "start_time": "2023-04-21T22:59:36.531Z"
   },
   {
    "duration": 5,
    "start_time": "2023-04-21T22:59:43.500Z"
   },
   {
    "duration": 7,
    "start_time": "2023-04-21T22:59:43.958Z"
   },
   {
    "duration": 5,
    "start_time": "2023-04-21T22:59:45.985Z"
   },
   {
    "duration": 4,
    "start_time": "2023-04-21T22:59:46.336Z"
   },
   {
    "duration": 5,
    "start_time": "2023-04-21T22:59:46.780Z"
   },
   {
    "duration": 3,
    "start_time": "2023-04-21T22:59:54.239Z"
   },
   {
    "duration": 7,
    "start_time": "2023-04-21T22:59:54.968Z"
   },
   {
    "duration": 5,
    "start_time": "2023-04-21T22:59:55.342Z"
   },
   {
    "duration": 6,
    "start_time": "2023-04-21T22:59:55.672Z"
   },
   {
    "duration": 4,
    "start_time": "2023-04-21T22:59:56.049Z"
   },
   {
    "duration": 4,
    "start_time": "2023-04-21T22:59:56.423Z"
   },
   {
    "duration": 7,
    "start_time": "2023-04-21T22:59:56.755Z"
   },
   {
    "duration": 4,
    "start_time": "2023-04-21T22:59:57.089Z"
   },
   {
    "duration": 5,
    "start_time": "2023-04-21T22:59:57.481Z"
   },
   {
    "duration": 21,
    "start_time": "2023-04-21T22:59:58.022Z"
   },
   {
    "duration": 3,
    "start_time": "2023-04-21T22:59:59.261Z"
   },
   {
    "duration": 27,
    "start_time": "2023-04-21T22:59:59.571Z"
   },
   {
    "duration": 21,
    "start_time": "2023-04-21T22:59:59.906Z"
   },
   {
    "duration": 26,
    "start_time": "2023-04-21T23:00:02.351Z"
   },
   {
    "duration": 20,
    "start_time": "2023-04-21T23:00:02.790Z"
   },
   {
    "duration": 10,
    "start_time": "2023-04-21T23:00:07.866Z"
   },
   {
    "duration": 23,
    "start_time": "2023-04-21T23:00:08.470Z"
   },
   {
    "duration": 129,
    "start_time": "2023-04-21T23:00:24.007Z"
   },
   {
    "duration": 142,
    "start_time": "2023-04-21T23:00:25.466Z"
   },
   {
    "duration": 6,
    "start_time": "2023-04-21T23:00:27.130Z"
   },
   {
    "duration": 6,
    "start_time": "2023-04-21T23:00:27.541Z"
   },
   {
    "duration": 255,
    "start_time": "2023-04-21T23:00:27.916Z"
   },
   {
    "duration": 9,
    "start_time": "2023-04-21T23:00:29.149Z"
   },
   {
    "duration": 5,
    "start_time": "2023-04-21T23:00:30.587Z"
   },
   {
    "duration": 9,
    "start_time": "2023-04-21T23:00:30.877Z"
   },
   {
    "duration": 6,
    "start_time": "2023-04-21T23:00:31.155Z"
   },
   {
    "duration": 135,
    "start_time": "2023-04-21T23:00:31.778Z"
   },
   {
    "duration": 1956,
    "start_time": "2023-04-21T23:00:32.659Z"
   },
   {
    "duration": 153,
    "start_time": "2023-04-21T23:00:34.617Z"
   },
   {
    "duration": 11,
    "start_time": "2023-04-21T23:00:37.696Z"
   },
   {
    "duration": 22,
    "start_time": "2023-04-21T23:00:39.473Z"
   },
   {
    "duration": 5,
    "start_time": "2023-04-21T23:00:40.805Z"
   },
   {
    "duration": 6,
    "start_time": "2023-04-21T23:00:41.119Z"
   },
   {
    "duration": 7,
    "start_time": "2023-04-21T23:00:41.412Z"
   },
   {
    "duration": 10,
    "start_time": "2023-04-21T23:00:41.742Z"
   },
   {
    "duration": 13,
    "start_time": "2023-04-21T23:00:42.118Z"
   },
   {
    "duration": 233,
    "start_time": "2023-04-21T23:03:07.780Z"
   },
   {
    "duration": 154,
    "start_time": "2023-04-21T23:03:37.090Z"
   },
   {
    "duration": 147,
    "start_time": "2023-04-21T23:04:59.808Z"
   },
   {
    "duration": 128,
    "start_time": "2023-04-21T23:05:17.675Z"
   },
   {
    "duration": 37,
    "start_time": "2023-04-21T23:05:26.657Z"
   },
   {
    "duration": 15,
    "start_time": "2023-04-21T23:05:50.454Z"
   },
   {
    "duration": 159,
    "start_time": "2023-04-21T23:06:16.737Z"
   },
   {
    "duration": 125,
    "start_time": "2023-04-21T23:06:38.759Z"
   },
   {
    "duration": 6,
    "start_time": "2023-04-21T23:08:32.606Z"
   },
   {
    "duration": 10,
    "start_time": "2023-04-21T23:08:45.077Z"
   },
   {
    "duration": 7,
    "start_time": "2023-04-21T23:12:27.267Z"
   },
   {
    "duration": 81,
    "start_time": "2023-04-21T23:13:43.074Z"
   },
   {
    "duration": 11,
    "start_time": "2023-04-21T23:16:18.080Z"
   },
   {
    "duration": 189,
    "start_time": "2023-04-21T23:16:25.209Z"
   },
   {
    "duration": 575,
    "start_time": "2023-04-21T23:16:52.029Z"
   },
   {
    "duration": 8,
    "start_time": "2023-04-21T23:17:35.067Z"
   },
   {
    "duration": 216,
    "start_time": "2023-04-21T23:17:41.152Z"
   },
   {
    "duration": 8,
    "start_time": "2023-04-21T23:18:02.859Z"
   },
   {
    "duration": 55,
    "start_time": "2023-04-21T23:18:58.769Z"
   },
   {
    "duration": 173,
    "start_time": "2023-04-21T23:20:26.213Z"
   },
   {
    "duration": 3,
    "start_time": "2023-04-21T23:22:08.138Z"
   },
   {
    "duration": 380,
    "start_time": "2023-04-21T23:23:06.930Z"
   },
   {
    "duration": 50,
    "start_time": "2023-04-21T23:23:37.390Z"
   },
   {
    "duration": 10,
    "start_time": "2023-04-21T23:23:45.538Z"
   },
   {
    "duration": 5,
    "start_time": "2023-04-21T23:23:50.047Z"
   },
   {
    "duration": 585,
    "start_time": "2023-04-21T23:23:57.565Z"
   },
   {
    "duration": 8,
    "start_time": "2023-04-21T23:24:04.668Z"
   },
   {
    "duration": 5,
    "start_time": "2023-04-21T23:24:08.266Z"
   },
   {
    "duration": 7,
    "start_time": "2023-04-21T23:24:17.424Z"
   },
   {
    "duration": 14,
    "start_time": "2023-04-21T23:25:02.789Z"
   },
   {
    "duration": 8,
    "start_time": "2023-04-21T23:25:10.272Z"
   },
   {
    "duration": 79,
    "start_time": "2023-04-21T23:25:25.768Z"
   },
   {
    "duration": 8,
    "start_time": "2023-04-21T23:25:30.251Z"
   },
   {
    "duration": 14,
    "start_time": "2023-04-21T23:26:05.146Z"
   },
   {
    "duration": 8,
    "start_time": "2023-04-21T23:26:16.070Z"
   },
   {
    "duration": 38,
    "start_time": "2023-04-21T23:26:24.872Z"
   },
   {
    "duration": 8,
    "start_time": "2023-04-21T23:26:33.396Z"
   },
   {
    "duration": 8,
    "start_time": "2023-04-21T23:26:45.998Z"
   },
   {
    "duration": 77,
    "start_time": "2023-04-21T23:29:24.497Z"
   },
   {
    "duration": 7,
    "start_time": "2023-04-21T23:29:31.852Z"
   },
   {
    "duration": 8,
    "start_time": "2023-04-21T23:29:44.079Z"
   },
   {
    "duration": 7,
    "start_time": "2023-04-21T23:29:49.867Z"
   },
   {
    "duration": 54,
    "start_time": "2023-04-21T23:32:38.355Z"
   },
   {
    "duration": 12,
    "start_time": "2023-04-21T23:32:56.910Z"
   },
   {
    "duration": 7,
    "start_time": "2023-04-21T23:33:03.405Z"
   },
   {
    "duration": 163,
    "start_time": "2023-04-21T23:34:01.236Z"
   },
   {
    "duration": 310,
    "start_time": "2023-04-21T23:35:21.615Z"
   },
   {
    "duration": 222,
    "start_time": "2023-04-21T23:35:26.324Z"
   },
   {
    "duration": 153,
    "start_time": "2023-04-21T23:35:44.062Z"
   },
   {
    "duration": 164,
    "start_time": "2023-04-21T23:35:45.572Z"
   },
   {
    "duration": 58,
    "start_time": "2023-04-21T23:38:08.312Z"
   },
   {
    "duration": 8,
    "start_time": "2023-04-21T23:38:18.344Z"
   },
   {
    "duration": 185,
    "start_time": "2023-04-21T23:38:31.453Z"
   },
   {
    "duration": 7,
    "start_time": "2023-04-21T23:38:47.446Z"
   },
   {
    "duration": 8,
    "start_time": "2023-04-21T23:38:55.784Z"
   },
   {
    "duration": 75,
    "start_time": "2023-04-21T23:39:52.871Z"
   },
   {
    "duration": 12,
    "start_time": "2023-04-21T23:40:51.542Z"
   },
   {
    "duration": 192,
    "start_time": "2023-04-21T23:41:11.641Z"
   },
   {
    "duration": 6,
    "start_time": "2023-04-21T23:41:55.471Z"
   },
   {
    "duration": 1705,
    "start_time": "2023-04-21T23:41:56.112Z"
   },
   {
    "duration": 1699,
    "start_time": "2023-04-21T23:41:58.422Z"
   },
   {
    "duration": 1903,
    "start_time": "2023-04-21T23:42:00.124Z"
   },
   {
    "duration": 3,
    "start_time": "2023-04-21T23:42:02.030Z"
   },
   {
    "duration": 3248,
    "start_time": "2023-04-21T23:42:02.035Z"
   },
   {
    "duration": 5,
    "start_time": "2023-04-21T23:42:05.285Z"
   },
   {
    "duration": 180,
    "start_time": "2023-04-21T23:42:10.495Z"
   },
   {
    "duration": 11,
    "start_time": "2023-04-21T23:42:15.917Z"
   },
   {
    "duration": 135,
    "start_time": "2023-04-21T23:42:18.842Z"
   },
   {
    "duration": 175,
    "start_time": "2023-04-21T23:44:14.238Z"
   },
   {
    "duration": 11,
    "start_time": "2023-04-21T23:44:28.337Z"
   },
   {
    "duration": 130,
    "start_time": "2023-04-21T23:44:29.377Z"
   },
   {
    "duration": 1801,
    "start_time": "2023-04-21T23:50:45.847Z"
   },
   {
    "duration": 467,
    "start_time": "2023-04-21T23:50:58.539Z"
   },
   {
    "duration": 5,
    "start_time": "2023-04-22T00:01:16.994Z"
   },
   {
    "duration": 4,
    "start_time": "2023-04-22T00:01:37.813Z"
   },
   {
    "duration": 21,
    "start_time": "2023-04-22T00:01:40.554Z"
   },
   {
    "duration": 22,
    "start_time": "2023-04-22T00:02:02.413Z"
   },
   {
    "duration": 17,
    "start_time": "2023-04-22T00:02:06.992Z"
   },
   {
    "duration": 74,
    "start_time": "2023-04-22T00:02:15.485Z"
   },
   {
    "duration": 28,
    "start_time": "2023-04-22T00:02:25.893Z"
   },
   {
    "duration": 4,
    "start_time": "2023-04-22T00:02:39.800Z"
   },
   {
    "duration": 84,
    "start_time": "2023-04-22T00:02:46.249Z"
   },
   {
    "duration": 35,
    "start_time": "2023-04-22T00:02:49.131Z"
   },
   {
    "duration": 8,
    "start_time": "2023-04-22T00:03:46.611Z"
   },
   {
    "duration": 4,
    "start_time": "2023-04-22T00:03:53.367Z"
   },
   {
    "duration": 6,
    "start_time": "2023-04-22T00:03:55.192Z"
   },
   {
    "duration": 10,
    "start_time": "2023-04-22T00:06:26.760Z"
   },
   {
    "duration": 204,
    "start_time": "2023-04-22T00:06:40.531Z"
   },
   {
    "duration": 203,
    "start_time": "2023-04-22T00:06:55.439Z"
   },
   {
    "duration": 13,
    "start_time": "2023-04-22T00:06:57.493Z"
   },
   {
    "duration": 182,
    "start_time": "2023-04-22T00:07:00.182Z"
   },
   {
    "duration": 224,
    "start_time": "2023-04-22T00:08:25.525Z"
   },
   {
    "duration": 206,
    "start_time": "2023-04-22T00:08:37.208Z"
   },
   {
    "duration": 82,
    "start_time": "2023-04-22T00:09:50.775Z"
   },
   {
    "duration": 7,
    "start_time": "2023-04-22T00:10:02.486Z"
   },
   {
    "duration": 7,
    "start_time": "2023-04-22T00:10:11.916Z"
   },
   {
    "duration": 243,
    "start_time": "2023-04-22T00:10:41.340Z"
   },
   {
    "duration": 14,
    "start_time": "2023-04-22T00:11:19.318Z"
   },
   {
    "duration": 195,
    "start_time": "2023-04-22T00:11:26.853Z"
   },
   {
    "duration": 188,
    "start_time": "2023-04-22T00:11:33.541Z"
   },
   {
    "duration": 12,
    "start_time": "2023-04-22T00:11:40.349Z"
   },
   {
    "duration": 174,
    "start_time": "2023-04-22T00:11:48.514Z"
   },
   {
    "duration": 8,
    "start_time": "2023-04-22T00:12:49.023Z"
   },
   {
    "duration": 5,
    "start_time": "2023-04-22T00:13:18.523Z"
   },
   {
    "duration": 136,
    "start_time": "2023-04-22T00:13:19.730Z"
   },
   {
    "duration": 7,
    "start_time": "2023-04-22T00:13:30.121Z"
   },
   {
    "duration": 13,
    "start_time": "2023-04-22T00:14:18.640Z"
   },
   {
    "duration": 81,
    "start_time": "2023-04-22T00:14:46.105Z"
   },
   {
    "duration": 6,
    "start_time": "2023-04-22T00:15:04.080Z"
   },
   {
    "duration": 56,
    "start_time": "2023-04-22T00:17:47.191Z"
   },
   {
    "duration": 157,
    "start_time": "2023-04-22T00:18:17.400Z"
   },
   {
    "duration": 236,
    "start_time": "2023-04-22T00:18:26.295Z"
   },
   {
    "duration": 136,
    "start_time": "2023-04-22T00:18:33.794Z"
   },
   {
    "duration": 131,
    "start_time": "2023-04-22T00:18:42.300Z"
   },
   {
    "duration": 144,
    "start_time": "2023-04-22T13:58:40.907Z"
   },
   {
    "duration": 3,
    "start_time": "2023-04-22T13:59:12.861Z"
   },
   {
    "duration": 377,
    "start_time": "2023-04-22T13:59:13.338Z"
   },
   {
    "duration": 37,
    "start_time": "2023-04-22T13:59:13.768Z"
   },
   {
    "duration": 2336,
    "start_time": "2023-04-22T13:59:19.139Z"
   },
   {
    "duration": 6,
    "start_time": "2023-04-22T13:59:36.936Z"
   },
   {
    "duration": 15,
    "start_time": "2023-04-22T14:00:13.916Z"
   },
   {
    "duration": 23,
    "start_time": "2023-04-22T14:00:20.704Z"
   },
   {
    "duration": 6,
    "start_time": "2023-04-22T14:00:25.566Z"
   },
   {
    "duration": 9,
    "start_time": "2023-04-22T14:00:26.316Z"
   },
   {
    "duration": 10,
    "start_time": "2023-04-22T14:00:27.017Z"
   },
   {
    "duration": 4,
    "start_time": "2023-04-22T14:00:27.549Z"
   },
   {
    "duration": 4,
    "start_time": "2023-04-22T14:00:28.736Z"
   },
   {
    "duration": 5,
    "start_time": "2023-04-22T14:00:29.257Z"
   },
   {
    "duration": 8,
    "start_time": "2023-04-22T14:00:29.524Z"
   },
   {
    "duration": 4,
    "start_time": "2023-04-22T14:00:31.253Z"
   },
   {
    "duration": 14,
    "start_time": "2023-04-22T14:00:32.702Z"
   },
   {
    "duration": 151,
    "start_time": "2023-04-22T14:00:33.482Z"
   },
   {
    "duration": 137,
    "start_time": "2023-04-22T14:00:35.117Z"
   },
   {
    "duration": 13,
    "start_time": "2023-04-22T14:00:36.743Z"
   },
   {
    "duration": 7,
    "start_time": "2023-04-22T14:00:38.119Z"
   },
   {
    "duration": 6,
    "start_time": "2023-04-22T14:00:39.375Z"
   },
   {
    "duration": 7,
    "start_time": "2023-04-22T14:00:40.744Z"
   },
   {
    "duration": 6,
    "start_time": "2023-04-22T14:00:42.250Z"
   },
   {
    "duration": 8,
    "start_time": "2023-04-22T14:01:13.518Z"
   },
   {
    "duration": 4,
    "start_time": "2023-04-22T14:01:13.852Z"
   },
   {
    "duration": 7,
    "start_time": "2023-04-22T14:01:14.148Z"
   },
   {
    "duration": 7,
    "start_time": "2023-04-22T14:01:14.377Z"
   },
   {
    "duration": 14,
    "start_time": "2023-04-22T14:01:14.627Z"
   },
   {
    "duration": 8,
    "start_time": "2023-04-22T14:01:17.842Z"
   },
   {
    "duration": 5,
    "start_time": "2023-04-22T14:01:18.151Z"
   },
   {
    "duration": 6,
    "start_time": "2023-04-22T14:01:18.515Z"
   },
   {
    "duration": 6,
    "start_time": "2023-04-22T14:01:19.724Z"
   },
   {
    "duration": 12,
    "start_time": "2023-04-22T14:01:20.036Z"
   },
   {
    "duration": 6,
    "start_time": "2023-04-22T14:01:22.722Z"
   },
   {
    "duration": 19,
    "start_time": "2023-04-22T14:01:23.082Z"
   },
   {
    "duration": 57,
    "start_time": "2023-04-22T14:01:23.763Z"
   },
   {
    "duration": 9,
    "start_time": "2023-04-22T14:01:24.118Z"
   },
   {
    "duration": 10,
    "start_time": "2023-04-22T14:01:25.318Z"
   },
   {
    "duration": 11,
    "start_time": "2023-04-22T14:01:26.384Z"
   },
   {
    "duration": 6,
    "start_time": "2023-04-22T14:01:26.676Z"
   },
   {
    "duration": 5,
    "start_time": "2023-04-22T14:01:28.628Z"
   },
   {
    "duration": 5,
    "start_time": "2023-04-22T14:01:28.939Z"
   },
   {
    "duration": 6,
    "start_time": "2023-04-22T14:01:29.232Z"
   },
   {
    "duration": 3,
    "start_time": "2023-04-22T14:01:35.425Z"
   },
   {
    "duration": 9,
    "start_time": "2023-04-22T14:01:36.109Z"
   },
   {
    "duration": 7,
    "start_time": "2023-04-22T14:01:36.535Z"
   },
   {
    "duration": 6,
    "start_time": "2023-04-22T14:01:37.536Z"
   },
   {
    "duration": 4,
    "start_time": "2023-04-22T14:01:37.971Z"
   },
   {
    "duration": 4,
    "start_time": "2023-04-22T14:01:39.124Z"
   },
   {
    "duration": 5,
    "start_time": "2023-04-22T14:01:39.459Z"
   },
   {
    "duration": 5,
    "start_time": "2023-04-22T14:01:39.881Z"
   },
   {
    "duration": 4,
    "start_time": "2023-04-22T14:01:41.121Z"
   },
   {
    "duration": 21,
    "start_time": "2023-04-22T14:01:41.578Z"
   },
   {
    "duration": 3,
    "start_time": "2023-04-22T14:01:43.741Z"
   },
   {
    "duration": 27,
    "start_time": "2023-04-22T14:01:44.134Z"
   },
   {
    "duration": 20,
    "start_time": "2023-04-22T14:01:46.315Z"
   },
   {
    "duration": 23,
    "start_time": "2023-04-22T14:01:49.125Z"
   },
   {
    "duration": 23,
    "start_time": "2023-04-22T14:01:50.080Z"
   },
   {
    "duration": 18,
    "start_time": "2023-04-22T14:01:53.886Z"
   },
   {
    "duration": 20,
    "start_time": "2023-04-22T14:01:54.319Z"
   },
   {
    "duration": 555,
    "start_time": "2023-04-22T14:02:01.717Z"
   },
   {
    "duration": 174,
    "start_time": "2023-04-22T14:02:05.589Z"
   },
   {
    "duration": 14,
    "start_time": "2023-04-22T14:02:06.482Z"
   },
   {
    "duration": 7,
    "start_time": "2023-04-22T14:02:06.918Z"
   },
   {
    "duration": 145,
    "start_time": "2023-04-22T14:02:07.303Z"
   },
   {
    "duration": 22,
    "start_time": "2023-04-22T14:02:08.381Z"
   },
   {
    "duration": 6,
    "start_time": "2023-04-22T14:02:09.312Z"
   },
   {
    "duration": 9,
    "start_time": "2023-04-22T14:02:09.636Z"
   },
   {
    "duration": 7,
    "start_time": "2023-04-22T14:02:09.936Z"
   },
   {
    "duration": 173,
    "start_time": "2023-04-22T14:02:10.637Z"
   },
   {
    "duration": 2073,
    "start_time": "2023-04-22T14:02:11.834Z"
   },
   {
    "duration": 148,
    "start_time": "2023-04-22T14:02:16.012Z"
   },
   {
    "duration": 14,
    "start_time": "2023-04-22T14:02:17.334Z"
   },
   {
    "duration": 22,
    "start_time": "2023-04-22T14:02:19.041Z"
   },
   {
    "duration": 6,
    "start_time": "2023-04-22T14:02:19.777Z"
   },
   {
    "duration": 5,
    "start_time": "2023-04-22T14:02:20.115Z"
   },
   {
    "duration": 9,
    "start_time": "2023-04-22T14:02:20.569Z"
   },
   {
    "duration": 12,
    "start_time": "2023-04-22T14:02:20.927Z"
   },
   {
    "duration": 13,
    "start_time": "2023-04-22T14:02:22.116Z"
   },
   {
    "duration": 145,
    "start_time": "2023-04-22T14:02:29.032Z"
   },
   {
    "duration": 11,
    "start_time": "2023-04-22T14:02:34.412Z"
   },
   {
    "duration": 8,
    "start_time": "2023-04-22T14:02:36.137Z"
   },
   {
    "duration": 13,
    "start_time": "2023-04-22T14:02:39.706Z"
   },
   {
    "duration": 173,
    "start_time": "2023-04-22T14:02:40.790Z"
   },
   {
    "duration": 174,
    "start_time": "2023-04-22T14:02:42.937Z"
   },
   {
    "duration": 171,
    "start_time": "2023-04-22T14:02:47.080Z"
   },
   {
    "duration": 6,
    "start_time": "2023-04-22T14:03:00.427Z"
   },
   {
    "duration": 160,
    "start_time": "2023-04-22T14:13:34.577Z"
   },
   {
    "duration": 4,
    "start_time": "2023-04-22T14:13:39.615Z"
   },
   {
    "duration": 5,
    "start_time": "2023-04-22T14:13:39.950Z"
   },
   {
    "duration": 8,
    "start_time": "2023-04-22T14:13:40.223Z"
   },
   {
    "duration": 17,
    "start_time": "2023-04-22T14:13:41.286Z"
   },
   {
    "duration": 8,
    "start_time": "2023-04-22T14:13:43.896Z"
   },
   {
    "duration": 9,
    "start_time": "2023-04-22T14:13:45.903Z"
   },
   {
    "duration": 7,
    "start_time": "2023-04-22T14:13:46.208Z"
   },
   {
    "duration": 154,
    "start_time": "2023-04-22T14:13:47.854Z"
   },
   {
    "duration": 163,
    "start_time": "2023-04-22T14:13:49.241Z"
   },
   {
    "duration": 6,
    "start_time": "2023-04-22T14:13:54.233Z"
   },
   {
    "duration": 9,
    "start_time": "2023-04-22T14:14:05.639Z"
   },
   {
    "duration": 155,
    "start_time": "2023-04-22T14:14:06.645Z"
   },
   {
    "duration": 6,
    "start_time": "2023-04-22T14:14:09.440Z"
   },
   {
    "duration": 1724,
    "start_time": "2023-04-22T14:14:10.044Z"
   },
   {
    "duration": 1567,
    "start_time": "2023-04-22T14:14:11.771Z"
   },
   {
    "duration": 1578,
    "start_time": "2023-04-22T14:14:13.340Z"
   },
   {
    "duration": 4,
    "start_time": "2023-04-22T14:14:14.920Z"
   },
   {
    "duration": 2612,
    "start_time": "2023-04-22T14:14:14.926Z"
   },
   {
    "duration": 6,
    "start_time": "2023-04-22T14:14:17.539Z"
   },
   {
    "duration": 149,
    "start_time": "2023-04-22T14:14:22.419Z"
   },
   {
    "duration": 11,
    "start_time": "2023-04-22T14:14:25.211Z"
   },
   {
    "duration": 163,
    "start_time": "2023-04-22T14:14:26.766Z"
   },
   {
    "duration": 171,
    "start_time": "2023-04-22T14:14:45.960Z"
   },
   {
    "duration": 11,
    "start_time": "2023-04-22T14:14:49.562Z"
   },
   {
    "duration": 138,
    "start_time": "2023-04-22T14:14:50.811Z"
   },
   {
    "duration": 162,
    "start_time": "2023-04-22T14:15:01.485Z"
   },
   {
    "duration": 32,
    "start_time": "2023-04-22T14:15:07.364Z"
   },
   {
    "duration": 4,
    "start_time": "2023-04-22T14:15:08.631Z"
   },
   {
    "duration": 7,
    "start_time": "2023-04-22T14:15:09.503Z"
   },
   {
    "duration": 31,
    "start_time": "2023-04-22T14:15:10.679Z"
   },
   {
    "duration": 9,
    "start_time": "2023-04-22T14:15:14.507Z"
   },
   {
    "duration": 167,
    "start_time": "2023-04-22T14:15:15.369Z"
   },
   {
    "duration": 169,
    "start_time": "2023-04-22T14:15:17.933Z"
   },
   {
    "duration": 12,
    "start_time": "2023-04-22T14:15:19.585Z"
   },
   {
    "duration": 120,
    "start_time": "2023-04-22T14:15:20.830Z"
   },
   {
    "duration": 146,
    "start_time": "2023-04-22T14:15:35.713Z"
   },
   {
    "duration": 6,
    "start_time": "2023-04-22T14:15:36.734Z"
   },
   {
    "duration": 26,
    "start_time": "2023-04-22T14:15:39.026Z"
   },
   {
    "duration": 11,
    "start_time": "2023-04-22T14:15:45.525Z"
   },
   {
    "duration": 150,
    "start_time": "2023-04-22T14:15:46.616Z"
   },
   {
    "duration": 15,
    "start_time": "2023-04-22T14:16:45.681Z"
   },
   {
    "duration": 195,
    "start_time": "2023-04-22T14:17:05.739Z"
   },
   {
    "duration": 140,
    "start_time": "2023-04-22T14:17:42.008Z"
   },
   {
    "duration": 161,
    "start_time": "2023-04-22T14:18:41.803Z"
   },
   {
    "duration": 10,
    "start_time": "2023-04-22T14:18:45.531Z"
   },
   {
    "duration": 178,
    "start_time": "2023-04-22T14:18:48.616Z"
   },
   {
    "duration": 537,
    "start_time": "2023-04-22T14:18:53.887Z"
   },
   {
    "duration": 6,
    "start_time": "2023-04-22T14:18:56.204Z"
   },
   {
    "duration": 37,
    "start_time": "2023-04-22T14:19:01.815Z"
   },
   {
    "duration": 13,
    "start_time": "2023-04-22T14:19:03.006Z"
   },
   {
    "duration": 6,
    "start_time": "2023-04-22T14:19:04.130Z"
   },
   {
    "duration": 5,
    "start_time": "2023-04-22T14:19:06.552Z"
   },
   {
    "duration": 4,
    "start_time": "2023-04-22T14:19:14.022Z"
   },
   {
    "duration": 154,
    "start_time": "2023-04-22T14:19:14.791Z"
   },
   {
    "duration": 7,
    "start_time": "2023-04-22T14:19:16.245Z"
   },
   {
    "duration": 20,
    "start_time": "2023-04-22T14:19:18.746Z"
   },
   {
    "duration": 11,
    "start_time": "2023-04-22T14:19:25.522Z"
   },
   {
    "duration": 7,
    "start_time": "2023-04-22T14:19:27.501Z"
   },
   {
    "duration": 140,
    "start_time": "2023-04-22T14:20:31.827Z"
   },
   {
    "duration": 77,
    "start_time": "2023-04-22T14:22:20.259Z"
   },
   {
    "duration": 8,
    "start_time": "2023-04-22T14:22:44.076Z"
   },
   {
    "duration": 9,
    "start_time": "2023-04-22T14:22:49.188Z"
   },
   {
    "duration": 9,
    "start_time": "2023-04-22T14:22:55.069Z"
   },
   {
    "duration": 7,
    "start_time": "2023-04-22T14:23:01.555Z"
   },
   {
    "duration": 6,
    "start_time": "2023-04-22T14:23:04.978Z"
   },
   {
    "duration": 15,
    "start_time": "2023-04-22T14:23:14.780Z"
   },
   {
    "duration": 89,
    "start_time": "2023-04-22T14:24:12.947Z"
   },
   {
    "duration": 17,
    "start_time": "2023-04-22T14:24:55.043Z"
   },
   {
    "duration": 12,
    "start_time": "2023-04-22T14:25:15.382Z"
   },
   {
    "duration": 7,
    "start_time": "2023-04-22T14:26:16.870Z"
   },
   {
    "duration": 13,
    "start_time": "2023-04-22T14:27:33.906Z"
   },
   {
    "duration": 173,
    "start_time": "2023-04-22T14:27:40.105Z"
   },
   {
    "duration": 160,
    "start_time": "2023-04-22T14:28:02.706Z"
   },
   {
    "duration": 164,
    "start_time": "2023-04-22T14:30:05.820Z"
   },
   {
    "duration": 153,
    "start_time": "2023-04-22T14:30:09.711Z"
   },
   {
    "duration": 10,
    "start_time": "2023-04-22T14:30:14.619Z"
   },
   {
    "duration": 6,
    "start_time": "2023-04-22T14:30:16.259Z"
   },
   {
    "duration": 193,
    "start_time": "2023-04-22T14:30:30.679Z"
   },
   {
    "duration": 10,
    "start_time": "2023-04-22T14:30:32.706Z"
   },
   {
    "duration": 166,
    "start_time": "2023-04-22T14:30:37.304Z"
   },
   {
    "duration": 136,
    "start_time": "2023-04-22T14:30:39.339Z"
   },
   {
    "duration": 10,
    "start_time": "2023-04-22T14:30:41.452Z"
   },
   {
    "duration": 7,
    "start_time": "2023-04-22T14:30:42.222Z"
   },
   {
    "duration": 12,
    "start_time": "2023-04-22T14:30:44.520Z"
   },
   {
    "duration": 5,
    "start_time": "2023-04-22T14:30:45.006Z"
   },
   {
    "duration": 217,
    "start_time": "2023-04-22T14:30:50.612Z"
   },
   {
    "duration": 11,
    "start_time": "2023-04-22T14:30:55.340Z"
   },
   {
    "duration": 6,
    "start_time": "2023-04-22T14:30:57.811Z"
   },
   {
    "duration": 18,
    "start_time": "2023-04-22T14:31:00.107Z"
   },
   {
    "duration": 9,
    "start_time": "2023-04-22T14:31:00.577Z"
   },
   {
    "duration": 167,
    "start_time": "2023-04-22T14:31:02.573Z"
   },
   {
    "duration": 10,
    "start_time": "2023-04-22T14:31:04.176Z"
   },
   {
    "duration": 6,
    "start_time": "2023-04-22T14:31:05.478Z"
   },
   {
    "duration": 172,
    "start_time": "2023-04-22T14:31:09.782Z"
   },
   {
    "duration": 11,
    "start_time": "2023-04-22T14:31:13.605Z"
   },
   {
    "duration": 8,
    "start_time": "2023-04-22T14:31:16.826Z"
   },
   {
    "duration": 157,
    "start_time": "2023-04-22T14:31:32.577Z"
   },
   {
    "duration": 16,
    "start_time": "2023-04-22T14:31:33.586Z"
   },
   {
    "duration": 13,
    "start_time": "2023-04-22T14:31:34.787Z"
   },
   {
    "duration": 203,
    "start_time": "2023-04-22T14:31:51.026Z"
   },
   {
    "duration": 11,
    "start_time": "2023-04-22T14:31:52.628Z"
   },
   {
    "duration": 116,
    "start_time": "2023-04-22T14:32:35.033Z"
   },
   {
    "duration": 350,
    "start_time": "2023-04-22T14:32:38.528Z"
   },
   {
    "duration": 313,
    "start_time": "2023-04-22T14:32:49.778Z"
   },
   {
    "duration": 7,
    "start_time": "2023-04-22T14:32:57.126Z"
   },
   {
    "duration": 9,
    "start_time": "2023-04-22T14:33:00.607Z"
   },
   {
    "duration": 164,
    "start_time": "2023-04-22T14:33:32.406Z"
   },
   {
    "duration": 12,
    "start_time": "2023-04-22T14:33:35.047Z"
   },
   {
    "duration": 6,
    "start_time": "2023-04-22T14:33:37.979Z"
   },
   {
    "duration": 1866,
    "start_time": "2023-04-22T14:34:21.311Z"
   },
   {
    "duration": 2271,
    "start_time": "2023-04-22T14:34:25.084Z"
   },
   {
    "duration": 156,
    "start_time": "2023-04-22T14:34:36.205Z"
   },
   {
    "duration": 181,
    "start_time": "2023-04-22T14:37:09.235Z"
   },
   {
    "duration": 221,
    "start_time": "2023-04-22T14:37:17.144Z"
   },
   {
    "duration": 170,
    "start_time": "2023-04-22T14:37:34.404Z"
   },
   {
    "duration": 6,
    "start_time": "2023-04-22T14:37:57.065Z"
   },
   {
    "duration": 11,
    "start_time": "2023-04-22T14:38:16.061Z"
   },
   {
    "duration": 125,
    "start_time": "2023-04-22T14:39:00.188Z"
   },
   {
    "duration": 13,
    "start_time": "2023-04-22T14:39:11.449Z"
   },
   {
    "duration": 160,
    "start_time": "2023-04-22T14:39:42.411Z"
   },
   {
    "duration": 14,
    "start_time": "2023-04-22T14:40:12.706Z"
   },
   {
    "duration": 16,
    "start_time": "2023-04-22T14:41:14.227Z"
   },
   {
    "duration": 29,
    "start_time": "2023-04-22T14:41:50.690Z"
   },
   {
    "duration": 16,
    "start_time": "2023-04-22T14:41:53.750Z"
   },
   {
    "duration": 19,
    "start_time": "2023-04-22T14:41:55.021Z"
   },
   {
    "duration": 23,
    "start_time": "2023-04-22T14:41:56.662Z"
   },
   {
    "duration": 17,
    "start_time": "2023-04-22T14:41:59.249Z"
   },
   {
    "duration": 184,
    "start_time": "2023-04-22T14:42:37.124Z"
   },
   {
    "duration": 172,
    "start_time": "2023-04-22T14:43:41.809Z"
   },
   {
    "duration": 188,
    "start_time": "2023-04-22T14:43:53.103Z"
   },
   {
    "duration": 11,
    "start_time": "2023-04-22T14:44:04.319Z"
   },
   {
    "duration": 12,
    "start_time": "2023-04-22T14:44:07.289Z"
   },
   {
    "duration": 13,
    "start_time": "2023-04-22T14:44:07.937Z"
   },
   {
    "duration": 3,
    "start_time": "2023-04-22T14:44:08.335Z"
   },
   {
    "duration": 18,
    "start_time": "2023-04-22T14:44:09.108Z"
   },
   {
    "duration": 210,
    "start_time": "2023-04-22T14:44:51.508Z"
   },
   {
    "duration": 211,
    "start_time": "2023-04-22T14:44:59.826Z"
   },
   {
    "duration": 289,
    "start_time": "2023-04-22T14:46:10.281Z"
   },
   {
    "duration": 12,
    "start_time": "2023-04-22T14:46:13.223Z"
   },
   {
    "duration": 3,
    "start_time": "2023-04-22T14:46:13.880Z"
   },
   {
    "duration": 218,
    "start_time": "2023-04-22T14:46:14.360Z"
   },
   {
    "duration": 78,
    "start_time": "2023-04-22T14:54:11.407Z"
   },
   {
    "duration": 502,
    "start_time": "2023-04-22T14:54:29.803Z"
   },
   {
    "duration": 279,
    "start_time": "2023-04-22T14:54:30.307Z"
   },
   {
    "duration": 45,
    "start_time": "2023-04-22T14:54:30.593Z"
   },
   {
    "duration": 2666,
    "start_time": "2023-04-22T14:54:30.640Z"
   },
   {
    "duration": 7,
    "start_time": "2023-04-22T14:54:33.308Z"
   },
   {
    "duration": 26,
    "start_time": "2023-04-22T14:54:33.317Z"
   },
   {
    "duration": 37,
    "start_time": "2023-04-22T14:54:33.345Z"
   },
   {
    "duration": 31,
    "start_time": "2023-04-22T14:54:33.385Z"
   },
   {
    "duration": 17,
    "start_time": "2023-04-22T14:54:33.418Z"
   },
   {
    "duration": 13,
    "start_time": "2023-04-22T14:54:33.438Z"
   },
   {
    "duration": 10,
    "start_time": "2023-04-22T14:54:33.453Z"
   },
   {
    "duration": 9,
    "start_time": "2023-04-22T14:54:33.464Z"
   },
   {
    "duration": 12,
    "start_time": "2023-04-22T14:54:33.475Z"
   },
   {
    "duration": 24,
    "start_time": "2023-04-22T14:54:33.490Z"
   },
   {
    "duration": 12,
    "start_time": "2023-04-22T14:54:33.516Z"
   },
   {
    "duration": 9,
    "start_time": "2023-04-22T14:54:33.530Z"
   },
   {
    "duration": 124,
    "start_time": "2023-04-22T14:54:33.541Z"
   },
   {
    "duration": 161,
    "start_time": "2023-04-22T14:54:33.668Z"
   },
   {
    "duration": 11,
    "start_time": "2023-04-22T14:54:33.830Z"
   },
   {
    "duration": 17,
    "start_time": "2023-04-22T14:54:33.843Z"
   },
   {
    "duration": 34,
    "start_time": "2023-04-22T14:54:33.863Z"
   },
   {
    "duration": 15,
    "start_time": "2023-04-22T14:54:33.898Z"
   },
   {
    "duration": 15,
    "start_time": "2023-04-22T14:54:33.915Z"
   },
   {
    "duration": 13,
    "start_time": "2023-04-22T14:54:33.932Z"
   },
   {
    "duration": 6,
    "start_time": "2023-04-22T14:54:33.947Z"
   },
   {
    "duration": 13,
    "start_time": "2023-04-22T14:54:33.955Z"
   },
   {
    "duration": 8,
    "start_time": "2023-04-22T14:54:33.970Z"
   },
   {
    "duration": 32,
    "start_time": "2023-04-22T14:54:33.988Z"
   },
   {
    "duration": 8,
    "start_time": "2023-04-22T14:54:34.023Z"
   },
   {
    "duration": 7,
    "start_time": "2023-04-22T14:54:34.033Z"
   },
   {
    "duration": 33,
    "start_time": "2023-04-22T14:54:34.043Z"
   },
   {
    "duration": 26,
    "start_time": "2023-04-22T14:54:34.079Z"
   },
   {
    "duration": 20,
    "start_time": "2023-04-22T14:54:34.107Z"
   },
   {
    "duration": 7,
    "start_time": "2023-04-22T14:54:34.129Z"
   },
   {
    "duration": 11,
    "start_time": "2023-04-22T14:54:34.138Z"
   },
   {
    "duration": 55,
    "start_time": "2023-04-22T14:54:34.151Z"
   },
   {
    "duration": 6,
    "start_time": "2023-04-22T14:54:34.208Z"
   },
   {
    "duration": 19,
    "start_time": "2023-04-22T14:54:34.216Z"
   },
   {
    "duration": 10,
    "start_time": "2023-04-22T14:54:34.237Z"
   },
   {
    "duration": 6,
    "start_time": "2023-04-22T14:54:34.250Z"
   },
   {
    "duration": 32,
    "start_time": "2023-04-22T14:54:34.259Z"
   },
   {
    "duration": 8,
    "start_time": "2023-04-22T14:54:34.300Z"
   },
   {
    "duration": 14,
    "start_time": "2023-04-22T14:54:34.310Z"
   },
   {
    "duration": 9,
    "start_time": "2023-04-22T14:54:34.326Z"
   },
   {
    "duration": 17,
    "start_time": "2023-04-22T14:54:34.337Z"
   },
   {
    "duration": 9,
    "start_time": "2023-04-22T14:54:34.356Z"
   },
   {
    "duration": 25,
    "start_time": "2023-04-22T14:54:34.367Z"
   },
   {
    "duration": 24,
    "start_time": "2023-04-22T14:54:34.394Z"
   },
   {
    "duration": 16,
    "start_time": "2023-04-22T14:54:34.420Z"
   },
   {
    "duration": 10,
    "start_time": "2023-04-22T14:54:34.438Z"
   },
   {
    "duration": 6,
    "start_time": "2023-04-22T14:54:34.449Z"
   },
   {
    "duration": 6,
    "start_time": "2023-04-22T14:54:34.457Z"
   },
   {
    "duration": 36,
    "start_time": "2023-04-22T14:54:34.465Z"
   },
   {
    "duration": 4,
    "start_time": "2023-04-22T14:54:34.503Z"
   },
   {
    "duration": 37,
    "start_time": "2023-04-22T14:54:34.509Z"
   },
   {
    "duration": 45,
    "start_time": "2023-04-22T14:54:34.548Z"
   },
   {
    "duration": 34,
    "start_time": "2023-04-22T14:54:34.595Z"
   },
   {
    "duration": 35,
    "start_time": "2023-04-22T14:54:34.631Z"
   },
   {
    "duration": 9,
    "start_time": "2023-04-22T14:54:34.668Z"
   },
   {
    "duration": 28,
    "start_time": "2023-04-22T14:54:34.679Z"
   },
   {
    "duration": 157,
    "start_time": "2023-04-22T14:54:34.709Z"
   },
   {
    "duration": 161,
    "start_time": "2023-04-22T14:54:34.868Z"
   },
   {
    "duration": 7,
    "start_time": "2023-04-22T14:54:35.031Z"
   },
   {
    "duration": 23,
    "start_time": "2023-04-22T14:54:35.040Z"
   },
   {
    "duration": 174,
    "start_time": "2023-04-22T14:54:35.065Z"
   },
   {
    "duration": 10,
    "start_time": "2023-04-22T14:54:35.241Z"
   },
   {
    "duration": 18,
    "start_time": "2023-04-22T14:54:35.253Z"
   },
   {
    "duration": 29,
    "start_time": "2023-04-22T14:54:35.273Z"
   },
   {
    "duration": 35,
    "start_time": "2023-04-22T14:54:35.304Z"
   },
   {
    "duration": 144,
    "start_time": "2023-04-22T14:54:35.341Z"
   },
   {
    "duration": 2092,
    "start_time": "2023-04-22T14:54:35.494Z"
   },
   {
    "duration": 167,
    "start_time": "2023-04-22T14:54:37.593Z"
   },
   {
    "duration": 11,
    "start_time": "2023-04-22T14:54:37.761Z"
   },
   {
    "duration": 41,
    "start_time": "2023-04-22T14:54:37.789Z"
   },
   {
    "duration": 4,
    "start_time": "2023-04-22T14:54:37.832Z"
   },
   {
    "duration": 18,
    "start_time": "2023-04-22T14:54:37.837Z"
   },
   {
    "duration": 13,
    "start_time": "2023-04-22T14:54:37.857Z"
   },
   {
    "duration": 18,
    "start_time": "2023-04-22T14:54:37.872Z"
   },
   {
    "duration": 18,
    "start_time": "2023-04-22T14:54:37.893Z"
   },
   {
    "duration": 162,
    "start_time": "2023-04-22T14:54:37.913Z"
   },
   {
    "duration": 26,
    "start_time": "2023-04-22T14:54:38.076Z"
   },
   {
    "duration": 7,
    "start_time": "2023-04-22T14:54:38.112Z"
   },
   {
    "duration": 16,
    "start_time": "2023-04-22T14:54:38.120Z"
   },
   {
    "duration": 177,
    "start_time": "2023-04-22T14:54:38.138Z"
   },
   {
    "duration": 303,
    "start_time": "2023-04-22T14:54:38.318Z"
   },
   {
    "duration": 190,
    "start_time": "2023-04-22T14:54:38.623Z"
   },
   {
    "duration": 8,
    "start_time": "2023-04-22T14:54:38.817Z"
   },
   {
    "duration": 170,
    "start_time": "2023-04-22T14:54:38.827Z"
   },
   {
    "duration": 5,
    "start_time": "2023-04-22T14:54:39.001Z"
   },
   {
    "duration": 9,
    "start_time": "2023-04-22T14:54:39.008Z"
   },
   {
    "duration": 11,
    "start_time": "2023-04-22T14:54:39.018Z"
   },
   {
    "duration": 9,
    "start_time": "2023-04-22T14:54:39.030Z"
   },
   {
    "duration": 8,
    "start_time": "2023-04-22T14:54:39.041Z"
   },
   {
    "duration": 47,
    "start_time": "2023-04-22T14:54:39.050Z"
   },
   {
    "duration": 11,
    "start_time": "2023-04-22T14:54:39.099Z"
   },
   {
    "duration": 167,
    "start_time": "2023-04-22T14:54:39.112Z"
   },
   {
    "duration": 160,
    "start_time": "2023-04-22T14:54:39.280Z"
   },
   {
    "duration": 8,
    "start_time": "2023-04-22T14:54:39.442Z"
   },
   {
    "duration": 12,
    "start_time": "2023-04-22T14:54:39.452Z"
   },
   {
    "duration": 180,
    "start_time": "2023-04-22T14:54:39.466Z"
   },
   {
    "duration": 6,
    "start_time": "2023-04-22T14:54:39.649Z"
   },
   {
    "duration": 1709,
    "start_time": "2023-04-22T14:54:39.657Z"
   },
   {
    "duration": 1509,
    "start_time": "2023-04-22T14:54:41.368Z"
   },
   {
    "duration": 1533,
    "start_time": "2023-04-22T14:54:42.879Z"
   },
   {
    "duration": 4,
    "start_time": "2023-04-22T14:54:44.414Z"
   },
   {
    "duration": 2582,
    "start_time": "2023-04-22T14:54:44.420Z"
   },
   {
    "duration": 4,
    "start_time": "2023-04-22T14:54:47.004Z"
   },
   {
    "duration": 153,
    "start_time": "2023-04-22T14:54:47.010Z"
   },
   {
    "duration": 9,
    "start_time": "2023-04-22T14:54:47.165Z"
   },
   {
    "duration": 155,
    "start_time": "2023-04-22T14:54:47.176Z"
   },
   {
    "duration": 175,
    "start_time": "2023-04-22T14:54:47.333Z"
   },
   {
    "duration": 12,
    "start_time": "2023-04-22T14:54:47.511Z"
   },
   {
    "duration": 180,
    "start_time": "2023-04-22T14:54:47.525Z"
   },
   {
    "duration": 153,
    "start_time": "2023-04-22T14:54:47.707Z"
   },
   {
    "duration": 44,
    "start_time": "2023-04-22T14:54:47.862Z"
   },
   {
    "duration": 4,
    "start_time": "2023-04-22T14:54:47.908Z"
   },
   {
    "duration": 9,
    "start_time": "2023-04-22T14:54:47.914Z"
   },
   {
    "duration": 33,
    "start_time": "2023-04-22T14:54:47.924Z"
   },
   {
    "duration": 37,
    "start_time": "2023-04-22T14:54:47.958Z"
   },
   {
    "duration": 154,
    "start_time": "2023-04-22T14:54:48.006Z"
   },
   {
    "duration": 163,
    "start_time": "2023-04-22T14:54:48.162Z"
   },
   {
    "duration": 12,
    "start_time": "2023-04-22T14:54:48.327Z"
   },
   {
    "duration": 267,
    "start_time": "2023-04-22T14:54:48.341Z"
   },
   {
    "duration": 157,
    "start_time": "2023-04-22T14:54:48.611Z"
   },
   {
    "duration": 7,
    "start_time": "2023-04-22T14:54:48.770Z"
   },
   {
    "duration": 47,
    "start_time": "2023-04-22T14:54:48.788Z"
   },
   {
    "duration": 11,
    "start_time": "2023-04-22T14:54:48.838Z"
   },
   {
    "duration": 197,
    "start_time": "2023-04-22T14:54:48.851Z"
   },
   {
    "duration": 170,
    "start_time": "2023-04-22T14:54:49.051Z"
   },
   {
    "duration": 12,
    "start_time": "2023-04-22T14:54:49.223Z"
   },
   {
    "duration": 194,
    "start_time": "2023-04-22T14:54:49.237Z"
   },
   {
    "duration": 12,
    "start_time": "2023-04-22T14:54:49.434Z"
   },
   {
    "duration": 203,
    "start_time": "2023-04-22T14:54:49.449Z"
   },
   {
    "duration": 5,
    "start_time": "2023-04-22T14:54:49.655Z"
   },
   {
    "duration": 167,
    "start_time": "2023-04-22T14:54:49.661Z"
   },
   {
    "duration": 7,
    "start_time": "2023-04-22T14:54:49.831Z"
   },
   {
    "duration": 21,
    "start_time": "2023-04-22T14:54:49.840Z"
   },
   {
    "duration": 19,
    "start_time": "2023-04-22T14:54:49.888Z"
   },
   {
    "duration": 10,
    "start_time": "2023-04-22T14:54:49.908Z"
   },
   {
    "duration": 171,
    "start_time": "2023-04-22T14:54:49.920Z"
   },
   {
    "duration": 8,
    "start_time": "2023-04-22T14:54:50.100Z"
   },
   {
    "duration": 42,
    "start_time": "2023-04-22T14:54:50.110Z"
   },
   {
    "duration": 16,
    "start_time": "2023-04-22T14:54:50.154Z"
   },
   {
    "duration": 28,
    "start_time": "2023-04-22T14:54:50.173Z"
   },
   {
    "duration": 229,
    "start_time": "2023-04-22T14:54:50.203Z"
   },
   {
    "duration": 204,
    "start_time": "2023-04-22T14:54:50.435Z"
   },
   {
    "duration": 199,
    "start_time": "2023-04-22T14:54:50.641Z"
   },
   {
    "duration": 9,
    "start_time": "2023-04-22T14:54:50.842Z"
   },
   {
    "duration": 13,
    "start_time": "2023-04-22T14:54:50.853Z"
   },
   {
    "duration": 164,
    "start_time": "2023-04-22T14:54:50.868Z"
   },
   {
    "duration": 10,
    "start_time": "2023-04-22T14:54:51.033Z"
   },
   {
    "duration": 177,
    "start_time": "2023-04-22T14:54:51.045Z"
   },
   {
    "duration": 146,
    "start_time": "2023-04-22T14:54:51.225Z"
   },
   {
    "duration": 16,
    "start_time": "2023-04-22T14:54:51.373Z"
   },
   {
    "duration": 25,
    "start_time": "2023-04-22T14:54:51.391Z"
   },
   {
    "duration": 16,
    "start_time": "2023-04-22T14:54:51.419Z"
   },
   {
    "duration": 9,
    "start_time": "2023-04-22T14:54:51.436Z"
   },
   {
    "duration": 167,
    "start_time": "2023-04-22T14:54:51.447Z"
   },
   {
    "duration": 12,
    "start_time": "2023-04-22T14:54:51.616Z"
   },
   {
    "duration": 27,
    "start_time": "2023-04-22T14:54:51.629Z"
   },
   {
    "duration": 29,
    "start_time": "2023-04-22T14:54:51.657Z"
   },
   {
    "duration": 31,
    "start_time": "2023-04-22T14:54:51.690Z"
   },
   {
    "duration": 131,
    "start_time": "2023-04-22T14:54:51.722Z"
   },
   {
    "duration": 9,
    "start_time": "2023-04-22T14:54:51.855Z"
   },
   {
    "duration": 36,
    "start_time": "2023-04-22T14:54:51.866Z"
   },
   {
    "duration": 158,
    "start_time": "2023-04-22T14:54:51.905Z"
   },
   {
    "duration": 27,
    "start_time": "2023-04-22T14:54:52.065Z"
   },
   {
    "duration": 7,
    "start_time": "2023-04-22T14:54:52.098Z"
   },
   {
    "duration": 288,
    "start_time": "2023-04-22T14:54:52.107Z"
   },
   {
    "duration": 12,
    "start_time": "2023-04-22T14:54:52.397Z"
   },
   {
    "duration": 245,
    "start_time": "2023-04-22T14:54:52.411Z"
   },
   {
    "duration": 192,
    "start_time": "2023-04-22T14:54:52.658Z"
   },
   {
    "duration": 11,
    "start_time": "2023-04-22T14:54:52.852Z"
   },
   {
    "duration": 188,
    "start_time": "2023-04-22T14:54:52.865Z"
   },
   {
    "duration": 335,
    "start_time": "2023-04-22T14:54:53.055Z"
   },
   {
    "duration": 15,
    "start_time": "2023-04-22T14:54:53.395Z"
   },
   {
    "duration": 16,
    "start_time": "2023-04-22T14:54:53.414Z"
   },
   {
    "duration": 172,
    "start_time": "2023-04-22T14:54:53.432Z"
   },
   {
    "duration": 11,
    "start_time": "2023-04-22T14:54:53.606Z"
   },
   {
    "duration": 46,
    "start_time": "2023-04-22T14:54:53.619Z"
   },
   {
    "duration": 165,
    "start_time": "2023-04-22T14:54:53.667Z"
   },
   {
    "duration": 164,
    "start_time": "2023-04-22T14:54:53.835Z"
   },
   {
    "duration": 6,
    "start_time": "2023-04-22T14:54:54.007Z"
   },
   {
    "duration": 33,
    "start_time": "2023-04-22T14:54:54.015Z"
   },
   {
    "duration": 20,
    "start_time": "2023-04-22T14:54:54.050Z"
   },
   {
    "duration": 24,
    "start_time": "2023-04-22T14:54:54.072Z"
   },
   {
    "duration": 29,
    "start_time": "2023-04-22T14:54:54.100Z"
   },
   {
    "duration": 54,
    "start_time": "2023-04-22T14:54:54.131Z"
   },
   {
    "duration": 39,
    "start_time": "2023-04-22T14:54:54.188Z"
   },
   {
    "duration": 32,
    "start_time": "2023-04-22T14:54:54.229Z"
   },
   {
    "duration": 18,
    "start_time": "2023-04-22T14:54:54.264Z"
   },
   {
    "duration": 21,
    "start_time": "2023-04-22T14:54:54.284Z"
   },
   {
    "duration": 186,
    "start_time": "2023-04-22T14:54:54.307Z"
   },
   {
    "duration": 179,
    "start_time": "2023-04-22T14:54:54.499Z"
   },
   {
    "duration": 185,
    "start_time": "2023-04-22T14:54:54.680Z"
   },
   {
    "duration": 10,
    "start_time": "2023-04-22T14:54:54.867Z"
   },
   {
    "duration": 40,
    "start_time": "2023-04-22T14:54:54.887Z"
   },
   {
    "duration": 34,
    "start_time": "2023-04-22T14:54:54.929Z"
   },
   {
    "duration": 48,
    "start_time": "2023-04-22T14:54:54.965Z"
   },
   {
    "duration": 70,
    "start_time": "2023-04-22T14:54:55.015Z"
   },
   {
    "duration": 240,
    "start_time": "2023-04-22T14:54:55.086Z"
   },
   {
    "duration": 11,
    "start_time": "2023-04-22T14:54:55.328Z"
   },
   {
    "duration": 5,
    "start_time": "2023-04-22T14:54:55.340Z"
   },
   {
    "duration": 260,
    "start_time": "2023-04-22T14:54:55.347Z"
   },
   {
    "duration": 506,
    "start_time": "2023-04-22T21:49:39.969Z"
   },
   {
    "duration": 112,
    "start_time": "2023-04-22T21:49:40.477Z"
   },
   {
    "duration": 52,
    "start_time": "2023-04-22T21:49:40.591Z"
   },
   {
    "duration": 4716,
    "start_time": "2023-04-22T21:49:40.645Z"
   },
   {
    "duration": 20,
    "start_time": "2023-04-22T21:49:45.419Z"
   },
   {
    "duration": 35,
    "start_time": "2023-04-22T21:49:45.440Z"
   },
   {
    "duration": 25,
    "start_time": "2023-04-22T21:49:45.520Z"
   },
   {
    "duration": 16,
    "start_time": "2023-04-22T21:49:45.546Z"
   },
   {
    "duration": 18,
    "start_time": "2023-04-22T21:49:45.564Z"
   },
   {
    "duration": 17,
    "start_time": "2023-04-22T21:49:45.619Z"
   },
   {
    "duration": 24,
    "start_time": "2023-04-22T21:49:45.637Z"
   },
   {
    "duration": 63,
    "start_time": "2023-04-22T21:49:45.663Z"
   },
   {
    "duration": 18,
    "start_time": "2023-04-22T21:49:45.731Z"
   },
   {
    "duration": 13,
    "start_time": "2023-04-22T21:49:45.751Z"
   },
   {
    "duration": 23,
    "start_time": "2023-04-22T21:49:45.766Z"
   },
   {
    "duration": 18,
    "start_time": "2023-04-22T21:49:45.791Z"
   },
   {
    "duration": 149,
    "start_time": "2023-04-22T21:49:45.811Z"
   },
   {
    "duration": 259,
    "start_time": "2023-04-22T21:49:45.962Z"
   },
   {
    "duration": 22,
    "start_time": "2023-04-22T21:49:46.223Z"
   },
   {
    "duration": 14,
    "start_time": "2023-04-22T21:49:46.247Z"
   },
   {
    "duration": 68,
    "start_time": "2023-04-22T21:49:46.263Z"
   },
   {
    "duration": 31,
    "start_time": "2023-04-22T21:49:46.333Z"
   },
   {
    "duration": 69,
    "start_time": "2023-04-22T21:49:46.366Z"
   },
   {
    "duration": 22,
    "start_time": "2023-04-22T21:49:46.438Z"
   },
   {
    "duration": 8,
    "start_time": "2023-04-22T21:49:46.463Z"
   },
   {
    "duration": 48,
    "start_time": "2023-04-22T21:49:46.473Z"
   },
   {
    "duration": 54,
    "start_time": "2023-04-22T21:49:46.523Z"
   },
   {
    "duration": 13,
    "start_time": "2023-04-22T21:49:46.618Z"
   },
   {
    "duration": 85,
    "start_time": "2023-04-22T21:49:46.633Z"
   },
   {
    "duration": 48,
    "start_time": "2023-04-22T21:49:46.723Z"
   },
   {
    "duration": 51,
    "start_time": "2023-04-22T21:49:46.773Z"
   },
   {
    "duration": 23,
    "start_time": "2023-04-22T21:49:46.830Z"
   },
   {
    "duration": 17,
    "start_time": "2023-04-22T21:49:46.855Z"
   },
   {
    "duration": 53,
    "start_time": "2023-04-22T21:49:46.875Z"
   },
   {
    "duration": 26,
    "start_time": "2023-04-22T21:49:46.930Z"
   },
   {
    "duration": 101,
    "start_time": "2023-04-22T21:49:46.959Z"
   },
   {
    "duration": 58,
    "start_time": "2023-04-22T21:49:47.062Z"
   },
   {
    "duration": 52,
    "start_time": "2023-04-22T21:49:47.123Z"
   },
   {
    "duration": 73,
    "start_time": "2023-04-22T21:49:47.178Z"
   },
   {
    "duration": 18,
    "start_time": "2023-04-22T21:49:47.253Z"
   },
   {
    "duration": 48,
    "start_time": "2023-04-22T21:49:47.273Z"
   },
   {
    "duration": 35,
    "start_time": "2023-04-22T21:49:47.322Z"
   },
   {
    "duration": 22,
    "start_time": "2023-04-22T21:49:47.359Z"
   },
   {
    "duration": 43,
    "start_time": "2023-04-22T21:49:47.382Z"
   },
   {
    "duration": 31,
    "start_time": "2023-04-22T21:49:47.430Z"
   },
   {
    "duration": 61,
    "start_time": "2023-04-22T21:49:47.463Z"
   },
   {
    "duration": 11,
    "start_time": "2023-04-22T21:49:47.527Z"
   },
   {
    "duration": 35,
    "start_time": "2023-04-22T21:49:47.540Z"
   },
   {
    "duration": 54,
    "start_time": "2023-04-22T21:49:47.578Z"
   },
   {
    "duration": 28,
    "start_time": "2023-04-22T21:49:47.634Z"
   },
   {
    "duration": 61,
    "start_time": "2023-04-22T21:49:47.664Z"
   },
   {
    "duration": 91,
    "start_time": "2023-04-22T21:49:47.729Z"
   },
   {
    "duration": 108,
    "start_time": "2023-04-22T21:49:47.826Z"
   },
   {
    "duration": 15,
    "start_time": "2023-04-22T21:49:47.936Z"
   },
   {
    "duration": 118,
    "start_time": "2023-04-22T21:49:47.956Z"
   },
   {
    "duration": 73,
    "start_time": "2023-04-22T21:49:48.076Z"
   },
   {
    "duration": 108,
    "start_time": "2023-04-22T21:49:48.152Z"
   },
   {
    "duration": 78,
    "start_time": "2023-04-22T21:49:48.262Z"
   },
   {
    "duration": 21,
    "start_time": "2023-04-22T21:49:48.343Z"
   },
   {
    "duration": 31,
    "start_time": "2023-04-22T21:49:48.417Z"
   },
   {
    "duration": 369,
    "start_time": "2023-04-22T21:49:48.452Z"
   },
   {
    "duration": 333,
    "start_time": "2023-04-22T21:49:48.831Z"
   },
   {
    "duration": 54,
    "start_time": "2023-04-22T21:49:49.166Z"
   },
   {
    "duration": 41,
    "start_time": "2023-04-22T21:49:49.223Z"
   },
   {
    "duration": 295,
    "start_time": "2023-04-22T21:49:49.265Z"
   },
   {
    "duration": 133,
    "start_time": "2023-04-22T21:49:49.563Z"
   },
   {
    "duration": 5,
    "start_time": "2023-04-22T21:49:49.724Z"
   },
   {
    "duration": 38,
    "start_time": "2023-04-22T21:49:49.731Z"
   },
   {
    "duration": 51,
    "start_time": "2023-04-22T21:49:49.771Z"
   },
   {
    "duration": 299,
    "start_time": "2023-04-22T21:49:49.831Z"
   },
   {
    "duration": 3995,
    "start_time": "2023-04-22T21:49:50.132Z"
   },
   {
    "duration": 307,
    "start_time": "2023-04-22T21:49:54.129Z"
   },
   {
    "duration": 14,
    "start_time": "2023-04-22T21:49:54.439Z"
   },
   {
    "duration": 82,
    "start_time": "2023-04-22T21:49:54.456Z"
   },
   {
    "duration": 49,
    "start_time": "2023-04-22T21:49:54.540Z"
   },
   {
    "duration": 24,
    "start_time": "2023-04-22T21:49:54.591Z"
   },
   {
    "duration": 56,
    "start_time": "2023-04-22T21:49:54.617Z"
   },
   {
    "duration": 20,
    "start_time": "2023-04-22T21:49:54.675Z"
   },
   {
    "duration": 17,
    "start_time": "2023-04-22T21:49:54.697Z"
   },
   {
    "duration": 228,
    "start_time": "2023-04-22T21:49:54.716Z"
   },
   {
    "duration": 10,
    "start_time": "2023-04-22T21:49:54.947Z"
   },
   {
    "duration": 573,
    "start_time": "2023-04-22T21:49:54.966Z"
   },
   {
    "duration": 28,
    "start_time": "2023-04-22T21:49:55.544Z"
   },
   {
    "duration": 200,
    "start_time": "2023-04-22T21:49:55.575Z"
   },
   {
    "duration": 277,
    "start_time": "2023-04-22T21:49:55.777Z"
   },
   {
    "duration": 621,
    "start_time": "2023-04-22T21:49:56.056Z"
   },
   {
    "duration": 61,
    "start_time": "2023-04-22T21:49:56.679Z"
   },
   {
    "duration": 389,
    "start_time": "2023-04-22T21:49:56.750Z"
   },
   {
    "duration": 4,
    "start_time": "2023-04-22T21:49:57.141Z"
   },
   {
    "duration": 79,
    "start_time": "2023-04-22T21:49:57.151Z"
   },
   {
    "duration": 9,
    "start_time": "2023-04-22T21:49:57.232Z"
   },
   {
    "duration": 83,
    "start_time": "2023-04-22T21:49:57.242Z"
   },
   {
    "duration": 56,
    "start_time": "2023-04-22T21:49:57.327Z"
   },
   {
    "duration": 67,
    "start_time": "2023-04-22T21:49:57.385Z"
   },
   {
    "duration": 20,
    "start_time": "2023-04-22T21:49:57.454Z"
   },
   {
    "duration": 354,
    "start_time": "2023-04-22T21:49:57.476Z"
   },
   {
    "duration": 223,
    "start_time": "2023-04-22T21:49:57.834Z"
   },
   {
    "duration": 75,
    "start_time": "2023-04-22T21:49:58.059Z"
   },
   {
    "duration": 29,
    "start_time": "2023-04-22T21:49:58.143Z"
   },
   {
    "duration": 367,
    "start_time": "2023-04-22T21:49:58.174Z"
   },
   {
    "duration": 8,
    "start_time": "2023-04-22T21:49:58.543Z"
   },
   {
    "duration": 3013,
    "start_time": "2023-04-22T21:49:58.554Z"
   },
   {
    "duration": 3201,
    "start_time": "2023-04-22T21:50:01.618Z"
   },
   {
    "duration": 3525,
    "start_time": "2023-04-22T21:50:04.821Z"
   },
   {
    "duration": 5,
    "start_time": "2023-04-22T21:50:08.349Z"
   },
   {
    "duration": 5592,
    "start_time": "2023-04-22T21:50:08.355Z"
   },
   {
    "duration": 6,
    "start_time": "2023-04-22T21:50:13.950Z"
   },
   {
    "duration": 363,
    "start_time": "2023-04-22T21:50:13.958Z"
   },
   {
    "duration": 10,
    "start_time": "2023-04-22T21:50:14.323Z"
   },
   {
    "duration": 324,
    "start_time": "2023-04-22T21:50:14.335Z"
   },
   {
    "duration": 381,
    "start_time": "2023-04-22T21:50:14.660Z"
   },
   {
    "duration": 12,
    "start_time": "2023-04-22T21:50:15.044Z"
   },
   {
    "duration": 305,
    "start_time": "2023-04-22T21:50:15.057Z"
   },
   {
    "duration": 335,
    "start_time": "2023-04-22T21:50:15.420Z"
   },
   {
    "duration": 94,
    "start_time": "2023-04-22T21:50:15.756Z"
   },
   {
    "duration": 79,
    "start_time": "2023-04-22T21:50:15.853Z"
   },
   {
    "duration": 15,
    "start_time": "2023-04-22T21:50:15.939Z"
   },
   {
    "duration": 64,
    "start_time": "2023-04-22T21:50:15.956Z"
   },
   {
    "duration": 14,
    "start_time": "2023-04-22T21:50:16.022Z"
   },
   {
    "duration": 323,
    "start_time": "2023-04-22T21:50:16.038Z"
   },
   {
    "duration": 319,
    "start_time": "2023-04-22T21:50:16.422Z"
   },
   {
    "duration": 12,
    "start_time": "2023-04-22T21:50:16.747Z"
   },
   {
    "duration": 500,
    "start_time": "2023-04-22T21:50:16.761Z"
   },
   {
    "duration": 371,
    "start_time": "2023-04-22T21:50:17.263Z"
   },
   {
    "duration": 10,
    "start_time": "2023-04-22T21:50:17.641Z"
   },
   {
    "duration": 97,
    "start_time": "2023-04-22T21:50:17.654Z"
   },
   {
    "duration": 7,
    "start_time": "2023-04-22T21:50:17.753Z"
   },
   {
    "duration": 382,
    "start_time": "2023-04-22T21:50:17.762Z"
   },
   {
    "duration": 377,
    "start_time": "2023-04-22T21:50:18.147Z"
   },
   {
    "duration": 12,
    "start_time": "2023-04-22T21:50:18.526Z"
   },
   {
    "duration": 406,
    "start_time": "2023-04-22T21:50:18.540Z"
   },
   {
    "duration": 10,
    "start_time": "2023-04-22T21:50:18.947Z"
   },
   {
    "duration": 473,
    "start_time": "2023-04-22T21:50:18.959Z"
   },
   {
    "duration": 11,
    "start_time": "2023-04-22T21:50:19.438Z"
   },
   {
    "duration": 372,
    "start_time": "2023-04-22T21:50:19.456Z"
   },
   {
    "duration": 14,
    "start_time": "2023-04-22T21:50:19.832Z"
   },
   {
    "duration": 146,
    "start_time": "2023-04-22T21:50:19.848Z"
   },
   {
    "duration": 64,
    "start_time": "2023-04-22T21:50:19.996Z"
   },
   {
    "duration": 63,
    "start_time": "2023-04-22T21:50:20.062Z"
   },
   {
    "duration": 326,
    "start_time": "2023-04-22T21:50:20.127Z"
   },
   {
    "duration": 6,
    "start_time": "2023-04-22T21:50:20.455Z"
   },
   {
    "duration": 14,
    "start_time": "2023-04-22T21:50:20.518Z"
   },
   {
    "duration": 91,
    "start_time": "2023-04-22T21:50:20.534Z"
   },
   {
    "duration": 25,
    "start_time": "2023-04-22T21:50:20.627Z"
   },
   {
    "duration": 379,
    "start_time": "2023-04-22T21:50:20.654Z"
   },
   {
    "duration": 319,
    "start_time": "2023-04-22T21:50:21.039Z"
   },
   {
    "duration": 461,
    "start_time": "2023-04-22T21:50:21.360Z"
   },
   {
    "duration": 22,
    "start_time": "2023-04-22T21:50:21.837Z"
   },
   {
    "duration": 64,
    "start_time": "2023-04-22T21:50:21.860Z"
   },
   {
    "duration": 314,
    "start_time": "2023-04-22T21:50:21.926Z"
   },
   {
    "duration": 11,
    "start_time": "2023-04-22T21:50:22.242Z"
   },
   {
    "duration": 391,
    "start_time": "2023-04-22T21:50:22.256Z"
   },
   {
    "duration": 377,
    "start_time": "2023-04-22T21:50:22.649Z"
   },
   {
    "duration": 18,
    "start_time": "2023-04-22T21:50:23.028Z"
   },
   {
    "duration": 26,
    "start_time": "2023-04-22T21:50:23.048Z"
   },
   {
    "duration": 12,
    "start_time": "2023-04-22T21:50:23.118Z"
   },
   {
    "duration": 92,
    "start_time": "2023-04-22T21:50:23.133Z"
   },
   {
    "duration": 337,
    "start_time": "2023-04-22T21:50:23.229Z"
   },
   {
    "duration": 22,
    "start_time": "2023-04-22T21:50:23.620Z"
   },
   {
    "duration": 14,
    "start_time": "2023-04-22T21:50:23.648Z"
   },
   {
    "duration": 95,
    "start_time": "2023-04-22T21:50:23.663Z"
   },
   {
    "duration": 68,
    "start_time": "2023-04-22T21:50:23.760Z"
   },
   {
    "duration": 323,
    "start_time": "2023-04-22T21:50:23.830Z"
   },
   {
    "duration": 69,
    "start_time": "2023-04-22T21:50:24.155Z"
   },
   {
    "duration": 26,
    "start_time": "2023-04-22T21:50:24.225Z"
   },
   {
    "duration": 383,
    "start_time": "2023-04-22T21:50:24.253Z"
   },
   {
    "duration": 15,
    "start_time": "2023-04-22T21:50:24.638Z"
   },
   {
    "duration": 72,
    "start_time": "2023-04-22T21:50:24.654Z"
   },
   {
    "duration": 702,
    "start_time": "2023-04-22T21:50:24.731Z"
   },
   {
    "duration": 13,
    "start_time": "2023-04-22T21:50:25.439Z"
   },
   {
    "duration": 240,
    "start_time": "2023-04-22T21:50:25.454Z"
   },
   {
    "duration": 424,
    "start_time": "2023-04-22T21:50:25.696Z"
   },
   {
    "duration": 16,
    "start_time": "2023-04-22T21:50:26.128Z"
   },
   {
    "duration": 290,
    "start_time": "2023-04-22T21:50:26.150Z"
   },
   {
    "duration": 679,
    "start_time": "2023-04-22T21:50:26.442Z"
   },
   {
    "duration": 9,
    "start_time": "2023-04-22T21:50:27.126Z"
   },
   {
    "duration": 31,
    "start_time": "2023-04-22T21:50:27.137Z"
   },
   {
    "duration": 383,
    "start_time": "2023-04-22T21:50:27.170Z"
   },
   {
    "duration": 68,
    "start_time": "2023-04-22T21:50:27.556Z"
   },
   {
    "duration": 7,
    "start_time": "2023-04-22T21:50:27.627Z"
   },
   {
    "duration": 386,
    "start_time": "2023-04-22T21:50:27.637Z"
   },
   {
    "duration": 324,
    "start_time": "2023-04-22T21:50:28.025Z"
   },
   {
    "duration": 4,
    "start_time": "2023-04-22T21:50:28.353Z"
   },
   {
    "duration": 71,
    "start_time": "2023-04-22T21:50:28.359Z"
   },
   {
    "duration": 37,
    "start_time": "2023-04-22T21:50:28.432Z"
   },
   {
    "duration": 63,
    "start_time": "2023-04-22T21:50:28.470Z"
   },
   {
    "duration": 35,
    "start_time": "2023-04-22T21:50:28.535Z"
   },
   {
    "duration": 57,
    "start_time": "2023-04-22T21:50:28.572Z"
   },
   {
    "duration": 52,
    "start_time": "2023-04-22T21:50:28.631Z"
   },
   {
    "duration": 57,
    "start_time": "2023-04-22T21:50:28.684Z"
   },
   {
    "duration": 121,
    "start_time": "2023-04-22T21:50:28.746Z"
   },
   {
    "duration": 79,
    "start_time": "2023-04-22T21:50:28.869Z"
   },
   {
    "duration": 398,
    "start_time": "2023-04-22T21:50:28.949Z"
   },
   {
    "duration": 408,
    "start_time": "2023-04-22T21:50:29.349Z"
   },
   {
    "duration": 403,
    "start_time": "2023-04-22T21:50:29.759Z"
   },
   {
    "duration": 64,
    "start_time": "2023-04-22T21:50:30.164Z"
   },
   {
    "duration": 139,
    "start_time": "2023-04-22T21:50:30.232Z"
   },
   {
    "duration": 134,
    "start_time": "2023-04-22T21:50:30.373Z"
   },
   {
    "duration": 126,
    "start_time": "2023-04-22T21:50:30.525Z"
   },
   {
    "duration": 118,
    "start_time": "2023-04-22T21:50:30.655Z"
   },
   {
    "duration": 556,
    "start_time": "2023-04-22T21:50:30.775Z"
   },
   {
    "duration": 13,
    "start_time": "2023-04-22T21:50:31.341Z"
   },
   {
    "duration": 114,
    "start_time": "2023-04-22T21:50:31.356Z"
   },
   {
    "duration": 560,
    "start_time": "2023-04-22T21:50:31.472Z"
   },
   {
    "duration": 18,
    "start_time": "2023-04-22T21:55:02.676Z"
   },
   {
    "duration": 96,
    "start_time": "2023-04-22T21:55:05.952Z"
   }
  ],
  "kernelspec": {
   "display_name": "Python 3",
   "language": "python",
   "name": "python3"
  },
  "language_info": {
   "codemirror_mode": {
    "name": "ipython",
    "version": 3
   },
   "file_extension": ".py",
   "mimetype": "text/x-python",
   "name": "python",
   "nbconvert_exporter": "python",
   "pygments_lexer": "ipython3",
   "version": "3.9.2"
  },
  "toc": {
   "base_numbering": 1,
   "nav_menu": {},
   "number_sections": true,
   "sideBar": true,
   "skip_h1_title": true,
   "title_cell": "Table of Contents",
   "title_sidebar": "Contents",
   "toc_cell": false,
   "toc_position": {},
   "toc_section_display": true,
   "toc_window_display": false
  }
 },
 "nbformat": 4,
 "nbformat_minor": 4
}
